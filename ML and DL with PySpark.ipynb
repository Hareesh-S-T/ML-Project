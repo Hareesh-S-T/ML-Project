{
  "nbformat": 4,
  "nbformat_minor": 0,
  "metadata": {
    "colab": {
      "provenance": [],
      "collapsed_sections": [
        "pBEF6it5XGLj",
        "vZ6YqEVTuQY6",
        "QuLM72XpPo3x"
      ],
      "toc_visible": true,
      "include_colab_link": true
    },
    "kernelspec": {
      "name": "python3",
      "display_name": "Python 3"
    },
    "language_info": {
      "name": "python"
    },
    "accelerator": "GPU",
    "gpuClass": "standard"
  },
  "cells": [
    {
      "cell_type": "markdown",
      "metadata": {
        "id": "view-in-github",
        "colab_type": "text"
      },
      "source": [
        "<a href=\"https://colab.research.google.com/github/Hareesh-S-T/ML-Project/blob/main/ML%20and%20DL%20with%20PySpark.ipynb\" target=\"_parent\"><img src=\"https://colab.research.google.com/assets/colab-badge.svg\" alt=\"Open In Colab\"/></a>"
      ]
    },
    {
      "cell_type": "markdown",
      "source": [
        "# INSTALLING REQUIRED PACKAGES"
      ],
      "metadata": {
        "id": "Jv-Rd9KN0WvG"
      }
    },
    {
      "cell_type": "code",
      "execution_count": null,
      "metadata": {
        "id": "h5X2lqJUzYZ8",
        "colab": {
          "base_uri": "https://localhost:8080/"
        },
        "outputId": "a3983f6c-02a6-4834-ce7e-04b5f5028091"
      },
      "outputs": [
        {
          "output_type": "stream",
          "name": "stdout",
          "text": [
            "\u001b[2K     \u001b[90m━━━━━━━━━━━━━━━━━━━━━━━━━━━━━━━━━━━━━━━\u001b[0m \u001b[32m310.8/310.8 MB\u001b[0m \u001b[31m4.3 MB/s\u001b[0m eta \u001b[36m0:00:00\u001b[0m\n",
            "\u001b[?25h  Preparing metadata (setup.py) ... \u001b[?25l\u001b[?25hdone\n",
            "  Building wheel for pyspark (setup.py) ... \u001b[?25l\u001b[?25hdone\n"
          ]
        }
      ],
      "source": [
        "!pip install pyspark --quiet"
      ]
    },
    {
      "cell_type": "code",
      "source": [
        "!pip install elephas"
      ],
      "metadata": {
        "colab": {
          "base_uri": "https://localhost:8080/"
        },
        "id": "nQzIFTiN0gcG",
        "outputId": "c10a5f7e-bce1-4eaf-bb83-4e1bd10df378"
      },
      "execution_count": null,
      "outputs": [
        {
          "output_type": "stream",
          "name": "stdout",
          "text": [
            "Looking in indexes: https://pypi.org/simple, https://us-python.pkg.dev/colab-wheels/public/simple/\n",
            "Collecting elephas\n",
            "  Downloading elephas-4.1.0-py3-none-any.whl (29 kB)\n",
            "Collecting pyspark<=3.3\n",
            "  Downloading pyspark-3.3.0.tar.gz (281.3 MB)\n",
            "\u001b[2K     \u001b[90m━━━━━━━━━━━━━━━━━━━━━━━━━━━━━━━━━━━━━━━\u001b[0m \u001b[32m281.3/281.3 MB\u001b[0m \u001b[31m5.2 MB/s\u001b[0m eta \u001b[36m0:00:00\u001b[0m\n",
            "\u001b[?25h  Preparing metadata (setup.py) ... \u001b[?25l\u001b[?25hdone\n",
            "Collecting numpy==1.23.5\n",
            "  Downloading numpy-1.23.5-cp310-cp310-manylinux_2_17_x86_64.manylinux2014_x86_64.whl (17.1 MB)\n",
            "\u001b[2K     \u001b[90m━━━━━━━━━━━━━━━━━━━━━━━━━━━━━━━━━━━━━━━━\u001b[0m \u001b[32m17.1/17.1 MB\u001b[0m \u001b[31m52.8 MB/s\u001b[0m eta \u001b[36m0:00:00\u001b[0m\n",
            "\u001b[?25hRequirement already satisfied: h5py==3.8.0 in /usr/local/lib/python3.10/dist-packages (from elephas) (3.8.0)\n",
            "Requirement already satisfied: Flask<3.0.0,>=2.2.3 in /usr/local/lib/python3.10/dist-packages (from elephas) (2.2.4)\n",
            "Requirement already satisfied: Cython<0.30.0,>=0.29.33 in /usr/local/lib/python3.10/dist-packages (from elephas) (0.29.34)\n",
            "Collecting tensorflow<=2.10,>2.2\n",
            "  Downloading tensorflow-2.10.0-cp310-cp310-manylinux_2_17_x86_64.manylinux2014_x86_64.whl (578.0 MB)\n",
            "\u001b[2K     \u001b[90m━━━━━━━━━━━━━━━━━━━━━━━━━━━━━━━━━━━━━━━\u001b[0m \u001b[32m578.0/578.0 MB\u001b[0m \u001b[31m1.8 MB/s\u001b[0m eta \u001b[36m0:00:00\u001b[0m\n",
            "\u001b[?25hRequirement already satisfied: click>=8.0 in /usr/local/lib/python3.10/dist-packages (from Flask<3.0.0,>=2.2.3->elephas) (8.1.3)\n",
            "Requirement already satisfied: itsdangerous>=2.0 in /usr/local/lib/python3.10/dist-packages (from Flask<3.0.0,>=2.2.3->elephas) (2.1.2)\n",
            "Requirement already satisfied: Jinja2>=3.0 in /usr/local/lib/python3.10/dist-packages (from Flask<3.0.0,>=2.2.3->elephas) (3.1.2)\n",
            "Requirement already satisfied: Werkzeug>=2.2.2 in /usr/local/lib/python3.10/dist-packages (from Flask<3.0.0,>=2.2.3->elephas) (2.3.0)\n",
            "Collecting py4j==0.10.9.5\n",
            "  Downloading py4j-0.10.9.5-py2.py3-none-any.whl (199 kB)\n",
            "\u001b[2K     \u001b[90m━━━━━━━━━━━━━━━━━━━━━━━━━━━━━━━━━━━━━━\u001b[0m \u001b[32m199.7/199.7 kB\u001b[0m \u001b[31m22.5 MB/s\u001b[0m eta \u001b[36m0:00:00\u001b[0m\n",
            "\u001b[?25hCollecting protobuf<3.20,>=3.9.2\n",
            "  Downloading protobuf-3.19.6-cp310-cp310-manylinux_2_17_x86_64.manylinux2014_x86_64.whl (1.1 MB)\n",
            "\u001b[2K     \u001b[90m━━━━━━━━━━━━━━━━━━━━━━━━━━━━━━━━━━━━━━━━\u001b[0m \u001b[32m1.1/1.1 MB\u001b[0m \u001b[31m49.8 MB/s\u001b[0m eta \u001b[36m0:00:00\u001b[0m\n",
            "\u001b[?25hRequirement already satisfied: tensorflow-io-gcs-filesystem>=0.23.1 in /usr/local/lib/python3.10/dist-packages (from tensorflow<=2.10,>2.2->elephas) (0.32.0)\n",
            "Collecting keras-preprocessing>=1.1.1\n",
            "  Downloading Keras_Preprocessing-1.1.2-py2.py3-none-any.whl (42 kB)\n",
            "\u001b[2K     \u001b[90m━━━━━━━━━━━━━━━━━━━━━━━━━━━━━━━━━━━━━━━━\u001b[0m \u001b[32m42.6/42.6 kB\u001b[0m \u001b[31m4.4 MB/s\u001b[0m eta \u001b[36m0:00:00\u001b[0m\n",
            "\u001b[?25hRequirement already satisfied: typing-extensions>=3.6.6 in /usr/local/lib/python3.10/dist-packages (from tensorflow<=2.10,>2.2->elephas) (4.5.0)\n",
            "Requirement already satisfied: opt-einsum>=2.3.2 in /usr/local/lib/python3.10/dist-packages (from tensorflow<=2.10,>2.2->elephas) (3.3.0)\n",
            "Requirement already satisfied: termcolor>=1.1.0 in /usr/local/lib/python3.10/dist-packages (from tensorflow<=2.10,>2.2->elephas) (2.3.0)\n",
            "Requirement already satisfied: google-pasta>=0.1.1 in /usr/local/lib/python3.10/dist-packages (from tensorflow<=2.10,>2.2->elephas) (0.2.0)\n",
            "Collecting tensorboard<2.11,>=2.10\n",
            "  Downloading tensorboard-2.10.1-py3-none-any.whl (5.9 MB)\n",
            "\u001b[2K     \u001b[90m━━━━━━━━━━━━━━━━━━━━━━━━━━━━━━━━━━━━━━━━\u001b[0m \u001b[32m5.9/5.9 MB\u001b[0m \u001b[31m72.4 MB/s\u001b[0m eta \u001b[36m0:00:00\u001b[0m\n",
            "\u001b[?25hRequirement already satisfied: astunparse>=1.6.0 in /usr/local/lib/python3.10/dist-packages (from tensorflow<=2.10,>2.2->elephas) (1.6.3)\n",
            "Requirement already satisfied: absl-py>=1.0.0 in /usr/local/lib/python3.10/dist-packages (from tensorflow<=2.10,>2.2->elephas) (1.4.0)\n",
            "Collecting tensorflow-estimator<2.11,>=2.10.0\n",
            "  Downloading tensorflow_estimator-2.10.0-py2.py3-none-any.whl (438 kB)\n",
            "\u001b[2K     \u001b[90m━━━━━━━━━━━━━━━━━━━━━━━━━━━━━━━━━━━━━━\u001b[0m \u001b[32m438.7/438.7 kB\u001b[0m \u001b[31m36.8 MB/s\u001b[0m eta \u001b[36m0:00:00\u001b[0m\n",
            "\u001b[?25hRequirement already satisfied: six>=1.12.0 in /usr/local/lib/python3.10/dist-packages (from tensorflow<=2.10,>2.2->elephas) (1.16.0)\n",
            "Requirement already satisfied: libclang>=13.0.0 in /usr/local/lib/python3.10/dist-packages (from tensorflow<=2.10,>2.2->elephas) (16.0.0)\n",
            "Collecting keras<2.11,>=2.10.0\n",
            "  Downloading keras-2.10.0-py2.py3-none-any.whl (1.7 MB)\n",
            "\u001b[2K     \u001b[90m━━━━━━━━━━━━━━━━━━━━━━━━━━━━━━━━━━━━━━━━\u001b[0m \u001b[32m1.7/1.7 MB\u001b[0m \u001b[31m28.5 MB/s\u001b[0m eta \u001b[36m0:00:00\u001b[0m\n",
            "\u001b[?25hRequirement already satisfied: flatbuffers>=2.0 in /usr/local/lib/python3.10/dist-packages (from tensorflow<=2.10,>2.2->elephas) (23.3.3)\n",
            "Requirement already satisfied: setuptools in /usr/local/lib/python3.10/dist-packages (from tensorflow<=2.10,>2.2->elephas) (67.7.2)\n",
            "Requirement already satisfied: wrapt>=1.11.0 in /usr/local/lib/python3.10/dist-packages (from tensorflow<=2.10,>2.2->elephas) (1.14.1)\n",
            "Requirement already satisfied: gast<=0.4.0,>=0.2.1 in /usr/local/lib/python3.10/dist-packages (from tensorflow<=2.10,>2.2->elephas) (0.4.0)\n",
            "Requirement already satisfied: grpcio<2.0,>=1.24.3 in /usr/local/lib/python3.10/dist-packages (from tensorflow<=2.10,>2.2->elephas) (1.54.0)\n",
            "Requirement already satisfied: packaging in /usr/local/lib/python3.10/dist-packages (from tensorflow<=2.10,>2.2->elephas) (23.1)\n",
            "Requirement already satisfied: wheel<1.0,>=0.23.0 in /usr/local/lib/python3.10/dist-packages (from astunparse>=1.6.0->tensorflow<=2.10,>2.2->elephas) (0.40.0)\n",
            "Requirement already satisfied: MarkupSafe>=2.0 in /usr/local/lib/python3.10/dist-packages (from Jinja2>=3.0->Flask<3.0.0,>=2.2.3->elephas) (2.1.2)\n",
            "Requirement already satisfied: tensorboard-plugin-wit>=1.6.0 in /usr/local/lib/python3.10/dist-packages (from tensorboard<2.11,>=2.10->tensorflow<=2.10,>2.2->elephas) (1.8.1)\n",
            "Collecting tensorboard-data-server<0.7.0,>=0.6.0\n",
            "  Downloading tensorboard_data_server-0.6.1-py3-none-manylinux2010_x86_64.whl (4.9 MB)\n",
            "\u001b[2K     \u001b[90m━━━━━━━━━━━━━━━━━━━━━━━━━━━━━━━━━━━━━━━━\u001b[0m \u001b[32m4.9/4.9 MB\u001b[0m \u001b[31m44.2 MB/s\u001b[0m eta \u001b[36m0:00:00\u001b[0m\n",
            "\u001b[?25hRequirement already satisfied: google-auth<3,>=1.6.3 in /usr/local/lib/python3.10/dist-packages (from tensorboard<2.11,>=2.10->tensorflow<=2.10,>2.2->elephas) (2.17.3)\n",
            "Collecting google-auth-oauthlib<0.5,>=0.4.1\n",
            "  Downloading google_auth_oauthlib-0.4.6-py2.py3-none-any.whl (18 kB)\n",
            "Requirement already satisfied: requests<3,>=2.21.0 in /usr/local/lib/python3.10/dist-packages (from tensorboard<2.11,>=2.10->tensorflow<=2.10,>2.2->elephas) (2.27.1)\n",
            "Requirement already satisfied: markdown>=2.6.8 in /usr/local/lib/python3.10/dist-packages (from tensorboard<2.11,>=2.10->tensorflow<=2.10,>2.2->elephas) (3.4.3)\n",
            "Requirement already satisfied: cachetools<6.0,>=2.0.0 in /usr/local/lib/python3.10/dist-packages (from google-auth<3,>=1.6.3->tensorboard<2.11,>=2.10->tensorflow<=2.10,>2.2->elephas) (5.3.0)\n",
            "Requirement already satisfied: pyasn1-modules>=0.2.1 in /usr/local/lib/python3.10/dist-packages (from google-auth<3,>=1.6.3->tensorboard<2.11,>=2.10->tensorflow<=2.10,>2.2->elephas) (0.3.0)\n",
            "Requirement already satisfied: rsa<5,>=3.1.4 in /usr/local/lib/python3.10/dist-packages (from google-auth<3,>=1.6.3->tensorboard<2.11,>=2.10->tensorflow<=2.10,>2.2->elephas) (4.9)\n",
            "Requirement already satisfied: requests-oauthlib>=0.7.0 in /usr/local/lib/python3.10/dist-packages (from google-auth-oauthlib<0.5,>=0.4.1->tensorboard<2.11,>=2.10->tensorflow<=2.10,>2.2->elephas) (1.3.1)\n",
            "Requirement already satisfied: certifi>=2017.4.17 in /usr/local/lib/python3.10/dist-packages (from requests<3,>=2.21.0->tensorboard<2.11,>=2.10->tensorflow<=2.10,>2.2->elephas) (2022.12.7)\n",
            "Requirement already satisfied: idna<4,>=2.5 in /usr/local/lib/python3.10/dist-packages (from requests<3,>=2.21.0->tensorboard<2.11,>=2.10->tensorflow<=2.10,>2.2->elephas) (3.4)\n",
            "Requirement already satisfied: charset-normalizer~=2.0.0 in /usr/local/lib/python3.10/dist-packages (from requests<3,>=2.21.0->tensorboard<2.11,>=2.10->tensorflow<=2.10,>2.2->elephas) (2.0.12)\n",
            "Requirement already satisfied: urllib3<1.27,>=1.21.1 in /usr/local/lib/python3.10/dist-packages (from requests<3,>=2.21.0->tensorboard<2.11,>=2.10->tensorflow<=2.10,>2.2->elephas) (1.26.15)\n",
            "Requirement already satisfied: pyasn1<0.6.0,>=0.4.6 in /usr/local/lib/python3.10/dist-packages (from pyasn1-modules>=0.2.1->google-auth<3,>=1.6.3->tensorboard<2.11,>=2.10->tensorflow<=2.10,>2.2->elephas) (0.5.0)\n",
            "Requirement already satisfied: oauthlib>=3.0.0 in /usr/local/lib/python3.10/dist-packages (from requests-oauthlib>=0.7.0->google-auth-oauthlib<0.5,>=0.4.1->tensorboard<2.11,>=2.10->tensorflow<=2.10,>2.2->elephas) (3.2.2)\n",
            "Building wheels for collected packages: pyspark\n",
            "  Building wheel for pyspark (setup.py) ... \u001b[?25l\u001b[?25hdone\n",
            "  Created wheel for pyspark: filename=pyspark-3.3.0-py2.py3-none-any.whl size=281764025 sha256=3525f4afc21b2a8b8613b3b6c24f63ad768020a56ccc155f2056d95eb2207589\n",
            "  Stored in directory: /root/.cache/pip/wheels/81/9c/6c/d5200fcf351ffa39cbe09911e99703283624cd037df58070d9\n",
            "Successfully built pyspark\n",
            "Installing collected packages: py4j, keras, tensorflow-estimator, tensorboard-data-server, pyspark, protobuf, numpy, keras-preprocessing, google-auth-oauthlib, tensorboard, tensorflow, elephas\n",
            "  Attempting uninstall: py4j\n",
            "    Found existing installation: py4j 0.10.9.7\n",
            "    Uninstalling py4j-0.10.9.7:\n",
            "      Successfully uninstalled py4j-0.10.9.7\n",
            "  Attempting uninstall: keras\n",
            "    Found existing installation: keras 2.12.0\n",
            "    Uninstalling keras-2.12.0:\n",
            "      Successfully uninstalled keras-2.12.0\n",
            "  Attempting uninstall: tensorflow-estimator\n",
            "    Found existing installation: tensorflow-estimator 2.12.0\n",
            "    Uninstalling tensorflow-estimator-2.12.0:\n",
            "      Successfully uninstalled tensorflow-estimator-2.12.0\n",
            "  Attempting uninstall: tensorboard-data-server\n",
            "    Found existing installation: tensorboard-data-server 0.7.0\n",
            "    Uninstalling tensorboard-data-server-0.7.0:\n",
            "      Successfully uninstalled tensorboard-data-server-0.7.0\n",
            "  Attempting uninstall: pyspark\n",
            "    Found existing installation: pyspark 3.4.0\n",
            "    Uninstalling pyspark-3.4.0:\n",
            "      Successfully uninstalled pyspark-3.4.0\n",
            "  Attempting uninstall: protobuf\n",
            "    Found existing installation: protobuf 3.20.3\n",
            "    Uninstalling protobuf-3.20.3:\n",
            "      Successfully uninstalled protobuf-3.20.3\n",
            "  Attempting uninstall: numpy\n",
            "    Found existing installation: numpy 1.22.4\n",
            "    Uninstalling numpy-1.22.4:\n",
            "      Successfully uninstalled numpy-1.22.4\n",
            "  Attempting uninstall: google-auth-oauthlib\n",
            "    Found existing installation: google-auth-oauthlib 1.0.0\n",
            "    Uninstalling google-auth-oauthlib-1.0.0:\n",
            "      Successfully uninstalled google-auth-oauthlib-1.0.0\n",
            "  Attempting uninstall: tensorboard\n",
            "    Found existing installation: tensorboard 2.12.2\n",
            "    Uninstalling tensorboard-2.12.2:\n",
            "      Successfully uninstalled tensorboard-2.12.2\n",
            "  Attempting uninstall: tensorflow\n",
            "    Found existing installation: tensorflow 2.12.0\n",
            "    Uninstalling tensorflow-2.12.0:\n",
            "      Successfully uninstalled tensorflow-2.12.0\n",
            "\u001b[31mERROR: pip's dependency resolver does not currently take into account all the packages that are installed. This behaviour is the source of the following dependency conflicts.\n",
            "tensorflow-metadata 1.13.1 requires protobuf<5,>=3.20.3, but you have protobuf 3.19.6 which is incompatible.\u001b[0m\u001b[31m\n",
            "\u001b[0mSuccessfully installed elephas-4.1.0 google-auth-oauthlib-0.4.6 keras-2.10.0 keras-preprocessing-1.1.2 numpy-1.23.5 protobuf-3.19.6 py4j-0.10.9.5 pyspark-3.3.0 tensorboard-2.10.1 tensorboard-data-server-0.6.1 tensorflow-2.10.0 tensorflow-estimator-2.10.0\n"
          ]
        }
      ]
    },
    {
      "cell_type": "code",
      "source": [
        "!pip install split-folders"
      ],
      "metadata": {
        "id": "gDtEz8df6HK2",
        "colab": {
          "base_uri": "https://localhost:8080/"
        },
        "outputId": "8f2e482e-d38c-431c-c441-e59b3b2d4408"
      },
      "execution_count": null,
      "outputs": [
        {
          "output_type": "stream",
          "name": "stdout",
          "text": [
            "Looking in indexes: https://pypi.org/simple, https://us-python.pkg.dev/colab-wheels/public/simple/\n",
            "Collecting split-folders\n",
            "  Downloading split_folders-0.5.1-py3-none-any.whl (8.4 kB)\n",
            "Installing collected packages: split-folders\n",
            "Successfully installed split-folders-0.5.1\n"
          ]
        }
      ]
    },
    {
      "cell_type": "markdown",
      "source": [
        "# IMPORT STATEMENTS"
      ],
      "metadata": {
        "id": "Gy067bRH3Kjm"
      }
    },
    {
      "cell_type": "code",
      "source": [
        "import os\n",
        "import time\n",
        "import numpy as np\n",
        "import pandas as pd\n",
        "import matplotlib.pyplot as plt\n",
        "import seaborn as sns\n",
        "import pyspark\n",
        "import threading\n",
        "import elephas\n",
        "from elephas import *\n",
        "import splitfolders\n",
        "from pyspark.sql import SparkSession\n",
        "from pyspark import SparkConf\n",
        "from pyspark.context import SparkContext\n",
        "from pyspark.sql.functions import isnull, when, count, col\n",
        "from pyspark.ml.feature import VectorAssembler\n",
        "from pyspark.ml.evaluation import MulticlassClassificationEvaluator\n",
        "from pyspark.ml.classification import RandomForestClassifier\n",
        "from pyspark.mllib.evaluation import MulticlassMetrics\n",
        "from keras.preprocessing.image import ImageDataGenerator\n",
        "from elephas.utils.rdd_utils import to_simple_rdd\n",
        "from elephas.spark_model import SparkModel\n",
        "from keras.models import Sequential\n",
        "from keras.layers import Dense, Conv2D, MaxPooling2D, Dropout, Flatten, GlobalAveragePooling2D\n",
        "from keras.applications import VGG16\n",
        "from keras.applications import ResNet50\n",
        "from keras import optimizers\n",
        "import cv2\n",
        "from skimage.io import imread"
      ],
      "metadata": {
        "id": "J_Oihsmj3BJd"
      },
      "execution_count": null,
      "outputs": []
    },
    {
      "cell_type": "markdown",
      "source": [
        "# DATASET"
      ],
      "metadata": {
        "id": "6Ys26s6-3B6j"
      }
    },
    {
      "cell_type": "markdown",
      "source": [
        "### DOWNLOADING"
      ],
      "metadata": {
        "id": "R_zRlm_2ipqd"
      }
    },
    {
      "cell_type": "code",
      "source": [
        "os.environ['KAGGLE_USERNAME'] = \"hareeshtejas\"\n",
        "os.environ['KAGGLE_KEY'] = \"c241d98c787b40b73cdea82bbb08bc61\"\n",
        "\n",
        "!kaggle datasets download -d ercanavsar/images-of-strawberry-leaves-for-tipburn-detection"
      ],
      "metadata": {
        "colab": {
          "base_uri": "https://localhost:8080/"
        },
        "id": "e9NM0wZl29rT",
        "outputId": "c8081642-c418-4c1f-d732-c461166c9dc2"
      },
      "execution_count": null,
      "outputs": [
        {
          "output_type": "stream",
          "name": "stdout",
          "text": [
            "Downloading images-of-strawberry-leaves-for-tipburn-detection.zip to /content\n",
            "100% 7.46G/7.47G [04:35<00:00, 26.4MB/s]\n",
            "100% 7.47G/7.47G [04:35<00:00, 29.1MB/s]\n"
          ]
        }
      ]
    },
    {
      "cell_type": "code",
      "source": [
        "!unzip '/content/images-of-strawberry-leaves-for-tipburn-detection.zip'"
      ],
      "metadata": {
        "colab": {
          "base_uri": "https://localhost:8080/"
        },
        "id": "Wu_BPJMC3XNz",
        "outputId": "1117d40b-1827-4d14-a65c-3f4973c0b0e2"
      },
      "execution_count": null,
      "outputs": [
        {
          "output_type": "stream",
          "name": "stdout",
          "text": [
            "Archive:  /content/images-of-strawberry-leaves-for-tipburn-detection.zip\n",
            "  inflating: dataset - strawberry leaves/Calciumdeficiency/1.jpg  \n",
            "  inflating: dataset - strawberry leaves/Calciumdeficiency/10.jpg  \n",
            "  inflating: dataset - strawberry leaves/Calciumdeficiency/100.jpg  \n",
            "  inflating: dataset - strawberry leaves/Calciumdeficiency/1000.jpg  \n",
            "  inflating: dataset - strawberry leaves/Calciumdeficiency/1001.jpg  \n",
            "  inflating: dataset - strawberry leaves/Calciumdeficiency/1002.jpg  \n",
            "  inflating: dataset - strawberry leaves/Calciumdeficiency/1005.jpg  \n",
            "  inflating: dataset - strawberry leaves/Calciumdeficiency/1006.jpg  \n",
            "  inflating: dataset - strawberry leaves/Calciumdeficiency/1008.jpg  \n",
            "  inflating: dataset - strawberry leaves/Calciumdeficiency/1009.jpg  \n",
            "  inflating: dataset - strawberry leaves/Calciumdeficiency/101.jpg  \n",
            "  inflating: dataset - strawberry leaves/Calciumdeficiency/1010.jpg  \n",
            "  inflating: dataset - strawberry leaves/Calciumdeficiency/1011.jpg  \n",
            "  inflating: dataset - strawberry leaves/Calciumdeficiency/1012.jpg  \n",
            "  inflating: dataset - strawberry leaves/Calciumdeficiency/1013.jpg  \n",
            "  inflating: dataset - strawberry leaves/Calciumdeficiency/1015.jpg  \n",
            "  inflating: dataset - strawberry leaves/Calciumdeficiency/1017.jpg  \n",
            "  inflating: dataset - strawberry leaves/Calciumdeficiency/1018.jpg  \n",
            "  inflating: dataset - strawberry leaves/Calciumdeficiency/1019.jpg  \n",
            "  inflating: dataset - strawberry leaves/Calciumdeficiency/102.jpg  \n",
            "  inflating: dataset - strawberry leaves/Calciumdeficiency/1020.jpg  \n",
            "  inflating: dataset - strawberry leaves/Calciumdeficiency/1021.jpg  \n",
            "  inflating: dataset - strawberry leaves/Calciumdeficiency/1022.jpg  \n",
            "  inflating: dataset - strawberry leaves/Calciumdeficiency/1023.jpg  \n",
            "  inflating: dataset - strawberry leaves/Calciumdeficiency/1024.jpg  \n",
            "  inflating: dataset - strawberry leaves/Calciumdeficiency/1025.jpg  \n",
            "  inflating: dataset - strawberry leaves/Calciumdeficiency/1026.jpg  \n",
            "  inflating: dataset - strawberry leaves/Calciumdeficiency/1027.jpg  \n",
            "  inflating: dataset - strawberry leaves/Calciumdeficiency/1028.jpg  \n",
            "  inflating: dataset - strawberry leaves/Calciumdeficiency/1029.jpg  \n",
            "  inflating: dataset - strawberry leaves/Calciumdeficiency/103.jpg  \n",
            "  inflating: dataset - strawberry leaves/Calciumdeficiency/1030.jpg  \n",
            "  inflating: dataset - strawberry leaves/Calciumdeficiency/1031.jpg  \n",
            "  inflating: dataset - strawberry leaves/Calciumdeficiency/1034.jpg  \n",
            "  inflating: dataset - strawberry leaves/Calciumdeficiency/1035.jpg  \n",
            "  inflating: dataset - strawberry leaves/Calciumdeficiency/1036.jpg  \n",
            "  inflating: dataset - strawberry leaves/Calciumdeficiency/1037.jpg  \n",
            "  inflating: dataset - strawberry leaves/Calciumdeficiency/1038.jpg  \n",
            "  inflating: dataset - strawberry leaves/Calciumdeficiency/1039.jpg  \n",
            "  inflating: dataset - strawberry leaves/Calciumdeficiency/104.jpg  \n",
            "  inflating: dataset - strawberry leaves/Calciumdeficiency/1040.jpg  \n",
            "  inflating: dataset - strawberry leaves/Calciumdeficiency/1041.jpg  \n",
            "  inflating: dataset - strawberry leaves/Calciumdeficiency/1042.jpg  \n",
            "  inflating: dataset - strawberry leaves/Calciumdeficiency/1043.jpg  \n",
            "  inflating: dataset - strawberry leaves/Calciumdeficiency/1044.jpg  \n",
            "  inflating: dataset - strawberry leaves/Calciumdeficiency/1045.jpg  \n",
            "  inflating: dataset - strawberry leaves/Calciumdeficiency/1046.jpg  \n",
            "  inflating: dataset - strawberry leaves/Calciumdeficiency/1047.jpg  \n",
            "  inflating: dataset - strawberry leaves/Calciumdeficiency/1048.jpg  \n",
            "  inflating: dataset - strawberry leaves/Calciumdeficiency/1049.jpg  \n",
            "  inflating: dataset - strawberry leaves/Calciumdeficiency/105.jpg  \n",
            "  inflating: dataset - strawberry leaves/Calciumdeficiency/1050.jpg  \n",
            "  inflating: dataset - strawberry leaves/Calciumdeficiency/1051.jpg  \n",
            "  inflating: dataset - strawberry leaves/Calciumdeficiency/1052.jpg  \n",
            "  inflating: dataset - strawberry leaves/Calciumdeficiency/1053.jpg  \n",
            "  inflating: dataset - strawberry leaves/Calciumdeficiency/1054.jpg  \n",
            "  inflating: dataset - strawberry leaves/Calciumdeficiency/1055.jpg  \n",
            "  inflating: dataset - strawberry leaves/Calciumdeficiency/1056.jpg  \n",
            "  inflating: dataset - strawberry leaves/Calciumdeficiency/1057.jpg  \n",
            "  inflating: dataset - strawberry leaves/Calciumdeficiency/1058.jpg  \n",
            "  inflating: dataset - strawberry leaves/Calciumdeficiency/1059.jpg  \n",
            "  inflating: dataset - strawberry leaves/Calciumdeficiency/106.jpg  \n",
            "  inflating: dataset - strawberry leaves/Calciumdeficiency/1060.jpg  \n",
            "  inflating: dataset - strawberry leaves/Calciumdeficiency/1061.jpg  \n",
            "  inflating: dataset - strawberry leaves/Calciumdeficiency/1062.jpg  \n",
            "  inflating: dataset - strawberry leaves/Calciumdeficiency/1063.jpg  \n",
            "  inflating: dataset - strawberry leaves/Calciumdeficiency/1064.jpg  \n",
            "  inflating: dataset - strawberry leaves/Calciumdeficiency/1065.jpg  \n",
            "  inflating: dataset - strawberry leaves/Calciumdeficiency/1066.jpg  \n",
            "  inflating: dataset - strawberry leaves/Calciumdeficiency/1067.jpg  \n",
            "  inflating: dataset - strawberry leaves/Calciumdeficiency/1068.jpg  \n",
            "  inflating: dataset - strawberry leaves/Calciumdeficiency/1069.jpg  \n",
            "  inflating: dataset - strawberry leaves/Calciumdeficiency/107.jpg  \n",
            "  inflating: dataset - strawberry leaves/Calciumdeficiency/1070.jpg  \n",
            "  inflating: dataset - strawberry leaves/Calciumdeficiency/1071.jpg  \n",
            "  inflating: dataset - strawberry leaves/Calciumdeficiency/1072.jpg  \n",
            "  inflating: dataset - strawberry leaves/Calciumdeficiency/1073.jpg  \n",
            "  inflating: dataset - strawberry leaves/Calciumdeficiency/1074.jpg  \n",
            "  inflating: dataset - strawberry leaves/Calciumdeficiency/1075.jpg  \n",
            "  inflating: dataset - strawberry leaves/Calciumdeficiency/1076.jpg  \n",
            "  inflating: dataset - strawberry leaves/Calciumdeficiency/1077.jpg  \n",
            "  inflating: dataset - strawberry leaves/Calciumdeficiency/1078.jpg  \n",
            "  inflating: dataset - strawberry leaves/Calciumdeficiency/108.jpg  \n",
            "  inflating: dataset - strawberry leaves/Calciumdeficiency/1080.jpg  \n",
            "  inflating: dataset - strawberry leaves/Calciumdeficiency/1083.jpg  \n",
            "  inflating: dataset - strawberry leaves/Calciumdeficiency/109.jpg  \n",
            "  inflating: dataset - strawberry leaves/Calciumdeficiency/1092.jpg  \n",
            "  inflating: dataset - strawberry leaves/Calciumdeficiency/1093.jpg  \n",
            "  inflating: dataset - strawberry leaves/Calciumdeficiency/1094.jpg  \n",
            "  inflating: dataset - strawberry leaves/Calciumdeficiency/1095.jpg  \n",
            "  inflating: dataset - strawberry leaves/Calciumdeficiency/1096.jpg  \n",
            "  inflating: dataset - strawberry leaves/Calciumdeficiency/1097.jpg  \n",
            "  inflating: dataset - strawberry leaves/Calciumdeficiency/1098.jpg  \n",
            "  inflating: dataset - strawberry leaves/Calciumdeficiency/1099.jpg  \n",
            "  inflating: dataset - strawberry leaves/Calciumdeficiency/11.jpg  \n",
            "  inflating: dataset - strawberry leaves/Calciumdeficiency/110.jpg  \n",
            "  inflating: dataset - strawberry leaves/Calciumdeficiency/1100.jpg  \n",
            "  inflating: dataset - strawberry leaves/Calciumdeficiency/1101.jpg  \n",
            "  inflating: dataset - strawberry leaves/Calciumdeficiency/1102.jpg  \n",
            "  inflating: dataset - strawberry leaves/Calciumdeficiency/1103.jpg  \n",
            "  inflating: dataset - strawberry leaves/Calciumdeficiency/1104.jpg  \n",
            "  inflating: dataset - strawberry leaves/Calciumdeficiency/1105.jpg  \n",
            "  inflating: dataset - strawberry leaves/Calciumdeficiency/1106.jpg  \n",
            "  inflating: dataset - strawberry leaves/Calciumdeficiency/1107.jpg  \n",
            "  inflating: dataset - strawberry leaves/Calciumdeficiency/1108.jpg  \n",
            "  inflating: dataset - strawberry leaves/Calciumdeficiency/1109.jpg  \n",
            "  inflating: dataset - strawberry leaves/Calciumdeficiency/111.jpg  \n",
            "  inflating: dataset - strawberry leaves/Calciumdeficiency/1110.jpg  \n",
            "  inflating: dataset - strawberry leaves/Calciumdeficiency/1111.jpg  \n",
            "  inflating: dataset - strawberry leaves/Calciumdeficiency/1113.jpg  \n",
            "  inflating: dataset - strawberry leaves/Calciumdeficiency/1114.jpg  \n",
            "  inflating: dataset - strawberry leaves/Calciumdeficiency/1115.jpg  \n",
            "  inflating: dataset - strawberry leaves/Calciumdeficiency/1116.jpg  \n",
            "  inflating: dataset - strawberry leaves/Calciumdeficiency/1117.jpg  \n",
            "  inflating: dataset - strawberry leaves/Calciumdeficiency/1118.jpg  \n",
            "  inflating: dataset - strawberry leaves/Calciumdeficiency/1119.jpg  \n",
            "  inflating: dataset - strawberry leaves/Calciumdeficiency/112.jpg  \n",
            "  inflating: dataset - strawberry leaves/Calciumdeficiency/1120.jpg  \n",
            "  inflating: dataset - strawberry leaves/Calciumdeficiency/1121.jpg  \n",
            "  inflating: dataset - strawberry leaves/Calciumdeficiency/1122.jpg  \n",
            "  inflating: dataset - strawberry leaves/Calciumdeficiency/1123.jpg  \n",
            "  inflating: dataset - strawberry leaves/Calciumdeficiency/1124.jpg  \n",
            "  inflating: dataset - strawberry leaves/Calciumdeficiency/1125.jpg  \n",
            "  inflating: dataset - strawberry leaves/Calciumdeficiency/1126.jpg  \n",
            "  inflating: dataset - strawberry leaves/Calciumdeficiency/1127.jpg  \n",
            "  inflating: dataset - strawberry leaves/Calciumdeficiency/1128.jpg  \n",
            "  inflating: dataset - strawberry leaves/Calciumdeficiency/1129.jpg  \n",
            "  inflating: dataset - strawberry leaves/Calciumdeficiency/113.jpg  \n",
            "  inflating: dataset - strawberry leaves/Calciumdeficiency/1130.jpg  \n",
            "  inflating: dataset - strawberry leaves/Calciumdeficiency/1131.jpg  \n",
            "  inflating: dataset - strawberry leaves/Calciumdeficiency/1132.jpg  \n",
            "  inflating: dataset - strawberry leaves/Calciumdeficiency/1133.jpg  \n",
            "  inflating: dataset - strawberry leaves/Calciumdeficiency/1134.jpg  \n",
            "  inflating: dataset - strawberry leaves/Calciumdeficiency/1135.jpg  \n",
            "  inflating: dataset - strawberry leaves/Calciumdeficiency/1136.jpg  \n",
            "  inflating: dataset - strawberry leaves/Calciumdeficiency/1137.jpg  \n",
            "  inflating: dataset - strawberry leaves/Calciumdeficiency/1138.jpg  \n",
            "  inflating: dataset - strawberry leaves/Calciumdeficiency/1139.jpg  \n",
            "  inflating: dataset - strawberry leaves/Calciumdeficiency/114.jpg  \n",
            "  inflating: dataset - strawberry leaves/Calciumdeficiency/1140.jpg  \n",
            "  inflating: dataset - strawberry leaves/Calciumdeficiency/1141.jpg  \n",
            "  inflating: dataset - strawberry leaves/Calciumdeficiency/1142.jpg  \n",
            "  inflating: dataset - strawberry leaves/Calciumdeficiency/1143.jpg  \n",
            "  inflating: dataset - strawberry leaves/Calciumdeficiency/1144.jpg  \n",
            "  inflating: dataset - strawberry leaves/Calciumdeficiency/1145.jpg  \n",
            "  inflating: dataset - strawberry leaves/Calciumdeficiency/1146.jpg  \n",
            "  inflating: dataset - strawberry leaves/Calciumdeficiency/1148.jpg  \n",
            "  inflating: dataset - strawberry leaves/Calciumdeficiency/1149.jpg  \n",
            "  inflating: dataset - strawberry leaves/Calciumdeficiency/115.jpg  \n",
            "  inflating: dataset - strawberry leaves/Calciumdeficiency/1150.jpg  \n",
            "  inflating: dataset - strawberry leaves/Calciumdeficiency/1151.jpg  \n",
            "  inflating: dataset - strawberry leaves/Calciumdeficiency/1152.jpg  \n",
            "  inflating: dataset - strawberry leaves/Calciumdeficiency/1153.jpg  \n",
            "  inflating: dataset - strawberry leaves/Calciumdeficiency/1154.jpg  \n",
            "  inflating: dataset - strawberry leaves/Calciumdeficiency/1155.jpg  \n",
            "  inflating: dataset - strawberry leaves/Calciumdeficiency/1156.jpg  \n",
            "  inflating: dataset - strawberry leaves/Calciumdeficiency/1157.jpg  \n",
            "  inflating: dataset - strawberry leaves/Calciumdeficiency/1158.jpg  \n",
            "  inflating: dataset - strawberry leaves/Calciumdeficiency/1159.jpg  \n",
            "  inflating: dataset - strawberry leaves/Calciumdeficiency/116.jpg  \n",
            "  inflating: dataset - strawberry leaves/Calciumdeficiency/1160.jpg  \n",
            "  inflating: dataset - strawberry leaves/Calciumdeficiency/1161.jpg  \n",
            "  inflating: dataset - strawberry leaves/Calciumdeficiency/1162.jpg  \n",
            "  inflating: dataset - strawberry leaves/Calciumdeficiency/1163.jpg  \n",
            "  inflating: dataset - strawberry leaves/Calciumdeficiency/1164.jpg  \n",
            "  inflating: dataset - strawberry leaves/Calciumdeficiency/1165.jpg  \n",
            "  inflating: dataset - strawberry leaves/Calciumdeficiency/1166.jpg  \n",
            "  inflating: dataset - strawberry leaves/Calciumdeficiency/1167.jpg  \n",
            "  inflating: dataset - strawberry leaves/Calciumdeficiency/1168.jpg  \n",
            "  inflating: dataset - strawberry leaves/Calciumdeficiency/1169.jpg  \n",
            "  inflating: dataset - strawberry leaves/Calciumdeficiency/117.jpg  \n",
            "  inflating: dataset - strawberry leaves/Calciumdeficiency/1171.jpg  \n",
            "  inflating: dataset - strawberry leaves/Calciumdeficiency/1172.jpg  \n",
            "  inflating: dataset - strawberry leaves/Calciumdeficiency/1173.jpg  \n",
            "  inflating: dataset - strawberry leaves/Calciumdeficiency/1174.jpg  \n",
            "  inflating: dataset - strawberry leaves/Calciumdeficiency/1175.jpg  \n",
            "  inflating: dataset - strawberry leaves/Calciumdeficiency/1176.jpg  \n",
            "  inflating: dataset - strawberry leaves/Calciumdeficiency/1177.jpg  \n",
            "  inflating: dataset - strawberry leaves/Calciumdeficiency/1179.jpg  \n",
            "  inflating: dataset - strawberry leaves/Calciumdeficiency/118.jpg  \n",
            "  inflating: dataset - strawberry leaves/Calciumdeficiency/1180.jpg  \n",
            "  inflating: dataset - strawberry leaves/Calciumdeficiency/1181.jpg  \n",
            "  inflating: dataset - strawberry leaves/Calciumdeficiency/1182.jpg  \n",
            "  inflating: dataset - strawberry leaves/Calciumdeficiency/1183.jpg  \n",
            "  inflating: dataset - strawberry leaves/Calciumdeficiency/1185.jpg  \n",
            "  inflating: dataset - strawberry leaves/Calciumdeficiency/1186.jpg  \n",
            "  inflating: dataset - strawberry leaves/Calciumdeficiency/1187.jpg  \n",
            "  inflating: dataset - strawberry leaves/Calciumdeficiency/1188.jpg  \n",
            "  inflating: dataset - strawberry leaves/Calciumdeficiency/1189.jpg  \n",
            "  inflating: dataset - strawberry leaves/Calciumdeficiency/119.jpg  \n",
            "  inflating: dataset - strawberry leaves/Calciumdeficiency/12.jpg  \n",
            "  inflating: dataset - strawberry leaves/Calciumdeficiency/120.jpg  \n",
            "  inflating: dataset - strawberry leaves/Calciumdeficiency/121.jpg  \n",
            "  inflating: dataset - strawberry leaves/Calciumdeficiency/122.jpg  \n",
            "  inflating: dataset - strawberry leaves/Calciumdeficiency/123.jpg  \n",
            "  inflating: dataset - strawberry leaves/Calciumdeficiency/124.jpg  \n",
            "  inflating: dataset - strawberry leaves/Calciumdeficiency/125.jpg  \n",
            "  inflating: dataset - strawberry leaves/Calciumdeficiency/126.jpg  \n",
            "  inflating: dataset - strawberry leaves/Calciumdeficiency/127.jpg  \n",
            "  inflating: dataset - strawberry leaves/Calciumdeficiency/128.jpg  \n",
            "  inflating: dataset - strawberry leaves/Calciumdeficiency/129.jpg  \n",
            "  inflating: dataset - strawberry leaves/Calciumdeficiency/13.jpg  \n",
            "  inflating: dataset - strawberry leaves/Calciumdeficiency/130.jpg  \n",
            "  inflating: dataset - strawberry leaves/Calciumdeficiency/131.jpg  \n",
            "  inflating: dataset - strawberry leaves/Calciumdeficiency/132.jpg  \n",
            "  inflating: dataset - strawberry leaves/Calciumdeficiency/133.jpg  \n",
            "  inflating: dataset - strawberry leaves/Calciumdeficiency/134.jpg  \n",
            "  inflating: dataset - strawberry leaves/Calciumdeficiency/135.jpg  \n",
            "  inflating: dataset - strawberry leaves/Calciumdeficiency/136.jpg  \n",
            "  inflating: dataset - strawberry leaves/Calciumdeficiency/137.jpg  \n",
            "  inflating: dataset - strawberry leaves/Calciumdeficiency/138.jpg  \n",
            "  inflating: dataset - strawberry leaves/Calciumdeficiency/139.jpg  \n",
            "  inflating: dataset - strawberry leaves/Calciumdeficiency/14.jpg  \n",
            "  inflating: dataset - strawberry leaves/Calciumdeficiency/140.jpg  \n",
            "  inflating: dataset - strawberry leaves/Calciumdeficiency/141.jpg  \n",
            "  inflating: dataset - strawberry leaves/Calciumdeficiency/142.jpg  \n",
            "  inflating: dataset - strawberry leaves/Calciumdeficiency/143.jpg  \n",
            "  inflating: dataset - strawberry leaves/Calciumdeficiency/144.jpg  \n",
            "  inflating: dataset - strawberry leaves/Calciumdeficiency/145.jpg  \n",
            "  inflating: dataset - strawberry leaves/Calciumdeficiency/146.jpg  \n",
            "  inflating: dataset - strawberry leaves/Calciumdeficiency/147.jpg  \n",
            "  inflating: dataset - strawberry leaves/Calciumdeficiency/148.jpg  \n",
            "  inflating: dataset - strawberry leaves/Calciumdeficiency/149.jpg  \n",
            "  inflating: dataset - strawberry leaves/Calciumdeficiency/15.jpg  \n",
            "  inflating: dataset - strawberry leaves/Calciumdeficiency/150.jpg  \n",
            "  inflating: dataset - strawberry leaves/Calciumdeficiency/151.jpg  \n",
            "  inflating: dataset - strawberry leaves/Calciumdeficiency/152.jpg  \n",
            "  inflating: dataset - strawberry leaves/Calciumdeficiency/153.jpg  \n",
            "  inflating: dataset - strawberry leaves/Calciumdeficiency/154.jpg  \n",
            "  inflating: dataset - strawberry leaves/Calciumdeficiency/155.jpg  \n",
            "  inflating: dataset - strawberry leaves/Calciumdeficiency/156.jpg  \n",
            "  inflating: dataset - strawberry leaves/Calciumdeficiency/157.jpg  \n",
            "  inflating: dataset - strawberry leaves/Calciumdeficiency/158.jpg  \n",
            "  inflating: dataset - strawberry leaves/Calciumdeficiency/159.jpg  \n",
            "  inflating: dataset - strawberry leaves/Calciumdeficiency/16.jpg  \n",
            "  inflating: dataset - strawberry leaves/Calciumdeficiency/160.jpg  \n",
            "  inflating: dataset - strawberry leaves/Calciumdeficiency/161.jpg  \n",
            "  inflating: dataset - strawberry leaves/Calciumdeficiency/162.jpg  \n",
            "  inflating: dataset - strawberry leaves/Calciumdeficiency/163.jpg  \n",
            "  inflating: dataset - strawberry leaves/Calciumdeficiency/164.jpg  \n",
            "  inflating: dataset - strawberry leaves/Calciumdeficiency/165.jpg  \n",
            "  inflating: dataset - strawberry leaves/Calciumdeficiency/166.jpg  \n",
            "  inflating: dataset - strawberry leaves/Calciumdeficiency/167.jpg  \n",
            "  inflating: dataset - strawberry leaves/Calciumdeficiency/168.jpg  \n",
            "  inflating: dataset - strawberry leaves/Calciumdeficiency/169.jpg  \n",
            "  inflating: dataset - strawberry leaves/Calciumdeficiency/17.jpg  \n",
            "  inflating: dataset - strawberry leaves/Calciumdeficiency/170.jpg  \n",
            "  inflating: dataset - strawberry leaves/Calciumdeficiency/171.jpg  \n",
            "  inflating: dataset - strawberry leaves/Calciumdeficiency/172.jpg  \n",
            "  inflating: dataset - strawberry leaves/Calciumdeficiency/173.jpg  \n",
            "  inflating: dataset - strawberry leaves/Calciumdeficiency/174.jpg  \n",
            "  inflating: dataset - strawberry leaves/Calciumdeficiency/175.jpg  \n",
            "  inflating: dataset - strawberry leaves/Calciumdeficiency/176.jpg  \n",
            "  inflating: dataset - strawberry leaves/Calciumdeficiency/177.jpg  \n",
            "  inflating: dataset - strawberry leaves/Calciumdeficiency/178.jpg  \n",
            "  inflating: dataset - strawberry leaves/Calciumdeficiency/179.jpg  \n",
            "  inflating: dataset - strawberry leaves/Calciumdeficiency/18.jpg  \n",
            "  inflating: dataset - strawberry leaves/Calciumdeficiency/180.jpg  \n",
            "  inflating: dataset - strawberry leaves/Calciumdeficiency/181.jpg  \n",
            "  inflating: dataset - strawberry leaves/Calciumdeficiency/182.jpg  \n",
            "  inflating: dataset - strawberry leaves/Calciumdeficiency/183.jpg  \n",
            "  inflating: dataset - strawberry leaves/Calciumdeficiency/184.jpg  \n",
            "  inflating: dataset - strawberry leaves/Calciumdeficiency/185.jpg  \n",
            "  inflating: dataset - strawberry leaves/Calciumdeficiency/186.jpg  \n",
            "  inflating: dataset - strawberry leaves/Calciumdeficiency/187.jpg  \n",
            "  inflating: dataset - strawberry leaves/Calciumdeficiency/188.jpg  \n",
            "  inflating: dataset - strawberry leaves/Calciumdeficiency/189.jpg  \n",
            "  inflating: dataset - strawberry leaves/Calciumdeficiency/19.jpg  \n",
            "  inflating: dataset - strawberry leaves/Calciumdeficiency/190.jpg  \n",
            "  inflating: dataset - strawberry leaves/Calciumdeficiency/191.jpg  \n",
            "  inflating: dataset - strawberry leaves/Calciumdeficiency/192.jpg  \n",
            "  inflating: dataset - strawberry leaves/Calciumdeficiency/193.jpg  \n",
            "  inflating: dataset - strawberry leaves/Calciumdeficiency/194.jpg  \n",
            "  inflating: dataset - strawberry leaves/Calciumdeficiency/195.jpg  \n",
            "  inflating: dataset - strawberry leaves/Calciumdeficiency/196.jpg  \n",
            "  inflating: dataset - strawberry leaves/Calciumdeficiency/197.jpg  \n",
            "  inflating: dataset - strawberry leaves/Calciumdeficiency/198.jpg  \n",
            "  inflating: dataset - strawberry leaves/Calciumdeficiency/199.jpg  \n",
            "  inflating: dataset - strawberry leaves/Calciumdeficiency/2.jpg  \n",
            "  inflating: dataset - strawberry leaves/Calciumdeficiency/20.jpg  \n",
            "  inflating: dataset - strawberry leaves/Calciumdeficiency/200.jpg  \n",
            "  inflating: dataset - strawberry leaves/Calciumdeficiency/201.jpg  \n",
            "  inflating: dataset - strawberry leaves/Calciumdeficiency/202.jpg  \n",
            "  inflating: dataset - strawberry leaves/Calciumdeficiency/203.jpg  \n",
            "  inflating: dataset - strawberry leaves/Calciumdeficiency/204.jpg  \n",
            "  inflating: dataset - strawberry leaves/Calciumdeficiency/205.jpg  \n",
            "  inflating: dataset - strawberry leaves/Calciumdeficiency/206.jpg  \n",
            "  inflating: dataset - strawberry leaves/Calciumdeficiency/207.jpg  \n",
            "  inflating: dataset - strawberry leaves/Calciumdeficiency/208.jpg  \n",
            "  inflating: dataset - strawberry leaves/Calciumdeficiency/209.jpg  \n",
            "  inflating: dataset - strawberry leaves/Calciumdeficiency/21.jpg  \n",
            "  inflating: dataset - strawberry leaves/Calciumdeficiency/210.jpg  \n",
            "  inflating: dataset - strawberry leaves/Calciumdeficiency/211.jpg  \n",
            "  inflating: dataset - strawberry leaves/Calciumdeficiency/212.jpg  \n",
            "  inflating: dataset - strawberry leaves/Calciumdeficiency/213.jpg  \n",
            "  inflating: dataset - strawberry leaves/Calciumdeficiency/218.jpg  \n",
            "  inflating: dataset - strawberry leaves/Calciumdeficiency/219.jpg  \n",
            "  inflating: dataset - strawberry leaves/Calciumdeficiency/22.jpg  \n",
            "  inflating: dataset - strawberry leaves/Calciumdeficiency/220.jpg  \n",
            "  inflating: dataset - strawberry leaves/Calciumdeficiency/221.jpg  \n",
            "  inflating: dataset - strawberry leaves/Calciumdeficiency/222.jpg  \n",
            "  inflating: dataset - strawberry leaves/Calciumdeficiency/223.jpg  \n",
            "  inflating: dataset - strawberry leaves/Calciumdeficiency/224.jpg  \n",
            "  inflating: dataset - strawberry leaves/Calciumdeficiency/225.jpg  \n",
            "  inflating: dataset - strawberry leaves/Calciumdeficiency/226.jpg  \n",
            "  inflating: dataset - strawberry leaves/Calciumdeficiency/227.jpg  \n",
            "  inflating: dataset - strawberry leaves/Calciumdeficiency/228.jpg  \n",
            "  inflating: dataset - strawberry leaves/Calciumdeficiency/229.jpg  \n",
            "  inflating: dataset - strawberry leaves/Calciumdeficiency/23.jpg  \n",
            "  inflating: dataset - strawberry leaves/Calciumdeficiency/230.jpg  \n",
            "  inflating: dataset - strawberry leaves/Calciumdeficiency/231.jpg  \n",
            "  inflating: dataset - strawberry leaves/Calciumdeficiency/238.jpg  \n",
            "  inflating: dataset - strawberry leaves/Calciumdeficiency/239.jpg  \n",
            "  inflating: dataset - strawberry leaves/Calciumdeficiency/24.jpg  \n",
            "  inflating: dataset - strawberry leaves/Calciumdeficiency/247.jpg  \n",
            "  inflating: dataset - strawberry leaves/Calciumdeficiency/248.jpg  \n",
            "  inflating: dataset - strawberry leaves/Calciumdeficiency/25.jpg  \n",
            "  inflating: dataset - strawberry leaves/Calciumdeficiency/254.jpg  \n",
            "  inflating: dataset - strawberry leaves/Calciumdeficiency/255.jpg  \n",
            "  inflating: dataset - strawberry leaves/Calciumdeficiency/256.jpg  \n",
            "  inflating: dataset - strawberry leaves/Calciumdeficiency/257.jpg  \n",
            "  inflating: dataset - strawberry leaves/Calciumdeficiency/259.jpg  \n",
            "  inflating: dataset - strawberry leaves/Calciumdeficiency/26.jpg  \n",
            "  inflating: dataset - strawberry leaves/Calciumdeficiency/260.jpg  \n",
            "  inflating: dataset - strawberry leaves/Calciumdeficiency/261.jpg  \n",
            "  inflating: dataset - strawberry leaves/Calciumdeficiency/262.jpg  \n",
            "  inflating: dataset - strawberry leaves/Calciumdeficiency/263.jpg  \n",
            "  inflating: dataset - strawberry leaves/Calciumdeficiency/264.jpg  \n",
            "  inflating: dataset - strawberry leaves/Calciumdeficiency/265.jpg  \n",
            "  inflating: dataset - strawberry leaves/Calciumdeficiency/266.jpg  \n",
            "  inflating: dataset - strawberry leaves/Calciumdeficiency/267.jpg  \n",
            "  inflating: dataset - strawberry leaves/Calciumdeficiency/268.jpg  \n",
            "  inflating: dataset - strawberry leaves/Calciumdeficiency/269.jpg  \n",
            "  inflating: dataset - strawberry leaves/Calciumdeficiency/27.jpg  \n",
            "  inflating: dataset - strawberry leaves/Calciumdeficiency/277.jpg  \n",
            "  inflating: dataset - strawberry leaves/Calciumdeficiency/278.jpg  \n",
            "  inflating: dataset - strawberry leaves/Calciumdeficiency/28.jpg  \n",
            "  inflating: dataset - strawberry leaves/Calciumdeficiency/283.jpg  \n",
            "  inflating: dataset - strawberry leaves/Calciumdeficiency/284.jpg  \n",
            "  inflating: dataset - strawberry leaves/Calciumdeficiency/29.jpg  \n",
            "  inflating: dataset - strawberry leaves/Calciumdeficiency/292.jpg  \n",
            "  inflating: dataset - strawberry leaves/Calciumdeficiency/299.jpg  \n",
            "  inflating: dataset - strawberry leaves/Calciumdeficiency/3.jpg  \n",
            "  inflating: dataset - strawberry leaves/Calciumdeficiency/30.jpg  \n",
            "  inflating: dataset - strawberry leaves/Calciumdeficiency/300.jpg  \n",
            "  inflating: dataset - strawberry leaves/Calciumdeficiency/309.jpg  \n",
            "  inflating: dataset - strawberry leaves/Calciumdeficiency/31.jpg  \n",
            "  inflating: dataset - strawberry leaves/Calciumdeficiency/32.jpg  \n",
            "  inflating: dataset - strawberry leaves/Calciumdeficiency/329.jpg  \n",
            "  inflating: dataset - strawberry leaves/Calciumdeficiency/33.jpg  \n",
            "  inflating: dataset - strawberry leaves/Calciumdeficiency/330.jpg  \n",
            "  inflating: dataset - strawberry leaves/Calciumdeficiency/331.jpg  \n",
            "  inflating: dataset - strawberry leaves/Calciumdeficiency/34.jpg  \n",
            "  inflating: dataset - strawberry leaves/Calciumdeficiency/344.jpg  \n",
            "  inflating: dataset - strawberry leaves/Calciumdeficiency/35.jpg  \n",
            "  inflating: dataset - strawberry leaves/Calciumdeficiency/351.jpg  \n",
            "  inflating: dataset - strawberry leaves/Calciumdeficiency/356.jpg  \n",
            "  inflating: dataset - strawberry leaves/Calciumdeficiency/357.jpg  \n",
            "  inflating: dataset - strawberry leaves/Calciumdeficiency/36.jpg  \n",
            "  inflating: dataset - strawberry leaves/Calciumdeficiency/37.jpg  \n",
            "  inflating: dataset - strawberry leaves/Calciumdeficiency/38.jpg  \n",
            "  inflating: dataset - strawberry leaves/Calciumdeficiency/39.jpg  \n",
            "  inflating: dataset - strawberry leaves/Calciumdeficiency/4.jpg  \n",
            "  inflating: dataset - strawberry leaves/Calciumdeficiency/40.jpg  \n",
            "  inflating: dataset - strawberry leaves/Calciumdeficiency/41.jpg  \n",
            "  inflating: dataset - strawberry leaves/Calciumdeficiency/42.jpg  \n",
            "  inflating: dataset - strawberry leaves/Calciumdeficiency/43.jpg  \n",
            "  inflating: dataset - strawberry leaves/Calciumdeficiency/44.jpg  \n",
            "  inflating: dataset - strawberry leaves/Calciumdeficiency/45.jpg  \n",
            "  inflating: dataset - strawberry leaves/Calciumdeficiency/46.jpg  \n",
            "  inflating: dataset - strawberry leaves/Calciumdeficiency/47.jpg  \n",
            "  inflating: dataset - strawberry leaves/Calciumdeficiency/48.jpg  \n",
            "  inflating: dataset - strawberry leaves/Calciumdeficiency/49.jpg  \n",
            "  inflating: dataset - strawberry leaves/Calciumdeficiency/5.jpg  \n",
            "  inflating: dataset - strawberry leaves/Calciumdeficiency/50.jpg  \n",
            "  inflating: dataset - strawberry leaves/Calciumdeficiency/51.jpg  \n",
            "  inflating: dataset - strawberry leaves/Calciumdeficiency/52.jpg  \n",
            "  inflating: dataset - strawberry leaves/Calciumdeficiency/53.jpg  \n",
            "  inflating: dataset - strawberry leaves/Calciumdeficiency/54.jpg  \n",
            "  inflating: dataset - strawberry leaves/Calciumdeficiency/542.jpg  \n",
            "  inflating: dataset - strawberry leaves/Calciumdeficiency/543.jpg  \n",
            "  inflating: dataset - strawberry leaves/Calciumdeficiency/544.jpg  \n",
            "  inflating: dataset - strawberry leaves/Calciumdeficiency/545.jpg  \n",
            "  inflating: dataset - strawberry leaves/Calciumdeficiency/546.jpg  \n",
            "  inflating: dataset - strawberry leaves/Calciumdeficiency/547.jpg  \n",
            "  inflating: dataset - strawberry leaves/Calciumdeficiency/548.jpg  \n",
            "  inflating: dataset - strawberry leaves/Calciumdeficiency/549.jpg  \n",
            "  inflating: dataset - strawberry leaves/Calciumdeficiency/55.jpg  \n",
            "  inflating: dataset - strawberry leaves/Calciumdeficiency/550.jpg  \n",
            "  inflating: dataset - strawberry leaves/Calciumdeficiency/551.jpg  \n",
            "  inflating: dataset - strawberry leaves/Calciumdeficiency/552.jpg  \n",
            "  inflating: dataset - strawberry leaves/Calciumdeficiency/553.jpg  \n",
            "  inflating: dataset - strawberry leaves/Calciumdeficiency/554.jpg  \n",
            "  inflating: dataset - strawberry leaves/Calciumdeficiency/555.jpg  \n",
            "  inflating: dataset - strawberry leaves/Calciumdeficiency/556.jpg  \n",
            "  inflating: dataset - strawberry leaves/Calciumdeficiency/557.jpg  \n",
            "  inflating: dataset - strawberry leaves/Calciumdeficiency/558.jpg  \n",
            "  inflating: dataset - strawberry leaves/Calciumdeficiency/559.jpg  \n",
            "  inflating: dataset - strawberry leaves/Calciumdeficiency/56.jpg  \n",
            "  inflating: dataset - strawberry leaves/Calciumdeficiency/560.jpg  \n",
            "  inflating: dataset - strawberry leaves/Calciumdeficiency/561.jpg  \n",
            "  inflating: dataset - strawberry leaves/Calciumdeficiency/562.jpg  \n",
            "  inflating: dataset - strawberry leaves/Calciumdeficiency/563.jpg  \n",
            "  inflating: dataset - strawberry leaves/Calciumdeficiency/564.jpg  \n",
            "  inflating: dataset - strawberry leaves/Calciumdeficiency/565.jpg  \n",
            "  inflating: dataset - strawberry leaves/Calciumdeficiency/566.jpg  \n",
            "  inflating: dataset - strawberry leaves/Calciumdeficiency/567.jpg  \n",
            "  inflating: dataset - strawberry leaves/Calciumdeficiency/568.jpg  \n",
            "  inflating: dataset - strawberry leaves/Calciumdeficiency/569.jpg  \n",
            "  inflating: dataset - strawberry leaves/Calciumdeficiency/57.jpg  \n",
            "  inflating: dataset - strawberry leaves/Calciumdeficiency/570.jpg  \n",
            "  inflating: dataset - strawberry leaves/Calciumdeficiency/571.jpg  \n",
            "  inflating: dataset - strawberry leaves/Calciumdeficiency/572.jpg  \n",
            "  inflating: dataset - strawberry leaves/Calciumdeficiency/573.jpg  \n",
            "  inflating: dataset - strawberry leaves/Calciumdeficiency/574.jpg  \n",
            "  inflating: dataset - strawberry leaves/Calciumdeficiency/575.jpg  \n",
            "  inflating: dataset - strawberry leaves/Calciumdeficiency/576.jpg  \n",
            "  inflating: dataset - strawberry leaves/Calciumdeficiency/577.jpg  \n",
            "  inflating: dataset - strawberry leaves/Calciumdeficiency/578.jpg  \n",
            "  inflating: dataset - strawberry leaves/Calciumdeficiency/579.jpg  \n",
            "  inflating: dataset - strawberry leaves/Calciumdeficiency/58.jpg  \n",
            "  inflating: dataset - strawberry leaves/Calciumdeficiency/580.jpg  \n",
            "  inflating: dataset - strawberry leaves/Calciumdeficiency/581.jpg  \n",
            "  inflating: dataset - strawberry leaves/Calciumdeficiency/582.jpg  \n",
            "  inflating: dataset - strawberry leaves/Calciumdeficiency/583.jpg  \n",
            "  inflating: dataset - strawberry leaves/Calciumdeficiency/584.jpg  \n",
            "  inflating: dataset - strawberry leaves/Calciumdeficiency/585.jpg  \n",
            "  inflating: dataset - strawberry leaves/Calciumdeficiency/586.jpg  \n",
            "  inflating: dataset - strawberry leaves/Calciumdeficiency/587.jpg  \n",
            "  inflating: dataset - strawberry leaves/Calciumdeficiency/588.jpg  \n",
            "  inflating: dataset - strawberry leaves/Calciumdeficiency/589.jpg  \n",
            "  inflating: dataset - strawberry leaves/Calciumdeficiency/59.jpg  \n",
            "  inflating: dataset - strawberry leaves/Calciumdeficiency/590.jpg  \n",
            "  inflating: dataset - strawberry leaves/Calciumdeficiency/591.jpg  \n",
            "  inflating: dataset - strawberry leaves/Calciumdeficiency/592.jpg  \n",
            "  inflating: dataset - strawberry leaves/Calciumdeficiency/593.jpg  \n",
            "  inflating: dataset - strawberry leaves/Calciumdeficiency/594.jpg  \n",
            "  inflating: dataset - strawberry leaves/Calciumdeficiency/595.jpg  \n",
            "  inflating: dataset - strawberry leaves/Calciumdeficiency/596.jpg  \n",
            "  inflating: dataset - strawberry leaves/Calciumdeficiency/597.jpg  \n",
            "  inflating: dataset - strawberry leaves/Calciumdeficiency/598.jpg  \n",
            "  inflating: dataset - strawberry leaves/Calciumdeficiency/599.jpg  \n",
            "  inflating: dataset - strawberry leaves/Calciumdeficiency/6.jpg  \n",
            "  inflating: dataset - strawberry leaves/Calciumdeficiency/60.jpg  \n",
            "  inflating: dataset - strawberry leaves/Calciumdeficiency/600.jpg  \n",
            "  inflating: dataset - strawberry leaves/Calciumdeficiency/601.jpg  \n",
            "  inflating: dataset - strawberry leaves/Calciumdeficiency/602.jpg  \n",
            "  inflating: dataset - strawberry leaves/Calciumdeficiency/603.jpg  \n",
            "  inflating: dataset - strawberry leaves/Calciumdeficiency/604.jpg  \n",
            "  inflating: dataset - strawberry leaves/Calciumdeficiency/605.jpg  \n",
            "  inflating: dataset - strawberry leaves/Calciumdeficiency/606.jpg  \n",
            "  inflating: dataset - strawberry leaves/Calciumdeficiency/607.jpg  \n",
            "  inflating: dataset - strawberry leaves/Calciumdeficiency/608.jpg  \n",
            "  inflating: dataset - strawberry leaves/Calciumdeficiency/609.jpg  \n",
            "  inflating: dataset - strawberry leaves/Calciumdeficiency/61.jpg  \n",
            "  inflating: dataset - strawberry leaves/Calciumdeficiency/610.jpg  \n",
            "  inflating: dataset - strawberry leaves/Calciumdeficiency/611.jpg  \n",
            "  inflating: dataset - strawberry leaves/Calciumdeficiency/612.jpg  \n",
            "  inflating: dataset - strawberry leaves/Calciumdeficiency/613.jpg  \n",
            "  inflating: dataset - strawberry leaves/Calciumdeficiency/614.jpg  \n",
            "  inflating: dataset - strawberry leaves/Calciumdeficiency/615.jpg  \n",
            "  inflating: dataset - strawberry leaves/Calciumdeficiency/616.jpg  \n",
            "  inflating: dataset - strawberry leaves/Calciumdeficiency/617.jpg  \n",
            "  inflating: dataset - strawberry leaves/Calciumdeficiency/618.jpg  \n",
            "  inflating: dataset - strawberry leaves/Calciumdeficiency/619.jpg  \n",
            "  inflating: dataset - strawberry leaves/Calciumdeficiency/62.jpg  \n",
            "  inflating: dataset - strawberry leaves/Calciumdeficiency/620.jpg  \n",
            "  inflating: dataset - strawberry leaves/Calciumdeficiency/621.jpg  \n",
            "  inflating: dataset - strawberry leaves/Calciumdeficiency/622.jpg  \n",
            "  inflating: dataset - strawberry leaves/Calciumdeficiency/623.jpg  \n",
            "  inflating: dataset - strawberry leaves/Calciumdeficiency/624.jpg  \n",
            "  inflating: dataset - strawberry leaves/Calciumdeficiency/625.jpg  \n",
            "  inflating: dataset - strawberry leaves/Calciumdeficiency/626.jpg  \n",
            "  inflating: dataset - strawberry leaves/Calciumdeficiency/627.jpg  \n",
            "  inflating: dataset - strawberry leaves/Calciumdeficiency/628.jpg  \n",
            "  inflating: dataset - strawberry leaves/Calciumdeficiency/629.jpg  \n",
            "  inflating: dataset - strawberry leaves/Calciumdeficiency/63.jpg  \n",
            "  inflating: dataset - strawberry leaves/Calciumdeficiency/630.jpg  \n",
            "  inflating: dataset - strawberry leaves/Calciumdeficiency/631.jpg  \n",
            "  inflating: dataset - strawberry leaves/Calciumdeficiency/632.jpg  \n",
            "  inflating: dataset - strawberry leaves/Calciumdeficiency/633.jpg  \n",
            "  inflating: dataset - strawberry leaves/Calciumdeficiency/634.jpg  \n",
            "  inflating: dataset - strawberry leaves/Calciumdeficiency/635.jpg  \n",
            "  inflating: dataset - strawberry leaves/Calciumdeficiency/636.jpg  \n",
            "  inflating: dataset - strawberry leaves/Calciumdeficiency/637.jpg  \n",
            "  inflating: dataset - strawberry leaves/Calciumdeficiency/638.jpg  \n",
            "  inflating: dataset - strawberry leaves/Calciumdeficiency/639.jpg  \n",
            "  inflating: dataset - strawberry leaves/Calciumdeficiency/64.jpg  \n",
            "  inflating: dataset - strawberry leaves/Calciumdeficiency/640.jpg  \n",
            "  inflating: dataset - strawberry leaves/Calciumdeficiency/641.jpg  \n",
            "  inflating: dataset - strawberry leaves/Calciumdeficiency/642.jpg  \n",
            "  inflating: dataset - strawberry leaves/Calciumdeficiency/643.jpg  \n",
            "  inflating: dataset - strawberry leaves/Calciumdeficiency/644.jpg  \n",
            "  inflating: dataset - strawberry leaves/Calciumdeficiency/645.jpg  \n",
            "  inflating: dataset - strawberry leaves/Calciumdeficiency/646.jpg  \n",
            "  inflating: dataset - strawberry leaves/Calciumdeficiency/647.jpg  \n",
            "  inflating: dataset - strawberry leaves/Calciumdeficiency/648.jpg  \n",
            "  inflating: dataset - strawberry leaves/Calciumdeficiency/649.jpg  \n",
            "  inflating: dataset - strawberry leaves/Calciumdeficiency/65.jpg  \n",
            "  inflating: dataset - strawberry leaves/Calciumdeficiency/650.jpg  \n",
            "  inflating: dataset - strawberry leaves/Calciumdeficiency/651.jpg  \n",
            "  inflating: dataset - strawberry leaves/Calciumdeficiency/652.jpg  \n",
            "  inflating: dataset - strawberry leaves/Calciumdeficiency/653.jpg  \n",
            "  inflating: dataset - strawberry leaves/Calciumdeficiency/654.jpg  \n",
            "  inflating: dataset - strawberry leaves/Calciumdeficiency/655.jpg  \n",
            "  inflating: dataset - strawberry leaves/Calciumdeficiency/656.jpg  \n",
            "  inflating: dataset - strawberry leaves/Calciumdeficiency/657.jpg  \n",
            "  inflating: dataset - strawberry leaves/Calciumdeficiency/658.jpg  \n",
            "  inflating: dataset - strawberry leaves/Calciumdeficiency/659.jpg  \n",
            "  inflating: dataset - strawberry leaves/Calciumdeficiency/66.jpg  \n",
            "  inflating: dataset - strawberry leaves/Calciumdeficiency/660.jpg  \n",
            "  inflating: dataset - strawberry leaves/Calciumdeficiency/661.jpg  \n",
            "  inflating: dataset - strawberry leaves/Calciumdeficiency/662.jpg  \n",
            "  inflating: dataset - strawberry leaves/Calciumdeficiency/663.jpg  \n",
            "  inflating: dataset - strawberry leaves/Calciumdeficiency/664.jpg  \n",
            "  inflating: dataset - strawberry leaves/Calciumdeficiency/665.jpg  \n",
            "  inflating: dataset - strawberry leaves/Calciumdeficiency/666.jpg  \n",
            "  inflating: dataset - strawberry leaves/Calciumdeficiency/667.jpg  \n",
            "  inflating: dataset - strawberry leaves/Calciumdeficiency/668.jpg  \n",
            "  inflating: dataset - strawberry leaves/Calciumdeficiency/669.jpg  \n",
            "  inflating: dataset - strawberry leaves/Calciumdeficiency/67.jpg  \n",
            "  inflating: dataset - strawberry leaves/Calciumdeficiency/670.jpg  \n",
            "  inflating: dataset - strawberry leaves/Calciumdeficiency/671.jpg  \n",
            "  inflating: dataset - strawberry leaves/Calciumdeficiency/672.jpg  \n",
            "  inflating: dataset - strawberry leaves/Calciumdeficiency/673.jpg  \n",
            "  inflating: dataset - strawberry leaves/Calciumdeficiency/674.jpg  \n",
            "  inflating: dataset - strawberry leaves/Calciumdeficiency/675.jpg  \n",
            "  inflating: dataset - strawberry leaves/Calciumdeficiency/676.jpg  \n",
            "  inflating: dataset - strawberry leaves/Calciumdeficiency/677.jpg  \n",
            "  inflating: dataset - strawberry leaves/Calciumdeficiency/678.jpg  \n",
            "  inflating: dataset - strawberry leaves/Calciumdeficiency/679.jpg  \n",
            "  inflating: dataset - strawberry leaves/Calciumdeficiency/68.jpg  \n",
            "  inflating: dataset - strawberry leaves/Calciumdeficiency/680.jpg  \n",
            "  inflating: dataset - strawberry leaves/Calciumdeficiency/681.jpg  \n",
            "  inflating: dataset - strawberry leaves/Calciumdeficiency/682.jpg  \n",
            "  inflating: dataset - strawberry leaves/Calciumdeficiency/683.jpg  \n",
            "  inflating: dataset - strawberry leaves/Calciumdeficiency/684.jpg  \n",
            "  inflating: dataset - strawberry leaves/Calciumdeficiency/685.jpg  \n",
            "  inflating: dataset - strawberry leaves/Calciumdeficiency/686.jpg  \n",
            "  inflating: dataset - strawberry leaves/Calciumdeficiency/687.jpg  \n",
            "  inflating: dataset - strawberry leaves/Calciumdeficiency/688.jpg  \n",
            "  inflating: dataset - strawberry leaves/Calciumdeficiency/689.jpg  \n",
            "  inflating: dataset - strawberry leaves/Calciumdeficiency/69.jpg  \n",
            "  inflating: dataset - strawberry leaves/Calciumdeficiency/690.jpg  \n",
            "  inflating: dataset - strawberry leaves/Calciumdeficiency/691.jpg  \n",
            "  inflating: dataset - strawberry leaves/Calciumdeficiency/692.jpg  \n",
            "  inflating: dataset - strawberry leaves/Calciumdeficiency/693.jpg  \n",
            "  inflating: dataset - strawberry leaves/Calciumdeficiency/694.jpg  \n",
            "  inflating: dataset - strawberry leaves/Calciumdeficiency/695.jpg  \n",
            "  inflating: dataset - strawberry leaves/Calciumdeficiency/696.jpg  \n",
            "  inflating: dataset - strawberry leaves/Calciumdeficiency/697.jpg  \n",
            "  inflating: dataset - strawberry leaves/Calciumdeficiency/698.jpg  \n",
            "  inflating: dataset - strawberry leaves/Calciumdeficiency/699.jpg  \n",
            "  inflating: dataset - strawberry leaves/Calciumdeficiency/7.jpg  \n",
            "  inflating: dataset - strawberry leaves/Calciumdeficiency/70.jpg  \n",
            "  inflating: dataset - strawberry leaves/Calciumdeficiency/700.jpg  \n",
            "  inflating: dataset - strawberry leaves/Calciumdeficiency/701.jpg  \n",
            "  inflating: dataset - strawberry leaves/Calciumdeficiency/702.jpg  \n",
            "  inflating: dataset - strawberry leaves/Calciumdeficiency/71.jpg  \n",
            "  inflating: dataset - strawberry leaves/Calciumdeficiency/72.jpg  \n",
            "  inflating: dataset - strawberry leaves/Calciumdeficiency/73.jpg  \n",
            "  inflating: dataset - strawberry leaves/Calciumdeficiency/74.jpg  \n",
            "  inflating: dataset - strawberry leaves/Calciumdeficiency/75.jpg  \n",
            "  inflating: dataset - strawberry leaves/Calciumdeficiency/76.jpg  \n",
            "  inflating: dataset - strawberry leaves/Calciumdeficiency/77.jpg  \n",
            "  inflating: dataset - strawberry leaves/Calciumdeficiency/778.jpg  \n",
            "  inflating: dataset - strawberry leaves/Calciumdeficiency/779.jpg  \n",
            "  inflating: dataset - strawberry leaves/Calciumdeficiency/78.jpg  \n",
            "  inflating: dataset - strawberry leaves/Calciumdeficiency/780.jpg  \n",
            "  inflating: dataset - strawberry leaves/Calciumdeficiency/781.jpg  \n",
            "  inflating: dataset - strawberry leaves/Calciumdeficiency/782.jpg  \n",
            "  inflating: dataset - strawberry leaves/Calciumdeficiency/783.jpg  \n",
            "  inflating: dataset - strawberry leaves/Calciumdeficiency/784.jpg  \n",
            "  inflating: dataset - strawberry leaves/Calciumdeficiency/785.jpg  \n",
            "  inflating: dataset - strawberry leaves/Calciumdeficiency/786.jpg  \n",
            "  inflating: dataset - strawberry leaves/Calciumdeficiency/787.jpg  \n",
            "  inflating: dataset - strawberry leaves/Calciumdeficiency/788.jpg  \n",
            "  inflating: dataset - strawberry leaves/Calciumdeficiency/789.jpg  \n",
            "  inflating: dataset - strawberry leaves/Calciumdeficiency/79.jpg  \n",
            "  inflating: dataset - strawberry leaves/Calciumdeficiency/790.jpg  \n",
            "  inflating: dataset - strawberry leaves/Calciumdeficiency/791.jpg  \n",
            "  inflating: dataset - strawberry leaves/Calciumdeficiency/792.jpg  \n",
            "  inflating: dataset - strawberry leaves/Calciumdeficiency/793.jpg  \n",
            "  inflating: dataset - strawberry leaves/Calciumdeficiency/794.jpg  \n",
            "  inflating: dataset - strawberry leaves/Calciumdeficiency/795.jpg  \n",
            "  inflating: dataset - strawberry leaves/Calciumdeficiency/796.jpg  \n",
            "  inflating: dataset - strawberry leaves/Calciumdeficiency/797.jpg  \n",
            "  inflating: dataset - strawberry leaves/Calciumdeficiency/798.jpg  \n",
            "  inflating: dataset - strawberry leaves/Calciumdeficiency/799.jpg  \n",
            "  inflating: dataset - strawberry leaves/Calciumdeficiency/8.jpg  \n",
            "  inflating: dataset - strawberry leaves/Calciumdeficiency/80.jpg  \n",
            "  inflating: dataset - strawberry leaves/Calciumdeficiency/800.jpg  \n",
            "  inflating: dataset - strawberry leaves/Calciumdeficiency/801.jpg  \n",
            "  inflating: dataset - strawberry leaves/Calciumdeficiency/802.jpg  \n",
            "  inflating: dataset - strawberry leaves/Calciumdeficiency/803.jpg  \n",
            "  inflating: dataset - strawberry leaves/Calciumdeficiency/804.jpg  \n",
            "  inflating: dataset - strawberry leaves/Calciumdeficiency/805.jpg  \n",
            "  inflating: dataset - strawberry leaves/Calciumdeficiency/806.jpg  \n",
            "  inflating: dataset - strawberry leaves/Calciumdeficiency/807.jpg  \n",
            "  inflating: dataset - strawberry leaves/Calciumdeficiency/808.jpg  \n",
            "  inflating: dataset - strawberry leaves/Calciumdeficiency/809.jpg  \n",
            "  inflating: dataset - strawberry leaves/Calciumdeficiency/81.jpg  \n",
            "  inflating: dataset - strawberry leaves/Calciumdeficiency/810.jpg  \n",
            "  inflating: dataset - strawberry leaves/Calciumdeficiency/811.jpg  \n",
            "  inflating: dataset - strawberry leaves/Calciumdeficiency/812.jpg  \n",
            "  inflating: dataset - strawberry leaves/Calciumdeficiency/813.jpg  \n",
            "  inflating: dataset - strawberry leaves/Calciumdeficiency/814.jpg  \n",
            "  inflating: dataset - strawberry leaves/Calciumdeficiency/815.jpg  \n",
            "  inflating: dataset - strawberry leaves/Calciumdeficiency/816.jpg  \n",
            "  inflating: dataset - strawberry leaves/Calciumdeficiency/817.jpg  \n",
            "  inflating: dataset - strawberry leaves/Calciumdeficiency/818.jpg  \n",
            "  inflating: dataset - strawberry leaves/Calciumdeficiency/819.jpg  \n",
            "  inflating: dataset - strawberry leaves/Calciumdeficiency/82.jpg  \n",
            "  inflating: dataset - strawberry leaves/Calciumdeficiency/820.jpg  \n",
            "  inflating: dataset - strawberry leaves/Calciumdeficiency/821.jpg  \n",
            "  inflating: dataset - strawberry leaves/Calciumdeficiency/822.jpg  \n",
            "  inflating: dataset - strawberry leaves/Calciumdeficiency/823.jpg  \n",
            "  inflating: dataset - strawberry leaves/Calciumdeficiency/824.jpg  \n",
            "  inflating: dataset - strawberry leaves/Calciumdeficiency/825.jpg  \n",
            "  inflating: dataset - strawberry leaves/Calciumdeficiency/826.jpg  \n",
            "  inflating: dataset - strawberry leaves/Calciumdeficiency/827.jpg  \n",
            "  inflating: dataset - strawberry leaves/Calciumdeficiency/828.jpg  \n",
            "  inflating: dataset - strawberry leaves/Calciumdeficiency/829.jpg  \n",
            "  inflating: dataset - strawberry leaves/Calciumdeficiency/83.jpg  \n",
            "  inflating: dataset - strawberry leaves/Calciumdeficiency/830.jpg  \n",
            "  inflating: dataset - strawberry leaves/Calciumdeficiency/831.jpg  \n",
            "  inflating: dataset - strawberry leaves/Calciumdeficiency/832.jpg  \n",
            "  inflating: dataset - strawberry leaves/Calciumdeficiency/833.jpg  \n",
            "  inflating: dataset - strawberry leaves/Calciumdeficiency/834.jpg  \n",
            "  inflating: dataset - strawberry leaves/Calciumdeficiency/835.jpg  \n",
            "  inflating: dataset - strawberry leaves/Calciumdeficiency/836.jpg  \n",
            "  inflating: dataset - strawberry leaves/Calciumdeficiency/837.jpg  \n",
            "  inflating: dataset - strawberry leaves/Calciumdeficiency/838.jpg  \n",
            "  inflating: dataset - strawberry leaves/Calciumdeficiency/839.jpg  \n",
            "  inflating: dataset - strawberry leaves/Calciumdeficiency/84.jpg  \n",
            "  inflating: dataset - strawberry leaves/Calciumdeficiency/840.jpg  \n",
            "  inflating: dataset - strawberry leaves/Calciumdeficiency/841.jpg  \n",
            "  inflating: dataset - strawberry leaves/Calciumdeficiency/842.jpg  \n",
            "  inflating: dataset - strawberry leaves/Calciumdeficiency/843.jpg  \n",
            "  inflating: dataset - strawberry leaves/Calciumdeficiency/844.jpg  \n",
            "  inflating: dataset - strawberry leaves/Calciumdeficiency/845.jpg  \n",
            "  inflating: dataset - strawberry leaves/Calciumdeficiency/846.jpg  \n",
            "  inflating: dataset - strawberry leaves/Calciumdeficiency/847.jpg  \n",
            "  inflating: dataset - strawberry leaves/Calciumdeficiency/848.jpg  \n",
            "  inflating: dataset - strawberry leaves/Calciumdeficiency/849.jpg  \n",
            "  inflating: dataset - strawberry leaves/Calciumdeficiency/85.jpg  \n",
            "  inflating: dataset - strawberry leaves/Calciumdeficiency/850.jpg  \n",
            "  inflating: dataset - strawberry leaves/Calciumdeficiency/851.jpg  \n",
            "  inflating: dataset - strawberry leaves/Calciumdeficiency/852.jpg  \n",
            "  inflating: dataset - strawberry leaves/Calciumdeficiency/853.jpg  \n",
            "  inflating: dataset - strawberry leaves/Calciumdeficiency/854.jpg  \n",
            "  inflating: dataset - strawberry leaves/Calciumdeficiency/855.jpg  \n",
            "  inflating: dataset - strawberry leaves/Calciumdeficiency/856.jpg  \n",
            "  inflating: dataset - strawberry leaves/Calciumdeficiency/857.jpg  \n",
            "  inflating: dataset - strawberry leaves/Calciumdeficiency/858.jpg  \n",
            "  inflating: dataset - strawberry leaves/Calciumdeficiency/859.jpg  \n",
            "  inflating: dataset - strawberry leaves/Calciumdeficiency/86.jpg  \n",
            "  inflating: dataset - strawberry leaves/Calciumdeficiency/860.jpg  \n",
            "  inflating: dataset - strawberry leaves/Calciumdeficiency/861.jpg  \n",
            "  inflating: dataset - strawberry leaves/Calciumdeficiency/862.jpg  \n",
            "  inflating: dataset - strawberry leaves/Calciumdeficiency/863.jpg  \n",
            "  inflating: dataset - strawberry leaves/Calciumdeficiency/864.jpg  \n",
            "  inflating: dataset - strawberry leaves/Calciumdeficiency/865.jpg  \n",
            "  inflating: dataset - strawberry leaves/Calciumdeficiency/866.jpg  \n",
            "  inflating: dataset - strawberry leaves/Calciumdeficiency/867.jpg  \n",
            "  inflating: dataset - strawberry leaves/Calciumdeficiency/868.jpg  \n",
            "  inflating: dataset - strawberry leaves/Calciumdeficiency/869.jpg  \n",
            "  inflating: dataset - strawberry leaves/Calciumdeficiency/87.jpg  \n",
            "  inflating: dataset - strawberry leaves/Calciumdeficiency/870.jpg  \n",
            "  inflating: dataset - strawberry leaves/Calciumdeficiency/871.jpg  \n",
            "  inflating: dataset - strawberry leaves/Calciumdeficiency/872.jpg  \n",
            "  inflating: dataset - strawberry leaves/Calciumdeficiency/873.jpg  \n",
            "  inflating: dataset - strawberry leaves/Calciumdeficiency/874.jpg  \n",
            "  inflating: dataset - strawberry leaves/Calciumdeficiency/875.jpg  \n",
            "  inflating: dataset - strawberry leaves/Calciumdeficiency/876.jpg  \n",
            "  inflating: dataset - strawberry leaves/Calciumdeficiency/877.jpg  \n",
            "  inflating: dataset - strawberry leaves/Calciumdeficiency/878.jpg  \n",
            "  inflating: dataset - strawberry leaves/Calciumdeficiency/879.jpg  \n",
            "  inflating: dataset - strawberry leaves/Calciumdeficiency/88.jpg  \n",
            "  inflating: dataset - strawberry leaves/Calciumdeficiency/880.jpg  \n",
            "  inflating: dataset - strawberry leaves/Calciumdeficiency/881.jpg  \n",
            "  inflating: dataset - strawberry leaves/Calciumdeficiency/882.jpg  \n",
            "  inflating: dataset - strawberry leaves/Calciumdeficiency/883.jpg  \n",
            "  inflating: dataset - strawberry leaves/Calciumdeficiency/884.jpg  \n",
            "  inflating: dataset - strawberry leaves/Calciumdeficiency/885.jpg  \n",
            "  inflating: dataset - strawberry leaves/Calciumdeficiency/886.jpg  \n",
            "  inflating: dataset - strawberry leaves/Calciumdeficiency/887.jpg  \n",
            "  inflating: dataset - strawberry leaves/Calciumdeficiency/888.jpg  \n",
            "  inflating: dataset - strawberry leaves/Calciumdeficiency/889.jpg  \n",
            "  inflating: dataset - strawberry leaves/Calciumdeficiency/89.jpg  \n",
            "  inflating: dataset - strawberry leaves/Calciumdeficiency/890.jpg  \n",
            "  inflating: dataset - strawberry leaves/Calciumdeficiency/891.jpg  \n",
            "  inflating: dataset - strawberry leaves/Calciumdeficiency/892.jpg  \n",
            "  inflating: dataset - strawberry leaves/Calciumdeficiency/893.jpg  \n",
            "  inflating: dataset - strawberry leaves/Calciumdeficiency/894.jpg  \n",
            "  inflating: dataset - strawberry leaves/Calciumdeficiency/895.jpg  \n",
            "  inflating: dataset - strawberry leaves/Calciumdeficiency/896.jpg  \n",
            "  inflating: dataset - strawberry leaves/Calciumdeficiency/897.jpg  \n",
            "  inflating: dataset - strawberry leaves/Calciumdeficiency/898.jpg  \n",
            "  inflating: dataset - strawberry leaves/Calciumdeficiency/899.jpg  \n",
            "  inflating: dataset - strawberry leaves/Calciumdeficiency/9.jpg  \n",
            "  inflating: dataset - strawberry leaves/Calciumdeficiency/90.jpg  \n",
            "  inflating: dataset - strawberry leaves/Calciumdeficiency/900.jpg  \n",
            "  inflating: dataset - strawberry leaves/Calciumdeficiency/901.jpg  \n",
            "  inflating: dataset - strawberry leaves/Calciumdeficiency/902.jpg  \n",
            "  inflating: dataset - strawberry leaves/Calciumdeficiency/903.jpg  \n",
            "  inflating: dataset - strawberry leaves/Calciumdeficiency/904.jpg  \n",
            "  inflating: dataset - strawberry leaves/Calciumdeficiency/905.jpg  \n",
            "  inflating: dataset - strawberry leaves/Calciumdeficiency/906.jpg  \n",
            "  inflating: dataset - strawberry leaves/Calciumdeficiency/907.jpg  \n",
            "  inflating: dataset - strawberry leaves/Calciumdeficiency/908.jpg  \n",
            "  inflating: dataset - strawberry leaves/Calciumdeficiency/909.jpg  \n",
            "  inflating: dataset - strawberry leaves/Calciumdeficiency/91.jpg  \n",
            "  inflating: dataset - strawberry leaves/Calciumdeficiency/910.jpg  \n",
            "  inflating: dataset - strawberry leaves/Calciumdeficiency/911.jpg  \n",
            "  inflating: dataset - strawberry leaves/Calciumdeficiency/912.jpg  \n",
            "  inflating: dataset - strawberry leaves/Calciumdeficiency/913.jpg  \n",
            "  inflating: dataset - strawberry leaves/Calciumdeficiency/914.jpg  \n",
            "  inflating: dataset - strawberry leaves/Calciumdeficiency/915.jpg  \n",
            "  inflating: dataset - strawberry leaves/Calciumdeficiency/916.jpg  \n",
            "  inflating: dataset - strawberry leaves/Calciumdeficiency/917.jpg  \n",
            "  inflating: dataset - strawberry leaves/Calciumdeficiency/918.jpg  \n",
            "  inflating: dataset - strawberry leaves/Calciumdeficiency/919.jpg  \n",
            "  inflating: dataset - strawberry leaves/Calciumdeficiency/92.jpg  \n",
            "  inflating: dataset - strawberry leaves/Calciumdeficiency/920.jpg  \n",
            "  inflating: dataset - strawberry leaves/Calciumdeficiency/921.jpg  \n",
            "  inflating: dataset - strawberry leaves/Calciumdeficiency/922.jpg  \n",
            "  inflating: dataset - strawberry leaves/Calciumdeficiency/923.jpg  \n",
            "  inflating: dataset - strawberry leaves/Calciumdeficiency/924.jpg  \n",
            "  inflating: dataset - strawberry leaves/Calciumdeficiency/925.jpg  \n",
            "  inflating: dataset - strawberry leaves/Calciumdeficiency/926.jpg  \n",
            "  inflating: dataset - strawberry leaves/Calciumdeficiency/927.jpg  \n",
            "  inflating: dataset - strawberry leaves/Calciumdeficiency/928.jpg  \n",
            "  inflating: dataset - strawberry leaves/Calciumdeficiency/929.jpg  \n",
            "  inflating: dataset - strawberry leaves/Calciumdeficiency/93.jpg  \n",
            "  inflating: dataset - strawberry leaves/Calciumdeficiency/930.jpg  \n",
            "  inflating: dataset - strawberry leaves/Calciumdeficiency/931.jpg  \n",
            "  inflating: dataset - strawberry leaves/Calciumdeficiency/932.jpg  \n",
            "  inflating: dataset - strawberry leaves/Calciumdeficiency/933.jpg  \n",
            "  inflating: dataset - strawberry leaves/Calciumdeficiency/934.jpg  \n",
            "  inflating: dataset - strawberry leaves/Calciumdeficiency/935.jpg  \n",
            "  inflating: dataset - strawberry leaves/Calciumdeficiency/936.jpg  \n",
            "  inflating: dataset - strawberry leaves/Calciumdeficiency/937.jpg  \n",
            "  inflating: dataset - strawberry leaves/Calciumdeficiency/938.jpg  \n",
            "  inflating: dataset - strawberry leaves/Calciumdeficiency/939.jpg  \n",
            "  inflating: dataset - strawberry leaves/Calciumdeficiency/94.jpg  \n",
            "  inflating: dataset - strawberry leaves/Calciumdeficiency/940.jpg  \n",
            "  inflating: dataset - strawberry leaves/Calciumdeficiency/941.jpg  \n",
            "  inflating: dataset - strawberry leaves/Calciumdeficiency/942.jpg  \n",
            "  inflating: dataset - strawberry leaves/Calciumdeficiency/943.jpg  \n",
            "  inflating: dataset - strawberry leaves/Calciumdeficiency/944.jpg  \n",
            "  inflating: dataset - strawberry leaves/Calciumdeficiency/945.jpg  \n",
            "  inflating: dataset - strawberry leaves/Calciumdeficiency/946.jpg  \n",
            "  inflating: dataset - strawberry leaves/Calciumdeficiency/947.jpg  \n",
            "  inflating: dataset - strawberry leaves/Calciumdeficiency/948.jpg  \n",
            "  inflating: dataset - strawberry leaves/Calciumdeficiency/949.jpg  \n",
            "  inflating: dataset - strawberry leaves/Calciumdeficiency/95.jpg  \n",
            "  inflating: dataset - strawberry leaves/Calciumdeficiency/950.jpg  \n",
            "  inflating: dataset - strawberry leaves/Calciumdeficiency/951.jpg  \n",
            "  inflating: dataset - strawberry leaves/Calciumdeficiency/952.jpg  \n",
            "  inflating: dataset - strawberry leaves/Calciumdeficiency/953.jpg  \n",
            "  inflating: dataset - strawberry leaves/Calciumdeficiency/954.jpg  \n",
            "  inflating: dataset - strawberry leaves/Calciumdeficiency/955.jpg  \n",
            "  inflating: dataset - strawberry leaves/Calciumdeficiency/956.jpg  \n",
            "  inflating: dataset - strawberry leaves/Calciumdeficiency/957.jpg  \n",
            "  inflating: dataset - strawberry leaves/Calciumdeficiency/958.jpg  \n",
            "  inflating: dataset - strawberry leaves/Calciumdeficiency/959.jpg  \n",
            "  inflating: dataset - strawberry leaves/Calciumdeficiency/96.jpg  \n",
            "  inflating: dataset - strawberry leaves/Calciumdeficiency/960.jpg  \n",
            "  inflating: dataset - strawberry leaves/Calciumdeficiency/961.jpg  \n",
            "  inflating: dataset - strawberry leaves/Calciumdeficiency/963.jpg  \n",
            "  inflating: dataset - strawberry leaves/Calciumdeficiency/965.jpg  \n",
            "  inflating: dataset - strawberry leaves/Calciumdeficiency/966.jpg  \n",
            "  inflating: dataset - strawberry leaves/Calciumdeficiency/969.jpg  \n",
            "  inflating: dataset - strawberry leaves/Calciumdeficiency/97.jpg  \n",
            "  inflating: dataset - strawberry leaves/Calciumdeficiency/970.jpg  \n",
            "  inflating: dataset - strawberry leaves/Calciumdeficiency/971.jpg  \n",
            "  inflating: dataset - strawberry leaves/Calciumdeficiency/972.jpg  \n",
            "  inflating: dataset - strawberry leaves/Calciumdeficiency/973.jpg  \n",
            "  inflating: dataset - strawberry leaves/Calciumdeficiency/974.jpg  \n",
            "  inflating: dataset - strawberry leaves/Calciumdeficiency/975.jpg  \n",
            "  inflating: dataset - strawberry leaves/Calciumdeficiency/976.jpg  \n",
            "  inflating: dataset - strawberry leaves/Calciumdeficiency/977.jpg  \n",
            "  inflating: dataset - strawberry leaves/Calciumdeficiency/978.jpg  \n",
            "  inflating: dataset - strawberry leaves/Calciumdeficiency/979.jpg  \n",
            "  inflating: dataset - strawberry leaves/Calciumdeficiency/98.jpg  \n",
            "  inflating: dataset - strawberry leaves/Calciumdeficiency/980.jpg  \n",
            "  inflating: dataset - strawberry leaves/Calciumdeficiency/982.jpg  \n",
            "  inflating: dataset - strawberry leaves/Calciumdeficiency/983.jpg  \n",
            "  inflating: dataset - strawberry leaves/Calciumdeficiency/984.jpg  \n",
            "  inflating: dataset - strawberry leaves/Calciumdeficiency/985.jpg  \n",
            "  inflating: dataset - strawberry leaves/Calciumdeficiency/986.jpg  \n",
            "  inflating: dataset - strawberry leaves/Calciumdeficiency/987.jpg  \n",
            "  inflating: dataset - strawberry leaves/Calciumdeficiency/988.jpg  \n",
            "  inflating: dataset - strawberry leaves/Calciumdeficiency/989.jpg  \n",
            "  inflating: dataset - strawberry leaves/Calciumdeficiency/99.jpg  \n",
            "  inflating: dataset - strawberry leaves/Calciumdeficiency/990.jpg  \n",
            "  inflating: dataset - strawberry leaves/Calciumdeficiency/991.jpg  \n",
            "  inflating: dataset - strawberry leaves/Calciumdeficiency/992.jpg  \n",
            "  inflating: dataset - strawberry leaves/Calciumdeficiency/993.jpg  \n",
            "  inflating: dataset - strawberry leaves/Calciumdeficiency/994.jpg  \n",
            "  inflating: dataset - strawberry leaves/Calciumdeficiency/995.jpg  \n",
            "  inflating: dataset - strawberry leaves/Calciumdeficiency/996.jpg  \n",
            "  inflating: dataset - strawberry leaves/Calciumdeficiency/997.jpg  \n",
            "  inflating: dataset - strawberry leaves/Calciumdeficiency/999.jpg  \n",
            "  inflating: dataset - strawberry leaves/dataset readme.txt  \n",
            "  inflating: dataset - strawberry leaves/dataset_information.xlsx  \n",
            "  inflating: dataset - strawberry leaves/healthy/1003.jpg  \n",
            "  inflating: dataset - strawberry leaves/healthy/1004.jpg  \n",
            "  inflating: dataset - strawberry leaves/healthy/1007.jpg  \n",
            "  inflating: dataset - strawberry leaves/healthy/1014.jpg  \n",
            "  inflating: dataset - strawberry leaves/healthy/1016.jpg  \n",
            "  inflating: dataset - strawberry leaves/healthy/1032.jpg  \n",
            "  inflating: dataset - strawberry leaves/healthy/1033.jpg  \n",
            "  inflating: dataset - strawberry leaves/healthy/1079.jpg  \n",
            "  inflating: dataset - strawberry leaves/healthy/1081.jpg  \n",
            "  inflating: dataset - strawberry leaves/healthy/1082.jpg  \n",
            "  inflating: dataset - strawberry leaves/healthy/1084.jpg  \n",
            "  inflating: dataset - strawberry leaves/healthy/1085.jpg  \n",
            "  inflating: dataset - strawberry leaves/healthy/1086.jpg  \n",
            "  inflating: dataset - strawberry leaves/healthy/1087.jpg  \n",
            "  inflating: dataset - strawberry leaves/healthy/1088.jpg  \n",
            "  inflating: dataset - strawberry leaves/healthy/1089.jpg  \n",
            "  inflating: dataset - strawberry leaves/healthy/1090.jpg  \n",
            "  inflating: dataset - strawberry leaves/healthy/1091.jpg  \n",
            "  inflating: dataset - strawberry leaves/healthy/1112.jpg  \n",
            "  inflating: dataset - strawberry leaves/healthy/1147.jpg  \n",
            "  inflating: dataset - strawberry leaves/healthy/1170.jpg  \n",
            "  inflating: dataset - strawberry leaves/healthy/1178.jpg  \n",
            "  inflating: dataset - strawberry leaves/healthy/1184.jpg  \n",
            "  inflating: dataset - strawberry leaves/healthy/1190.jpg  \n",
            "  inflating: dataset - strawberry leaves/healthy/1191.jpg  \n",
            "  inflating: dataset - strawberry leaves/healthy/1192.jpg  \n",
            "  inflating: dataset - strawberry leaves/healthy/1193.jpg  \n",
            "  inflating: dataset - strawberry leaves/healthy/1194.jpg  \n",
            "  inflating: dataset - strawberry leaves/healthy/1195.jpg  \n",
            "  inflating: dataset - strawberry leaves/healthy/1196.jpg  \n",
            "  inflating: dataset - strawberry leaves/healthy/1197.jpg  \n",
            "  inflating: dataset - strawberry leaves/healthy/1198.jpg  \n",
            "  inflating: dataset - strawberry leaves/healthy/1199.jpg  \n",
            "  inflating: dataset - strawberry leaves/healthy/1200.jpg  \n",
            "  inflating: dataset - strawberry leaves/healthy/1201.jpg  \n",
            "  inflating: dataset - strawberry leaves/healthy/1202.jpg  \n",
            "  inflating: dataset - strawberry leaves/healthy/1203.jpg  \n",
            "  inflating: dataset - strawberry leaves/healthy/1204.jpg  \n",
            "  inflating: dataset - strawberry leaves/healthy/1205.jpg  \n",
            "  inflating: dataset - strawberry leaves/healthy/1206.jpg  \n",
            "  inflating: dataset - strawberry leaves/healthy/1207.jpg  \n",
            "  inflating: dataset - strawberry leaves/healthy/1208.jpg  \n",
            "  inflating: dataset - strawberry leaves/healthy/1209.jpg  \n",
            "  inflating: dataset - strawberry leaves/healthy/1210.jpg  \n",
            "  inflating: dataset - strawberry leaves/healthy/1211.jpg  \n",
            "  inflating: dataset - strawberry leaves/healthy/1212.jpg  \n",
            "  inflating: dataset - strawberry leaves/healthy/1213.jpg  \n",
            "  inflating: dataset - strawberry leaves/healthy/1214.jpg  \n",
            "  inflating: dataset - strawberry leaves/healthy/1215.jpg  \n",
            "  inflating: dataset - strawberry leaves/healthy/1216.jpg  \n",
            "  inflating: dataset - strawberry leaves/healthy/1217.jpg  \n",
            "  inflating: dataset - strawberry leaves/healthy/1218.jpg  \n",
            "  inflating: dataset - strawberry leaves/healthy/1219.jpg  \n",
            "  inflating: dataset - strawberry leaves/healthy/1220.jpg  \n",
            "  inflating: dataset - strawberry leaves/healthy/1221.jpg  \n",
            "  inflating: dataset - strawberry leaves/healthy/1222.jpg  \n",
            "  inflating: dataset - strawberry leaves/healthy/1223.jpg  \n",
            "  inflating: dataset - strawberry leaves/healthy/1224.jpg  \n",
            "  inflating: dataset - strawberry leaves/healthy/1225.jpg  \n",
            "  inflating: dataset - strawberry leaves/healthy/1226.jpg  \n",
            "  inflating: dataset - strawberry leaves/healthy/1227.jpg  \n",
            "  inflating: dataset - strawberry leaves/healthy/1228.jpg  \n",
            "  inflating: dataset - strawberry leaves/healthy/1229.jpg  \n",
            "  inflating: dataset - strawberry leaves/healthy/1230.jpg  \n",
            "  inflating: dataset - strawberry leaves/healthy/1231.jpg  \n",
            "  inflating: dataset - strawberry leaves/healthy/1232.jpg  \n",
            "  inflating: dataset - strawberry leaves/healthy/1233.jpg  \n",
            "  inflating: dataset - strawberry leaves/healthy/1234.jpg  \n",
            "  inflating: dataset - strawberry leaves/healthy/1235.jpg  \n",
            "  inflating: dataset - strawberry leaves/healthy/1236.jpg  \n",
            "  inflating: dataset - strawberry leaves/healthy/1237.jpg  \n",
            "  inflating: dataset - strawberry leaves/healthy/1238.jpg  \n",
            "  inflating: dataset - strawberry leaves/healthy/1239.jpg  \n",
            "  inflating: dataset - strawberry leaves/healthy/1240.jpg  \n",
            "  inflating: dataset - strawberry leaves/healthy/1241.jpg  \n",
            "  inflating: dataset - strawberry leaves/healthy/1242.jpg  \n",
            "  inflating: dataset - strawberry leaves/healthy/1243.jpg  \n",
            "  inflating: dataset - strawberry leaves/healthy/1244.jpg  \n",
            "  inflating: dataset - strawberry leaves/healthy/1245.jpg  \n",
            "  inflating: dataset - strawberry leaves/healthy/1246.jpg  \n",
            "  inflating: dataset - strawberry leaves/healthy/1247.jpg  \n",
            "  inflating: dataset - strawberry leaves/healthy/1248.jpg  \n",
            "  inflating: dataset - strawberry leaves/healthy/1249.jpg  \n",
            "  inflating: dataset - strawberry leaves/healthy/1250.jpg  \n",
            "  inflating: dataset - strawberry leaves/healthy/1251.jpg  \n",
            "  inflating: dataset - strawberry leaves/healthy/1252.jpg  \n",
            "  inflating: dataset - strawberry leaves/healthy/1253.jpg  \n",
            "  inflating: dataset - strawberry leaves/healthy/1254.jpg  \n",
            "  inflating: dataset - strawberry leaves/healthy/1255.jpg  \n",
            "  inflating: dataset - strawberry leaves/healthy/1256.jpg  \n",
            "  inflating: dataset - strawberry leaves/healthy/1257.jpg  \n",
            "  inflating: dataset - strawberry leaves/healthy/1258.jpg  \n",
            "  inflating: dataset - strawberry leaves/healthy/1259.jpg  \n",
            "  inflating: dataset - strawberry leaves/healthy/1260.jpg  \n",
            "  inflating: dataset - strawberry leaves/healthy/1261.jpg  \n",
            "  inflating: dataset - strawberry leaves/healthy/1262.jpg  \n",
            "  inflating: dataset - strawberry leaves/healthy/1263.jpg  \n",
            "  inflating: dataset - strawberry leaves/healthy/1264.jpg  \n",
            "  inflating: dataset - strawberry leaves/healthy/1265.jpg  \n",
            "  inflating: dataset - strawberry leaves/healthy/1266.jpg  \n",
            "  inflating: dataset - strawberry leaves/healthy/1267.jpg  \n",
            "  inflating: dataset - strawberry leaves/healthy/1268.jpg  \n",
            "  inflating: dataset - strawberry leaves/healthy/1269.jpg  \n",
            "  inflating: dataset - strawberry leaves/healthy/1270.jpg  \n",
            "  inflating: dataset - strawberry leaves/healthy/1271.jpg  \n",
            "  inflating: dataset - strawberry leaves/healthy/1272.jpg  \n",
            "  inflating: dataset - strawberry leaves/healthy/1273.jpg  \n",
            "  inflating: dataset - strawberry leaves/healthy/1274.jpg  \n",
            "  inflating: dataset - strawberry leaves/healthy/1275.jpg  \n",
            "  inflating: dataset - strawberry leaves/healthy/1276.jpg  \n",
            "  inflating: dataset - strawberry leaves/healthy/1277.jpg  \n",
            "  inflating: dataset - strawberry leaves/healthy/1278.jpg  \n",
            "  inflating: dataset - strawberry leaves/healthy/1279.jpg  \n",
            "  inflating: dataset - strawberry leaves/healthy/1280.jpg  \n",
            "  inflating: dataset - strawberry leaves/healthy/1281.jpg  \n",
            "  inflating: dataset - strawberry leaves/healthy/1282.jpg  \n",
            "  inflating: dataset - strawberry leaves/healthy/1283.jpg  \n",
            "  inflating: dataset - strawberry leaves/healthy/1284.jpg  \n",
            "  inflating: dataset - strawberry leaves/healthy/1285.jpg  \n",
            "  inflating: dataset - strawberry leaves/healthy/1286.jpg  \n",
            "  inflating: dataset - strawberry leaves/healthy/1287.jpg  \n",
            "  inflating: dataset - strawberry leaves/healthy/1288.jpg  \n",
            "  inflating: dataset - strawberry leaves/healthy/1289.jpg  \n",
            "  inflating: dataset - strawberry leaves/healthy/1290.jpg  \n",
            "  inflating: dataset - strawberry leaves/healthy/1291.jpg  \n",
            "  inflating: dataset - strawberry leaves/healthy/1292.jpg  \n",
            "  inflating: dataset - strawberry leaves/healthy/1293.jpg  \n",
            "  inflating: dataset - strawberry leaves/healthy/1294.jpg  \n",
            "  inflating: dataset - strawberry leaves/healthy/1295.jpg  \n",
            "  inflating: dataset - strawberry leaves/healthy/1296.jpg  \n",
            "  inflating: dataset - strawberry leaves/healthy/1297.jpg  \n",
            "  inflating: dataset - strawberry leaves/healthy/1298.jpg  \n",
            "  inflating: dataset - strawberry leaves/healthy/1299.jpg  \n",
            "  inflating: dataset - strawberry leaves/healthy/1300.jpg  \n",
            "  inflating: dataset - strawberry leaves/healthy/1301.jpg  \n",
            "  inflating: dataset - strawberry leaves/healthy/1302.jpg  \n",
            "  inflating: dataset - strawberry leaves/healthy/1303.jpg  \n",
            "  inflating: dataset - strawberry leaves/healthy/1304.jpg  \n",
            "  inflating: dataset - strawberry leaves/healthy/1305.jpg  \n",
            "  inflating: dataset - strawberry leaves/healthy/1306.jpg  \n",
            "  inflating: dataset - strawberry leaves/healthy/1307.jpg  \n",
            "  inflating: dataset - strawberry leaves/healthy/1308.jpg  \n",
            "  inflating: dataset - strawberry leaves/healthy/1309.jpg  \n",
            "  inflating: dataset - strawberry leaves/healthy/1310.jpg  \n",
            "  inflating: dataset - strawberry leaves/healthy/1311.jpg  \n",
            "  inflating: dataset - strawberry leaves/healthy/1312.jpg  \n",
            "  inflating: dataset - strawberry leaves/healthy/1313.jpg  \n",
            "  inflating: dataset - strawberry leaves/healthy/1314.jpg  \n",
            "  inflating: dataset - strawberry leaves/healthy/1315.jpg  \n",
            "  inflating: dataset - strawberry leaves/healthy/1316.jpg  \n",
            "  inflating: dataset - strawberry leaves/healthy/1317.jpg  \n",
            "  inflating: dataset - strawberry leaves/healthy/1318.jpg  \n",
            "  inflating: dataset - strawberry leaves/healthy/1319.jpg  \n",
            "  inflating: dataset - strawberry leaves/healthy/1320.jpg  \n",
            "  inflating: dataset - strawberry leaves/healthy/1321.jpg  \n",
            "  inflating: dataset - strawberry leaves/healthy/1322.jpg  \n",
            "  inflating: dataset - strawberry leaves/healthy/1323.jpg  \n",
            "  inflating: dataset - strawberry leaves/healthy/1324.jpg  \n",
            "  inflating: dataset - strawberry leaves/healthy/1325.jpg  \n",
            "  inflating: dataset - strawberry leaves/healthy/1326.jpg  \n",
            "  inflating: dataset - strawberry leaves/healthy/1327.jpg  \n",
            "  inflating: dataset - strawberry leaves/healthy/1328.jpg  \n",
            "  inflating: dataset - strawberry leaves/healthy/1329.jpg  \n",
            "  inflating: dataset - strawberry leaves/healthy/1330.jpg  \n",
            "  inflating: dataset - strawberry leaves/healthy/1331.jpg  \n",
            "  inflating: dataset - strawberry leaves/healthy/1332.jpg  \n",
            "  inflating: dataset - strawberry leaves/healthy/1333.jpg  \n",
            "  inflating: dataset - strawberry leaves/healthy/1334.jpg  \n",
            "  inflating: dataset - strawberry leaves/healthy/1335.jpg  \n",
            "  inflating: dataset - strawberry leaves/healthy/1336.jpg  \n",
            "  inflating: dataset - strawberry leaves/healthy/1337.jpg  \n",
            "  inflating: dataset - strawberry leaves/healthy/1338.jpg  \n",
            "  inflating: dataset - strawberry leaves/healthy/1339.jpg  \n",
            "  inflating: dataset - strawberry leaves/healthy/1340.jpg  \n",
            "  inflating: dataset - strawberry leaves/healthy/1341.jpg  \n",
            "  inflating: dataset - strawberry leaves/healthy/1342.jpg  \n",
            "  inflating: dataset - strawberry leaves/healthy/1343.jpg  \n",
            "  inflating: dataset - strawberry leaves/healthy/1344.jpg  \n",
            "  inflating: dataset - strawberry leaves/healthy/1345.jpg  \n",
            "  inflating: dataset - strawberry leaves/healthy/1346.jpg  \n",
            "  inflating: dataset - strawberry leaves/healthy/1347.jpg  \n",
            "  inflating: dataset - strawberry leaves/healthy/1348.jpg  \n",
            "  inflating: dataset - strawberry leaves/healthy/1349.jpg  \n",
            "  inflating: dataset - strawberry leaves/healthy/1350.jpg  \n",
            "  inflating: dataset - strawberry leaves/healthy/1351.jpg  \n",
            "  inflating: dataset - strawberry leaves/healthy/1352.jpg  \n",
            "  inflating: dataset - strawberry leaves/healthy/1353.jpg  \n",
            "  inflating: dataset - strawberry leaves/healthy/1354.jpg  \n",
            "  inflating: dataset - strawberry leaves/healthy/1355.jpg  \n",
            "  inflating: dataset - strawberry leaves/healthy/1356.jpg  \n",
            "  inflating: dataset - strawberry leaves/healthy/1357.jpg  \n",
            "  inflating: dataset - strawberry leaves/healthy/1358.jpg  \n",
            "  inflating: dataset - strawberry leaves/healthy/1359.jpg  \n",
            "  inflating: dataset - strawberry leaves/healthy/1360.jpg  \n",
            "  inflating: dataset - strawberry leaves/healthy/1361.jpg  \n",
            "  inflating: dataset - strawberry leaves/healthy/1362.jpg  \n",
            "  inflating: dataset - strawberry leaves/healthy/1363.jpg  \n",
            "  inflating: dataset - strawberry leaves/healthy/1364.jpg  \n",
            "  inflating: dataset - strawberry leaves/healthy/1365.jpg  \n",
            "  inflating: dataset - strawberry leaves/healthy/1366.jpg  \n",
            "  inflating: dataset - strawberry leaves/healthy/1367.jpg  \n",
            "  inflating: dataset - strawberry leaves/healthy/1368.jpg  \n",
            "  inflating: dataset - strawberry leaves/healthy/1369.jpg  \n",
            "  inflating: dataset - strawberry leaves/healthy/1370.jpg  \n",
            "  inflating: dataset - strawberry leaves/healthy/1371.jpg  \n",
            "  inflating: dataset - strawberry leaves/healthy/1372.jpg  \n",
            "  inflating: dataset - strawberry leaves/healthy/1373.jpg  \n",
            "  inflating: dataset - strawberry leaves/healthy/1374.jpg  \n",
            "  inflating: dataset - strawberry leaves/healthy/1375.jpg  \n",
            "  inflating: dataset - strawberry leaves/healthy/1376.jpg  \n",
            "  inflating: dataset - strawberry leaves/healthy/1377.jpg  \n",
            "  inflating: dataset - strawberry leaves/healthy/1378.jpg  \n",
            "  inflating: dataset - strawberry leaves/healthy/1379.jpg  \n",
            "  inflating: dataset - strawberry leaves/healthy/1380.jpg  \n",
            "  inflating: dataset - strawberry leaves/healthy/1381.jpg  \n",
            "  inflating: dataset - strawberry leaves/healthy/1382.jpg  \n",
            "  inflating: dataset - strawberry leaves/healthy/1383.jpg  \n",
            "  inflating: dataset - strawberry leaves/healthy/1384.jpg  \n",
            "  inflating: dataset - strawberry leaves/healthy/1385.jpg  \n",
            "  inflating: dataset - strawberry leaves/healthy/1386.jpg  \n",
            "  inflating: dataset - strawberry leaves/healthy/1387.jpg  \n",
            "  inflating: dataset - strawberry leaves/healthy/1388.jpg  \n",
            "  inflating: dataset - strawberry leaves/healthy/1389.jpg  \n",
            "  inflating: dataset - strawberry leaves/healthy/1390.jpg  \n",
            "  inflating: dataset - strawberry leaves/healthy/1391.jpg  \n",
            "  inflating: dataset - strawberry leaves/healthy/1392.jpg  \n",
            "  inflating: dataset - strawberry leaves/healthy/1393.jpg  \n",
            "  inflating: dataset - strawberry leaves/healthy/1394.jpg  \n",
            "  inflating: dataset - strawberry leaves/healthy/1395.jpg  \n",
            "  inflating: dataset - strawberry leaves/healthy/1396.jpg  \n",
            "  inflating: dataset - strawberry leaves/healthy/1397.jpg  \n",
            "  inflating: dataset - strawberry leaves/healthy/1398.jpg  \n",
            "  inflating: dataset - strawberry leaves/healthy/1399.jpg  \n",
            "  inflating: dataset - strawberry leaves/healthy/1400.jpg  \n",
            "  inflating: dataset - strawberry leaves/healthy/1401.jpg  \n",
            "  inflating: dataset - strawberry leaves/healthy/1402.jpg  \n",
            "  inflating: dataset - strawberry leaves/healthy/1403.jpg  \n",
            "  inflating: dataset - strawberry leaves/healthy/1404.jpg  \n",
            "  inflating: dataset - strawberry leaves/healthy/1405.jpg  \n",
            "  inflating: dataset - strawberry leaves/healthy/1406.jpg  \n",
            "  inflating: dataset - strawberry leaves/healthy/1407.jpg  \n",
            "  inflating: dataset - strawberry leaves/healthy/1408.jpg  \n",
            "  inflating: dataset - strawberry leaves/healthy/1409.jpg  \n",
            "  inflating: dataset - strawberry leaves/healthy/1410.jpg  \n",
            "  inflating: dataset - strawberry leaves/healthy/1411.jpg  \n",
            "  inflating: dataset - strawberry leaves/healthy/1412.jpg  \n",
            "  inflating: dataset - strawberry leaves/healthy/1413.jpg  \n",
            "  inflating: dataset - strawberry leaves/healthy/1414.jpg  \n",
            "  inflating: dataset - strawberry leaves/healthy/1415.jpg  \n",
            "  inflating: dataset - strawberry leaves/healthy/1416.jpg  \n",
            "  inflating: dataset - strawberry leaves/healthy/1417.jpg  \n",
            "  inflating: dataset - strawberry leaves/healthy/1418.jpg  \n",
            "  inflating: dataset - strawberry leaves/healthy/1419.jpg  \n",
            "  inflating: dataset - strawberry leaves/healthy/1420.jpg  \n",
            "  inflating: dataset - strawberry leaves/healthy/1421.jpg  \n",
            "  inflating: dataset - strawberry leaves/healthy/1422.jpg  \n",
            "  inflating: dataset - strawberry leaves/healthy/1423.jpg  \n",
            "  inflating: dataset - strawberry leaves/healthy/1424.jpg  \n",
            "  inflating: dataset - strawberry leaves/healthy/1425.jpg  \n",
            "  inflating: dataset - strawberry leaves/healthy/1426.jpg  \n",
            "  inflating: dataset - strawberry leaves/healthy/1427.jpg  \n",
            "  inflating: dataset - strawberry leaves/healthy/1428.jpg  \n",
            "  inflating: dataset - strawberry leaves/healthy/1429.jpg  \n",
            "  inflating: dataset - strawberry leaves/healthy/1430.jpg  \n",
            "  inflating: dataset - strawberry leaves/healthy/1431.jpg  \n",
            "  inflating: dataset - strawberry leaves/healthy/214.jpg  \n",
            "  inflating: dataset - strawberry leaves/healthy/215.jpg  \n",
            "  inflating: dataset - strawberry leaves/healthy/216.jpg  \n",
            "  inflating: dataset - strawberry leaves/healthy/217.jpg  \n",
            "  inflating: dataset - strawberry leaves/healthy/232.jpg  \n",
            "  inflating: dataset - strawberry leaves/healthy/233.jpg  \n",
            "  inflating: dataset - strawberry leaves/healthy/234.jpg  \n",
            "  inflating: dataset - strawberry leaves/healthy/235.jpg  \n",
            "  inflating: dataset - strawberry leaves/healthy/236.jpg  \n",
            "  inflating: dataset - strawberry leaves/healthy/237.jpg  \n",
            "  inflating: dataset - strawberry leaves/healthy/240.jpg  \n",
            "  inflating: dataset - strawberry leaves/healthy/241.jpg  \n",
            "  inflating: dataset - strawberry leaves/healthy/242.jpg  \n",
            "  inflating: dataset - strawberry leaves/healthy/243.jpg  \n",
            "  inflating: dataset - strawberry leaves/healthy/244.jpg  \n",
            "  inflating: dataset - strawberry leaves/healthy/245.jpg  \n",
            "  inflating: dataset - strawberry leaves/healthy/246.jpg  \n",
            "  inflating: dataset - strawberry leaves/healthy/249.jpg  \n",
            "  inflating: dataset - strawberry leaves/healthy/250.jpg  \n",
            "  inflating: dataset - strawberry leaves/healthy/251.jpg  \n",
            "  inflating: dataset - strawberry leaves/healthy/252.jpg  \n",
            "  inflating: dataset - strawberry leaves/healthy/253.jpg  \n",
            "  inflating: dataset - strawberry leaves/healthy/258.jpg  \n",
            "  inflating: dataset - strawberry leaves/healthy/270.jpg  \n",
            "  inflating: dataset - strawberry leaves/healthy/271.jpg  \n",
            "  inflating: dataset - strawberry leaves/healthy/272.jpg  \n",
            "  inflating: dataset - strawberry leaves/healthy/273.jpg  \n",
            "  inflating: dataset - strawberry leaves/healthy/274.jpg  \n",
            "  inflating: dataset - strawberry leaves/healthy/275.jpg  \n",
            "  inflating: dataset - strawberry leaves/healthy/276.jpg  \n",
            "  inflating: dataset - strawberry leaves/healthy/279.jpg  \n",
            "  inflating: dataset - strawberry leaves/healthy/280.jpg  \n",
            "  inflating: dataset - strawberry leaves/healthy/281.jpg  \n",
            "  inflating: dataset - strawberry leaves/healthy/282.jpg  \n",
            "  inflating: dataset - strawberry leaves/healthy/285.jpg  \n",
            "  inflating: dataset - strawberry leaves/healthy/286.jpg  \n",
            "  inflating: dataset - strawberry leaves/healthy/287.jpg  \n",
            "  inflating: dataset - strawberry leaves/healthy/288.jpg  \n",
            "  inflating: dataset - strawberry leaves/healthy/289.jpg  \n",
            "  inflating: dataset - strawberry leaves/healthy/290.jpg  \n",
            "  inflating: dataset - strawberry leaves/healthy/291.jpg  \n",
            "  inflating: dataset - strawberry leaves/healthy/293.jpg  \n",
            "  inflating: dataset - strawberry leaves/healthy/294.jpg  \n",
            "  inflating: dataset - strawberry leaves/healthy/295.jpg  \n",
            "  inflating: dataset - strawberry leaves/healthy/296.jpg  \n",
            "  inflating: dataset - strawberry leaves/healthy/297.jpg  \n",
            "  inflating: dataset - strawberry leaves/healthy/298.jpg  \n",
            "  inflating: dataset - strawberry leaves/healthy/301.jpg  \n",
            "  inflating: dataset - strawberry leaves/healthy/302.jpg  \n",
            "  inflating: dataset - strawberry leaves/healthy/303.jpg  \n",
            "  inflating: dataset - strawberry leaves/healthy/304.jpg  \n",
            "  inflating: dataset - strawberry leaves/healthy/305.jpg  \n",
            "  inflating: dataset - strawberry leaves/healthy/306.jpg  \n",
            "  inflating: dataset - strawberry leaves/healthy/307.jpg  \n",
            "  inflating: dataset - strawberry leaves/healthy/308.jpg  \n",
            "  inflating: dataset - strawberry leaves/healthy/310.jpg  \n",
            "  inflating: dataset - strawberry leaves/healthy/311.jpg  \n",
            "  inflating: dataset - strawberry leaves/healthy/312.jpg  \n",
            "  inflating: dataset - strawberry leaves/healthy/313.jpg  \n",
            "  inflating: dataset - strawberry leaves/healthy/314.jpg  \n",
            "  inflating: dataset - strawberry leaves/healthy/315.jpg  \n",
            "  inflating: dataset - strawberry leaves/healthy/316.jpg  \n",
            "  inflating: dataset - strawberry leaves/healthy/317.jpg  \n",
            "  inflating: dataset - strawberry leaves/healthy/318.jpg  \n",
            "  inflating: dataset - strawberry leaves/healthy/319.jpg  \n",
            "  inflating: dataset - strawberry leaves/healthy/320.jpg  \n",
            "  inflating: dataset - strawberry leaves/healthy/321.jpg  \n",
            "  inflating: dataset - strawberry leaves/healthy/322.jpg  \n",
            "  inflating: dataset - strawberry leaves/healthy/323.jpg  \n",
            "  inflating: dataset - strawberry leaves/healthy/324.jpg  \n",
            "  inflating: dataset - strawberry leaves/healthy/325.jpg  \n",
            "  inflating: dataset - strawberry leaves/healthy/326.jpg  \n",
            "  inflating: dataset - strawberry leaves/healthy/327.jpg  \n",
            "  inflating: dataset - strawberry leaves/healthy/328.jpg  \n",
            "  inflating: dataset - strawberry leaves/healthy/332.jpg  \n",
            "  inflating: dataset - strawberry leaves/healthy/333.jpg  \n",
            "  inflating: dataset - strawberry leaves/healthy/334.jpg  \n",
            "  inflating: dataset - strawberry leaves/healthy/335.jpg  \n",
            "  inflating: dataset - strawberry leaves/healthy/336.jpg  \n",
            "  inflating: dataset - strawberry leaves/healthy/337.jpg  \n",
            "  inflating: dataset - strawberry leaves/healthy/338.jpg  \n",
            "  inflating: dataset - strawberry leaves/healthy/339.jpg  \n",
            "  inflating: dataset - strawberry leaves/healthy/340.jpg  \n",
            "  inflating: dataset - strawberry leaves/healthy/341.jpg  \n",
            "  inflating: dataset - strawberry leaves/healthy/342.jpg  \n",
            "  inflating: dataset - strawberry leaves/healthy/343.jpg  \n",
            "  inflating: dataset - strawberry leaves/healthy/345.jpg  \n",
            "  inflating: dataset - strawberry leaves/healthy/346.jpg  \n",
            "  inflating: dataset - strawberry leaves/healthy/347.jpg  \n",
            "  inflating: dataset - strawberry leaves/healthy/348.jpg  \n",
            "  inflating: dataset - strawberry leaves/healthy/349.jpg  \n",
            "  inflating: dataset - strawberry leaves/healthy/350.jpg  \n",
            "  inflating: dataset - strawberry leaves/healthy/352.jpg  \n",
            "  inflating: dataset - strawberry leaves/healthy/353.jpg  \n",
            "  inflating: dataset - strawberry leaves/healthy/354.jpg  \n",
            "  inflating: dataset - strawberry leaves/healthy/355.jpg  \n",
            "  inflating: dataset - strawberry leaves/healthy/358.jpg  \n",
            "  inflating: dataset - strawberry leaves/healthy/359.jpg  \n",
            "  inflating: dataset - strawberry leaves/healthy/360.jpg  \n",
            "  inflating: dataset - strawberry leaves/healthy/361.jpg  \n",
            "  inflating: dataset - strawberry leaves/healthy/362.jpg  \n",
            "  inflating: dataset - strawberry leaves/healthy/363.jpg  \n",
            "  inflating: dataset - strawberry leaves/healthy/364.jpg  \n",
            "  inflating: dataset - strawberry leaves/healthy/365.jpg  \n",
            "  inflating: dataset - strawberry leaves/healthy/366.jpg  \n",
            "  inflating: dataset - strawberry leaves/healthy/367.jpg  \n",
            "  inflating: dataset - strawberry leaves/healthy/368.jpg  \n",
            "  inflating: dataset - strawberry leaves/healthy/369.jpg  \n",
            "  inflating: dataset - strawberry leaves/healthy/370.jpg  \n",
            "  inflating: dataset - strawberry leaves/healthy/371.jpg  \n",
            "  inflating: dataset - strawberry leaves/healthy/372.jpg  \n",
            "  inflating: dataset - strawberry leaves/healthy/373.jpg  \n",
            "  inflating: dataset - strawberry leaves/healthy/374.jpg  \n",
            "  inflating: dataset - strawberry leaves/healthy/375.jpg  \n",
            "  inflating: dataset - strawberry leaves/healthy/376.jpg  \n",
            "  inflating: dataset - strawberry leaves/healthy/377.jpg  \n",
            "  inflating: dataset - strawberry leaves/healthy/378.jpg  \n",
            "  inflating: dataset - strawberry leaves/healthy/379.jpg  \n",
            "  inflating: dataset - strawberry leaves/healthy/380.jpg  \n",
            "  inflating: dataset - strawberry leaves/healthy/381.jpg  \n",
            "  inflating: dataset - strawberry leaves/healthy/382.jpg  \n",
            "  inflating: dataset - strawberry leaves/healthy/383.jpg  \n",
            "  inflating: dataset - strawberry leaves/healthy/384.jpg  \n",
            "  inflating: dataset - strawberry leaves/healthy/385.jpg  \n",
            "  inflating: dataset - strawberry leaves/healthy/386.jpg  \n",
            "  inflating: dataset - strawberry leaves/healthy/387.jpg  \n",
            "  inflating: dataset - strawberry leaves/healthy/388.jpg  \n",
            "  inflating: dataset - strawberry leaves/healthy/389.jpg  \n",
            "  inflating: dataset - strawberry leaves/healthy/390.jpg  \n",
            "  inflating: dataset - strawberry leaves/healthy/391.jpg  \n",
            "  inflating: dataset - strawberry leaves/healthy/392.jpg  \n",
            "  inflating: dataset - strawberry leaves/healthy/393.jpg  \n",
            "  inflating: dataset - strawberry leaves/healthy/394.jpg  \n",
            "  inflating: dataset - strawberry leaves/healthy/395.jpg  \n",
            "  inflating: dataset - strawberry leaves/healthy/396.jpg  \n",
            "  inflating: dataset - strawberry leaves/healthy/397.jpg  \n",
            "  inflating: dataset - strawberry leaves/healthy/398.jpg  \n",
            "  inflating: dataset - strawberry leaves/healthy/399.jpg  \n",
            "  inflating: dataset - strawberry leaves/healthy/400.jpg  \n",
            "  inflating: dataset - strawberry leaves/healthy/401.jpg  \n",
            "  inflating: dataset - strawberry leaves/healthy/402.jpg  \n",
            "  inflating: dataset - strawberry leaves/healthy/403.jpg  \n",
            "  inflating: dataset - strawberry leaves/healthy/404.jpg  \n",
            "  inflating: dataset - strawberry leaves/healthy/405.jpg  \n",
            "  inflating: dataset - strawberry leaves/healthy/406.jpg  \n",
            "  inflating: dataset - strawberry leaves/healthy/407.jpg  \n",
            "  inflating: dataset - strawberry leaves/healthy/408.jpg  \n",
            "  inflating: dataset - strawberry leaves/healthy/409.jpg  \n",
            "  inflating: dataset - strawberry leaves/healthy/410.jpg  \n",
            "  inflating: dataset - strawberry leaves/healthy/411.jpg  \n",
            "  inflating: dataset - strawberry leaves/healthy/412.jpg  \n",
            "  inflating: dataset - strawberry leaves/healthy/413.jpg  \n",
            "  inflating: dataset - strawberry leaves/healthy/414.jpg  \n",
            "  inflating: dataset - strawberry leaves/healthy/415.jpg  \n",
            "  inflating: dataset - strawberry leaves/healthy/416.jpg  \n",
            "  inflating: dataset - strawberry leaves/healthy/417.jpg  \n",
            "  inflating: dataset - strawberry leaves/healthy/418.jpg  \n",
            "  inflating: dataset - strawberry leaves/healthy/419.jpg  \n",
            "  inflating: dataset - strawberry leaves/healthy/420.jpg  \n",
            "  inflating: dataset - strawberry leaves/healthy/421.jpg  \n",
            "  inflating: dataset - strawberry leaves/healthy/422.jpg  \n",
            "  inflating: dataset - strawberry leaves/healthy/423.jpg  \n",
            "  inflating: dataset - strawberry leaves/healthy/424.jpg  \n",
            "  inflating: dataset - strawberry leaves/healthy/425.jpg  \n",
            "  inflating: dataset - strawberry leaves/healthy/426.jpg  \n",
            "  inflating: dataset - strawberry leaves/healthy/427.jpg  \n",
            "  inflating: dataset - strawberry leaves/healthy/428.jpg  \n",
            "  inflating: dataset - strawberry leaves/healthy/429.jpg  \n",
            "  inflating: dataset - strawberry leaves/healthy/430.jpg  \n",
            "  inflating: dataset - strawberry leaves/healthy/431.jpg  \n",
            "  inflating: dataset - strawberry leaves/healthy/432.jpg  \n",
            "  inflating: dataset - strawberry leaves/healthy/433.jpg  \n",
            "  inflating: dataset - strawberry leaves/healthy/434.jpg  \n",
            "  inflating: dataset - strawberry leaves/healthy/435.jpg  \n",
            "  inflating: dataset - strawberry leaves/healthy/436.jpg  \n",
            "  inflating: dataset - strawberry leaves/healthy/437.jpg  \n",
            "  inflating: dataset - strawberry leaves/healthy/438.jpg  \n",
            "  inflating: dataset - strawberry leaves/healthy/439.jpg  \n",
            "  inflating: dataset - strawberry leaves/healthy/440.jpg  \n",
            "  inflating: dataset - strawberry leaves/healthy/441.jpg  \n",
            "  inflating: dataset - strawberry leaves/healthy/442.jpg  \n",
            "  inflating: dataset - strawberry leaves/healthy/443.jpg  \n",
            "  inflating: dataset - strawberry leaves/healthy/444.jpg  \n",
            "  inflating: dataset - strawberry leaves/healthy/445.jpg  \n",
            "  inflating: dataset - strawberry leaves/healthy/446.jpg  \n",
            "  inflating: dataset - strawberry leaves/healthy/447.jpg  \n",
            "  inflating: dataset - strawberry leaves/healthy/448.jpg  \n",
            "  inflating: dataset - strawberry leaves/healthy/449.jpg  \n",
            "  inflating: dataset - strawberry leaves/healthy/450.jpg  \n",
            "  inflating: dataset - strawberry leaves/healthy/451.jpg  \n",
            "  inflating: dataset - strawberry leaves/healthy/452.jpg  \n",
            "  inflating: dataset - strawberry leaves/healthy/453.jpg  \n",
            "  inflating: dataset - strawberry leaves/healthy/454.jpg  \n",
            "  inflating: dataset - strawberry leaves/healthy/455.jpg  \n",
            "  inflating: dataset - strawberry leaves/healthy/456.jpg  \n",
            "  inflating: dataset - strawberry leaves/healthy/457.jpg  \n",
            "  inflating: dataset - strawberry leaves/healthy/458.jpg  \n",
            "  inflating: dataset - strawberry leaves/healthy/459.jpg  \n",
            "  inflating: dataset - strawberry leaves/healthy/460.jpg  \n",
            "  inflating: dataset - strawberry leaves/healthy/461.jpg  \n",
            "  inflating: dataset - strawberry leaves/healthy/462.jpg  \n",
            "  inflating: dataset - strawberry leaves/healthy/463.jpg  \n",
            "  inflating: dataset - strawberry leaves/healthy/464.jpg  \n",
            "  inflating: dataset - strawberry leaves/healthy/465.jpg  \n",
            "  inflating: dataset - strawberry leaves/healthy/466.jpg  \n",
            "  inflating: dataset - strawberry leaves/healthy/467.jpg  \n",
            "  inflating: dataset - strawberry leaves/healthy/468.jpg  \n",
            "  inflating: dataset - strawberry leaves/healthy/469.jpg  \n",
            "  inflating: dataset - strawberry leaves/healthy/470.jpg  \n",
            "  inflating: dataset - strawberry leaves/healthy/471.jpg  \n",
            "  inflating: dataset - strawberry leaves/healthy/472.jpg  \n",
            "  inflating: dataset - strawberry leaves/healthy/473.jpg  \n",
            "  inflating: dataset - strawberry leaves/healthy/474.jpg  \n",
            "  inflating: dataset - strawberry leaves/healthy/475.jpg  \n",
            "  inflating: dataset - strawberry leaves/healthy/476.jpg  \n",
            "  inflating: dataset - strawberry leaves/healthy/477.jpg  \n",
            "  inflating: dataset - strawberry leaves/healthy/478.jpg  \n",
            "  inflating: dataset - strawberry leaves/healthy/479.jpg  \n",
            "  inflating: dataset - strawberry leaves/healthy/480.jpg  \n",
            "  inflating: dataset - strawberry leaves/healthy/481.jpg  \n",
            "  inflating: dataset - strawberry leaves/healthy/482.jpg  \n",
            "  inflating: dataset - strawberry leaves/healthy/483.jpg  \n",
            "  inflating: dataset - strawberry leaves/healthy/484.jpg  \n",
            "  inflating: dataset - strawberry leaves/healthy/485.jpg  \n",
            "  inflating: dataset - strawberry leaves/healthy/486.jpg  \n",
            "  inflating: dataset - strawberry leaves/healthy/487.jpg  \n",
            "  inflating: dataset - strawberry leaves/healthy/488.jpg  \n",
            "  inflating: dataset - strawberry leaves/healthy/489.jpg  \n",
            "  inflating: dataset - strawberry leaves/healthy/490.jpg  \n",
            "  inflating: dataset - strawberry leaves/healthy/491.jpg  \n",
            "  inflating: dataset - strawberry leaves/healthy/492.jpg  \n",
            "  inflating: dataset - strawberry leaves/healthy/493.jpg  \n",
            "  inflating: dataset - strawberry leaves/healthy/494.jpg  \n",
            "  inflating: dataset - strawberry leaves/healthy/495.jpg  \n",
            "  inflating: dataset - strawberry leaves/healthy/496.jpg  \n",
            "  inflating: dataset - strawberry leaves/healthy/497.jpg  \n",
            "  inflating: dataset - strawberry leaves/healthy/498.jpg  \n",
            "  inflating: dataset - strawberry leaves/healthy/499.jpg  \n",
            "  inflating: dataset - strawberry leaves/healthy/500.jpg  \n",
            "  inflating: dataset - strawberry leaves/healthy/501.jpg  \n",
            "  inflating: dataset - strawberry leaves/healthy/502.jpg  \n",
            "  inflating: dataset - strawberry leaves/healthy/503.jpg  \n",
            "  inflating: dataset - strawberry leaves/healthy/504.jpg  \n",
            "  inflating: dataset - strawberry leaves/healthy/505.jpg  \n",
            "  inflating: dataset - strawberry leaves/healthy/506.jpg  \n",
            "  inflating: dataset - strawberry leaves/healthy/507.jpg  \n",
            "  inflating: dataset - strawberry leaves/healthy/508.jpg  \n",
            "  inflating: dataset - strawberry leaves/healthy/509.jpg  \n",
            "  inflating: dataset - strawberry leaves/healthy/510.jpg  \n",
            "  inflating: dataset - strawberry leaves/healthy/511.jpg  \n",
            "  inflating: dataset - strawberry leaves/healthy/512.jpg  \n",
            "  inflating: dataset - strawberry leaves/healthy/513.jpg  \n",
            "  inflating: dataset - strawberry leaves/healthy/514.jpg  \n",
            "  inflating: dataset - strawberry leaves/healthy/515.jpg  \n",
            "  inflating: dataset - strawberry leaves/healthy/516.jpg  \n",
            "  inflating: dataset - strawberry leaves/healthy/517.jpg  \n",
            "  inflating: dataset - strawberry leaves/healthy/518.jpg  \n",
            "  inflating: dataset - strawberry leaves/healthy/519.jpg  \n",
            "  inflating: dataset - strawberry leaves/healthy/520.jpg  \n",
            "  inflating: dataset - strawberry leaves/healthy/521.jpg  \n",
            "  inflating: dataset - strawberry leaves/healthy/522.jpg  \n",
            "  inflating: dataset - strawberry leaves/healthy/523.jpg  \n",
            "  inflating: dataset - strawberry leaves/healthy/524.jpg  \n",
            "  inflating: dataset - strawberry leaves/healthy/525.jpg  \n",
            "  inflating: dataset - strawberry leaves/healthy/526.jpg  \n",
            "  inflating: dataset - strawberry leaves/healthy/527.jpg  \n",
            "  inflating: dataset - strawberry leaves/healthy/528.jpg  \n",
            "  inflating: dataset - strawberry leaves/healthy/529.jpg  \n",
            "  inflating: dataset - strawberry leaves/healthy/530.jpg  \n",
            "  inflating: dataset - strawberry leaves/healthy/531.jpg  \n",
            "  inflating: dataset - strawberry leaves/healthy/532.jpg  \n",
            "  inflating: dataset - strawberry leaves/healthy/533.jpg  \n",
            "  inflating: dataset - strawberry leaves/healthy/534.jpg  \n",
            "  inflating: dataset - strawberry leaves/healthy/535.jpg  \n",
            "  inflating: dataset - strawberry leaves/healthy/536.jpg  \n",
            "  inflating: dataset - strawberry leaves/healthy/537.jpg  \n",
            "  inflating: dataset - strawberry leaves/healthy/538.jpg  \n",
            "  inflating: dataset - strawberry leaves/healthy/539.jpg  \n",
            "  inflating: dataset - strawberry leaves/healthy/540.jpg  \n",
            "  inflating: dataset - strawberry leaves/healthy/541.jpg  \n",
            "  inflating: dataset - strawberry leaves/healthy/703.jpg  \n",
            "  inflating: dataset - strawberry leaves/healthy/704.jpg  \n",
            "  inflating: dataset - strawberry leaves/healthy/705.jpg  \n",
            "  inflating: dataset - strawberry leaves/healthy/706.jpg  \n",
            "  inflating: dataset - strawberry leaves/healthy/707.jpg  \n",
            "  inflating: dataset - strawberry leaves/healthy/708.jpg  \n",
            "  inflating: dataset - strawberry leaves/healthy/709.jpg  \n",
            "  inflating: dataset - strawberry leaves/healthy/710.jpg  \n",
            "  inflating: dataset - strawberry leaves/healthy/711.jpg  \n",
            "  inflating: dataset - strawberry leaves/healthy/712.jpg  \n",
            "  inflating: dataset - strawberry leaves/healthy/713.jpg  \n",
            "  inflating: dataset - strawberry leaves/healthy/714.jpg  \n",
            "  inflating: dataset - strawberry leaves/healthy/715.jpg  \n",
            "  inflating: dataset - strawberry leaves/healthy/716.jpg  \n",
            "  inflating: dataset - strawberry leaves/healthy/717.jpg  \n",
            "  inflating: dataset - strawberry leaves/healthy/718.jpg  \n",
            "  inflating: dataset - strawberry leaves/healthy/719.jpg  \n",
            "  inflating: dataset - strawberry leaves/healthy/720.jpg  \n",
            "  inflating: dataset - strawberry leaves/healthy/721.jpg  \n",
            "  inflating: dataset - strawberry leaves/healthy/722.jpg  \n",
            "  inflating: dataset - strawberry leaves/healthy/723.jpg  \n",
            "  inflating: dataset - strawberry leaves/healthy/724.jpg  \n",
            "  inflating: dataset - strawberry leaves/healthy/725.jpg  \n",
            "  inflating: dataset - strawberry leaves/healthy/726.jpg  \n",
            "  inflating: dataset - strawberry leaves/healthy/727.jpg  \n",
            "  inflating: dataset - strawberry leaves/healthy/728.jpg  \n",
            "  inflating: dataset - strawberry leaves/healthy/729.jpg  \n",
            "  inflating: dataset - strawberry leaves/healthy/730.jpg  \n",
            "  inflating: dataset - strawberry leaves/healthy/731.jpg  \n",
            "  inflating: dataset - strawberry leaves/healthy/732.jpg  \n",
            "  inflating: dataset - strawberry leaves/healthy/733.jpg  \n",
            "  inflating: dataset - strawberry leaves/healthy/734.jpg  \n",
            "  inflating: dataset - strawberry leaves/healthy/735.jpg  \n",
            "  inflating: dataset - strawberry leaves/healthy/736.jpg  \n",
            "  inflating: dataset - strawberry leaves/healthy/737.jpg  \n",
            "  inflating: dataset - strawberry leaves/healthy/738.jpg  \n",
            "  inflating: dataset - strawberry leaves/healthy/739.jpg  \n",
            "  inflating: dataset - strawberry leaves/healthy/740.jpg  \n",
            "  inflating: dataset - strawberry leaves/healthy/741.jpg  \n",
            "  inflating: dataset - strawberry leaves/healthy/742.jpg  \n",
            "  inflating: dataset - strawberry leaves/healthy/743.jpg  \n",
            "  inflating: dataset - strawberry leaves/healthy/744.jpg  \n",
            "  inflating: dataset - strawberry leaves/healthy/745.jpg  \n",
            "  inflating: dataset - strawberry leaves/healthy/746.jpg  \n",
            "  inflating: dataset - strawberry leaves/healthy/747.jpg  \n",
            "  inflating: dataset - strawberry leaves/healthy/748.jpg  \n",
            "  inflating: dataset - strawberry leaves/healthy/749.jpg  \n",
            "  inflating: dataset - strawberry leaves/healthy/750.jpg  \n",
            "  inflating: dataset - strawberry leaves/healthy/751.jpg  \n",
            "  inflating: dataset - strawberry leaves/healthy/752.jpg  \n",
            "  inflating: dataset - strawberry leaves/healthy/753.jpg  \n",
            "  inflating: dataset - strawberry leaves/healthy/754.jpg  \n",
            "  inflating: dataset - strawberry leaves/healthy/755.jpg  \n",
            "  inflating: dataset - strawberry leaves/healthy/756.jpg  \n",
            "  inflating: dataset - strawberry leaves/healthy/757.jpg  \n",
            "  inflating: dataset - strawberry leaves/healthy/758.jpg  \n",
            "  inflating: dataset - strawberry leaves/healthy/759.jpg  \n",
            "  inflating: dataset - strawberry leaves/healthy/760.jpg  \n",
            "  inflating: dataset - strawberry leaves/healthy/761.jpg  \n",
            "  inflating: dataset - strawberry leaves/healthy/762.jpg  \n",
            "  inflating: dataset - strawberry leaves/healthy/763.jpg  \n",
            "  inflating: dataset - strawberry leaves/healthy/764.jpg  \n",
            "  inflating: dataset - strawberry leaves/healthy/765.jpg  \n",
            "  inflating: dataset - strawberry leaves/healthy/766.jpg  \n",
            "  inflating: dataset - strawberry leaves/healthy/767.jpg  \n",
            "  inflating: dataset - strawberry leaves/healthy/768.jpg  \n",
            "  inflating: dataset - strawberry leaves/healthy/769.jpg  \n",
            "  inflating: dataset - strawberry leaves/healthy/770.jpg  \n",
            "  inflating: dataset - strawberry leaves/healthy/771.jpg  \n",
            "  inflating: dataset - strawberry leaves/healthy/772.jpg  \n",
            "  inflating: dataset - strawberry leaves/healthy/773.jpg  \n",
            "  inflating: dataset - strawberry leaves/healthy/774.jpg  \n",
            "  inflating: dataset - strawberry leaves/healthy/775.jpg  \n",
            "  inflating: dataset - strawberry leaves/healthy/776.jpg  \n",
            "  inflating: dataset - strawberry leaves/healthy/777.jpg  \n",
            "  inflating: dataset - strawberry leaves/healthy/962.jpg  \n",
            "  inflating: dataset - strawberry leaves/healthy/964.jpg  \n",
            "  inflating: dataset - strawberry leaves/healthy/967.jpg  \n",
            "  inflating: dataset - strawberry leaves/healthy/968.jpg  \n",
            "  inflating: dataset - strawberry leaves/healthy/981.jpg  \n",
            "  inflating: dataset - strawberry leaves/healthy/998.jpg  \n"
          ]
        }
      ]
    },
    {
      "cell_type": "code",
      "source": [
        "splitfolders.ratio('/content/dataset - strawberry leaves', output=\"data\", seed=1337, ratio=(0.6, 0.2,0.2))"
      ],
      "metadata": {
        "colab": {
          "base_uri": "https://localhost:8080/"
        },
        "id": "73JYtYoh6P9Q",
        "outputId": "5523a209-0b37-4297-d304-cc6f71937880"
      },
      "execution_count": null,
      "outputs": [
        {
          "output_type": "stream",
          "name": "stderr",
          "text": [
            "Copying files: 1431 files [00:42, 33.71 files/s]\n"
          ]
        }
      ]
    },
    {
      "cell_type": "markdown",
      "source": [
        "### VISUALIZING"
      ],
      "metadata": {
        "id": "EL55MdKaizi_"
      }
    },
    {
      "cell_type": "code",
      "source": [
        "#Diseased leaf\n",
        "img1 = '/content/dataset - strawberry leaves/Calciumdeficiency/1009.jpg'\n",
        "print(cv2.imread(img1).shape)\n",
        "plt.figure(figsize=(4,4))\n",
        "fig, ax = plt.subplots(figsize=(4,4))\n",
        "img = imread(img1)\n",
        "ax.imshow(img)"
      ],
      "metadata": {
        "colab": {
          "base_uri": "https://localhost:8080/"
        },
        "id": "LJSOd-j2ik_w",
        "outputId": "130e569a-eb15-425f-9312-3fa126a14825"
      },
      "execution_count": null,
      "outputs": [
        {
          "output_type": "stream",
          "name": "stdout",
          "text": [
            "(3968, 2976, 3)\n"
          ]
        },
        {
          "output_type": "execute_result",
          "data": {
            "text/plain": [
              "<matplotlib.image.AxesImage at 0x7f17e0da3640>"
            ]
          },
          "metadata": {},
          "execution_count": 9
        },
        {
          "output_type": "display_data",
          "data": {
            "text/plain": [
              "<Figure size 400x400 with 0 Axes>"
            ]
          },
          "metadata": {}
        },
        {
          "output_type": "display_data",
          "data": {
            "text/plain": [
              "<Figure size 400x400 with 1 Axes>"
            ],
            "image/png": "[encoded data removed]"
          },
          "metadata": {}
        }
      ]
    },
    {
      "cell_type": "code",
      "source": [
        "#Diseased leaf\n",
        "img2 = '/content/dataset - strawberry leaves/healthy/1085.jpg'\n",
        "print(cv2.imread(img2).shape)\n",
        "plt.figure(figsize=(4,4))\n",
        "fig, ax = plt.subplots(figsize=(4,4))\n",
        "img = imread(img2)\n",
        "ax.imshow(img)"
      ],
      "metadata": {
        "colab": {
          "base_uri": "https://localhost:8080/"
        },
        "id": "W3oNlMl3jEHC",
        "outputId": "cc0d14ed-1c23-4479-af6a-ece432a60b53"
      },
      "execution_count": null,
      "outputs": [
        {
          "output_type": "stream",
          "name": "stdout",
          "text": [
            "(5120, 3840, 3)\n"
          ]
        },
        {
          "output_type": "execute_result",
          "data": {
            "text/plain": [
              "<matplotlib.image.AxesImage at 0x7f17e0347820>"
            ]
          },
          "metadata": {},
          "execution_count": 10
        },
        {
          "output_type": "display_data",
          "data": {
            "text/plain": [
              "<Figure size 400x400 with 0 Axes>"
            ]
          },
          "metadata": {}
        },
        {
          "output_type": "display_data",
          "data": {
            "text/plain": [
              "<Figure size 400x400 with 1 Axes>"
            ],
            "image/png": "[encoded data removed]"
          },
          "metadata": {}
        }
      ]
    },
    {
      "cell_type": "markdown",
      "source": [
        "# SETTING UP ENVIRONMENT"
      ],
      "metadata": {
        "id": "jaMtfmVi3HAt"
      }
    },
    {
      "cell_type": "code",
      "source": [
        "spark = SparkSession \\\n",
        "    .builder \\\n",
        "    .appName('Leaf disease classification') \\\n",
        "    .getOrCreate()"
      ],
      "metadata": {
        "id": "XhtI_OBe3Mpw"
      },
      "execution_count": null,
      "outputs": []
    },
    {
      "cell_type": "code",
      "source": [
        "sc = SparkContext.getOrCreate(SparkConf().setMaster(\"local[*]\"))\n",
        "sc"
      ],
      "metadata": {
        "colab": {
          "base_uri": "https://localhost:8080/",
          "height": 198
        },
        "id": "jBsMFKLp3mk_",
        "outputId": "c69848bb-7885-402e-cb5e-db8b5608af4b"
      },
      "execution_count": null,
      "outputs": [
        {
          "output_type": "execute_result",
          "data": {
            "text/plain": [
              "<SparkContext master=local[*] appName=Leaf disease classification>"
            ],
            "text/html": [
              "\n",
              "        <div>\n",
              "            <p><b>SparkContext</b></p>\n",
              "\n",
              "            <p><a href=\"http://419e63c5ab49:4040\">Spark UI</a></p>\n",
              "\n",
              "            <dl>\n",
              "              <dt>Version</dt>\n",
              "                <dd><code>v3.3.0</code></dd>\n",
              "              <dt>Master</dt>\n",
              "                <dd><code>local[*]</code></dd>\n",
              "              <dt>AppName</dt>\n",
              "                <dd><code>Leaf disease classification</code></dd>\n",
              "            </dl>\n",
              "        </div>\n",
              "        "
            ]
          },
          "metadata": {},
          "execution_count": 3
        }
      ]
    },
    {
      "cell_type": "markdown",
      "source": [
        "# MACHINE LEARNING MODEL"
      ],
      "metadata": {
        "id": "AS1AClHz3tKg"
      }
    },
    {
      "cell_type": "code",
      "source": [
        "df = (spark.read\n",
        "          .format(\"csv\")\n",
        "          .option('header', 'true')\n",
        "          .load(\"glcm.csv\"))"
      ],
      "metadata": {
        "id": "4oE85y6j3zwT"
      },
      "execution_count": null,
      "outputs": []
    },
    {
      "cell_type": "code",
      "source": [
        "#Print the top 5 rows of the dataset\n",
        "df.show(5)"
      ],
      "metadata": {
        "colab": {
          "base_uri": "https://localhost:8080/"
        },
        "id": "P22aOpHS39cY",
        "outputId": "340f5ace-c277-476b-c52a-96646967cdd4"
      },
      "execution_count": null,
      "outputs": [
        {
          "output_type": "stream",
          "name": "stdout",
          "text": [
            "+---+--------------------+--------------------+--------------------+--------------------+------------------+------------------+------------------+------------------+------------------+------------------+------------------+------------------+------------------+------------------+------------------+------------------+-------------------+--------------------+--------------------+-------------------+-----+\n",
            "|_c0|               ASM_0|              ASM_45|              ASM_90|             ASM_135|        contrast_0|       contrast_45|       contrast_90|      contrast_135|   dissimilarity_0|  dissimilarity_45|  dissimilarity_90| dissimilarity_135|     correlation_0|    correlation_45|    correlation_90|   correlation_135|      homogeneity_0|      homogeneity_45|      homogeneity_90|    homogeneity_135|label|\n",
            "+---+--------------------+--------------------+--------------------+--------------------+------------------+------------------+------------------+------------------+------------------+------------------+------------------+------------------+------------------+------------------+------------------+------------------+-------------------+--------------------+--------------------+-------------------+-----+\n",
            "|  0|0.000117824124612...|0.000115810740716...|0.000122795939864...|0.000114418060247...| 765.4758644067795| 818.4701880934989| 729.9577401129935| 825.5803049671291| 19.27003389830506| 19.94850255661068|18.647728813559286|20.104501460920375|0.7371582708541471|0.7189155109438906| 0.749179764533935|0.7163120907827956| 0.0696014157706516|  0.0677145615015447| 0.07147535113914855|  0.065350340936166|    1|\n",
            "|  1|0.000128136486960...|0.000133210453591...|0.000161614925468...|0.000131666338172...| 916.9806666666664| 871.6728907962023|  659.102259887005| 885.6177410518635|20.863039548022584| 20.18327702702704| 16.95326553672315| 20.51241782322865|0.7820877580069687|0.7925641651735946|0.8441744180935926| 0.789258633536212| 0.0719532879859148| 0.07558068826064833|  0.0973339343977973|0.07473169656824918|    1|\n",
            "|  2|0.000131164735548...|0.000139366528542...|0.000156422420121...|0.000129019320386...| 702.7459435028251| 666.9425219138052| 526.0510508474574| 699.7531729364503|18.218327683615808| 17.40912618699781|15.217740112994361|18.259427501826153|0.8218878482326065|0.8317840412529861|0.8687372835644245|0.8235534397455949|0.07698281432292255|  0.0841375310199859|  0.0989330752664612|0.07759421250448592|    1|\n",
            "|  3|5.055086341728102...|4.718804215926501...|4.967282709310845...|4.919134742576155...|1732.0237401129923|2012.3833660518676|1875.5748813559296|1867.2320466581473| 29.49842937853105| 32.08319256756761|30.443333333333296|30.533726716581484|0.7306410351888604|0.6867445566196254|0.7077390785208395|0.7093235233889699|0.04560863932048212|0.040866130966554885| 0.04527344241823529|0.04291342815783003|    1|\n",
            "|  4|6.833215231893768...|6.580398936260701...|7.108283060423233...|6.779407256683809...|1438.7721468926536|1592.7973315376212|1502.1774124293772|1535.4160769722453|26.401999999999983|27.805115504017586| 26.36952542372877|27.036945306793335|0.7411312851631467|0.7117846845292455| 0.727996525987015|0.7220010932802248|0.05638683202695898|0.052604687599328744|0.057394080978922166|0.05629314469981208|    1|\n",
            "+---+--------------------+--------------------+--------------------+--------------------+------------------+------------------+------------------+------------------+------------------+------------------+------------------+------------------+------------------+------------------+------------------+------------------+-------------------+--------------------+--------------------+-------------------+-----+\n",
            "only showing top 5 rows\n",
            "\n"
          ]
        }
      ]
    },
    {
      "cell_type": "code",
      "source": [
        "# How many rows we have\n",
        "df.count()"
      ],
      "metadata": {
        "colab": {
          "base_uri": "https://localhost:8080/"
        },
        "id": "ulVSH7JA3_Hd",
        "outputId": "bfca1a32-7252-41d4-b654-ff8ebd763e13"
      },
      "execution_count": null,
      "outputs": [
        {
          "output_type": "execute_result",
          "data": {
            "text/plain": [
              "1431"
            ]
          },
          "metadata": {},
          "execution_count": 17
        }
      ]
    },
    {
      "cell_type": "code",
      "source": [
        "len(df.columns)"
      ],
      "metadata": {
        "colab": {
          "base_uri": "https://localhost:8080/"
        },
        "id": "6Pbvqu384Ao5",
        "outputId": "333a8fd5-e813-4a77-a257-8bd2276c6316"
      },
      "execution_count": null,
      "outputs": [
        {
          "output_type": "execute_result",
          "data": {
            "text/plain": [
              "22"
            ]
          },
          "metadata": {},
          "execution_count": 18
        }
      ]
    },
    {
      "cell_type": "code",
      "source": [
        "df.dtypes"
      ],
      "metadata": {
        "colab": {
          "base_uri": "https://localhost:8080/"
        },
        "id": "K271QwsT4CbJ",
        "outputId": "6ae798cb-6163-4027-86ec-968eb6956f79"
      },
      "execution_count": null,
      "outputs": [
        {
          "output_type": "execute_result",
          "data": {
            "text/plain": [
              "[('_c0', 'string'),\n",
              " ('ASM_0', 'string'),\n",
              " ('ASM_45', 'string'),\n",
              " ('ASM_90', 'string'),\n",
              " ('ASM_135', 'string'),\n",
              " ('contrast_0', 'string'),\n",
              " ('contrast_45', 'string'),\n",
              " ('contrast_90', 'string'),\n",
              " ('contrast_135', 'string'),\n",
              " ('dissimilarity_0', 'string'),\n",
              " ('dissimilarity_45', 'string'),\n",
              " ('dissimilarity_90', 'string'),\n",
              " ('dissimilarity_135', 'string'),\n",
              " ('correlation_0', 'string'),\n",
              " ('correlation_45', 'string'),\n",
              " ('correlation_90', 'string'),\n",
              " ('correlation_135', 'string'),\n",
              " ('homogeneity_0', 'string'),\n",
              " ('homogeneity_45', 'string'),\n",
              " ('homogeneity_90', 'string'),\n",
              " ('homogeneity_135', 'string'),\n",
              " ('label', 'string')]"
            ]
          },
          "metadata": {},
          "execution_count": 19
        }
      ]
    },
    {
      "cell_type": "code",
      "source": [
        "# Cast numeric columns\n",
        "dataset = df.select(col('_c0').cast('float'),\n",
        "                    col('ASM_0').cast('float'),\n",
        "                    col('ASM_45').cast('float'),\n",
        "                    col('ASM_90').cast('float'),\n",
        "                    col('ASM_135').cast('float'),\n",
        "                    col('contrast_0').cast('float'),\n",
        "                    col('contrast_45').cast('float'),\n",
        "                    col('contrast_90').cast('float'),\n",
        "                    col('contrast_135').cast('float'),\n",
        "                    col('dissimilarity_0').cast('float'),\n",
        "                    col('dissimilarity_45').cast('float'),\n",
        "                    col('dissimilarity_90').cast('float'),\n",
        "                    col('dissimilarity_135').cast('float'),\n",
        "                    col('correlation_0').cast('float'),\n",
        "                    col('correlation_45').cast('float'),\n",
        "                    col('correlation_90').cast('float'),\n",
        "                    col('correlation_135').cast('float'),\n",
        "                    col('homogeneity_0').cast('float'),\n",
        "                    col('homogeneity_45').cast('float'),\n",
        "                    col('homogeneity_90').cast('float'),\n",
        "                    col('homogeneity_135').cast('float'),\n",
        "                    col('label').cast('float'))\n",
        "\n",
        "dataset.show()"
      ],
      "metadata": {
        "colab": {
          "base_uri": "https://localhost:8080/"
        },
        "id": "eVwcUuBH4Dva",
        "outputId": "54e1768e-cd90-4fe2-9ef3-0064c56493b9"
      },
      "execution_count": null,
      "outputs": [
        {
          "output_type": "stream",
          "name": "stdout",
          "text": [
            "+----+------------+------------+------------+------------+----------+-----------+-----------+------------+---------------+----------------+----------------+-----------------+-------------+--------------+--------------+---------------+-------------+--------------+--------------+---------------+-----+\n",
            "| _c0|       ASM_0|      ASM_45|      ASM_90|     ASM_135|contrast_0|contrast_45|contrast_90|contrast_135|dissimilarity_0|dissimilarity_45|dissimilarity_90|dissimilarity_135|correlation_0|correlation_45|correlation_90|correlation_135|homogeneity_0|homogeneity_45|homogeneity_90|homogeneity_135|label|\n",
            "+----+------------+------------+------------+------------+----------+-----------+-----------+------------+---------------+----------------+----------------+-----------------+-------------+--------------+--------------+---------------+-------------+--------------+--------------+---------------+-----+\n",
            "| 0.0|1.1782412E-4|1.1581074E-4|1.2279594E-4|1.1441806E-4|  765.4759|   818.4702|  729.95776|    825.5803|      19.270035|       19.948503|       18.647728|        20.104502|    0.7371583|     0.7189155|     0.7491798|      0.7163121|   0.06960142|   0.067714565|    0.07147535|     0.06535034|  1.0|\n",
            "| 1.0|1.2813648E-4|1.3321046E-4|1.6161492E-4|1.3166634E-4| 916.98065|   871.6729|  659.10223|   885.61774|      20.863039|       20.183277|       16.953266|        20.512419|   0.78208774|    0.79256415|    0.84417444|     0.78925866|   0.07195329|    0.07558069|    0.09733394|      0.0747317|  1.0|\n",
            "| 2.0|1.3116474E-4|1.3936653E-4|1.5642242E-4|1.2901932E-4|   702.746|   666.9425|    526.051|    699.7532|      18.218328|       17.409126|        15.21774|        18.259428|   0.82188785|    0.83178407|     0.8687373|     0.82355344|   0.07698281|    0.08413753|    0.09893308|     0.07759421|  1.0|\n",
            "| 3.0|5.0550865E-5| 4.718804E-5|4.9672828E-5| 4.919135E-5| 1732.0237|  2012.3834|  1875.5748|    1867.232|       29.49843|        32.08319|       30.443333|        30.533728|     0.730641|     0.6867446|    0.70773906|      0.7093235|   0.04560864|   0.040866133|    0.04527344|     0.04291343|  1.0|\n",
            "| 4.0|6.8332156E-5|6.5803986E-5| 7.108283E-5| 6.779407E-5| 1438.7721|  1592.7974|  1502.1774|   1535.4161|         26.402|       27.805115|       26.369526|        27.036945|    0.7411313|    0.71178466|     0.7279965|      0.7220011|  0.056386832|   0.052604686|    0.05739408|    0.056293145|  1.0|\n",
            "| 5.0| 7.010769E-5|6.0586484E-5|5.9951228E-5|6.0205977E-5| 1451.1747|  2232.6802|   2309.441|   2059.5564|      25.626972|        32.09038|       32.828056|           31.393|   0.74373436|    0.60552925|     0.5910895|     0.63610685|   0.06171341|    0.05274651|   0.051597703|    0.052127425|  1.0|\n",
            "| 6.0| 5.054269E-5|4.9733255E-5|4.9505314E-5| 4.823102E-5|  2115.235|  2293.3792|  2285.7322|    2363.654|      32.632915|       33.961777|        33.85259|        34.488472|   0.67627543|    0.64965445|     0.6515452|     0.63883764|  0.049106434|   0.048585325|    0.04719913|    0.044904348|  1.0|\n",
            "| 7.0| 5.569485E-5|5.6507837E-5|5.7391553E-5|5.3355907E-5| 2427.6711|  2326.6313|  2260.9739|   2654.1814|      34.514057|       33.769974|       33.348465|        36.252384|    0.6689181|     0.6819208|     0.6901363|      0.6371342|   0.04652765|   0.048231713|   0.048857197|    0.045139536|  1.0|\n",
            "| 8.0|  6.50458E-5| 5.843357E-5| 5.987558E-5|  5.90679E-5| 1545.8187|  1942.6353|  1859.5597|   1738.2571|      26.989073|       30.530098|       29.775751|        29.271217|   0.73589116|    0.66782767|     0.6797389|     0.70276386|   0.06373763|   0.056789596|    0.05694289|    0.054773398|  1.0|\n",
            "| 9.0| 6.658936E-5| 6.399563E-5| 7.817198E-5|6.4219166E-5| 1647.6183|  1766.6764|  1598.8132|   1758.1346|       28.28749|       29.207726|        26.84635|        29.410975|    0.7886038|     0.7741811|     0.7956054|     0.77527446|  0.061141297|   0.059494324|   0.074088104|    0.058644753|  1.0|\n",
            "|10.0| 1.760671E-4|1.7624754E-4|1.9276913E-4| 1.743723E-4|  742.2235|   731.0936|  579.11786|   726.53406|      19.106316|        18.96867|        16.47479|         18.84617|    0.7895068|    0.79429054|    0.83994424|      0.7954673|  0.077792555|    0.07633939|    0.08966766|     0.07718403|  1.0|\n",
            "|11.0| 5.959424E-5|5.1885458E-5| 5.823448E-5|6.1148974E-5| 1773.5172|  2413.0452|  2140.7766|    2031.615|      28.229559|        34.37727|       32.120804|         31.05152|    0.7368893|     0.6410092|    0.68108195|     0.69777185|  0.058423847|   0.047968514|   0.054595992|     0.05631678|  1.0|\n",
            "|12.0| 5.139104E-5| 4.950034E-5| 5.341639E-5| 5.032675E-5| 2064.4146|  2123.4766|  1864.0852|    2159.934|      32.052193|        32.92361|        30.59679|         32.88081|     0.661735|     0.6527817|     0.6950977|      0.6468001|   0.04577454|     0.0429596|   0.049467146|    0.045411933|  1.0|\n",
            "|13.0| 5.004303E-5| 4.685065E-5| 4.793316E-5|4.7151698E-5| 2283.7883|  2448.2969|  2379.3975|   2453.5244|       35.15043|       37.075592|       36.349117|        36.833237|   0.61658835|    0.58023894|    0.59035707|       0.579229|  0.040262744|    0.03342932|    0.03391839|    0.035337225|  1.0|\n",
            "|14.0|6.0170896E-5|5.8223904E-5| 5.948827E-5| 5.678296E-5| 1815.2456|  1913.5284|  1867.1768|   2106.6672|      30.136192|       31.245949|       30.665854|         32.61491|    0.6193987|    0.59836423|     0.6077802|     0.55783993|   0.04536879|    0.04345149|   0.044479307|    0.041703593|  1.0|\n",
            "|15.0|1.0970979E-4|1.0241022E-4|1.0308398E-4| 9.947374E-5| 814.16235|   951.9292|  967.75696|    990.6475|      18.483694|       20.175688|       20.126915|        20.473282|    0.8224648|     0.7927873|     0.7897172|       0.784383|   0.08572109|     0.0775449|   0.078891195|     0.07453924|  1.0|\n",
            "|16.0| 5.768202E-5| 5.409061E-5| 5.757228E-5|5.5276687E-5| 1982.4817|  2253.4763|  2013.0126|   2076.9468|      31.247898|       33.709904|       31.513842|        32.406113|   0.66895926|     0.6196073|    0.65995073|     0.64938945|  0.051927265|   0.046534207|   0.051691037|    0.048223678|  1.0|\n",
            "|17.0|7.4706244E-5|  7.30235E-5|  7.45065E-5|7.1153976E-5| 1134.4316|  1193.1257|  1200.9496|   1285.2688|      24.052633|       24.869408|       24.741096|        25.619007|   0.77127737|    0.75993943|    0.75779164|      0.7413683|  0.059754614|   0.058380287|   0.060721193|    0.058024105|  1.0|\n",
            "|18.0| 6.696102E-5|6.4773645E-5| 7.075081E-5| 6.579839E-5|  2274.609|  2274.0286|  1874.2654|   2295.7231|      32.154293|       32.376793|       28.936813|         32.22173|     0.716311|     0.7163208|    0.76836205|      0.7137141|    0.0528187|   0.051515058|   0.056753203|    0.051143225|  1.0|\n",
            "|19.0| 1.306917E-4| 1.299319E-4|1.4896282E-4|1.3574635E-4| 675.51355|   686.6823|  516.68994|    639.0497|      18.356825|       18.510763|       15.557853|         17.62209|    0.7961353|    0.79272306|     0.8457292|      0.8069715|   0.07096212|    0.07063816|   0.086598344|    0.074125856|  1.0|\n",
            "+----+------------+------------+------------+------------+----------+-----------+-----------+------------+---------------+----------------+----------------+-----------------+-------------+--------------+--------------+---------------+-------------+--------------+--------------+---------------+-----+\n",
            "only showing top 20 rows\n",
            "\n"
          ]
        }
      ]
    },
    {
      "cell_type": "code",
      "source": [
        "dataset.dtypes"
      ],
      "metadata": {
        "colab": {
          "base_uri": "https://localhost:8080/"
        },
        "id": "YyxWU1Vr4FvN",
        "outputId": "901f0a05-075f-41fc-bd7f-aa4889939be0"
      },
      "execution_count": null,
      "outputs": [
        {
          "output_type": "execute_result",
          "data": {
            "text/plain": [
              "[('_c0', 'float'),\n",
              " ('ASM_0', 'float'),\n",
              " ('ASM_45', 'float'),\n",
              " ('ASM_90', 'float'),\n",
              " ('ASM_135', 'float'),\n",
              " ('contrast_0', 'float'),\n",
              " ('contrast_45', 'float'),\n",
              " ('contrast_90', 'float'),\n",
              " ('contrast_135', 'float'),\n",
              " ('dissimilarity_0', 'float'),\n",
              " ('dissimilarity_45', 'float'),\n",
              " ('dissimilarity_90', 'float'),\n",
              " ('dissimilarity_135', 'float'),\n",
              " ('correlation_0', 'float'),\n",
              " ('correlation_45', 'float'),\n",
              " ('correlation_90', 'float'),\n",
              " ('correlation_135', 'float'),\n",
              " ('homogeneity_0', 'float'),\n",
              " ('homogeneity_45', 'float'),\n",
              " ('homogeneity_90', 'float'),\n",
              " ('homogeneity_135', 'float'),\n",
              " ('label', 'float')]"
            ]
          },
          "metadata": {},
          "execution_count": 21
        }
      ]
    },
    {
      "cell_type": "markdown",
      "source": [
        "### MAPREDUCE ANALYSIS"
      ],
      "metadata": {
        "id": "S5HK5-a74LLU"
      }
    },
    {
      "cell_type": "code",
      "source": [
        "## See if we are have missing values\n",
        "dataset.select([count(when(isnull(c), c)).alias(c) for c in dataset.columns]).show()"
      ],
      "metadata": {
        "colab": {
          "base_uri": "https://localhost:8080/"
        },
        "id": "VdHv6gVZ4Hlw",
        "outputId": "49088eaf-c099-43f3-b9c2-c0b148237403"
      },
      "execution_count": null,
      "outputs": [
        {
          "output_type": "stream",
          "name": "stdout",
          "text": [
            "+---+-----+------+------+-------+----------+-----------+-----------+------------+---------------+----------------+----------------+-----------------+-------------+--------------+--------------+---------------+-------------+--------------+--------------+---------------+-----+\n",
            "|_c0|ASM_0|ASM_45|ASM_90|ASM_135|contrast_0|contrast_45|contrast_90|contrast_135|dissimilarity_0|dissimilarity_45|dissimilarity_90|dissimilarity_135|correlation_0|correlation_45|correlation_90|correlation_135|homogeneity_0|homogeneity_45|homogeneity_90|homogeneity_135|label|\n",
            "+---+-----+------+------+-------+----------+-----------+-----------+------------+---------------+----------------+----------------+-----------------+-------------+--------------+--------------+---------------+-------------+--------------+--------------+---------------+-----+\n",
            "|  0|    0|     0|     0|      0|         0|          0|          0|           0|              0|               0|               0|                0|            0|             0|             0|              0|            0|             0|             0|              0|    0|\n",
            "+---+-----+------+------+-------+----------+-----------+-----------+------------+---------------+----------------+----------------+-----------------+-------------+--------------+--------------+---------------+-------------+--------------+--------------+---------------+-----+\n",
            "\n"
          ]
        }
      ]
    },
    {
      "cell_type": "code",
      "source": [
        "DF_Healthy=dataset.filter('label = 0')\n",
        "DF_Diseased=dataset.filter('label = 1')"
      ],
      "metadata": {
        "id": "8fyHRjo44JYq"
      },
      "execution_count": null,
      "outputs": []
    },
    {
      "cell_type": "code",
      "source": [
        "D_ASM_0_sum = sc.accumulator(0)\n",
        "D_ASM_45_sum = sc.accumulator(0)\n",
        "D_ASM_90_sum = sc.accumulator(0)\n",
        "D_ASM_135_sum = sc.accumulator(0)\n",
        "D_contrast_0_sum = sc.accumulator(0)\n",
        "D_contrast_45_sum = sc.accumulator(0)\n",
        "D_contrast_90_sum = sc.accumulator(0)\n",
        "D_contrast_135_sum = sc.accumulator(0)\n",
        "D_dissimilarity_0_sum = sc.accumulator(0)\n",
        "D_dissimilarity_45_sum = sc.accumulator(0)\n",
        "D_dissimilarity_90_sum = sc.accumulator(0)\n",
        "D_dissimilarity_135_sum = sc.accumulator(0)\n",
        "D_correlation_0_sum = sc.accumulator(0)\n",
        "D_correlation_45_sum = sc.accumulator(0)\n",
        "D_correlation_90_sum = sc.accumulator(0)\n",
        "D_correlation_135_sum = sc.accumulator(0)\n",
        "D_homogeneity_0_sum = sc.accumulator(0)\n",
        "D_homogeneity_45_sum = sc.accumulator(0)\n",
        "D_homogeneity_90_sum = sc.accumulator(0)\n",
        "D_homogeneity_135_sum = sc.accumulator(0)\n",
        "H_ASM_0_sum = sc.accumulator(0)\n",
        "H_ASM_45_sum = sc.accumulator(0)\n",
        "H_ASM_90_sum = sc.accumulator(0)\n",
        "H_ASM_135_sum = sc.accumulator(0)\n",
        "H_contrast_0_sum = sc.accumulator(0)\n",
        "H_contrast_45_sum = sc.accumulator(0)\n",
        "H_contrast_90_sum = sc.accumulator(0)\n",
        "H_contrast_135_sum = sc.accumulator(0)\n",
        "H_dissimilarity_0_sum = sc.accumulator(0)\n",
        "H_dissimilarity_45_sum = sc.accumulator(0)\n",
        "H_dissimilarity_90_sum = sc.accumulator(0)\n",
        "H_dissimilarity_135_sum = sc.accumulator(0)\n",
        "H_correlation_0_sum = sc.accumulator(0)\n",
        "H_correlation_45_sum = sc.accumulator(0)\n",
        "H_correlation_90_sum = sc.accumulator(0)\n",
        "H_correlation_135_sum = sc.accumulator(0)\n",
        "H_homogeneity_0_sum = sc.accumulator(0)\n",
        "H_homogeneity_45_sum = sc.accumulator(0)\n",
        "H_homogeneity_90_sum = sc.accumulator(0)\n",
        "H_homogeneity_135_sum = sc.accumulator(0)"
      ],
      "metadata": {
        "id": "19j8kSnN4Tr1"
      },
      "execution_count": null,
      "outputs": []
    },
    {
      "cell_type": "code",
      "source": [
        "def colSum(row, diseased):\n",
        "  if diseased==True:\n",
        "    D_ASM_0_sum.add(row.ASM_0)\n",
        "    D_ASM_45_sum.add(row.ASM_45)\n",
        "    D_ASM_90_sum.add(row.ASM_90)\n",
        "    D_ASM_135_sum.add(row.ASM_135)\n",
        "    D_contrast_0_sum.add(row.contrast_0)\n",
        "    D_contrast_45_sum.add(row.contrast_45)\n",
        "    D_contrast_90_sum.add(row.contrast_90)\n",
        "    D_contrast_135_sum.add(row.contrast_135)\n",
        "    D_dissimilarity_0_sum.add(row.dissimilarity_0)\n",
        "    D_dissimilarity_45_sum.add(row.dissimilarity_45)\n",
        "    D_dissimilarity_90_sum.add(row.dissimilarity_90)\n",
        "    D_dissimilarity_135_sum.add(row.dissimilarity_135)\n",
        "    D_correlation_0_sum.add(row.correlation_0)\n",
        "    D_correlation_45_sum.add(row.correlation_45)\n",
        "    D_correlation_90_sum.add(row.correlation_90)\n",
        "    D_correlation_135_sum.add(row.correlation_135)\n",
        "    D_homogeneity_0_sum.add(row.homogeneity_0)\n",
        "    D_homogeneity_45_sum.add(row.homogeneity_45)\n",
        "    D_homogeneity_90_sum.add(row.homogeneity_90)\n",
        "    D_homogeneity_135_sum.add(row.homogeneity_135)\n",
        "  else:\n",
        "    H_ASM_0_sum.add(row.ASM_0)\n",
        "    H_ASM_45_sum.add(row.ASM_45)\n",
        "    H_ASM_90_sum.add(row.ASM_90)\n",
        "    H_ASM_135_sum.add(row.ASM_135)\n",
        "    H_contrast_0_sum.add(row.contrast_0)\n",
        "    H_contrast_45_sum.add(row.contrast_45)\n",
        "    H_contrast_90_sum.add(row.contrast_90)\n",
        "    H_contrast_135_sum.add(row.contrast_135)\n",
        "    H_dissimilarity_0_sum.add(row.dissimilarity_0)\n",
        "    H_dissimilarity_45_sum.add(row.dissimilarity_45)\n",
        "    H_dissimilarity_90_sum.add(row.dissimilarity_90)\n",
        "    H_dissimilarity_135_sum.add(row.dissimilarity_135)\n",
        "    H_correlation_0_sum.add(row.correlation_0)\n",
        "    H_correlation_45_sum.add(row.correlation_45)\n",
        "    H_correlation_90_sum.add(row.correlation_90)\n",
        "    H_correlation_135_sum.add(row.correlation_135)\n",
        "    H_homogeneity_0_sum.add(row.homogeneity_0)\n",
        "    H_homogeneity_45_sum.add(row.homogeneity_45)\n",
        "    H_homogeneity_90_sum.add(row.homogeneity_90)\n",
        "    H_homogeneity_135_sum.add(row.homogeneity_135)"
      ],
      "metadata": {
        "id": "__A0Ewr-4Tn6"
      },
      "execution_count": null,
      "outputs": []
    },
    {
      "cell_type": "code",
      "source": [
        "DF_Healthy.foreach(lambda row: colSum(row,diseased=False))\n",
        "DF_Diseased.foreach(lambda row: colSum(row,diseased=True))"
      ],
      "metadata": {
        "id": "pK6JOJGX4TQ3"
      },
      "execution_count": null,
      "outputs": []
    },
    {
      "cell_type": "code",
      "source": [
        "rowCountD=DF_Diseased.count()\n",
        "rowCountH=DF_Healthy.count()\n",
        "\n",
        "print(rowCountD)\n",
        "print(rowCountH)"
      ],
      "metadata": {
        "colab": {
          "base_uri": "https://localhost:8080/"
        },
        "id": "PzQkfseT4a0M",
        "outputId": "d5ea06cd-be55-4dc6-d89c-8b3cb989f096"
      },
      "execution_count": null,
      "outputs": [
        {
          "output_type": "stream",
          "name": "stdout",
          "text": [
            "805\n",
            "626\n"
          ]
        }
      ]
    },
    {
      "cell_type": "code",
      "source": [
        "y = np.array([rowCountD, rowCountH])\n",
        "mylabels=['Diseased','Healthy']\n",
        "\n",
        "plt.pie(y, labels=mylabels)\n",
        "plt.show()"
      ],
      "metadata": {
        "colab": {
          "base_uri": "https://localhost:8080/",
          "height": 406
        },
        "id": "ODgiEYtbgDPX",
        "outputId": "ba0183d3-6c81-4087-d497-730bafbd6d67"
      },
      "execution_count": null,
      "outputs": [
        {
          "output_type": "display_data",
          "data": {
            "text/plain": [
              "<Figure size 640x480 with 1 Axes>"
            ],
            "image/png": "[encoded data removed]"
          },
          "metadata": {}
        }
      ]
    },
    {
      "cell_type": "code",
      "source": [
        "D_ASM_0_mean = D_ASM_0_sum.value/rowCountD\n",
        "D_ASM_45_mean = D_ASM_45_sum.value/rowCountD\n",
        "D_ASM_90_mean = D_ASM_90_sum.value/rowCountD\n",
        "D_ASM_135_mean = D_ASM_135_sum.value/rowCountD\n",
        "D_contrast_0_mean = D_contrast_0_sum.value/rowCountD\n",
        "D_contrast_45_mean = D_contrast_45_sum.value/rowCountD\n",
        "D_contrast_90_mean = D_contrast_90_sum.value/rowCountD\n",
        "D_contrast_135_mean = D_contrast_135_sum.value/rowCountD\n",
        "D_dissimilarity_0_mean = D_dissimilarity_0_sum.value/rowCountD\n",
        "D_dissimilarity_45_mean = D_dissimilarity_45_sum.value/rowCountD\n",
        "D_dissimilarity_90_mean = D_dissimilarity_90_sum.value/rowCountD\n",
        "D_dissimilarity_135_mean = D_dissimilarity_135_sum.value/rowCountD\n",
        "D_correlation_0_mean = D_correlation_0_sum.value/rowCountD\n",
        "D_correlation_45_mean = D_correlation_45_sum.value/rowCountD\n",
        "D_correlation_90_mean = D_correlation_90_sum.value/rowCountD\n",
        "D_correlation_135_mean = D_correlation_135_sum.value/rowCountD\n",
        "D_homogeneity_0_mean = D_homogeneity_0_sum.value/rowCountD\n",
        "D_homogeneity_45_mean = D_homogeneity_45_sum.value/rowCountD\n",
        "D_homogeneity_90_mean = D_homogeneity_90_sum.value/rowCountD\n",
        "D_homogeneity_135_mean = D_homogeneity_135_sum.value/rowCountD\n",
        "H_ASM_0_mean = H_ASM_0_sum.value/rowCountH\n",
        "H_ASM_45_mean = H_ASM_45_sum.value/rowCountH\n",
        "H_ASM_90_mean = H_ASM_90_sum.value/rowCountH\n",
        "H_ASM_135_mean = H_ASM_135_sum.value/rowCountH\n",
        "H_contrast_0_mean = H_contrast_0_sum.value/rowCountH\n",
        "H_contrast_45_mean = H_contrast_45_sum.value/rowCountH\n",
        "H_contrast_90_mean = H_contrast_90_sum.value/rowCountH\n",
        "H_contrast_135_mean = H_contrast_135_sum.value/rowCountH\n",
        "H_dissimilarity_0_mean = H_dissimilarity_0_sum.value/rowCountH\n",
        "H_dissimilarity_45_mean = H_dissimilarity_45_sum.value/rowCountH\n",
        "H_dissimilarity_90_mean = H_dissimilarity_90_sum.value/rowCountH\n",
        "H_dissimilarity_135_mean = H_dissimilarity_135_sum.value/rowCountH\n",
        "H_correlation_0_mean = H_correlation_0_sum.value/rowCountH\n",
        "H_correlation_45_mean = H_correlation_45_sum.value/rowCountH\n",
        "H_correlation_90_mean = H_correlation_90_sum.value/rowCountH\n",
        "H_correlation_135_mean = H_correlation_135_sum.value/rowCountH\n",
        "H_homogeneity_0_mean = H_homogeneity_0_sum.value/rowCountH\n",
        "H_homogeneity_45_mean = H_homogeneity_45_sum.value/rowCountH\n",
        "H_homogeneity_90_mean = H_homogeneity_90_sum.value/rowCountH\n",
        "H_homogeneity_135_mean =H_homogeneity_135_sum.value/rowCountH"
      ],
      "metadata": {
        "id": "6bOV-uS34eSx"
      },
      "execution_count": null,
      "outputs": []
    },
    {
      "cell_type": "code",
      "source": [
        "X = ['ASM_0','ASM_45','ASM_90','ASM_135']\n",
        "\n",
        "Diseased = [D_ASM_0_mean,D_ASM_45_mean,D_ASM_90_mean,D_ASM_135_mean]\n",
        "Healthy = [H_ASM_0_mean,H_ASM_45_mean,H_ASM_90_mean,H_ASM_135_mean]\n",
        "\n",
        "X_axis = np.arange(len(X))\n",
        "\n",
        "plt.bar(X_axis - 0.2, Diseased, 0.4, label = 'Diseased')\n",
        "plt.bar(X_axis + 0.2, Healthy, 0.4, label = 'Healthy')\n",
        "\n",
        "plt.xticks(X_axis, X)\n",
        "plt.xlabel(\"ASM values\")\n",
        "plt.ylabel(\"Values\")\n",
        "plt.legend()\n",
        "plt.show()"
      ],
      "metadata": {
        "colab": {
          "base_uri": "https://localhost:8080/",
          "height": 449
        },
        "id": "Ds11J6Dl4i9_",
        "outputId": "b653d426-70cf-4394-aa76-3731b3627b1d"
      },
      "execution_count": null,
      "outputs": [
        {
          "output_type": "display_data",
          "data": {
            "text/plain": [
              "<Figure size 640x480 with 1 Axes>"
            ],
            "image/png": "[encoded data removed]"
          },
          "metadata": {}
        }
      ]
    },
    {
      "cell_type": "code",
      "source": [
        "X = ['contrast_0','contrast_45','contrast_90','contrast_135']\n",
        "\n",
        "Diseased = [D_contrast_0_mean,D_contrast_45_mean,D_contrast_90_mean,D_contrast_135_mean]\n",
        "Healthy = [H_contrast_0_mean,H_contrast_45_mean,H_contrast_90_mean,H_contrast_135_mean]\n",
        "\n",
        "X_axis = np.arange(len(X))\n",
        "\n",
        "plt.bar(X_axis - 0.2, Diseased, 0.4, label = 'Diseased')\n",
        "plt.bar(X_axis + 0.2, Healthy, 0.4, label = 'Healthy')\n",
        "\n",
        "plt.xticks(X_axis, X)\n",
        "plt.xlabel(\"Contrast values\")\n",
        "plt.ylabel(\"Values\")\n",
        "plt.legend()\n",
        "plt.show()"
      ],
      "metadata": {
        "colab": {
          "base_uri": "https://localhost:8080/",
          "height": 449
        },
        "id": "bfWQnq4e4oFR",
        "outputId": "3d140693-8122-4767-e186-2e203c144ba1"
      },
      "execution_count": null,
      "outputs": [
        {
          "output_type": "display_data",
          "data": {
            "text/plain": [
              "<Figure size 640x480 with 1 Axes>"
            ],
            "image/png": "[encoded data removed]"
          },
          "metadata": {}
        }
      ]
    },
    {
      "cell_type": "code",
      "source": [
        "X = ['dissimilarity_0','dissimilarity_45','dissimilarity_90','dissimilarity_135']\n",
        "\n",
        "Diseased = [D_dissimilarity_0_mean,D_dissimilarity_45_mean,D_dissimilarity_90_mean,D_dissimilarity_135_mean]\n",
        "Healthy = [H_dissimilarity_0_mean,H_dissimilarity_45_mean,H_dissimilarity_90_mean,H_dissimilarity_135_mean]\n",
        "\n",
        "X_axis = np.arange(len(X))\n",
        "\n",
        "plt.bar(X_axis - 0.2, Diseased, 0.4, label = 'Diseased')\n",
        "plt.bar(X_axis + 0.2, Healthy, 0.4, label = 'Healthy')\n",
        "\n",
        "plt.xticks(X_axis, X)\n",
        "plt.xlabel(\"Dissimilarity values\")\n",
        "plt.ylabel(\"Values\")\n",
        "plt.legend()\n",
        "plt.show()"
      ],
      "metadata": {
        "colab": {
          "base_uri": "https://localhost:8080/",
          "height": 450
        },
        "id": "Se8OZE3U4qWC",
        "outputId": "261b54f8-66f4-41d2-8d75-1a1831721b85"
      },
      "execution_count": null,
      "outputs": [
        {
          "output_type": "display_data",
          "data": {
            "text/plain": [
              "<Figure size 640x480 with 1 Axes>"
            ],
            "image/png": "[encoded data removed]"
          },
          "metadata": {}
        }
      ]
    },
    {
      "cell_type": "code",
      "source": [
        "X = ['correlation_0','correlation_45','correlation_90','correlation_135']\n",
        "\n",
        "Diseased = [D_correlation_0_mean,D_correlation_45_mean,D_correlation_90_mean,D_correlation_135_mean]\n",
        "Healthy = [H_correlation_0_mean,H_correlation_45_mean,H_correlation_90_mean,H_correlation_135_mean]\n",
        "\n",
        "X_axis = np.arange(len(X))\n",
        "\n",
        "plt.bar(X_axis - 0.2, Diseased, 0.4, label = 'Diseased')\n",
        "plt.bar(X_axis + 0.2, Healthy, 0.4, label = 'Healthy')\n",
        "\n",
        "plt.xticks(X_axis, X)\n",
        "plt.xlabel(\"Correlation values\")\n",
        "plt.ylabel(\"Values\")\n",
        "plt.legend()\n",
        "plt.show()"
      ],
      "metadata": {
        "colab": {
          "base_uri": "https://localhost:8080/",
          "height": 450
        },
        "id": "eZsgtCI74r8b",
        "outputId": "abfb1078-b63e-4ad8-ef6f-6adbb118ef79"
      },
      "execution_count": null,
      "outputs": [
        {
          "output_type": "display_data",
          "data": {
            "text/plain": [
              "<Figure size 640x480 with 1 Axes>"
            ],
            "image/png": "[encoded data removed]"
          },
          "metadata": {}
        }
      ]
    },
    {
      "cell_type": "code",
      "source": [
        "X = ['ASM_0','ASM_45','ASM_90','ASM_135']\n",
        "\n",
        "Diseased = [D_homogeneity_0_mean,D_homogeneity_45_mean,D_homogeneity_90_mean,D_homogeneity_135_mean]\n",
        "Healthy = [H_homogeneity_0_mean,H_homogeneity_45_mean,H_homogeneity_90_mean,H_homogeneity_135_mean]\n",
        "\n",
        "X_axis = np.arange(len(X))\n",
        "\n",
        "plt.bar(X_axis - 0.2, Diseased, 0.4, label = 'Diseased')\n",
        "plt.bar(X_axis + 0.2, Healthy, 0.4, label = 'Healthy')\n",
        "\n",
        "plt.xticks(X_axis, X)\n",
        "plt.xlabel(\"Homogeneity values\")\n",
        "plt.ylabel(\"Values\")\n",
        "plt.legend()\n",
        "plt.show()"
      ],
      "metadata": {
        "colab": {
          "base_uri": "https://localhost:8080/",
          "height": 449
        },
        "id": "c4MT2p0p4tr5",
        "outputId": "f43e730d-518d-4a7d-9305-79f810f6e4c5"
      },
      "execution_count": null,
      "outputs": [
        {
          "output_type": "display_data",
          "data": {
            "text/plain": [
              "<Figure size 640x480 with 1 Axes>"
            ],
            "image/png": "[encoded data removed]"
          },
          "metadata": {}
        }
      ]
    },
    {
      "cell_type": "markdown",
      "source": [
        "### FITTING RF CLASSIFIER"
      ],
      "metadata": {
        "id": "CVmpIixc4wqF"
      }
    },
    {
      "cell_type": "code",
      "source": [
        "required_features = ['ASM_0','ASM_45','ASM_90','ASM_135','contrast_0','contrast_45','contrast_135','contrast_90','dissimilarity_0',\n",
        "                     'dissimilarity_45','dissimilarity_90','dissimilarity_135','correlation_0','correlation_45','correlation_90',\n",
        "                     'correlation_135','homogeneity_0','homogeneity_45','homogeneity_90','homogeneity_135']\n",
        "\n",
        "assembler = VectorAssembler(inputCols=required_features, outputCol='features')\n",
        "transformed_data = assembler.transform(dataset)"
      ],
      "metadata": {
        "id": "qXtVcQKA4vy3"
      },
      "execution_count": null,
      "outputs": []
    },
    {
      "cell_type": "code",
      "source": [
        "transformed_data.show()"
      ],
      "metadata": {
        "colab": {
          "base_uri": "https://localhost:8080/"
        },
        "id": "F7K_oGAa405U",
        "outputId": "eec42c28-4af4-4f6c-df74-90fceb9c9fd2"
      },
      "execution_count": null,
      "outputs": [
        {
          "output_type": "stream",
          "name": "stdout",
          "text": [
            "+----+------------+------------+------------+------------+----------+-----------+-----------+------------+---------------+----------------+----------------+-----------------+-------------+--------------+--------------+---------------+-------------+--------------+--------------+---------------+-----+--------------------+\n",
            "| _c0|       ASM_0|      ASM_45|      ASM_90|     ASM_135|contrast_0|contrast_45|contrast_90|contrast_135|dissimilarity_0|dissimilarity_45|dissimilarity_90|dissimilarity_135|correlation_0|correlation_45|correlation_90|correlation_135|homogeneity_0|homogeneity_45|homogeneity_90|homogeneity_135|label|            features|\n",
            "+----+------------+------------+------------+------------+----------+-----------+-----------+------------+---------------+----------------+----------------+-----------------+-------------+--------------+--------------+---------------+-------------+--------------+--------------+---------------+-----+--------------------+\n",
            "| 0.0|1.1782412E-4|1.1581074E-4|1.2279594E-4|1.1441806E-4|  765.4759|   818.4702|  729.95776|    825.5803|      19.270035|       19.948503|       18.647728|        20.104502|    0.7371583|     0.7189155|     0.7491798|      0.7163121|   0.06960142|   0.067714565|    0.07147535|     0.06535034|  1.0|[1.17824121844023...|\n",
            "| 1.0|1.2813648E-4|1.3321046E-4|1.6161492E-4|1.3166634E-4| 916.98065|   871.6729|  659.10223|   885.61774|      20.863039|       20.183277|       16.953266|        20.512419|   0.78208774|    0.79256415|    0.84417444|     0.78925866|   0.07195329|    0.07558069|    0.09733394|      0.0747317|  1.0|[1.28136482089757...|\n",
            "| 2.0|1.3116474E-4|1.3936653E-4|1.5642242E-4|1.2901932E-4|   702.746|   666.9425|    526.051|    699.7532|      18.218328|       17.409126|        15.21774|        18.259428|   0.82188785|    0.83178407|     0.8687373|     0.82355344|   0.07698281|    0.08413753|    0.09893308|     0.07759421|  1.0|[1.31164735648781...|\n",
            "| 3.0|5.0550865E-5| 4.718804E-5|4.9672828E-5| 4.919135E-5| 1732.0237|  2012.3834|  1875.5748|    1867.232|       29.49843|        32.08319|       30.443333|        30.533728|     0.730641|     0.6867446|    0.70773906|      0.7093235|   0.04560864|   0.040866133|    0.04527344|     0.04291343|  1.0|[5.05508651258423...|\n",
            "| 4.0|6.8332156E-5|6.5803986E-5| 7.108283E-5| 6.779407E-5| 1438.7721|  1592.7974|  1502.1774|   1535.4161|         26.402|       27.805115|       26.369526|        27.036945|    0.7411313|    0.71178466|     0.7279965|      0.7220011|  0.056386832|   0.052604686|    0.05739408|    0.056293145|  1.0|[6.83321559336036...|\n",
            "| 5.0| 7.010769E-5|6.0586484E-5|5.9951228E-5|6.0205977E-5| 1451.1747|  2232.6802|   2309.441|   2059.5564|      25.626972|        32.09038|       32.828056|           31.393|   0.74373436|    0.60552925|     0.5910895|     0.63610685|   0.06171341|    0.05274651|   0.051597703|    0.052127425|  1.0|[7.01076933182776...|\n",
            "| 6.0| 5.054269E-5|4.9733255E-5|4.9505314E-5| 4.823102E-5|  2115.235|  2293.3792|  2285.7322|    2363.654|      32.632915|       33.961777|        33.85259|        34.488472|   0.67627543|    0.64965445|     0.6515452|     0.63883764|  0.049106434|   0.048585325|    0.04719913|    0.044904348|  1.0|[5.05426905874628...|\n",
            "| 7.0| 5.569485E-5|5.6507837E-5|5.7391553E-5|5.3355907E-5| 2427.6711|  2326.6313|  2260.9739|   2654.1814|      34.514057|       33.769974|       33.348465|        36.252384|    0.6689181|     0.6819208|     0.6901363|      0.6371342|   0.04652765|   0.048231713|   0.048857197|    0.045139536|  1.0|[5.56948507437482...|\n",
            "| 8.0|  6.50458E-5| 5.843357E-5| 5.987558E-5|  5.90679E-5| 1545.8187|  1942.6353|  1859.5597|   1738.2571|      26.989073|       30.530098|       29.775751|        29.271217|   0.73589116|    0.66782767|     0.6797389|     0.70276386|   0.06373763|   0.056789596|    0.05694289|    0.054773398|  1.0|[6.50458023301325...|\n",
            "| 9.0| 6.658936E-5| 6.399563E-5| 7.817198E-5|6.4219166E-5| 1647.6183|  1766.6764|  1598.8132|   1758.1346|       28.28749|       29.207726|        26.84635|        29.410975|    0.7886038|     0.7741811|     0.7956054|     0.77527446|  0.061141297|   0.059494324|   0.074088104|    0.058644753|  1.0|[6.65893603581935...|\n",
            "|10.0| 1.760671E-4|1.7624754E-4|1.9276913E-4| 1.743723E-4|  742.2235|   731.0936|  579.11786|   726.53406|      19.106316|        18.96867|        16.47479|         18.84617|    0.7895068|    0.79429054|    0.83994424|      0.7954673|  0.077792555|    0.07633939|    0.08966766|     0.07718403|  1.0|[1.76067100255750...|\n",
            "|11.0| 5.959424E-5|5.1885458E-5| 5.823448E-5|6.1148974E-5| 1773.5172|  2413.0452|  2140.7766|    2031.615|      28.229559|        34.37727|       32.120804|         31.05152|    0.7368893|     0.6410092|    0.68108195|     0.69777185|  0.058423847|   0.047968514|   0.054595992|     0.05631678|  1.0|[5.95942401560023...|\n",
            "|12.0| 5.139104E-5| 4.950034E-5| 5.341639E-5| 5.032675E-5| 2064.4146|  2123.4766|  1864.0852|    2159.934|      32.052193|        32.92361|        30.59679|         32.88081|     0.661735|     0.6527817|     0.6950977|      0.6468001|   0.04577454|     0.0429596|   0.049467146|    0.045411933|  1.0|[5.13910417794249...|\n",
            "|13.0| 5.004303E-5| 4.685065E-5| 4.793316E-5|4.7151698E-5| 2283.7883|  2448.2969|  2379.3975|   2453.5244|       35.15043|       37.075592|       36.349117|        36.833237|   0.61658835|    0.58023894|    0.59035707|       0.579229|  0.040262744|    0.03342932|    0.03391839|    0.035337225|  1.0|[5.00430287502240...|\n",
            "|14.0|6.0170896E-5|5.8223904E-5| 5.948827E-5| 5.678296E-5| 1815.2456|  1913.5284|  1867.1768|   2106.6672|      30.136192|       31.245949|       30.665854|         32.61491|    0.6193987|    0.59836423|     0.6077802|     0.55783993|   0.04536879|    0.04345149|   0.044479307|    0.041703593|  1.0|[6.01708961767144...|\n",
            "|15.0|1.0970979E-4|1.0241022E-4|1.0308398E-4| 9.947374E-5| 814.16235|   951.9292|  967.75696|    990.6475|      18.483694|       20.175688|       20.126915|        20.473282|    0.8224648|     0.7927873|     0.7897172|       0.784383|   0.08572109|     0.0775449|   0.078891195|     0.07453924|  1.0|[1.09709792013745...|\n",
            "|16.0| 5.768202E-5| 5.409061E-5| 5.757228E-5|5.5276687E-5| 1982.4817|  2253.4763|  2013.0126|   2076.9468|      31.247898|       33.709904|       31.513842|        32.406113|   0.66895926|     0.6196073|    0.65995073|     0.64938945|  0.051927265|   0.046534207|   0.051691037|    0.048223678|  1.0|[5.76820202695671...|\n",
            "|17.0|7.4706244E-5|  7.30235E-5|  7.45065E-5|7.1153976E-5| 1134.4316|  1193.1257|  1200.9496|   1285.2688|      24.052633|       24.869408|       24.741096|        25.619007|   0.77127737|    0.75993943|    0.75779164|      0.7413683|  0.059754614|   0.058380287|   0.060721193|    0.058024105|  1.0|[7.47062440495938...|\n",
            "|18.0| 6.696102E-5|6.4773645E-5| 7.075081E-5| 6.579839E-5|  2274.609|  2274.0286|  1874.2654|   2295.7231|      32.154293|       32.376793|       28.936813|         32.22173|     0.716311|     0.7163208|    0.76836205|      0.7137141|    0.0528187|   0.051515058|   0.056753203|    0.051143225|  1.0|[6.69610235490836...|\n",
            "|19.0| 1.306917E-4| 1.299319E-4|1.4896282E-4|1.3574635E-4| 675.51355|   686.6823|  516.68994|    639.0497|      18.356825|       18.510763|       15.557853|         17.62209|    0.7961353|    0.79272306|     0.8457292|      0.8069715|   0.07096212|    0.07063816|   0.086598344|    0.074125856|  1.0|[1.30691696540452...|\n",
            "+----+------------+------------+------------+------------+----------+-----------+-----------+------------+---------------+----------------+----------------+-----------------+-------------+--------------+--------------+---------------+-------------+--------------+--------------+---------------+-----+--------------------+\n",
            "only showing top 20 rows\n",
            "\n"
          ]
        }
      ]
    },
    {
      "cell_type": "code",
      "source": [
        "# Split the data into 80:20 ratio\n",
        "(training_data, test_data) = transformed_data.randomSplit([0.8,0.2])"
      ],
      "metadata": {
        "id": "qJk-iWHm42x3"
      },
      "execution_count": null,
      "outputs": []
    },
    {
      "cell_type": "code",
      "source": [
        "# Define the model\n",
        "rf = RandomForestClassifier(labelCol='label',\n",
        "                            featuresCol='features',\n",
        "                            maxDepth=5,\n",
        "                            numTrees=25,\n",
        "                            impurity='entropy'\n",
        "                            )"
      ],
      "metadata": {
        "id": "vNWxe3TZ5IT_"
      },
      "execution_count": null,
      "outputs": []
    },
    {
      "cell_type": "code",
      "source": [
        "ml_start = time.time()"
      ],
      "metadata": {
        "id": "yR96DCwcPWT6"
      },
      "execution_count": null,
      "outputs": []
    },
    {
      "cell_type": "code",
      "source": [
        "# Fit the model\n",
        "model = rf.fit(training_data)"
      ],
      "metadata": {
        "id": "_-p8Zdci5IQp"
      },
      "execution_count": null,
      "outputs": []
    },
    {
      "cell_type": "code",
      "source": [
        "model.save('/content/MLmodel.h5')"
      ],
      "metadata": {
        "id": "9ZhWsf69Gdph"
      },
      "execution_count": null,
      "outputs": []
    },
    {
      "cell_type": "code",
      "source": [
        "ml_end = time.time()"
      ],
      "metadata": {
        "id": "3q3wPXgEPgWm"
      },
      "execution_count": null,
      "outputs": []
    },
    {
      "cell_type": "code",
      "source": [
        "# Predict with the test dataset\n",
        "predictions = model.transform(test_data)"
      ],
      "metadata": {
        "id": "lS106uGR5IOI"
      },
      "execution_count": null,
      "outputs": []
    },
    {
      "cell_type": "code",
      "source": [
        "# Evaluate our model\n",
        "evaluator = MulticlassClassificationEvaluator(\n",
        "    labelCol='label',\n",
        "    metricName='accuracy')"
      ],
      "metadata": {
        "id": "uRWu9_LO44m3"
      },
      "execution_count": null,
      "outputs": []
    },
    {
      "cell_type": "code",
      "source": [
        "# Accuracy\n",
        "accuracy = evaluator.evaluate(predictions)\n",
        "print('Test Accuracy = ', accuracy)"
      ],
      "metadata": {
        "colab": {
          "base_uri": "https://localhost:8080/"
        },
        "id": "p9fJLAnK5ILg",
        "outputId": "60a64a5a-a8bf-42e8-f873-e9a02362aac2"
      },
      "execution_count": null,
      "outputs": [
        {
          "output_type": "stream",
          "name": "stdout",
          "text": [
            "Test Accuracy =  0.8850574712643678\n"
          ]
        }
      ]
    },
    {
      "cell_type": "code",
      "source": [
        "new_df = predictions.select(\"label\",\"prediction\")"
      ],
      "metadata": {
        "id": "vFDOPMAN5MTc"
      },
      "execution_count": null,
      "outputs": []
    },
    {
      "cell_type": "code",
      "source": [
        "metrics = MulticlassMetrics(new_df.rdd.map(tuple))\n",
        "cm = metrics.confusionMatrix().toArray()\n",
        "print(cm)"
      ],
      "metadata": {
        "colab": {
          "base_uri": "https://localhost:8080/"
        },
        "id": "p8_AlKKD5TY9",
        "outputId": "21f58270-cfaf-42ce-aab1-8791efb7a6ed"
      },
      "execution_count": null,
      "outputs": [
        {
          "output_type": "stream",
          "name": "stderr",
          "text": [
            "/usr/local/lib/python3.9/dist-packages/pyspark/sql/context.py:157: FutureWarning: Deprecated in 3.0.0. Use SparkSession.builder.getOrCreate() instead.\n",
            "  warnings.warn(\n"
          ]
        },
        {
          "output_type": "stream",
          "name": "stdout",
          "text": [
            "[[ 86.   9.]\n",
            " [ 21. 145.]]\n"
          ]
        }
      ]
    },
    {
      "cell_type": "code",
      "source": [
        "# Overall statistics\n",
        "precision = metrics.precision(1.0)\n",
        "recall = metrics.recall(1.0)\n",
        "f1Score = metrics.fMeasure(1.0)\n",
        "print(\"Summary Stats\")\n",
        "print(\"Precision = %s\" % precision)\n",
        "print(\"Recall = %s\" % recall)\n",
        "print(\"F1 Score = %s\" % f1Score)"
      ],
      "metadata": {
        "colab": {
          "base_uri": "https://localhost:8080/"
        },
        "id": "gz6galgq5TVD",
        "outputId": "b880286b-3aff-428b-ccbd-fbe30a93cabc"
      },
      "execution_count": null,
      "outputs": [
        {
          "output_type": "stream",
          "name": "stdout",
          "text": [
            "Summary Stats\n",
            "Precision = 0.9415584415584416\n",
            "Recall = 0.8734939759036144\n",
            "F1 Score = 0.9062499999999999\n"
          ]
        }
      ]
    },
    {
      "cell_type": "code",
      "source": [
        "sns.heatmap(cm,annot=True)"
      ],
      "metadata": {
        "colab": {
          "base_uri": "https://localhost:8080/"
        },
        "id": "63z2yfIR5TSd",
        "outputId": "07e247b3-e1cb-47c6-b99f-0ff1828aa114"
      },
      "execution_count": null,
      "outputs": [
        {
          "output_type": "execute_result",
          "data": {
            "text/plain": [
              "<Axes: >"
            ]
          },
          "metadata": {},
          "execution_count": 60
        },
        {
          "output_type": "display_data",
          "data": {
            "text/plain": [
              "<Figure size 640x480 with 2 Axes>"
            ],
            "image/png": "[encoded data removed]"
          },
          "metadata": {}
        }
      ]
    },
    {
      "cell_type": "markdown",
      "source": [
        "# DEEP LEARNING MODEL"
      ],
      "metadata": {
        "id": "9jHBEQj63sou"
      }
    },
    {
      "cell_type": "code",
      "source": [
        "train_data_dir = '/content/dataset - strawberry leaves'\n",
        "validation_data_dir = '/content/data/val'\n",
        "test_data_dir = '/content/data/test'\n",
        "\n",
        "img_width, img_height = 300,300"
      ],
      "metadata": {
        "id": "iUEylNOL30M6"
      },
      "execution_count": null,
      "outputs": []
    },
    {
      "cell_type": "code",
      "source": [
        "train_datagen = ImageDataGenerator(\n",
        "    rotation_range=90,\n",
        "    horizontal_flip=True,\n",
        "    zoom_range = 0.2,\n",
        "    rescale= 1./255)\n",
        "val_datagen = ImageDataGenerator(rescale=1./255)"
      ],
      "metadata": {
        "id": "9rC59ihn6Wu2"
      },
      "execution_count": null,
      "outputs": []
    },
    {
      "cell_type": "code",
      "source": [
        "train_generator = train_datagen.flow_from_directory(\n",
        "    train_data_dir,\n",
        "    target_size=(img_width, img_height),\n",
        "    class_mode='categorical')\n",
        "\n",
        "val_generator = val_datagen.flow_from_directory(\n",
        "    validation_data_dir,\n",
        "    target_size=(img_width, img_height),\n",
        "    class_mode='categorical')"
      ],
      "metadata": {
        "colab": {
          "base_uri": "https://localhost:8080/"
        },
        "id": "OdWD3lIF6Y4i",
        "outputId": "4cb5e69b-9fd7-4408-cdca-7f313bac1f5d"
      },
      "execution_count": null,
      "outputs": [
        {
          "output_type": "stream",
          "name": "stdout",
          "text": [
            "Found 1431 images belonging to 2 classes.\n",
            "Found 286 images belonging to 2 classes.\n"
          ]
        }
      ]
    },
    {
      "cell_type": "code",
      "source": [
        "batch_size = 32\n",
        "epochs = 20\n",
        "num_classes = 2"
      ],
      "metadata": {
        "id": "hkzK-3yVTJ3E"
      },
      "execution_count": null,
      "outputs": []
    },
    {
      "cell_type": "code",
      "source": [
        "train_rdd = to_simple_rdd(sc, train_generator[0], train_generator[1])"
      ],
      "metadata": {
        "id": "YIlH66H_6a7T"
      },
      "execution_count": null,
      "outputs": []
    },
    {
      "cell_type": "markdown",
      "source": [
        "### CNN"
      ],
      "metadata": {
        "id": "CTSag7JSW4_p"
      }
    },
    {
      "cell_type": "code",
      "source": [
        "model = Sequential()\n",
        "model.add(Conv2D(32, (3, 3), activation='relu', input_shape=(img_width, img_height, 3)))\n",
        "model.add(MaxPooling2D((2, 2)))\n",
        "model.add(Conv2D(64, (3, 3), activation='relu'))\n",
        "model.add(MaxPooling2D((2, 2)))\n",
        "model.add(Conv2D(128, (3, 3), activation='relu'))\n",
        "model.add(MaxPooling2D((2, 2)))\n",
        "model.add(Flatten())\n",
        "model.add(Dense(512, activation='sigmoid'))\n",
        "model.add(Dense(256, activation='tanh'))\n",
        "model.add(Dense(128, activation='tanh'))\n",
        "model.add(Dense(num_classes, activation='softmax'))\n",
        "\n",
        "model.compile(optimizer='adam', loss='categorical_crossentropy', metrics=['accuracy'])"
      ],
      "metadata": {
        "id": "gbxq1e-F6eTQ"
      },
      "execution_count": null,
      "outputs": []
    },
    {
      "cell_type": "code",
      "source": [
        "dl_cnn_start = time.time()"
      ],
      "metadata": {
        "id": "W8IzpTwsQIGo"
      },
      "execution_count": null,
      "outputs": []
    },
    {
      "cell_type": "code",
      "source": [
        "spark_model_cnn = SparkModel(model, frequency='epoch', mode='asynchronous')\n",
        "spark_model_cnn.fit(train_rdd, epochs=epochs, batch_size=32)"
      ],
      "metadata": {
        "colab": {
          "base_uri": "https://localhost:8080/"
        },
        "id": "WoY7KrST6paT",
        "outputId": "11fcf8c8-ca3a-4370-ead0-fd17b58034d2"
      },
      "execution_count": null,
      "outputs": [
        {
          "output_type": "stream",
          "name": "stdout",
          "text": [
            ">>> Fit model\n",
            " * Serving Flask app 'elephas.parameter.server'\n",
            " * Debug mode: off\n"
          ]
        },
        {
          "output_type": "stream",
          "name": "stderr",
          "text": [
            "INFO:werkzeug:\u001b[31m\u001b[1mWARNING: This is a development server. Do not use it in a production deployment. Use a production WSGI server instead.\u001b[0m\n",
            " * Running on http://172.28.0.12:4000\n",
            "INFO:werkzeug:\u001b[33mPress CTRL+C to quit\u001b[0m\n"
          ]
        },
        {
          "output_type": "stream",
          "name": "stdout",
          "text": [
            ">>> Initialize workers\n",
            ">>> Distribute load\n"
          ]
        },
        {
          "output_type": "stream",
          "name": "stderr",
          "text": [
            "INFO:werkzeug:172.28.0.12 - - [08/May/2023 15:22:28] \"GET /parameters HTTP/1.1\" 200 -\n",
            "INFO:werkzeug:172.28.0.12 - - [08/May/2023 15:22:28] \"GET /parameters HTTP/1.1\" 200 -\n",
            "INFO:werkzeug:172.28.0.12 - - [08/May/2023 15:22:32] \"POST /update HTTP/1.1\" 200 -\n",
            "INFO:werkzeug:172.28.0.12 - - [08/May/2023 15:22:33] \"GET /parameters HTTP/1.1\" 200 -\n",
            "INFO:werkzeug:172.28.0.12 - - [08/May/2023 15:22:35] \"POST /update HTTP/1.1\" 200 -\n",
            "INFO:werkzeug:172.28.0.12 - - [08/May/2023 15:22:35] \"GET /parameters HTTP/1.1\" 200 -\n",
            "INFO:werkzeug:172.28.0.12 - - [08/May/2023 15:22:37] \"POST /update HTTP/1.1\" 200 -\n",
            "INFO:werkzeug:172.28.0.12 - - [08/May/2023 15:22:38] \"GET /parameters HTTP/1.1\" 200 -\n",
            "INFO:werkzeug:172.28.0.12 - - [08/May/2023 15:22:40] \"POST /update HTTP/1.1\" 200 -\n",
            "INFO:werkzeug:172.28.0.12 - - [08/May/2023 15:22:41] \"GET /parameters HTTP/1.1\" 200 -\n",
            "INFO:werkzeug:172.28.0.12 - - [08/May/2023 15:22:43] \"POST /update HTTP/1.1\" 200 -\n",
            "INFO:werkzeug:172.28.0.12 - - [08/May/2023 15:22:44] \"GET /parameters HTTP/1.1\" 200 -\n",
            "INFO:werkzeug:172.28.0.12 - - [08/May/2023 15:22:46] \"POST /update HTTP/1.1\" 200 -\n",
            "INFO:werkzeug:172.28.0.12 - - [08/May/2023 15:22:46] \"GET /parameters HTTP/1.1\" 200 -\n",
            "INFO:werkzeug:172.28.0.12 - - [08/May/2023 15:22:48] \"POST /update HTTP/1.1\" 200 -\n",
            "INFO:werkzeug:172.28.0.12 - - [08/May/2023 15:22:48] \"GET /parameters HTTP/1.1\" 200 -\n",
            "INFO:werkzeug:172.28.0.12 - - [08/May/2023 15:22:50] \"POST /update HTTP/1.1\" 200 -\n",
            "INFO:werkzeug:172.28.0.12 - - [08/May/2023 15:22:50] \"GET /parameters HTTP/1.1\" 200 -\n",
            "INFO:werkzeug:172.28.0.12 - - [08/May/2023 15:22:52] \"POST /update HTTP/1.1\" 200 -\n",
            "INFO:werkzeug:172.28.0.12 - - [08/May/2023 15:22:53] \"GET /parameters HTTP/1.1\" 200 -\n",
            "INFO:werkzeug:172.28.0.12 - - [08/May/2023 15:22:54] \"POST /update HTTP/1.1\" 200 -\n",
            "INFO:werkzeug:172.28.0.12 - - [08/May/2023 15:22:55] \"GET /parameters HTTP/1.1\" 200 -\n",
            "INFO:werkzeug:172.28.0.12 - - [08/May/2023 15:22:57] \"POST /update HTTP/1.1\" 200 -\n",
            "INFO:werkzeug:172.28.0.12 - - [08/May/2023 15:22:58] \"GET /parameters HTTP/1.1\" 200 -\n",
            "INFO:werkzeug:172.28.0.12 - - [08/May/2023 15:23:00] \"POST /update HTTP/1.1\" 200 -\n",
            "INFO:werkzeug:172.28.0.12 - - [08/May/2023 15:23:01] \"GET /parameters HTTP/1.1\" 200 -\n",
            "INFO:werkzeug:172.28.0.12 - - [08/May/2023 15:23:03] \"POST /update HTTP/1.1\" 200 -\n",
            "INFO:werkzeug:172.28.0.12 - - [08/May/2023 15:23:03] \"GET /parameters HTTP/1.1\" 200 -\n",
            "INFO:werkzeug:172.28.0.12 - - [08/May/2023 15:23:05] \"POST /update HTTP/1.1\" 200 -\n",
            "INFO:werkzeug:172.28.0.12 - - [08/May/2023 15:23:05] \"GET /parameters HTTP/1.1\" 200 -\n",
            "INFO:werkzeug:172.28.0.12 - - [08/May/2023 15:23:08] \"POST /update HTTP/1.1\" 200 -\n",
            "INFO:werkzeug:172.28.0.12 - - [08/May/2023 15:23:09] \"GET /parameters HTTP/1.1\" 200 -\n",
            "INFO:werkzeug:172.28.0.12 - - [08/May/2023 15:23:10] \"POST /update HTTP/1.1\" 200 -\n",
            "INFO:werkzeug:172.28.0.12 - - [08/May/2023 15:23:11] \"GET /parameters HTTP/1.1\" 200 -\n",
            "INFO:werkzeug:172.28.0.12 - - [08/May/2023 15:23:12] \"POST /update HTTP/1.1\" 200 -\n",
            "INFO:werkzeug:172.28.0.12 - - [08/May/2023 15:23:13] \"GET /parameters HTTP/1.1\" 200 -\n",
            "INFO:werkzeug:172.28.0.12 - - [08/May/2023 15:23:16] \"POST /update HTTP/1.1\" 200 -\n",
            "INFO:werkzeug:172.28.0.12 - - [08/May/2023 15:23:16] \"GET /parameters HTTP/1.1\" 200 -\n",
            "INFO:werkzeug:172.28.0.12 - - [08/May/2023 15:23:19] \"POST /update HTTP/1.1\" 200 -\n",
            "INFO:werkzeug:172.28.0.12 - - [08/May/2023 15:23:19] \"GET /parameters HTTP/1.1\" 200 -\n",
            "INFO:werkzeug:172.28.0.12 - - [08/May/2023 15:23:21] \"POST /update HTTP/1.1\" 200 -\n",
            "INFO:werkzeug:172.28.0.12 - - [08/May/2023 15:23:21] \"GET /parameters HTTP/1.1\" 200 -\n",
            "INFO:werkzeug:172.28.0.12 - - [08/May/2023 15:23:23] \"POST /update HTTP/1.1\" 200 -\n",
            "INFO:werkzeug:172.28.0.12 - - [08/May/2023 15:23:23] \"GET /parameters HTTP/1.1\" 200 -\n",
            "INFO:werkzeug:172.28.0.12 - - [08/May/2023 15:23:25] \"POST /update HTTP/1.1\" 200 -\n",
            "INFO:werkzeug:172.28.0.12 - - [08/May/2023 15:23:25] \"GET /parameters HTTP/1.1\" 200 -\n",
            "INFO:werkzeug:172.28.0.12 - - [08/May/2023 15:23:27] \"POST /update HTTP/1.1\" 200 -\n",
            "INFO:werkzeug:172.28.0.12 - - [08/May/2023 15:23:27] \"GET /parameters HTTP/1.1\" 200 -\n",
            "INFO:werkzeug:172.28.0.12 - - [08/May/2023 15:23:29] \"POST /update HTTP/1.1\" 200 -\n",
            "INFO:werkzeug:172.28.0.12 - - [08/May/2023 15:23:30] \"GET /parameters HTTP/1.1\" 200 -\n",
            "INFO:werkzeug:172.28.0.12 - - [08/May/2023 15:23:32] \"POST /update HTTP/1.1\" 200 -\n",
            "INFO:werkzeug:172.28.0.12 - - [08/May/2023 15:23:33] \"GET /parameters HTTP/1.1\" 200 -\n",
            "INFO:werkzeug:172.28.0.12 - - [08/May/2023 15:23:35] \"POST /update HTTP/1.1\" 200 -\n",
            "INFO:werkzeug:172.28.0.12 - - [08/May/2023 15:23:36] \"GET /parameters HTTP/1.1\" 200 -\n",
            "INFO:werkzeug:172.28.0.12 - - [08/May/2023 15:23:37] \"POST /update HTTP/1.1\" 200 -\n",
            "INFO:werkzeug:172.28.0.12 - - [08/May/2023 15:23:38] \"GET /parameters HTTP/1.1\" 200 -\n",
            "INFO:werkzeug:172.28.0.12 - - [08/May/2023 15:23:40] \"POST /update HTTP/1.1\" 200 -\n",
            "INFO:werkzeug:172.28.0.12 - - [08/May/2023 15:23:40] \"GET /parameters HTTP/1.1\" 200 -\n",
            "INFO:werkzeug:172.28.0.12 - - [08/May/2023 15:23:41] \"POST /update HTTP/1.1\" 200 -\n",
            "INFO:werkzeug:172.28.0.12 - - [08/May/2023 15:23:42] \"GET /parameters HTTP/1.1\" 200 -\n",
            "INFO:werkzeug:172.28.0.12 - - [08/May/2023 15:23:44] \"POST /update HTTP/1.1\" 200 -\n",
            "INFO:werkzeug:172.28.0.12 - - [08/May/2023 15:23:44] \"GET /parameters HTTP/1.1\" 200 -\n",
            "INFO:werkzeug:172.28.0.12 - - [08/May/2023 15:23:46] \"POST /update HTTP/1.1\" 200 -\n",
            "INFO:werkzeug:172.28.0.12 - - [08/May/2023 15:23:46] \"GET /parameters HTTP/1.1\" 200 -\n",
            "INFO:werkzeug:172.28.0.12 - - [08/May/2023 15:23:49] \"POST /update HTTP/1.1\" 200 -\n",
            "INFO:werkzeug:172.28.0.12 - - [08/May/2023 15:23:49] \"GET /parameters HTTP/1.1\" 200 -\n",
            "INFO:werkzeug:172.28.0.12 - - [08/May/2023 15:23:51] \"POST /update HTTP/1.1\" 200 -\n",
            "INFO:werkzeug:172.28.0.12 - - [08/May/2023 15:23:52] \"GET /parameters HTTP/1.1\" 200 -\n",
            "INFO:werkzeug:172.28.0.12 - - [08/May/2023 15:23:54] \"POST /update HTTP/1.1\" 200 -\n",
            "INFO:werkzeug:172.28.0.12 - - [08/May/2023 15:23:54] \"GET /parameters HTTP/1.1\" 200 -\n",
            "INFO:werkzeug:172.28.0.12 - - [08/May/2023 15:23:56] \"POST /update HTTP/1.1\" 200 -\n",
            "INFO:werkzeug:172.28.0.12 - - [08/May/2023 15:23:57] \"GET /parameters HTTP/1.1\" 200 -\n",
            "INFO:werkzeug:172.28.0.12 - - [08/May/2023 15:23:58] \"POST /update HTTP/1.1\" 200 -\n",
            "INFO:werkzeug:172.28.0.12 - - [08/May/2023 15:23:59] \"GET /parameters HTTP/1.1\" 200 -\n",
            "INFO:werkzeug:172.28.0.12 - - [08/May/2023 15:24:00] \"POST /update HTTP/1.1\" 200 -\n",
            "INFO:werkzeug:172.28.0.12 - - [08/May/2023 15:24:01] \"GET /parameters HTTP/1.1\" 200 -\n",
            "INFO:werkzeug:172.28.0.12 - - [08/May/2023 15:24:02] \"POST /update HTTP/1.1\" 200 -\n",
            "INFO:werkzeug:172.28.0.12 - - [08/May/2023 15:24:03] \"GET /parameters HTTP/1.1\" 200 -\n",
            "INFO:werkzeug:172.28.0.12 - - [08/May/2023 15:24:05] \"POST /update HTTP/1.1\" 200 -\n",
            "INFO:werkzeug:172.28.0.12 - - [08/May/2023 15:24:06] \"POST /update HTTP/1.1\" 200 -\n"
          ]
        },
        {
          "output_type": "stream",
          "name": "stdout",
          "text": [
            ">>> Async training complete.\n"
          ]
        },
        {
          "output_type": "stream",
          "name": "stderr",
          "text": [
            "INFO:werkzeug:172.28.0.12 - - [08/May/2023 15:24:07] \"GET /parameters HTTP/1.1\" 200 -\n"
          ]
        }
      ]
    },
    {
      "cell_type": "code",
      "source": [
        "dl_cnn_end = time.time()"
      ],
      "metadata": {
        "id": "pClX3WhIQPsN"
      },
      "execution_count": null,
      "outputs": []
    },
    {
      "cell_type": "code",
      "source": [
        "scores = spark_model_cnn.master_network.evaluate(val_generator)\n",
        "print(\"Loss: \",(scores[0]))\n",
        "print(\"Accuracy: \",(scores[1]))"
      ],
      "metadata": {
        "colab": {
          "base_uri": "https://localhost:8080/"
        },
        "id": "RTh6dywlQKt0",
        "outputId": "cc105f5a-13a1-410a-ce1f-a5a2dc5b3501"
      },
      "execution_count": null,
      "outputs": [
        {
          "output_type": "stream",
          "name": "stdout",
          "text": [
            "9/9 [==============================] - 125s 13s/step - loss: 0.7620 - accuracy: 0.5629\n",
            "Loss:  0.7619968056678772\n",
            "Accuracy:  0.5629370808601379\n"
          ]
        }
      ]
    },
    {
      "cell_type": "markdown",
      "source": [
        "### TRANSFER LEARNING - VGG16"
      ],
      "metadata": {
        "id": "pBEF6it5XGLj"
      }
    },
    {
      "cell_type": "code",
      "source": [
        "# Load pre-trained VGG16 model\n",
        "base_model = VGG16(weights='imagenet', include_top=False, input_shape=(img_width, img_height, 3))\n",
        "\n",
        "# Freeze convolutional layers\n",
        "for layer in base_model.layers:\n",
        "    layer.trainable = False\n",
        "\n",
        "# Add new trainable layers\n",
        "model = Sequential()\n",
        "model.add(base_model)\n",
        "model.add(Flatten())\n",
        "model.add(Dense(512, activation='relu'))\n",
        "model.add(Dropout(0.5))\n",
        "model.add(Dense(num_classes, activation='softmax'))\n",
        "\n",
        "# Compile the model\n",
        "model.compile(loss='categorical_crossentropy',\n",
        "              optimizer=optimizers.Adam(),\n",
        "              metrics=['accuracy'])"
      ],
      "metadata": {
        "id": "HGqsvKJUXMC5",
        "colab": {
          "base_uri": "https://localhost:8080/"
        },
        "outputId": "8454803e-59c3-4df2-cd83-da685735379f"
      },
      "execution_count": null,
      "outputs": [
        {
          "output_type": "stream",
          "name": "stdout",
          "text": [
            "Downloading data from https://storage.googleapis.com/tensorflow/keras-applications/vgg16/vgg16_weights_tf_dim_ordering_tf_kernels_notop.h5\n",
            "58889256/58889256 [==============================] - 2s 0us/step\n"
          ]
        }
      ]
    },
    {
      "cell_type": "code",
      "source": [
        "dl_vgg_start = time.time()"
      ],
      "metadata": {
        "id": "nGwWJakVYGKo"
      },
      "execution_count": null,
      "outputs": []
    },
    {
      "cell_type": "code",
      "source": [
        "spark_model_tf = SparkModel(model, frequency='epoch', mode='asynchronous')\n",
        "\n",
        "# Fit the SparkModel\n",
        "spark_model_tf.fit(train_rdd, epochs=epochs, batch_size=batch_size, verbose=1, validation_split=0.1)"
      ],
      "metadata": {
        "colab": {
          "base_uri": "https://localhost:8080/"
        },
        "id": "CPHAqvIoXuR_",
        "outputId": "9edfd2cd-c233-49fd-d59e-ec943d663d37"
      },
      "execution_count": null,
      "outputs": [
        {
          "output_type": "stream",
          "name": "stdout",
          "text": [
            ">>> Fit model\n",
            " * Serving Flask app 'elephas.parameter.server'\n",
            " * Debug mode: off\n"
          ]
        },
        {
          "output_type": "stream",
          "name": "stderr",
          "text": [
            "INFO:werkzeug:\u001b[31m\u001b[1mWARNING: This is a development server. Do not use it in a production deployment. Use a production WSGI server instead.\u001b[0m\n",
            " * Running on http://172.28.0.12:4000\n",
            "INFO:werkzeug:\u001b[33mPress CTRL+C to quit\u001b[0m\n"
          ]
        },
        {
          "output_type": "stream",
          "name": "stdout",
          "text": [
            ">>> Initialize workers\n",
            ">>> Distribute load\n"
          ]
        },
        {
          "output_type": "stream",
          "name": "stderr",
          "text": [
            "INFO:werkzeug:172.28.0.12 - - [08/May/2023 14:53:38] \"GET /parameters HTTP/1.1\" 200 -\n",
            "INFO:werkzeug:172.28.0.12 - - [08/May/2023 14:53:38] \"GET /parameters HTTP/1.1\" 200 -\n",
            "INFO:werkzeug:172.28.0.12 - - [08/May/2023 14:53:40] \"POST /update HTTP/1.1\" 200 -\n",
            "INFO:werkzeug:172.28.0.12 - - [08/May/2023 14:53:41] \"POST /update HTTP/1.1\" 200 -\n",
            "INFO:werkzeug:172.28.0.12 - - [08/May/2023 14:53:41] \"GET /parameters HTTP/1.1\" 200 -\n",
            "INFO:werkzeug:172.28.0.12 - - [08/May/2023 14:53:41] \"GET /parameters HTTP/1.1\" 200 -\n",
            "INFO:werkzeug:172.28.0.12 - - [08/May/2023 14:53:43] \"POST /update HTTP/1.1\" 200 -\n",
            "INFO:werkzeug:172.28.0.12 - - [08/May/2023 14:53:44] \"POST /update HTTP/1.1\" 200 -\n",
            "INFO:werkzeug:172.28.0.12 - - [08/May/2023 14:53:44] \"GET /parameters HTTP/1.1\" 200 -\n",
            "INFO:werkzeug:172.28.0.12 - - [08/May/2023 14:53:44] \"GET /parameters HTTP/1.1\" 200 -\n",
            "INFO:werkzeug:172.28.0.12 - - [08/May/2023 14:53:46] \"POST /update HTTP/1.1\" 200 -\n",
            "INFO:werkzeug:172.28.0.12 - - [08/May/2023 14:53:47] \"POST /update HTTP/1.1\" 200 -\n",
            "INFO:werkzeug:172.28.0.12 - - [08/May/2023 14:53:47] \"GET /parameters HTTP/1.1\" 200 -\n",
            "INFO:werkzeug:172.28.0.12 - - [08/May/2023 14:53:47] \"GET /parameters HTTP/1.1\" 200 -\n",
            "INFO:werkzeug:172.28.0.12 - - [08/May/2023 14:53:49] \"POST /update HTTP/1.1\" 200 -\n",
            "INFO:werkzeug:172.28.0.12 - - [08/May/2023 14:53:49] \"POST /update HTTP/1.1\" 200 -\n",
            "INFO:werkzeug:172.28.0.12 - - [08/May/2023 14:53:49] \"GET /parameters HTTP/1.1\" 200 -\n",
            "INFO:werkzeug:172.28.0.12 - - [08/May/2023 14:53:49] \"GET /parameters HTTP/1.1\" 200 -\n",
            "INFO:werkzeug:172.28.0.12 - - [08/May/2023 14:53:51] \"POST /update HTTP/1.1\" 200 -\n",
            "INFO:werkzeug:172.28.0.12 - - [08/May/2023 14:53:51] \"POST /update HTTP/1.1\" 200 -\n",
            "INFO:werkzeug:172.28.0.12 - - [08/May/2023 14:53:51] \"GET /parameters HTTP/1.1\" 200 -\n",
            "INFO:werkzeug:172.28.0.12 - - [08/May/2023 14:53:51] \"GET /parameters HTTP/1.1\" 200 -\n",
            "INFO:werkzeug:172.28.0.12 - - [08/May/2023 14:53:53] \"POST /update HTTP/1.1\" 200 -\n",
            "INFO:werkzeug:172.28.0.12 - - [08/May/2023 14:53:53] \"POST /update HTTP/1.1\" 200 -\n",
            "INFO:werkzeug:172.28.0.12 - - [08/May/2023 14:53:53] \"GET /parameters HTTP/1.1\" 200 -\n",
            "INFO:werkzeug:172.28.0.12 - - [08/May/2023 14:53:53] \"GET /parameters HTTP/1.1\" 200 -\n",
            "INFO:werkzeug:172.28.0.12 - - [08/May/2023 14:53:54] \"POST /update HTTP/1.1\" 200 -\n",
            "INFO:werkzeug:172.28.0.12 - - [08/May/2023 14:53:55] \"POST /update HTTP/1.1\" 200 -\n",
            "INFO:werkzeug:172.28.0.12 - - [08/May/2023 14:53:55] \"GET /parameters HTTP/1.1\" 200 -\n",
            "INFO:werkzeug:172.28.0.12 - - [08/May/2023 14:53:55] \"GET /parameters HTTP/1.1\" 200 -\n",
            "INFO:werkzeug:172.28.0.12 - - [08/May/2023 14:53:56] \"POST /update HTTP/1.1\" 200 -\n",
            "INFO:werkzeug:172.28.0.12 - - [08/May/2023 14:53:57] \"POST /update HTTP/1.1\" 200 -\n",
            "INFO:werkzeug:172.28.0.12 - - [08/May/2023 14:53:57] \"GET /parameters HTTP/1.1\" 200 -\n",
            "INFO:werkzeug:172.28.0.12 - - [08/May/2023 14:53:57] \"GET /parameters HTTP/1.1\" 200 -\n",
            "INFO:werkzeug:172.28.0.12 - - [08/May/2023 14:53:58] \"POST /update HTTP/1.1\" 200 -\n",
            "INFO:werkzeug:172.28.0.12 - - [08/May/2023 14:53:59] \"POST /update HTTP/1.1\" 200 -\n",
            "INFO:werkzeug:172.28.0.12 - - [08/May/2023 14:53:59] \"GET /parameters HTTP/1.1\" 200 -\n",
            "INFO:werkzeug:172.28.0.12 - - [08/May/2023 14:53:59] \"GET /parameters HTTP/1.1\" 200 -\n",
            "INFO:werkzeug:172.28.0.12 - - [08/May/2023 14:54:01] \"POST /update HTTP/1.1\" 200 -\n",
            "INFO:werkzeug:172.28.0.12 - - [08/May/2023 14:54:02] \"POST /update HTTP/1.1\" 200 -\n"
          ]
        },
        {
          "output_type": "stream",
          "name": "stdout",
          "text": [
            ">>> Async training complete.\n"
          ]
        },
        {
          "output_type": "stream",
          "name": "stderr",
          "text": [
            "INFO:werkzeug:172.28.0.12 - - [08/May/2023 14:54:02] \"GET /parameters HTTP/1.1\" 200 -\n"
          ]
        }
      ]
    },
    {
      "cell_type": "code",
      "source": [
        "dl_vgg_end = time.time()"
      ],
      "metadata": {
        "id": "D5a0ZbtHYIxL"
      },
      "execution_count": null,
      "outputs": []
    },
    {
      "cell_type": "code",
      "source": [
        "scores_vgg = spark_model_tf.master_network.evaluate(val_generator, verbose=0)\n",
        "print(\"Loss: \", scores_vgg[0])\n",
        "print(\"Accuracy: \", scores_vgg[1])"
      ],
      "metadata": {
        "colab": {
          "base_uri": "https://localhost:8080/"
        },
        "id": "XJnLbQ_bX9jq",
        "outputId": "0a4cf483-f072-4be2-958e-acf96e340757"
      },
      "execution_count": null,
      "outputs": [
        {
          "output_type": "stream",
          "name": "stdout",
          "text": [
            "Loss:  1.2398120164871216\n",
            "Accuracy:  0.43706294894218445\n"
          ]
        }
      ]
    },
    {
      "cell_type": "markdown",
      "source": [
        "# WITHOUT PYSPARK"
      ],
      "metadata": {
        "id": "vZ6YqEVTuQY6"
      }
    },
    {
      "cell_type": "markdown",
      "source": [
        "## RANDOM FOREST CLASSIFIER\n"
      ],
      "metadata": {
        "id": "8wC1u8xnua0T"
      }
    },
    {
      "cell_type": "code",
      "source": [
        "glcm_df = pd.read_csv('/content/glcm.csv')"
      ],
      "metadata": {
        "id": "6zjOztWqueAn"
      },
      "execution_count": null,
      "outputs": []
    },
    {
      "cell_type": "code",
      "source": [
        "#Marking the X and y features\n",
        "\n",
        "X_data = glcm_df.iloc[:,1:21]\n",
        "y_data = glcm_df['label']"
      ],
      "metadata": {
        "id": "eq2wi-DIxEtV"
      },
      "execution_count": null,
      "outputs": []
    },
    {
      "cell_type": "code",
      "source": [
        "from sklearn.model_selection import train_test_split\n",
        "\n",
        "#Splitting the training and test data in 80:20 ratio\n",
        "\n",
        "X_train, X_test, y_train, y_test = train_test_split(X_data,y_data,train_size=0.8,random_state=42)\n",
        "print(X_train.shape) #The shape of X_train\n",
        "print(y_train.shape) #The shape of y_train\n",
        "print(X_test.shape)\n",
        "print(y_test.shape)"
      ],
      "metadata": {
        "colab": {
          "base_uri": "https://localhost:8080/"
        },
        "id": "wOS8YZpCxImw",
        "outputId": "40912697-3b77-48c4-d875-623087c08072"
      },
      "execution_count": null,
      "outputs": [
        {
          "output_type": "stream",
          "name": "stdout",
          "text": [
            "(1144, 20)\n",
            "(1144,)\n",
            "(287, 20)\n",
            "(287,)\n"
          ]
        }
      ]
    },
    {
      "cell_type": "code",
      "source": [
        "from sklearn.ensemble import RandomForestClassifier\n",
        "\n",
        "#Fitting the RandomForestClassifier model\n",
        "\n",
        "model = RandomForestClassifier(max_depth = 5, max_features = 10,criterion='entropy', n_estimators=25,random_state=11)"
      ],
      "metadata": {
        "id": "gQqgLVYJxIjT"
      },
      "execution_count": null,
      "outputs": []
    },
    {
      "cell_type": "code",
      "source": [
        "ml_wo_spark_start = time.time()"
      ],
      "metadata": {
        "id": "78RS2AkixIdC"
      },
      "execution_count": null,
      "outputs": []
    },
    {
      "cell_type": "code",
      "source": [
        "model.fit(X_train,y_train)"
      ],
      "metadata": {
        "colab": {
          "base_uri": "https://localhost:8080/",
          "height": 92
        },
        "id": "ewOty5SUxPf8",
        "outputId": "6add4301-7f15-4684-dffc-53296bd39091"
      },
      "execution_count": null,
      "outputs": [
        {
          "output_type": "execute_result",
          "data": {
            "text/plain": [
              "RandomForestClassifier(criterion='entropy', max_depth=5, max_features=10,\n",
              "                       n_estimators=25, random_state=11)"
            ],
            "text/html": [
              "<style>#sk-container-id-1 {color: black;background-color: white;}#sk-container-id-1 pre{padding: 0;}#sk-container-id-1 div.sk-toggleable {background-color: white;}#sk-container-id-1 label.sk-toggleable__label {cursor: pointer;display: block;width: 100%;margin-bottom: 0;padding: 0.3em;box-sizing: border-box;text-align: center;}#sk-container-id-1 label.sk-toggleable__label-arrow:before {content: \"▸\";float: left;margin-right: 0.25em;color: #696969;}#sk-container-id-1 label.sk-toggleable__label-arrow:hover:before {color: black;}#sk-container-id-1 div.sk-estimator:hover label.sk-toggleable__label-arrow:before {color: black;}#sk-container-id-1 div.sk-toggleable__content {max-height: 0;max-width: 0;overflow: hidden;text-align: left;background-color: #f0f8ff;}#sk-container-id-1 div.sk-toggleable__content pre {margin: 0.2em;color: black;border-radius: 0.25em;background-color: #f0f8ff;}#sk-container-id-1 input.sk-toggleable__control:checked~div.sk-toggleable__content {max-height: 200px;max-width: 100%;overflow: auto;}#sk-container-id-1 input.sk-toggleable__control:checked~label.sk-toggleable__label-arrow:before {content: \"▾\";}#sk-container-id-1 div.sk-estimator input.sk-toggleable__control:checked~label.sk-toggleable__label {background-color: #d4ebff;}#sk-container-id-1 div.sk-label input.sk-toggleable__control:checked~label.sk-toggleable__label {background-color: #d4ebff;}#sk-container-id-1 input.sk-hidden--visually {border: 0;clip: rect(1px 1px 1px 1px);clip: rect(1px, 1px, 1px, 1px);height: 1px;margin: -1px;overflow: hidden;padding: 0;position: absolute;width: 1px;}#sk-container-id-1 div.sk-estimator {font-family: monospace;background-color: #f0f8ff;border: 1px dotted black;border-radius: 0.25em;box-sizing: border-box;margin-bottom: 0.5em;}#sk-container-id-1 div.sk-estimator:hover {background-color: #d4ebff;}#sk-container-id-1 div.sk-parallel-item::after {content: \"\";width: 100%;border-bottom: 1px solid gray;flex-grow: 1;}#sk-container-id-1 div.sk-label:hover label.sk-toggleable__label {background-color: #d4ebff;}#sk-container-id-1 div.sk-serial::before {content: \"\";position: absolute;border-left: 1px solid gray;box-sizing: border-box;top: 0;bottom: 0;left: 50%;z-index: 0;}#sk-container-id-1 div.sk-serial {display: flex;flex-direction: column;align-items: center;background-color: white;padding-right: 0.2em;padding-left: 0.2em;position: relative;}#sk-container-id-1 div.sk-item {position: relative;z-index: 1;}#sk-container-id-1 div.sk-parallel {display: flex;align-items: stretch;justify-content: center;background-color: white;position: relative;}#sk-container-id-1 div.sk-item::before, #sk-container-id-1 div.sk-parallel-item::before {content: \"\";position: absolute;border-left: 1px solid gray;box-sizing: border-box;top: 0;bottom: 0;left: 50%;z-index: -1;}#sk-container-id-1 div.sk-parallel-item {display: flex;flex-direction: column;z-index: 1;position: relative;background-color: white;}#sk-container-id-1 div.sk-parallel-item:first-child::after {align-self: flex-end;width: 50%;}#sk-container-id-1 div.sk-parallel-item:last-child::after {align-self: flex-start;width: 50%;}#sk-container-id-1 div.sk-parallel-item:only-child::after {width: 0;}#sk-container-id-1 div.sk-dashed-wrapped {border: 1px dashed gray;margin: 0 0.4em 0.5em 0.4em;box-sizing: border-box;padding-bottom: 0.4em;background-color: white;}#sk-container-id-1 div.sk-label label {font-family: monospace;font-weight: bold;display: inline-block;line-height: 1.2em;}#sk-container-id-1 div.sk-label-container {text-align: center;}#sk-container-id-1 div.sk-container {/* jupyter's `normalize.less` sets `[hidden] { display: none; }` but bootstrap.min.css set `[hidden] { display: none !important; }` so we also need the `!important` here to be able to override the default hidden behavior on the sphinx rendered scikit-learn.org. See: https://github.com/scikit-learn/scikit-learn/issues/21755 */display: inline-block !important;position: relative;}#sk-container-id-1 div.sk-text-repr-fallback {display: none;}</style><div id=\"sk-container-id-1\" class=\"sk-top-container\"><div class=\"sk-text-repr-fallback\"><pre>RandomForestClassifier(criterion=&#x27;entropy&#x27;, max_depth=5, max_features=10,\n",
              "                       n_estimators=25, random_state=11)</pre><b>In a Jupyter environment, please rerun this cell to show the HTML representation or trust the notebook. <br />On GitHub, the HTML representation is unable to render, please try loading this page with nbviewer.org.</b></div><div class=\"sk-container\" hidden><div class=\"sk-item\"><div class=\"sk-estimator sk-toggleable\"><input class=\"sk-toggleable__control sk-hidden--visually\" id=\"sk-estimator-id-1\" type=\"checkbox\" checked><label for=\"sk-estimator-id-1\" class=\"sk-toggleable__label sk-toggleable__label-arrow\">RandomForestClassifier</label><div class=\"sk-toggleable__content\"><pre>RandomForestClassifier(criterion=&#x27;entropy&#x27;, max_depth=5, max_features=10,\n",
              "                       n_estimators=25, random_state=11)</pre></div></div></div></div></div>"
            ]
          },
          "metadata": {},
          "execution_count": 81
        }
      ]
    },
    {
      "cell_type": "code",
      "source": [
        "ml_wo_spark_end = time.time()"
      ],
      "metadata": {
        "id": "U0UQgTwQxQSP"
      },
      "execution_count": null,
      "outputs": []
    },
    {
      "cell_type": "code",
      "source": [
        "from sklearn.metrics import accuracy_score\n",
        "y_pred = model.predict(X_test)\n",
        "\n",
        "print(accuracy_score(y_test,y_pred))"
      ],
      "metadata": {
        "colab": {
          "base_uri": "https://localhost:8080/"
        },
        "id": "h65FajUjxgFB",
        "outputId": "d05c2822-f9e9-4933-bebd-987f44abccfd"
      },
      "execution_count": null,
      "outputs": [
        {
          "output_type": "stream",
          "name": "stdout",
          "text": [
            "0.8397212543554007\n"
          ]
        }
      ]
    },
    {
      "cell_type": "markdown",
      "source": [
        "## CNN"
      ],
      "metadata": {
        "id": "E2PVAZltueY5"
      }
    },
    {
      "cell_type": "code",
      "source": [
        "model = Sequential()\n",
        "model.add(Conv2D(32, (3, 3), activation='relu', input_shape=(img_width, img_height, 3)))\n",
        "model.add(MaxPooling2D((2, 2)))\n",
        "model.add(Conv2D(64, (3, 3), activation='relu'))\n",
        "model.add(MaxPooling2D((2, 2)))\n",
        "model.add(Conv2D(128, (3, 3), activation='relu'))\n",
        "model.add(MaxPooling2D((2, 2)))\n",
        "model.add(Conv2D(128, (3, 3), activation='relu'))\n",
        "model.add(MaxPooling2D((2, 2)))\n",
        "model.add(Flatten())\n",
        "model.add(Dense(512, activation='relu'))\n",
        "model.add(Dense(num_classes, activation='softmax'))\n",
        "\n",
        "model.compile(optimizer='adam', loss='categorical_crossentropy', metrics=['accuracy'])"
      ],
      "metadata": {
        "id": "RTbr6KeAuh11"
      },
      "execution_count": null,
      "outputs": []
    },
    {
      "cell_type": "code",
      "source": [
        "dl_cnn_wo_start = time.time()"
      ],
      "metadata": {
        "id": "RPl6v12R1ORI"
      },
      "execution_count": null,
      "outputs": []
    },
    {
      "cell_type": "code",
      "source": [
        "model.fit(train_generator, epochs=3, batch_size=32)"
      ],
      "metadata": {
        "id": "r9Spgu6u1lat",
        "colab": {
          "base_uri": "https://localhost:8080/"
        },
        "outputId": "b8bc1a82-20f5-4b87-95d1-88279bdf02a0"
      },
      "execution_count": null,
      "outputs": [
        {
          "output_type": "stream",
          "name": "stdout",
          "text": [
            "Epoch 1/3\n",
            "45/45 [==============================] - 559s 12s/step - loss: 0.6274 - accuracy: 0.6639\n",
            "Epoch 2/3\n",
            "45/45 [==============================] - 549s 12s/step - loss: 0.4178 - accuracy: 0.8267\n",
            "Epoch 3/3\n",
            "45/45 [==============================] - 566s 13s/step - loss: 0.3165 - accuracy: 0.8714\n"
          ]
        },
        {
          "output_type": "execute_result",
          "data": {
            "text/plain": [
              "<keras.callbacks.History at 0x7fc0c02f9880>"
            ]
          },
          "metadata": {},
          "execution_count": 86
        }
      ]
    },
    {
      "cell_type": "code",
      "source": [
        "dl_cnn_wo_end = time.time()"
      ],
      "metadata": {
        "id": "Sqf0GmXG1Vb7"
      },
      "execution_count": null,
      "outputs": []
    },
    {
      "cell_type": "markdown",
      "source": [
        "## TRANSFER LEARNING - VGG16"
      ],
      "metadata": {
        "id": "vPu7-EGiuiJD"
      }
    },
    {
      "cell_type": "code",
      "source": [
        "# Load pre-trained VGG16 model\n",
        "base_model = VGG16(weights='imagenet', include_top=False, input_shape=(img_width, img_height, 3))\n",
        "\n",
        "# Freeze convolutional layers\n",
        "for layer in base_model.layers:\n",
        "    layer.trainable = False\n",
        "\n",
        "# Add new trainable layers\n",
        "vgg_model = Sequential()\n",
        "vgg_model.add(base_model)\n",
        "vgg_model.add(Flatten())\n",
        "vgg_model.add(Dense(512, activation='relu'))\n",
        "vgg_model.add(Dropout(0.5))\n",
        "vgg_model.add(Dense(num_classes, activation='softmax'))\n",
        "\n",
        "# Compile the model\n",
        "vgg_model.compile(loss='categorical_crossentropy',\n",
        "              optimizer=optimizers.Adam(),\n",
        "              metrics=['accuracy'])"
      ],
      "metadata": {
        "id": "OtgRcpjUukbP"
      },
      "execution_count": null,
      "outputs": []
    },
    {
      "cell_type": "code",
      "source": [
        "dl_vgg_wo_start = time.time()"
      ],
      "metadata": {
        "id": "nqpzOslR2EXx"
      },
      "execution_count": null,
      "outputs": []
    },
    {
      "cell_type": "code",
      "source": [
        "vgg_model.fit(train_generator, epochs=3, batch_size=32)"
      ],
      "metadata": {
        "id": "Hm0GaBA82HDF",
        "colab": {
          "base_uri": "https://localhost:8080/"
        },
        "outputId": "d7df665c-6e3a-4da2-d609-d3a261f948ea"
      },
      "execution_count": null,
      "outputs": [
        {
          "output_type": "stream",
          "name": "stdout",
          "text": [
            "Epoch 1/3\n",
            "45/45 [==============================] - 560s 12s/step - loss: 2.0296 - accuracy: 0.8050\n",
            "Epoch 2/3\n",
            "45/45 [==============================] - 577s 13s/step - loss: 0.1073 - accuracy: 0.9720\n",
            "Epoch 3/3\n",
            "45/45 [==============================] - 559s 12s/step - loss: 0.0522 - accuracy: 0.9825\n"
          ]
        },
        {
          "output_type": "execute_result",
          "data": {
            "text/plain": [
              "<keras.callbacks.History at 0x7fc0c017c040>"
            ]
          },
          "metadata": {},
          "execution_count": 90
        }
      ]
    },
    {
      "cell_type": "code",
      "source": [
        "dl_vgg_wo_end = time.time()"
      ],
      "metadata": {
        "id": "bjFVwvun2GxH"
      },
      "execution_count": null,
      "outputs": []
    },
    {
      "cell_type": "markdown",
      "source": [
        "# COMPARISON"
      ],
      "metadata": {
        "id": "QuLM72XpPo3x"
      }
    },
    {
      "cell_type": "markdown",
      "source": [
        "## TIME TAKEN"
      ],
      "metadata": {
        "id": "_ZC5vp3-9WRz"
      }
    },
    {
      "cell_type": "code",
      "source": [
        "ml_time = ml_end - ml_start"
      ],
      "metadata": {
        "id": "_-ydxk5hAciN"
      },
      "execution_count": null,
      "outputs": []
    },
    {
      "cell_type": "code",
      "source": [
        "dl_cnn_time = dl_cnn_end - dl_cnn_start"
      ],
      "metadata": {
        "id": "UzExhZ3HQR1H"
      },
      "execution_count": null,
      "outputs": []
    },
    {
      "cell_type": "code",
      "source": [
        "dl_vgg_time = dl_vgg_end - dl_vgg_start"
      ],
      "metadata": {
        "id": "Q9Tec2NYVrW3"
      },
      "execution_count": null,
      "outputs": []
    },
    {
      "cell_type": "code",
      "source": [
        "ml_wo_time = ml_wo_spark_end - ml_wo_spark_start"
      ],
      "metadata": {
        "id": "p3X-vIZ13_KZ"
      },
      "execution_count": null,
      "outputs": []
    },
    {
      "cell_type": "code",
      "source": [
        "dl_cnn_wo_time = dl_cnn_wo_end - dl_cnn_wo_start"
      ],
      "metadata": {
        "id": "aCODVuZC4FxN"
      },
      "execution_count": null,
      "outputs": []
    },
    {
      "cell_type": "code",
      "source": [
        "dl_vgg_wo_time = dl_vgg_wo_end - dl_vgg_wo_start"
      ],
      "metadata": {
        "id": "w7teDt4y4Mh6"
      },
      "execution_count": null,
      "outputs": []
    },
    {
      "cell_type": "code",
      "source": [
        "import matplotlib.pyplot as plt\n",
        "import numpy as np"
      ],
      "metadata": {
        "id": "mYH2-TgvxZMG"
      },
      "execution_count": null,
      "outputs": []
    },
    {
      "cell_type": "code",
      "source": [
        "X = ['Random Forest','Proposed method','VGG 16']\n",
        "\n",
        "With_spark = [ml_time,dl_cnn_time,dl_vgg_time]\n",
        "without_spark = [ml_wo_time,dl_cnn_wo_time,dl_vgg_wo_time]\n",
        "\n",
        "X_axis = np.arange(len(X))\n",
        "\n",
        "plt.bar(X_axis - 0.2, With_spark, 0.4, label = 'With Spark')\n",
        "plt.bar(X_axis + 0.2, without_spark, 0.4, label = 'Without Spark')\n",
        "\n",
        "plt.xticks(X_axis, X)\n",
        "plt.xlabel(\"Classifier\")\n",
        "plt.ylabel(\"Time taken\")\n",
        "plt.legend()\n",
        "plt.show()"
      ],
      "metadata": {
        "id": "PqYfqEFihSMq"
      },
      "execution_count": null,
      "outputs": []
    },
    {
      "cell_type": "markdown",
      "metadata": {
        "id": "LyRfYCSx9bCh"
      },
      "source": [
        "## ACCURACY COMPARISON"
      ]
    },
    {
      "cell_type": "code",
      "source": [
        "X = ['Random Forest','Proposed method','VGG 16']\n",
        "\n",
        "With_spark = [87,98,95]\n",
        "without_spark = [83,96,92]\n",
        "\n",
        "X_axis = np.arange(len(X))\n",
        "\n",
        "plt.bar(X_axis - 0.2, With_spark, 0.4, label = 'With Spark')\n",
        "plt.bar(X_axis + 0.2, without_spark, 0.4, label = 'Without Spark')\n",
        "\n",
        "plt.xticks(X_axis, X)\n",
        "plt.xlabel(\"Classifier\")\n",
        "plt.ylabel(\"Time taken\")\n",
        "plt.legend()\n",
        "plt.show()"
      ],
      "metadata": {
        "colab": {
          "base_uri": "https://localhost:8080/",
          "height": 449
        },
        "id": "W6-a6kG9wvuc",
        "outputId": "50b52696-db7c-4cd6-893d-bdb6b3751156"
      },
      "execution_count": null,
      "outputs": [
        {
          "output_type": "display_data",
          "data": {
            "text/plain": [
              "<Figure size 640x480 with 1 Axes>"
            ],
            "image/png": "[encoded data removed]"
          },
          "metadata": {}
        }
      ]
    },
    {
      "cell_type": "markdown",
      "metadata": {
        "id": "xeuTl7KM-cBd"
      },
      "source": [
        "### EPOCHS = 5"
      ]
    },
    {
      "cell_type": "code",
      "execution_count": null,
      "metadata": {
        "colab": {
          "base_uri": "https://localhost:8080/"
        },
        "id": "50vEXLSj6gfc",
        "outputId": "d246471c-970d-49a7-fd56-8dd06152a02b"
      },
      "outputs": [
        {
          "name": "stdout",
          "output_type": "stream",
          "text": [
            ">>> Fit model\n",
            " * Serving Flask app 'elephas.parameter.server'\n",
            " * Debug mode: off\n"
          ]
        },
        {
          "name": "stderr",
          "output_type": "stream",
          "text": [
            "INFO:werkzeug:\u001b[31m\u001b[1mWARNING: This is a development server. Do not use it in a production deployment. Use a production WSGI server instead.\u001b[0m\n",
            " * Running on http://172.28.0.12:4000\n",
            "INFO:werkzeug:\u001b[33mPress CTRL+C to quit\u001b[0m\n"
          ]
        },
        {
          "name": "stdout",
          "output_type": "stream",
          "text": [
            ">>> Initialize workers\n",
            ">>> Distribute load\n"
          ]
        },
        {
          "name": "stderr",
          "output_type": "stream",
          "text": [
            "INFO:werkzeug:172.28.0.12 - - [12/Apr/2023 18:13:19] \"GET /parameters HTTP/1.1\" 200 -\n",
            "INFO:werkzeug:172.28.0.12 - - [12/Apr/2023 18:13:19] \"GET /parameters HTTP/1.1\" 200 -\n",
            "INFO:werkzeug:172.28.0.12 - - [12/Apr/2023 18:13:21] \"POST /update HTTP/1.1\" 200 -\n",
            "INFO:werkzeug:172.28.0.12 - - [12/Apr/2023 18:13:21] \"POST /update HTTP/1.1\" 200 -\n",
            "INFO:werkzeug:172.28.0.12 - - [12/Apr/2023 18:13:21] \"GET /parameters HTTP/1.1\" 200 -\n",
            "INFO:werkzeug:172.28.0.12 - - [12/Apr/2023 18:13:21] \"GET /parameters HTTP/1.1\" 200 -\n",
            "INFO:werkzeug:172.28.0.12 - - [12/Apr/2023 18:13:22] \"POST /update HTTP/1.1\" 200 -\n",
            "INFO:werkzeug:172.28.0.12 - - [12/Apr/2023 18:13:23] \"POST /update HTTP/1.1\" 200 -\n",
            "INFO:werkzeug:172.28.0.12 - - [12/Apr/2023 18:13:23] \"GET /parameters HTTP/1.1\" 200 -\n",
            "INFO:werkzeug:172.28.0.12 - - [12/Apr/2023 18:13:23] \"GET /parameters HTTP/1.1\" 200 -\n",
            "INFO:werkzeug:172.28.0.12 - - [12/Apr/2023 18:13:24] \"POST /update HTTP/1.1\" 200 -\n",
            "INFO:werkzeug:172.28.0.12 - - [12/Apr/2023 18:13:24] \"POST /update HTTP/1.1\" 200 -\n",
            "INFO:werkzeug:172.28.0.12 - - [12/Apr/2023 18:13:24] \"GET /parameters HTTP/1.1\" 200 -\n",
            "INFO:werkzeug:172.28.0.12 - - [12/Apr/2023 18:13:24] \"GET /parameters HTTP/1.1\" 200 -\n",
            "INFO:werkzeug:172.28.0.12 - - [12/Apr/2023 18:13:25] \"POST /update HTTP/1.1\" 200 -\n",
            "INFO:werkzeug:172.28.0.12 - - [12/Apr/2023 18:13:25] \"POST /update HTTP/1.1\" 200 -\n",
            "INFO:werkzeug:172.28.0.12 - - [12/Apr/2023 18:13:25] \"GET /parameters HTTP/1.1\" 200 -\n",
            "INFO:werkzeug:172.28.0.12 - - [12/Apr/2023 18:13:25] \"GET /parameters HTTP/1.1\" 200 -\n",
            "INFO:werkzeug:172.28.0.12 - - [12/Apr/2023 18:13:26] \"POST /update HTTP/1.1\" 200 -\n",
            "INFO:werkzeug:172.28.0.12 - - [12/Apr/2023 18:13:26] \"POST /update HTTP/1.1\" 200 -\n",
            "INFO:werkzeug:172.28.0.12 - - [12/Apr/2023 18:13:26] \"GET /parameters HTTP/1.1\" 200 -\n"
          ]
        },
        {
          "name": "stdout",
          "output_type": "stream",
          "text": [
            ">>> Async training complete.\n"
          ]
        }
      ],
      "source": [
        "spark_model_cnn.fit(train_rdd, epochs=5, batch_size=32)"
      ]
    },
    {
      "cell_type": "code",
      "execution_count": null,
      "metadata": {
        "id": "TjBdnm5ts43c",
        "colab": {
          "base_uri": "https://localhost:8080/"
        },
        "outputId": "059e1c3a-bbec-4932-f678-b2c57b73df1f"
      },
      "outputs": [
        {
          "output_type": "stream",
          "name": "stdout",
          "text": [
            "9/9 [==============================] - 110s 12s/step - loss: 0.7007 - accuracy: 0.4476\n"
          ]
        }
      ],
      "source": [
        "scores = spark_model_cnn.master_network.evaluate(val_generator)"
      ]
    },
    {
      "cell_type": "markdown",
      "metadata": {
        "id": "bRBau1Qy-frI"
      },
      "source": [
        "### EPOCHS = 10"
      ]
    },
    {
      "cell_type": "code",
      "execution_count": null,
      "metadata": {
        "colab": {
          "base_uri": "https://localhost:8080/"
        },
        "id": "4QSulY2q-fbH",
        "outputId": "622128ae-f805-423d-ccfc-2668e9eec2d5"
      },
      "outputs": [
        {
          "name": "stdout",
          "output_type": "stream",
          "text": [
            ">>> Fit model\n",
            " * Serving Flask app 'elephas.parameter.server'\n",
            " * Debug mode: off\n"
          ]
        },
        {
          "name": "stderr",
          "output_type": "stream",
          "text": [
            "INFO:werkzeug:\u001b[31m\u001b[1mWARNING: This is a development server. Do not use it in a production deployment. Use a production WSGI server instead.\u001b[0m\n",
            " * Running on http://172.28.0.12:4000\n",
            "INFO:werkzeug:\u001b[33mPress CTRL+C to quit\u001b[0m\n"
          ]
        },
        {
          "name": "stdout",
          "output_type": "stream",
          "text": [
            ">>> Initialize workers\n",
            ">>> Distribute load\n"
          ]
        },
        {
          "name": "stderr",
          "output_type": "stream",
          "text": [
            "INFO:werkzeug:172.28.0.12 - - [12/Apr/2023 18:19:42] \"GET /parameters HTTP/1.1\" 200 -\n",
            "INFO:werkzeug:172.28.0.12 - - [12/Apr/2023 18:19:43] \"GET /parameters HTTP/1.1\" 200 -\n",
            "INFO:werkzeug:172.28.0.12 - - [12/Apr/2023 18:19:45] \"POST /update HTTP/1.1\" 200 -\n",
            "INFO:werkzeug:172.28.0.12 - - [12/Apr/2023 18:19:46] \"POST /update HTTP/1.1\" 200 -\n",
            "INFO:werkzeug:172.28.0.12 - - [12/Apr/2023 18:19:46] \"GET /parameters HTTP/1.1\" 200 -\n",
            "INFO:werkzeug:172.28.0.12 - - [12/Apr/2023 18:19:46] \"GET /parameters HTTP/1.1\" 200 -\n",
            "INFO:werkzeug:172.28.0.12 - - [12/Apr/2023 18:19:48] \"POST /update HTTP/1.1\" 200 -\n",
            "INFO:werkzeug:172.28.0.12 - - [12/Apr/2023 18:19:48] \"POST /update HTTP/1.1\" 200 -\n",
            "INFO:werkzeug:172.28.0.12 - - [12/Apr/2023 18:19:48] \"GET /parameters HTTP/1.1\" 200 -\n",
            "INFO:werkzeug:172.28.0.12 - - [12/Apr/2023 18:19:48] \"GET /parameters HTTP/1.1\" 200 -\n",
            "INFO:werkzeug:172.28.0.12 - - [12/Apr/2023 18:19:49] \"POST /update HTTP/1.1\" 200 -\n",
            "INFO:werkzeug:172.28.0.12 - - [12/Apr/2023 18:19:49] \"POST /update HTTP/1.1\" 200 -\n",
            "INFO:werkzeug:172.28.0.12 - - [12/Apr/2023 18:19:49] \"GET /parameters HTTP/1.1\" 200 -\n",
            "INFO:werkzeug:172.28.0.12 - - [12/Apr/2023 18:19:49] \"GET /parameters HTTP/1.1\" 200 -\n",
            "INFO:werkzeug:172.28.0.12 - - [12/Apr/2023 18:19:50] \"POST /update HTTP/1.1\" 200 -\n",
            "INFO:werkzeug:172.28.0.12 - - [12/Apr/2023 18:19:50] \"POST /update HTTP/1.1\" 200 -\n",
            "INFO:werkzeug:172.28.0.12 - - [12/Apr/2023 18:19:50] \"GET /parameters HTTP/1.1\" 200 -\n",
            "INFO:werkzeug:172.28.0.12 - - [12/Apr/2023 18:19:50] \"GET /parameters HTTP/1.1\" 200 -\n",
            "INFO:werkzeug:172.28.0.12 - - [12/Apr/2023 18:19:51] \"POST /update HTTP/1.1\" 200 -\n",
            "INFO:werkzeug:172.28.0.12 - - [12/Apr/2023 18:19:51] \"POST /update HTTP/1.1\" 200 -\n",
            "INFO:werkzeug:172.28.0.12 - - [12/Apr/2023 18:19:51] \"GET /parameters HTTP/1.1\" 200 -\n",
            "INFO:werkzeug:172.28.0.12 - - [12/Apr/2023 18:19:52] \"GET /parameters HTTP/1.1\" 200 -\n",
            "INFO:werkzeug:172.28.0.12 - - [12/Apr/2023 18:19:52] \"POST /update HTTP/1.1\" 200 -\n",
            "INFO:werkzeug:172.28.0.12 - - [12/Apr/2023 18:19:52] \"POST /update HTTP/1.1\" 200 -\n",
            "INFO:werkzeug:172.28.0.12 - - [12/Apr/2023 18:19:52] \"GET /parameters HTTP/1.1\" 200 -\n",
            "INFO:werkzeug:172.28.0.12 - - [12/Apr/2023 18:19:53] \"GET /parameters HTTP/1.1\" 200 -\n",
            "INFO:werkzeug:172.28.0.12 - - [12/Apr/2023 18:19:53] \"POST /update HTTP/1.1\" 200 -\n",
            "INFO:werkzeug:172.28.0.12 - - [12/Apr/2023 18:19:53] \"POST /update HTTP/1.1\" 200 -\n",
            "INFO:werkzeug:172.28.0.12 - - [12/Apr/2023 18:19:53] \"GET /parameters HTTP/1.1\" 200 -\n",
            "INFO:werkzeug:172.28.0.12 - - [12/Apr/2023 18:19:54] \"GET /parameters HTTP/1.1\" 200 -\n",
            "INFO:werkzeug:172.28.0.12 - - [12/Apr/2023 18:19:54] \"POST /update HTTP/1.1\" 200 -\n",
            "INFO:werkzeug:172.28.0.12 - - [12/Apr/2023 18:19:54] \"POST /update HTTP/1.1\" 200 -\n",
            "INFO:werkzeug:172.28.0.12 - - [12/Apr/2023 18:19:55] \"GET /parameters HTTP/1.1\" 200 -\n",
            "INFO:werkzeug:172.28.0.12 - - [12/Apr/2023 18:19:55] \"GET /parameters HTTP/1.1\" 200 -\n",
            "INFO:werkzeug:172.28.0.12 - - [12/Apr/2023 18:19:55] \"POST /update HTTP/1.1\" 200 -\n",
            "INFO:werkzeug:172.28.0.12 - - [12/Apr/2023 18:19:55] \"POST /update HTTP/1.1\" 200 -\n",
            "INFO:werkzeug:172.28.0.12 - - [12/Apr/2023 18:19:56] \"GET /parameters HTTP/1.1\" 200 -\n",
            "INFO:werkzeug:172.28.0.12 - - [12/Apr/2023 18:19:56] \"GET /parameters HTTP/1.1\" 200 -\n",
            "INFO:werkzeug:172.28.0.12 - - [12/Apr/2023 18:19:56] \"POST /update HTTP/1.1\" 200 -\n",
            "INFO:werkzeug:172.28.0.12 - - [12/Apr/2023 18:19:57] \"POST /update HTTP/1.1\" 200 -\n",
            "INFO:werkzeug:172.28.0.12 - - [12/Apr/2023 18:19:57] \"GET /parameters HTTP/1.1\" 200 -\n"
          ]
        },
        {
          "name": "stdout",
          "output_type": "stream",
          "text": [
            ">>> Async training complete.\n"
          ]
        }
      ],
      "source": [
        "spark_model_cnn.fit(train_rdd, epochs=10, batch_size=32)"
      ]
    },
    {
      "cell_type": "code",
      "execution_count": null,
      "metadata": {
        "colab": {
          "base_uri": "https://localhost:8080/"
        },
        "id": "vCqHkvEdsbcS",
        "outputId": "d09efb60-79d0-4bc7-cfc7-7baac984ad6f"
      },
      "outputs": [
        {
          "name": "stdout",
          "output_type": "stream",
          "text": [
            "9/9 [==============================] - 120s 13s/step - loss: 0.6948 - accuracy: 0.3881\n"
          ]
        }
      ],
      "source": [
        "scores = spark_model_cnn.master_network.evaluate(val_generator)"
      ]
    },
    {
      "cell_type": "markdown",
      "metadata": {
        "id": "a7Ppd8uc-kFq"
      },
      "source": [
        "### EPOCHS = 25"
      ]
    },
    {
      "cell_type": "code",
      "execution_count": null,
      "metadata": {
        "colab": {
          "base_uri": "https://localhost:8080/"
        },
        "id": "l6368R-Y-kFq",
        "outputId": "014e9586-d92c-4cd5-e5ae-3f7a35930879"
      },
      "outputs": [
        {
          "name": "stdout",
          "output_type": "stream",
          "text": [
            ">>> Fit model\n",
            " * Serving Flask app 'elephas.parameter.server'\n",
            " * Debug mode: off\n"
          ]
        },
        {
          "name": "stderr",
          "output_type": "stream",
          "text": [
            "INFO:werkzeug:\u001b[31m\u001b[1mWARNING: This is a development server. Do not use it in a production deployment. Use a production WSGI server instead.\u001b[0m\n",
            " * Running on http://172.28.0.12:4000\n",
            "INFO:werkzeug:\u001b[33mPress CTRL+C to quit\u001b[0m\n"
          ]
        },
        {
          "name": "stdout",
          "output_type": "stream",
          "text": [
            ">>> Initialize workers\n",
            ">>> Distribute load\n"
          ]
        },
        {
          "name": "stderr",
          "output_type": "stream",
          "text": [
            "INFO:werkzeug:172.28.0.12 - - [12/Apr/2023 18:25:13] \"GET /parameters HTTP/1.1\" 200 -\n",
            "INFO:werkzeug:172.28.0.12 - - [12/Apr/2023 18:25:13] \"GET /parameters HTTP/1.1\" 200 -\n",
            "INFO:werkzeug:172.28.0.12 - - [12/Apr/2023 18:25:15] \"POST /update HTTP/1.1\" 200 -\n",
            "INFO:werkzeug:172.28.0.12 - - [12/Apr/2023 18:25:15] \"POST /update HTTP/1.1\" 200 -\n",
            "INFO:werkzeug:172.28.0.12 - - [12/Apr/2023 18:25:15] \"GET /parameters HTTP/1.1\" 200 -\n",
            "INFO:werkzeug:172.28.0.12 - - [12/Apr/2023 18:25:15] \"GET /parameters HTTP/1.1\" 200 -\n",
            "INFO:werkzeug:172.28.0.12 - - [12/Apr/2023 18:25:17] \"POST /update HTTP/1.1\" 200 -\n",
            "INFO:werkzeug:172.28.0.12 - - [12/Apr/2023 18:25:17] \"POST /update HTTP/1.1\" 200 -\n",
            "INFO:werkzeug:172.28.0.12 - - [12/Apr/2023 18:25:17] \"GET /parameters HTTP/1.1\" 200 -\n",
            "INFO:werkzeug:172.28.0.12 - - [12/Apr/2023 18:25:17] \"GET /parameters HTTP/1.1\" 200 -\n",
            "INFO:werkzeug:172.28.0.12 - - [12/Apr/2023 18:25:18] \"POST /update HTTP/1.1\" 200 -\n",
            "INFO:werkzeug:172.28.0.12 - - [12/Apr/2023 18:25:18] \"POST /update HTTP/1.1\" 200 -\n",
            "INFO:werkzeug:172.28.0.12 - - [12/Apr/2023 18:25:18] \"GET /parameters HTTP/1.1\" 200 -\n",
            "INFO:werkzeug:172.28.0.12 - - [12/Apr/2023 18:25:18] \"GET /parameters HTTP/1.1\" 200 -\n",
            "INFO:werkzeug:172.28.0.12 - - [12/Apr/2023 18:25:19] \"POST /update HTTP/1.1\" 200 -\n",
            "INFO:werkzeug:172.28.0.12 - - [12/Apr/2023 18:25:19] \"POST /update HTTP/1.1\" 200 -\n",
            "INFO:werkzeug:172.28.0.12 - - [12/Apr/2023 18:25:19] \"GET /parameters HTTP/1.1\" 200 -\n",
            "INFO:werkzeug:172.28.0.12 - - [12/Apr/2023 18:25:19] \"GET /parameters HTTP/1.1\" 200 -\n",
            "INFO:werkzeug:172.28.0.12 - - [12/Apr/2023 18:25:20] \"POST /update HTTP/1.1\" 200 -\n",
            "INFO:werkzeug:172.28.0.12 - - [12/Apr/2023 18:25:20] \"POST /update HTTP/1.1\" 200 -\n",
            "INFO:werkzeug:172.28.0.12 - - [12/Apr/2023 18:25:20] \"GET /parameters HTTP/1.1\" 200 -\n",
            "INFO:werkzeug:172.28.0.12 - - [12/Apr/2023 18:25:20] \"GET /parameters HTTP/1.1\" 200 -\n",
            "INFO:werkzeug:172.28.0.12 - - [12/Apr/2023 18:25:21] \"POST /update HTTP/1.1\" 200 -\n",
            "INFO:werkzeug:172.28.0.12 - - [12/Apr/2023 18:25:21] \"POST /update HTTP/1.1\" 200 -\n",
            "INFO:werkzeug:172.28.0.12 - - [12/Apr/2023 18:25:21] \"GET /parameters HTTP/1.1\" 200 -\n",
            "INFO:werkzeug:172.28.0.12 - - [12/Apr/2023 18:25:21] \"GET /parameters HTTP/1.1\" 200 -\n",
            "INFO:werkzeug:172.28.0.12 - - [12/Apr/2023 18:25:22] \"POST /update HTTP/1.1\" 200 -\n",
            "INFO:werkzeug:172.28.0.12 - - [12/Apr/2023 18:25:22] \"POST /update HTTP/1.1\" 200 -\n",
            "INFO:werkzeug:172.28.0.12 - - [12/Apr/2023 18:25:22] \"GET /parameters HTTP/1.1\" 200 -\n",
            "INFO:werkzeug:172.28.0.12 - - [12/Apr/2023 18:25:22] \"GET /parameters HTTP/1.1\" 200 -\n",
            "INFO:werkzeug:172.28.0.12 - - [12/Apr/2023 18:25:24] \"POST /update HTTP/1.1\" 200 -\n",
            "INFO:werkzeug:172.28.0.12 - - [12/Apr/2023 18:25:24] \"POST /update HTTP/1.1\" 200 -\n",
            "INFO:werkzeug:172.28.0.12 - - [12/Apr/2023 18:25:24] \"GET /parameters HTTP/1.1\" 200 -\n",
            "INFO:werkzeug:172.28.0.12 - - [12/Apr/2023 18:25:24] \"GET /parameters HTTP/1.1\" 200 -\n",
            "INFO:werkzeug:172.28.0.12 - - [12/Apr/2023 18:25:25] \"POST /update HTTP/1.1\" 200 -\n",
            "INFO:werkzeug:172.28.0.12 - - [12/Apr/2023 18:25:25] \"POST /update HTTP/1.1\" 200 -\n",
            "INFO:werkzeug:172.28.0.12 - - [12/Apr/2023 18:25:25] \"GET /parameters HTTP/1.1\" 200 -\n",
            "INFO:werkzeug:172.28.0.12 - - [12/Apr/2023 18:25:26] \"GET /parameters HTTP/1.1\" 200 -\n",
            "INFO:werkzeug:172.28.0.12 - - [12/Apr/2023 18:25:26] \"POST /update HTTP/1.1\" 200 -\n",
            "INFO:werkzeug:172.28.0.12 - - [12/Apr/2023 18:25:27] \"POST /update HTTP/1.1\" 200 -\n",
            "INFO:werkzeug:172.28.0.12 - - [12/Apr/2023 18:25:27] \"GET /parameters HTTP/1.1\" 200 -\n",
            "INFO:werkzeug:172.28.0.12 - - [12/Apr/2023 18:25:27] \"GET /parameters HTTP/1.1\" 200 -\n",
            "INFO:werkzeug:172.28.0.12 - - [12/Apr/2023 18:25:27] \"POST /update HTTP/1.1\" 200 -\n",
            "INFO:werkzeug:172.28.0.12 - - [12/Apr/2023 18:25:28] \"POST /update HTTP/1.1\" 200 -\n",
            "INFO:werkzeug:172.28.0.12 - - [12/Apr/2023 18:25:28] \"GET /parameters HTTP/1.1\" 200 -\n",
            "INFO:werkzeug:172.28.0.12 - - [12/Apr/2023 18:25:28] \"GET /parameters HTTP/1.1\" 200 -\n",
            "INFO:werkzeug:172.28.0.12 - - [12/Apr/2023 18:25:29] \"POST /update HTTP/1.1\" 200 -\n",
            "INFO:werkzeug:172.28.0.12 - - [12/Apr/2023 18:25:29] \"POST /update HTTP/1.1\" 200 -\n",
            "INFO:werkzeug:172.28.0.12 - - [12/Apr/2023 18:25:29] \"GET /parameters HTTP/1.1\" 200 -\n",
            "INFO:werkzeug:172.28.0.12 - - [12/Apr/2023 18:25:29] \"GET /parameters HTTP/1.1\" 200 -\n",
            "INFO:werkzeug:172.28.0.12 - - [12/Apr/2023 18:25:30] \"POST /update HTTP/1.1\" 200 -\n",
            "INFO:werkzeug:172.28.0.12 - - [12/Apr/2023 18:25:30] \"POST /update HTTP/1.1\" 200 -\n",
            "INFO:werkzeug:172.28.0.12 - - [12/Apr/2023 18:25:30] \"GET /parameters HTTP/1.1\" 200 -\n",
            "INFO:werkzeug:172.28.0.12 - - [12/Apr/2023 18:25:30] \"GET /parameters HTTP/1.1\" 200 -\n",
            "INFO:werkzeug:172.28.0.12 - - [12/Apr/2023 18:25:31] \"POST /update HTTP/1.1\" 200 -\n",
            "INFO:werkzeug:172.28.0.12 - - [12/Apr/2023 18:25:32] \"POST /update HTTP/1.1\" 200 -\n",
            "INFO:werkzeug:172.28.0.12 - - [12/Apr/2023 18:25:32] \"GET /parameters HTTP/1.1\" 200 -\n",
            "INFO:werkzeug:172.28.0.12 - - [12/Apr/2023 18:25:32] \"GET /parameters HTTP/1.1\" 200 -\n",
            "INFO:werkzeug:172.28.0.12 - - [12/Apr/2023 18:25:33] \"POST /update HTTP/1.1\" 200 -\n",
            "INFO:werkzeug:172.28.0.12 - - [12/Apr/2023 18:25:33] \"POST /update HTTP/1.1\" 200 -\n",
            "INFO:werkzeug:172.28.0.12 - - [12/Apr/2023 18:25:33] \"GET /parameters HTTP/1.1\" 200 -\n",
            "INFO:werkzeug:172.28.0.12 - - [12/Apr/2023 18:25:33] \"GET /parameters HTTP/1.1\" 200 -\n",
            "INFO:werkzeug:172.28.0.12 - - [12/Apr/2023 18:25:34] \"POST /update HTTP/1.1\" 200 -\n",
            "INFO:werkzeug:172.28.0.12 - - [12/Apr/2023 18:25:34] \"POST /update HTTP/1.1\" 200 -\n",
            "INFO:werkzeug:172.28.0.12 - - [12/Apr/2023 18:25:35] \"GET /parameters HTTP/1.1\" 200 -\n",
            "INFO:werkzeug:172.28.0.12 - - [12/Apr/2023 18:25:35] \"GET /parameters HTTP/1.1\" 200 -\n",
            "INFO:werkzeug:172.28.0.12 - - [12/Apr/2023 18:25:35] \"POST /update HTTP/1.1\" 200 -\n",
            "INFO:werkzeug:172.28.0.12 - - [12/Apr/2023 18:25:35] \"POST /update HTTP/1.1\" 200 -\n",
            "INFO:werkzeug:172.28.0.12 - - [12/Apr/2023 18:25:36] \"GET /parameters HTTP/1.1\" 200 -\n",
            "INFO:werkzeug:172.28.0.12 - - [12/Apr/2023 18:25:36] \"GET /parameters HTTP/1.1\" 200 -\n",
            "INFO:werkzeug:172.28.0.12 - - [12/Apr/2023 18:25:36] \"POST /update HTTP/1.1\" 200 -\n",
            "INFO:werkzeug:172.28.0.12 - - [12/Apr/2023 18:25:36] \"POST /update HTTP/1.1\" 200 -\n",
            "INFO:werkzeug:172.28.0.12 - - [12/Apr/2023 18:25:37] \"GET /parameters HTTP/1.1\" 200 -\n",
            "INFO:werkzeug:172.28.0.12 - - [12/Apr/2023 18:25:37] \"GET /parameters HTTP/1.1\" 200 -\n",
            "INFO:werkzeug:172.28.0.12 - - [12/Apr/2023 18:25:37] \"POST /update HTTP/1.1\" 200 -\n",
            "INFO:werkzeug:172.28.0.12 - - [12/Apr/2023 18:25:37] \"POST /update HTTP/1.1\" 200 -\n",
            "INFO:werkzeug:172.28.0.12 - - [12/Apr/2023 18:25:38] \"GET /parameters HTTP/1.1\" 200 -\n",
            "INFO:werkzeug:172.28.0.12 - - [12/Apr/2023 18:25:38] \"GET /parameters HTTP/1.1\" 200 -\n",
            "INFO:werkzeug:172.28.0.12 - - [12/Apr/2023 18:25:38] \"POST /update HTTP/1.1\" 200 -\n",
            "INFO:werkzeug:172.28.0.12 - - [12/Apr/2023 18:25:38] \"POST /update HTTP/1.1\" 200 -\n",
            "INFO:werkzeug:172.28.0.12 - - [12/Apr/2023 18:25:39] \"GET /parameters HTTP/1.1\" 200 -\n",
            "INFO:werkzeug:172.28.0.12 - - [12/Apr/2023 18:25:39] \"GET /parameters HTTP/1.1\" 200 -\n",
            "INFO:werkzeug:172.28.0.12 - - [12/Apr/2023 18:25:39] \"POST /update HTTP/1.1\" 200 -\n",
            "INFO:werkzeug:172.28.0.12 - - [12/Apr/2023 18:25:39] \"POST /update HTTP/1.1\" 200 -\n",
            "INFO:werkzeug:172.28.0.12 - - [12/Apr/2023 18:25:40] \"GET /parameters HTTP/1.1\" 200 -\n",
            "INFO:werkzeug:172.28.0.12 - - [12/Apr/2023 18:25:40] \"GET /parameters HTTP/1.1\" 200 -\n",
            "INFO:werkzeug:172.28.0.12 - - [12/Apr/2023 18:25:40] \"POST /update HTTP/1.1\" 200 -\n",
            "INFO:werkzeug:172.28.0.12 - - [12/Apr/2023 18:25:40] \"POST /update HTTP/1.1\" 200 -\n",
            "INFO:werkzeug:172.28.0.12 - - [12/Apr/2023 18:25:41] \"GET /parameters HTTP/1.1\" 200 -\n",
            "INFO:werkzeug:172.28.0.12 - - [12/Apr/2023 18:25:41] \"GET /parameters HTTP/1.1\" 200 -\n",
            "INFO:werkzeug:172.28.0.12 - - [12/Apr/2023 18:25:41] \"POST /update HTTP/1.1\" 200 -\n",
            "INFO:werkzeug:172.28.0.12 - - [12/Apr/2023 18:25:41] \"POST /update HTTP/1.1\" 200 -\n",
            "INFO:werkzeug:172.28.0.12 - - [12/Apr/2023 18:25:42] \"GET /parameters HTTP/1.1\" 200 -\n",
            "INFO:werkzeug:172.28.0.12 - - [12/Apr/2023 18:25:42] \"GET /parameters HTTP/1.1\" 200 -\n",
            "INFO:werkzeug:172.28.0.12 - - [12/Apr/2023 18:25:42] \"POST /update HTTP/1.1\" 200 -\n",
            "INFO:werkzeug:172.28.0.12 - - [12/Apr/2023 18:25:42] \"POST /update HTTP/1.1\" 200 -\n",
            "INFO:werkzeug:172.28.0.12 - - [12/Apr/2023 18:25:43] \"GET /parameters HTTP/1.1\" 200 -\n",
            "INFO:werkzeug:172.28.0.12 - - [12/Apr/2023 18:25:43] \"GET /parameters HTTP/1.1\" 200 -\n",
            "INFO:werkzeug:172.28.0.12 - - [12/Apr/2023 18:25:43] \"POST /update HTTP/1.1\" 200 -\n",
            "INFO:werkzeug:172.28.0.12 - - [12/Apr/2023 18:25:44] \"POST /update HTTP/1.1\" 200 -\n",
            "INFO:werkzeug:172.28.0.12 - - [12/Apr/2023 18:25:44] \"GET /parameters HTTP/1.1\" 200 -\n"
          ]
        },
        {
          "name": "stdout",
          "output_type": "stream",
          "text": [
            ">>> Async training complete.\n"
          ]
        }
      ],
      "source": [
        "spark_model_cnn.fit(train_rdd, epochs=25, batch_size=32)"
      ]
    },
    {
      "cell_type": "code",
      "execution_count": null,
      "metadata": {
        "colab": {
          "base_uri": "https://localhost:8080/"
        },
        "id": "52hnye5hs1Ir",
        "outputId": "fa279dbf-e38d-4770-d804-d8eae3890418"
      },
      "outputs": [
        {
          "name": "stdout",
          "output_type": "stream",
          "text": [
            "9/9 [==============================] - 109s 12s/step - loss: 0.6977 - accuracy: 0.4545\n"
          ]
        }
      ],
      "source": [
        "scores = spark_model_cnn.master_network.evaluate(val_generator)"
      ]
    },
    {
      "cell_type": "markdown",
      "metadata": {
        "id": "6HFUIx5A-kWJ"
      },
      "source": [
        "### EPOCHS = 50"
      ]
    },
    {
      "cell_type": "code",
      "execution_count": null,
      "metadata": {
        "colab": {
          "base_uri": "https://localhost:8080/"
        },
        "id": "vO49P5Ky-kWK",
        "outputId": "f7beb28f-3723-4d6e-94e6-f48313b4cd72"
      },
      "outputs": [
        {
          "name": "stdout",
          "output_type": "stream",
          "text": [
            ">>> Fit model\n",
            " * Serving Flask app 'elephas.parameter.server'\n",
            " * Debug mode: off\n"
          ]
        },
        {
          "name": "stderr",
          "output_type": "stream",
          "text": [
            "INFO:werkzeug:\u001b[31m\u001b[1mWARNING: This is a development server. Do not use it in a production deployment. Use a production WSGI server instead.\u001b[0m\n",
            " * Running on http://172.28.0.12:4000\n",
            "INFO:werkzeug:\u001b[33mPress CTRL+C to quit\u001b[0m\n"
          ]
        },
        {
          "name": "stdout",
          "output_type": "stream",
          "text": [
            ">>> Initialize workers\n",
            ">>> Distribute load\n"
          ]
        },
        {
          "name": "stderr",
          "output_type": "stream",
          "text": [
            "INFO:werkzeug:172.28.0.12 - - [12/Apr/2023 18:29:13] \"GET /parameters HTTP/1.1\" 200 -\n",
            "INFO:werkzeug:172.28.0.12 - - [12/Apr/2023 18:29:13] \"GET /parameters HTTP/1.1\" 200 -\n",
            "INFO:werkzeug:172.28.0.12 - - [12/Apr/2023 18:29:13] \"POST /update HTTP/1.1\" 200 -\n",
            "INFO:werkzeug:172.28.0.12 - - [12/Apr/2023 18:29:14] \"POST /update HTTP/1.1\" 200 -\n",
            "INFO:werkzeug:172.28.0.12 - - [12/Apr/2023 18:29:14] \"GET /parameters HTTP/1.1\" 200 -\n",
            "INFO:werkzeug:172.28.0.12 - - [12/Apr/2023 18:29:14] \"GET /parameters HTTP/1.1\" 200 -\n",
            "INFO:werkzeug:172.28.0.12 - - [12/Apr/2023 18:29:15] \"POST /update HTTP/1.1\" 200 -\n",
            "INFO:werkzeug:172.28.0.12 - - [12/Apr/2023 18:29:15] \"POST /update HTTP/1.1\" 200 -\n",
            "INFO:werkzeug:172.28.0.12 - - [12/Apr/2023 18:29:15] \"GET /parameters HTTP/1.1\" 200 -\n",
            "INFO:werkzeug:172.28.0.12 - - [12/Apr/2023 18:29:15] \"GET /parameters HTTP/1.1\" 200 -\n",
            "INFO:werkzeug:172.28.0.12 - - [12/Apr/2023 18:29:16] \"POST /update HTTP/1.1\" 200 -\n",
            "INFO:werkzeug:172.28.0.12 - - [12/Apr/2023 18:29:16] \"POST /update HTTP/1.1\" 200 -\n",
            "INFO:werkzeug:172.28.0.12 - - [12/Apr/2023 18:29:16] \"GET /parameters HTTP/1.1\" 200 -\n",
            "INFO:werkzeug:172.28.0.12 - - [12/Apr/2023 18:29:16] \"GET /parameters HTTP/1.1\" 200 -\n",
            "INFO:werkzeug:172.28.0.12 - - [12/Apr/2023 18:29:17] \"POST /update HTTP/1.1\" 200 -\n",
            "INFO:werkzeug:172.28.0.12 - - [12/Apr/2023 18:29:17] \"POST /update HTTP/1.1\" 200 -\n",
            "INFO:werkzeug:172.28.0.12 - - [12/Apr/2023 18:29:17] \"GET /parameters HTTP/1.1\" 200 -\n",
            "INFO:werkzeug:172.28.0.12 - - [12/Apr/2023 18:29:17] \"GET /parameters HTTP/1.1\" 200 -\n",
            "INFO:werkzeug:172.28.0.12 - - [12/Apr/2023 18:29:18] \"POST /update HTTP/1.1\" 200 -\n",
            "INFO:werkzeug:172.28.0.12 - - [12/Apr/2023 18:29:18] \"POST /update HTTP/1.1\" 200 -\n",
            "INFO:werkzeug:172.28.0.12 - - [12/Apr/2023 18:29:18] \"GET /parameters HTTP/1.1\" 200 -\n",
            "INFO:werkzeug:172.28.0.12 - - [12/Apr/2023 18:29:18] \"GET /parameters HTTP/1.1\" 200 -\n",
            "INFO:werkzeug:172.28.0.12 - - [12/Apr/2023 18:29:19] \"POST /update HTTP/1.1\" 200 -\n",
            "INFO:werkzeug:172.28.0.12 - - [12/Apr/2023 18:29:19] \"POST /update HTTP/1.1\" 200 -\n",
            "INFO:werkzeug:172.28.0.12 - - [12/Apr/2023 18:29:19] \"GET /parameters HTTP/1.1\" 200 -\n",
            "INFO:werkzeug:172.28.0.12 - - [12/Apr/2023 18:29:19] \"GET /parameters HTTP/1.1\" 200 -\n",
            "INFO:werkzeug:172.28.0.12 - - [12/Apr/2023 18:29:20] \"POST /update HTTP/1.1\" 200 -\n",
            "INFO:werkzeug:172.28.0.12 - - [12/Apr/2023 18:29:20] \"POST /update HTTP/1.1\" 200 -\n",
            "INFO:werkzeug:172.28.0.12 - - [12/Apr/2023 18:29:20] \"GET /parameters HTTP/1.1\" 200 -\n",
            "INFO:werkzeug:172.28.0.12 - - [12/Apr/2023 18:29:20] \"GET /parameters HTTP/1.1\" 200 -\n",
            "INFO:werkzeug:172.28.0.12 - - [12/Apr/2023 18:29:21] \"POST /update HTTP/1.1\" 200 -\n",
            "INFO:werkzeug:172.28.0.12 - - [12/Apr/2023 18:29:21] \"POST /update HTTP/1.1\" 200 -\n",
            "INFO:werkzeug:172.28.0.12 - - [12/Apr/2023 18:29:21] \"GET /parameters HTTP/1.1\" 200 -\n",
            "INFO:werkzeug:172.28.0.12 - - [12/Apr/2023 18:29:21] \"GET /parameters HTTP/1.1\" 200 -\n",
            "INFO:werkzeug:172.28.0.12 - - [12/Apr/2023 18:29:22] \"POST /update HTTP/1.1\" 200 -\n",
            "INFO:werkzeug:172.28.0.12 - - [12/Apr/2023 18:29:23] \"POST /update HTTP/1.1\" 200 -\n",
            "INFO:werkzeug:172.28.0.12 - - [12/Apr/2023 18:29:23] \"GET /parameters HTTP/1.1\" 200 -\n",
            "INFO:werkzeug:172.28.0.12 - - [12/Apr/2023 18:29:23] \"GET /parameters HTTP/1.1\" 200 -\n",
            "INFO:werkzeug:172.28.0.12 - - [12/Apr/2023 18:29:24] \"POST /update HTTP/1.1\" 200 -\n",
            "INFO:werkzeug:172.28.0.12 - - [12/Apr/2023 18:29:24] \"POST /update HTTP/1.1\" 200 -\n",
            "INFO:werkzeug:172.28.0.12 - - [12/Apr/2023 18:29:24] \"GET /parameters HTTP/1.1\" 200 -\n",
            "INFO:werkzeug:172.28.0.12 - - [12/Apr/2023 18:29:24] \"GET /parameters HTTP/1.1\" 200 -\n",
            "INFO:werkzeug:172.28.0.12 - - [12/Apr/2023 18:29:25] \"POST /update HTTP/1.1\" 200 -\n",
            "INFO:werkzeug:172.28.0.12 - - [12/Apr/2023 18:29:26] \"POST /update HTTP/1.1\" 200 -\n",
            "INFO:werkzeug:172.28.0.12 - - [12/Apr/2023 18:29:26] \"GET /parameters HTTP/1.1\" 200 -\n",
            "INFO:werkzeug:172.28.0.12 - - [12/Apr/2023 18:29:26] \"GET /parameters HTTP/1.1\" 200 -\n",
            "INFO:werkzeug:172.28.0.12 - - [12/Apr/2023 18:29:26] \"POST /update HTTP/1.1\" 200 -\n",
            "INFO:werkzeug:172.28.0.12 - - [12/Apr/2023 18:29:27] \"POST /update HTTP/1.1\" 200 -\n",
            "INFO:werkzeug:172.28.0.12 - - [12/Apr/2023 18:29:27] \"GET /parameters HTTP/1.1\" 200 -\n",
            "INFO:werkzeug:172.28.0.12 - - [12/Apr/2023 18:29:27] \"GET /parameters HTTP/1.1\" 200 -\n",
            "INFO:werkzeug:172.28.0.12 - - [12/Apr/2023 18:29:27] \"POST /update HTTP/1.1\" 200 -\n",
            "INFO:werkzeug:172.28.0.12 - - [12/Apr/2023 18:29:28] \"POST /update HTTP/1.1\" 200 -\n",
            "INFO:werkzeug:172.28.0.12 - - [12/Apr/2023 18:29:28] \"GET /parameters HTTP/1.1\" 200 -\n",
            "INFO:werkzeug:172.28.0.12 - - [12/Apr/2023 18:29:28] \"GET /parameters HTTP/1.1\" 200 -\n",
            "INFO:werkzeug:172.28.0.12 - - [12/Apr/2023 18:29:28] \"POST /update HTTP/1.1\" 200 -\n",
            "INFO:werkzeug:172.28.0.12 - - [12/Apr/2023 18:29:29] \"POST /update HTTP/1.1\" 200 -\n",
            "INFO:werkzeug:172.28.0.12 - - [12/Apr/2023 18:29:29] \"GET /parameters HTTP/1.1\" 200 -\n",
            "INFO:werkzeug:172.28.0.12 - - [12/Apr/2023 18:29:29] \"GET /parameters HTTP/1.1\" 200 -\n",
            "INFO:werkzeug:172.28.0.12 - - [12/Apr/2023 18:29:29] \"POST /update HTTP/1.1\" 200 -\n",
            "INFO:werkzeug:172.28.0.12 - - [12/Apr/2023 18:29:30] \"POST /update HTTP/1.1\" 200 -\n",
            "INFO:werkzeug:172.28.0.12 - - [12/Apr/2023 18:29:30] \"GET /parameters HTTP/1.1\" 200 -\n",
            "INFO:werkzeug:172.28.0.12 - - [12/Apr/2023 18:29:30] \"GET /parameters HTTP/1.1\" 200 -\n",
            "INFO:werkzeug:172.28.0.12 - - [12/Apr/2023 18:29:30] \"POST /update HTTP/1.1\" 200 -\n",
            "INFO:werkzeug:172.28.0.12 - - [12/Apr/2023 18:29:31] \"POST /update HTTP/1.1\" 200 -\n",
            "INFO:werkzeug:172.28.0.12 - - [12/Apr/2023 18:29:31] \"GET /parameters HTTP/1.1\" 200 -\n",
            "INFO:werkzeug:172.28.0.12 - - [12/Apr/2023 18:29:31] \"GET /parameters HTTP/1.1\" 200 -\n",
            "INFO:werkzeug:172.28.0.12 - - [12/Apr/2023 18:29:31] \"POST /update HTTP/1.1\" 200 -\n",
            "INFO:werkzeug:172.28.0.12 - - [12/Apr/2023 18:29:32] \"POST /update HTTP/1.1\" 200 -\n",
            "INFO:werkzeug:172.28.0.12 - - [12/Apr/2023 18:29:32] \"GET /parameters HTTP/1.1\" 200 -\n",
            "INFO:werkzeug:172.28.0.12 - - [12/Apr/2023 18:29:32] \"GET /parameters HTTP/1.1\" 200 -\n",
            "INFO:werkzeug:172.28.0.12 - - [12/Apr/2023 18:29:32] \"POST /update HTTP/1.1\" 200 -\n",
            "INFO:werkzeug:172.28.0.12 - - [12/Apr/2023 18:29:33] \"POST /update HTTP/1.1\" 200 -\n",
            "INFO:werkzeug:172.28.0.12 - - [12/Apr/2023 18:29:33] \"GET /parameters HTTP/1.1\" 200 -\n",
            "INFO:werkzeug:172.28.0.12 - - [12/Apr/2023 18:29:33] \"GET /parameters HTTP/1.1\" 200 -\n",
            "INFO:werkzeug:172.28.0.12 - - [12/Apr/2023 18:29:33] \"POST /update HTTP/1.1\" 200 -\n",
            "INFO:werkzeug:172.28.0.12 - - [12/Apr/2023 18:29:33] \"POST /update HTTP/1.1\" 200 -\n",
            "INFO:werkzeug:172.28.0.12 - - [12/Apr/2023 18:29:34] \"GET /parameters HTTP/1.1\" 200 -\n",
            "INFO:werkzeug:172.28.0.12 - - [12/Apr/2023 18:29:34] \"GET /parameters HTTP/1.1\" 200 -\n",
            "INFO:werkzeug:172.28.0.12 - - [12/Apr/2023 18:29:34] \"POST /update HTTP/1.1\" 200 -\n",
            "INFO:werkzeug:172.28.0.12 - - [12/Apr/2023 18:29:35] \"POST /update HTTP/1.1\" 200 -\n",
            "INFO:werkzeug:172.28.0.12 - - [12/Apr/2023 18:29:35] \"GET /parameters HTTP/1.1\" 200 -\n",
            "INFO:werkzeug:172.28.0.12 - - [12/Apr/2023 18:29:35] \"GET /parameters HTTP/1.1\" 200 -\n",
            "INFO:werkzeug:172.28.0.12 - - [12/Apr/2023 18:29:35] \"POST /update HTTP/1.1\" 200 -\n",
            "INFO:werkzeug:172.28.0.12 - - [12/Apr/2023 18:29:35] \"POST /update HTTP/1.1\" 200 -\n",
            "INFO:werkzeug:172.28.0.12 - - [12/Apr/2023 18:29:36] \"GET /parameters HTTP/1.1\" 200 -\n",
            "INFO:werkzeug:172.28.0.12 - - [12/Apr/2023 18:29:36] \"GET /parameters HTTP/1.1\" 200 -\n",
            "INFO:werkzeug:172.28.0.12 - - [12/Apr/2023 18:29:36] \"POST /update HTTP/1.1\" 200 -\n",
            "INFO:werkzeug:172.28.0.12 - - [12/Apr/2023 18:29:37] \"POST /update HTTP/1.1\" 200 -\n",
            "INFO:werkzeug:172.28.0.12 - - [12/Apr/2023 18:29:37] \"GET /parameters HTTP/1.1\" 200 -\n",
            "INFO:werkzeug:172.28.0.12 - - [12/Apr/2023 18:29:37] \"GET /parameters HTTP/1.1\" 200 -\n",
            "INFO:werkzeug:172.28.0.12 - - [12/Apr/2023 18:29:38] \"POST /update HTTP/1.1\" 200 -\n",
            "INFO:werkzeug:172.28.0.12 - - [12/Apr/2023 18:29:38] \"POST /update HTTP/1.1\" 200 -\n",
            "INFO:werkzeug:172.28.0.12 - - [12/Apr/2023 18:29:38] \"GET /parameters HTTP/1.1\" 200 -\n",
            "INFO:werkzeug:172.28.0.12 - - [12/Apr/2023 18:29:38] \"GET /parameters HTTP/1.1\" 200 -\n",
            "INFO:werkzeug:172.28.0.12 - - [12/Apr/2023 18:29:39] \"POST /update HTTP/1.1\" 200 -\n",
            "INFO:werkzeug:172.28.0.12 - - [12/Apr/2023 18:29:39] \"POST /update HTTP/1.1\" 200 -\n",
            "INFO:werkzeug:172.28.0.12 - - [12/Apr/2023 18:29:39] \"GET /parameters HTTP/1.1\" 200 -\n",
            "INFO:werkzeug:172.28.0.12 - - [12/Apr/2023 18:29:40] \"GET /parameters HTTP/1.1\" 200 -\n",
            "INFO:werkzeug:172.28.0.12 - - [12/Apr/2023 18:29:41] \"POST /update HTTP/1.1\" 200 -\n",
            "INFO:werkzeug:172.28.0.12 - - [12/Apr/2023 18:29:41] \"POST /update HTTP/1.1\" 200 -\n",
            "INFO:werkzeug:172.28.0.12 - - [12/Apr/2023 18:29:41] \"GET /parameters HTTP/1.1\" 200 -\n",
            "INFO:werkzeug:172.28.0.12 - - [12/Apr/2023 18:29:41] \"GET /parameters HTTP/1.1\" 200 -\n",
            "INFO:werkzeug:172.28.0.12 - - [12/Apr/2023 18:29:42] \"POST /update HTTP/1.1\" 200 -\n",
            "INFO:werkzeug:172.28.0.12 - - [12/Apr/2023 18:29:42] \"POST /update HTTP/1.1\" 200 -\n",
            "INFO:werkzeug:172.28.0.12 - - [12/Apr/2023 18:29:42] \"GET /parameters HTTP/1.1\" 200 -\n",
            "INFO:werkzeug:172.28.0.12 - - [12/Apr/2023 18:29:42] \"GET /parameters HTTP/1.1\" 200 -\n",
            "INFO:werkzeug:172.28.0.12 - - [12/Apr/2023 18:29:43] \"POST /update HTTP/1.1\" 200 -\n",
            "INFO:werkzeug:172.28.0.12 - - [12/Apr/2023 18:29:43] \"POST /update HTTP/1.1\" 200 -\n",
            "INFO:werkzeug:172.28.0.12 - - [12/Apr/2023 18:29:43] \"GET /parameters HTTP/1.1\" 200 -\n",
            "INFO:werkzeug:172.28.0.12 - - [12/Apr/2023 18:29:43] \"GET /parameters HTTP/1.1\" 200 -\n",
            "INFO:werkzeug:172.28.0.12 - - [12/Apr/2023 18:29:44] \"POST /update HTTP/1.1\" 200 -\n",
            "INFO:werkzeug:172.28.0.12 - - [12/Apr/2023 18:29:44] \"POST /update HTTP/1.1\" 200 -\n",
            "INFO:werkzeug:172.28.0.12 - - [12/Apr/2023 18:29:44] \"GET /parameters HTTP/1.1\" 200 -\n",
            "INFO:werkzeug:172.28.0.12 - - [12/Apr/2023 18:29:44] \"GET /parameters HTTP/1.1\" 200 -\n",
            "INFO:werkzeug:172.28.0.12 - - [12/Apr/2023 18:29:45] \"POST /update HTTP/1.1\" 200 -\n",
            "INFO:werkzeug:172.28.0.12 - - [12/Apr/2023 18:29:45] \"POST /update HTTP/1.1\" 200 -\n",
            "INFO:werkzeug:172.28.0.12 - - [12/Apr/2023 18:29:45] \"GET /parameters HTTP/1.1\" 200 -\n",
            "INFO:werkzeug:172.28.0.12 - - [12/Apr/2023 18:29:45] \"GET /parameters HTTP/1.1\" 200 -\n",
            "INFO:werkzeug:172.28.0.12 - - [12/Apr/2023 18:29:46] \"POST /update HTTP/1.1\" 200 -\n",
            "INFO:werkzeug:172.28.0.12 - - [12/Apr/2023 18:29:46] \"POST /update HTTP/1.1\" 200 -\n",
            "INFO:werkzeug:172.28.0.12 - - [12/Apr/2023 18:29:46] \"GET /parameters HTTP/1.1\" 200 -\n",
            "INFO:werkzeug:172.28.0.12 - - [12/Apr/2023 18:29:46] \"GET /parameters HTTP/1.1\" 200 -\n",
            "INFO:werkzeug:172.28.0.12 - - [12/Apr/2023 18:29:47] \"POST /update HTTP/1.1\" 200 -\n",
            "INFO:werkzeug:172.28.0.12 - - [12/Apr/2023 18:29:47] \"POST /update HTTP/1.1\" 200 -\n",
            "INFO:werkzeug:172.28.0.12 - - [12/Apr/2023 18:29:47] \"GET /parameters HTTP/1.1\" 200 -\n",
            "INFO:werkzeug:172.28.0.12 - - [12/Apr/2023 18:29:47] \"GET /parameters HTTP/1.1\" 200 -\n",
            "INFO:werkzeug:172.28.0.12 - - [12/Apr/2023 18:29:48] \"POST /update HTTP/1.1\" 200 -\n",
            "INFO:werkzeug:172.28.0.12 - - [12/Apr/2023 18:29:48] \"POST /update HTTP/1.1\" 200 -\n",
            "INFO:werkzeug:172.28.0.12 - - [12/Apr/2023 18:29:48] \"GET /parameters HTTP/1.1\" 200 -\n",
            "INFO:werkzeug:172.28.0.12 - - [12/Apr/2023 18:29:48] \"GET /parameters HTTP/1.1\" 200 -\n",
            "INFO:werkzeug:172.28.0.12 - - [12/Apr/2023 18:29:49] \"POST /update HTTP/1.1\" 200 -\n",
            "INFO:werkzeug:172.28.0.12 - - [12/Apr/2023 18:29:49] \"POST /update HTTP/1.1\" 200 -\n",
            "INFO:werkzeug:172.28.0.12 - - [12/Apr/2023 18:29:49] \"GET /parameters HTTP/1.1\" 200 -\n",
            "INFO:werkzeug:172.28.0.12 - - [12/Apr/2023 18:29:49] \"GET /parameters HTTP/1.1\" 200 -\n",
            "INFO:werkzeug:172.28.0.12 - - [12/Apr/2023 18:29:50] \"POST /update HTTP/1.1\" 200 -\n",
            "INFO:werkzeug:172.28.0.12 - - [12/Apr/2023 18:29:50] \"POST /update HTTP/1.1\" 200 -\n",
            "INFO:werkzeug:172.28.0.12 - - [12/Apr/2023 18:29:50] \"GET /parameters HTTP/1.1\" 200 -\n",
            "INFO:werkzeug:172.28.0.12 - - [12/Apr/2023 18:29:50] \"GET /parameters HTTP/1.1\" 200 -\n",
            "INFO:werkzeug:172.28.0.12 - - [12/Apr/2023 18:29:51] \"POST /update HTTP/1.1\" 200 -\n",
            "INFO:werkzeug:172.28.0.12 - - [12/Apr/2023 18:29:51] \"POST /update HTTP/1.1\" 200 -\n",
            "INFO:werkzeug:172.28.0.12 - - [12/Apr/2023 18:29:51] \"GET /parameters HTTP/1.1\" 200 -\n",
            "INFO:werkzeug:172.28.0.12 - - [12/Apr/2023 18:29:51] \"GET /parameters HTTP/1.1\" 200 -\n",
            "INFO:werkzeug:172.28.0.12 - - [12/Apr/2023 18:29:52] \"POST /update HTTP/1.1\" 200 -\n",
            "INFO:werkzeug:172.28.0.12 - - [12/Apr/2023 18:29:52] \"POST /update HTTP/1.1\" 200 -\n",
            "INFO:werkzeug:172.28.0.12 - - [12/Apr/2023 18:29:52] \"GET /parameters HTTP/1.1\" 200 -\n",
            "INFO:werkzeug:172.28.0.12 - - [12/Apr/2023 18:29:52] \"GET /parameters HTTP/1.1\" 200 -\n",
            "INFO:werkzeug:172.28.0.12 - - [12/Apr/2023 18:29:53] \"POST /update HTTP/1.1\" 200 -\n",
            "INFO:werkzeug:172.28.0.12 - - [12/Apr/2023 18:29:54] \"POST /update HTTP/1.1\" 200 -\n",
            "INFO:werkzeug:172.28.0.12 - - [12/Apr/2023 18:29:54] \"GET /parameters HTTP/1.1\" 200 -\n",
            "INFO:werkzeug:172.28.0.12 - - [12/Apr/2023 18:29:54] \"GET /parameters HTTP/1.1\" 200 -\n",
            "INFO:werkzeug:172.28.0.12 - - [12/Apr/2023 18:29:55] \"POST /update HTTP/1.1\" 200 -\n",
            "INFO:werkzeug:172.28.0.12 - - [12/Apr/2023 18:29:55] \"POST /update HTTP/1.1\" 200 -\n",
            "INFO:werkzeug:172.28.0.12 - - [12/Apr/2023 18:29:55] \"GET /parameters HTTP/1.1\" 200 -\n",
            "INFO:werkzeug:172.28.0.12 - - [12/Apr/2023 18:29:55] \"GET /parameters HTTP/1.1\" 200 -\n",
            "INFO:werkzeug:172.28.0.12 - - [12/Apr/2023 18:29:56] \"POST /update HTTP/1.1\" 200 -\n",
            "INFO:werkzeug:172.28.0.12 - - [12/Apr/2023 18:29:56] \"POST /update HTTP/1.1\" 200 -\n",
            "INFO:werkzeug:172.28.0.12 - - [12/Apr/2023 18:29:57] \"GET /parameters HTTP/1.1\" 200 -\n",
            "INFO:werkzeug:172.28.0.12 - - [12/Apr/2023 18:29:57] \"GET /parameters HTTP/1.1\" 200 -\n",
            "INFO:werkzeug:172.28.0.12 - - [12/Apr/2023 18:29:58] \"POST /update HTTP/1.1\" 200 -\n",
            "INFO:werkzeug:172.28.0.12 - - [12/Apr/2023 18:29:58] \"POST /update HTTP/1.1\" 200 -\n",
            "INFO:werkzeug:172.28.0.12 - - [12/Apr/2023 18:29:58] \"GET /parameters HTTP/1.1\" 200 -\n",
            "INFO:werkzeug:172.28.0.12 - - [12/Apr/2023 18:29:59] \"GET /parameters HTTP/1.1\" 200 -\n",
            "INFO:werkzeug:172.28.0.12 - - [12/Apr/2023 18:29:59] \"POST /update HTTP/1.1\" 200 -\n",
            "INFO:werkzeug:172.28.0.12 - - [12/Apr/2023 18:30:00] \"POST /update HTTP/1.1\" 200 -\n",
            "INFO:werkzeug:172.28.0.12 - - [12/Apr/2023 18:30:00] \"GET /parameters HTTP/1.1\" 200 -\n",
            "INFO:werkzeug:172.28.0.12 - - [12/Apr/2023 18:30:00] \"GET /parameters HTTP/1.1\" 200 -\n",
            "INFO:werkzeug:172.28.0.12 - - [12/Apr/2023 18:30:01] \"POST /update HTTP/1.1\" 200 -\n",
            "INFO:werkzeug:172.28.0.12 - - [12/Apr/2023 18:30:01] \"POST /update HTTP/1.1\" 200 -\n",
            "INFO:werkzeug:172.28.0.12 - - [12/Apr/2023 18:30:02] \"GET /parameters HTTP/1.1\" 200 -\n",
            "INFO:werkzeug:172.28.0.12 - - [12/Apr/2023 18:30:02] \"GET /parameters HTTP/1.1\" 200 -\n",
            "INFO:werkzeug:172.28.0.12 - - [12/Apr/2023 18:30:02] \"POST /update HTTP/1.1\" 200 -\n",
            "INFO:werkzeug:172.28.0.12 - - [12/Apr/2023 18:30:02] \"POST /update HTTP/1.1\" 200 -\n",
            "INFO:werkzeug:172.28.0.12 - - [12/Apr/2023 18:30:03] \"GET /parameters HTTP/1.1\" 200 -\n",
            "INFO:werkzeug:172.28.0.12 - - [12/Apr/2023 18:30:03] \"GET /parameters HTTP/1.1\" 200 -\n",
            "INFO:werkzeug:172.28.0.12 - - [12/Apr/2023 18:30:03] \"POST /update HTTP/1.1\" 200 -\n",
            "INFO:werkzeug:172.28.0.12 - - [12/Apr/2023 18:30:03] \"POST /update HTTP/1.1\" 200 -\n",
            "INFO:werkzeug:172.28.0.12 - - [12/Apr/2023 18:30:03] \"GET /parameters HTTP/1.1\" 200 -\n",
            "INFO:werkzeug:172.28.0.12 - - [12/Apr/2023 18:30:04] \"GET /parameters HTTP/1.1\" 200 -\n",
            "INFO:werkzeug:172.28.0.12 - - [12/Apr/2023 18:30:04] \"POST /update HTTP/1.1\" 200 -\n",
            "INFO:werkzeug:172.28.0.12 - - [12/Apr/2023 18:30:04] \"POST /update HTTP/1.1\" 200 -\n",
            "INFO:werkzeug:172.28.0.12 - - [12/Apr/2023 18:30:04] \"GET /parameters HTTP/1.1\" 200 -\n",
            "INFO:werkzeug:172.28.0.12 - - [12/Apr/2023 18:30:05] \"GET /parameters HTTP/1.1\" 200 -\n",
            "INFO:werkzeug:172.28.0.12 - - [12/Apr/2023 18:30:05] \"POST /update HTTP/1.1\" 200 -\n",
            "INFO:werkzeug:172.28.0.12 - - [12/Apr/2023 18:30:05] \"POST /update HTTP/1.1\" 200 -\n",
            "INFO:werkzeug:172.28.0.12 - - [12/Apr/2023 18:30:05] \"GET /parameters HTTP/1.1\" 200 -\n",
            "INFO:werkzeug:172.28.0.12 - - [12/Apr/2023 18:30:06] \"GET /parameters HTTP/1.1\" 200 -\n",
            "INFO:werkzeug:172.28.0.12 - - [12/Apr/2023 18:30:06] \"POST /update HTTP/1.1\" 200 -\n",
            "INFO:werkzeug:172.28.0.12 - - [12/Apr/2023 18:30:06] \"POST /update HTTP/1.1\" 200 -\n",
            "INFO:werkzeug:172.28.0.12 - - [12/Apr/2023 18:30:06] \"GET /parameters HTTP/1.1\" 200 -\n",
            "INFO:werkzeug:172.28.0.12 - - [12/Apr/2023 18:30:07] \"GET /parameters HTTP/1.1\" 200 -\n",
            "INFO:werkzeug:172.28.0.12 - - [12/Apr/2023 18:30:07] \"POST /update HTTP/1.1\" 200 -\n",
            "INFO:werkzeug:172.28.0.12 - - [12/Apr/2023 18:30:07] \"POST /update HTTP/1.1\" 200 -\n",
            "INFO:werkzeug:172.28.0.12 - - [12/Apr/2023 18:30:07] \"GET /parameters HTTP/1.1\" 200 -\n",
            "INFO:werkzeug:172.28.0.12 - - [12/Apr/2023 18:30:08] \"GET /parameters HTTP/1.1\" 200 -\n",
            "INFO:werkzeug:172.28.0.12 - - [12/Apr/2023 18:30:08] \"POST /update HTTP/1.1\" 200 -\n",
            "INFO:werkzeug:172.28.0.12 - - [12/Apr/2023 18:30:08] \"POST /update HTTP/1.1\" 200 -\n",
            "INFO:werkzeug:172.28.0.12 - - [12/Apr/2023 18:30:09] \"GET /parameters HTTP/1.1\" 200 -\n",
            "INFO:werkzeug:172.28.0.12 - - [12/Apr/2023 18:30:09] \"GET /parameters HTTP/1.1\" 200 -\n",
            "INFO:werkzeug:172.28.0.12 - - [12/Apr/2023 18:30:10] \"POST /update HTTP/1.1\" 200 -\n",
            "INFO:werkzeug:172.28.0.12 - - [12/Apr/2023 18:30:10] \"POST /update HTTP/1.1\" 200 -\n",
            "INFO:werkzeug:172.28.0.12 - - [12/Apr/2023 18:30:10] \"GET /parameters HTTP/1.1\" 200 -\n"
          ]
        },
        {
          "name": "stdout",
          "output_type": "stream",
          "text": [
            ">>> Async training complete.\n"
          ]
        }
      ],
      "source": [
        "spark_model_cnn.fit(train_rdd, epochs=50, batch_size=32)"
      ]
    },
    {
      "cell_type": "code",
      "execution_count": null,
      "metadata": {
        "colab": {
          "base_uri": "https://localhost:8080/"
        },
        "id": "sBl1MQhxs28V",
        "outputId": "b3bada85-9eb1-4f43-86cd-59d0b1372123"
      },
      "outputs": [
        {
          "name": "stdout",
          "output_type": "stream",
          "text": [
            "9/9 [==============================] - 108s 11s/step - loss: 0.6914 - accuracy: 0.5280\n"
          ]
        }
      ],
      "source": [
        "scores = spark_model_cnn.master_network.evaluate(val_generator)"
      ]
    },
    {
      "cell_type": "markdown",
      "metadata": {
        "id": "ghwKTTgV-kk3"
      },
      "source": [
        "### EPOCHS = 75"
      ]
    },
    {
      "cell_type": "code",
      "execution_count": null,
      "metadata": {
        "colab": {
          "base_uri": "https://localhost:8080/"
        },
        "id": "RToO1jEf-kk4",
        "outputId": "9603ad37-a1cb-41d7-c3c1-7490e65a3189"
      },
      "outputs": [
        {
          "name": "stdout",
          "output_type": "stream",
          "text": [
            ">>> Fit model\n",
            " * Serving Flask app 'elephas.parameter.server'\n",
            " * Debug mode: off\n"
          ]
        },
        {
          "name": "stderr",
          "output_type": "stream",
          "text": [
            "INFO:werkzeug:\u001b[31m\u001b[1mWARNING: This is a development server. Do not use it in a production deployment. Use a production WSGI server instead.\u001b[0m\n",
            " * Running on http://172.28.0.12:4000\n",
            "INFO:werkzeug:\u001b[33mPress CTRL+C to quit\u001b[0m\n"
          ]
        },
        {
          "name": "stdout",
          "output_type": "stream",
          "text": [
            ">>> Initialize workers\n",
            ">>> Distribute load\n"
          ]
        },
        {
          "name": "stderr",
          "output_type": "stream",
          "text": [
            "INFO:werkzeug:172.28.0.12 - - [12/Apr/2023 18:33:43] \"GET /parameters HTTP/1.1\" 200 -\n",
            "INFO:werkzeug:172.28.0.12 - - [12/Apr/2023 18:33:44] \"GET /parameters HTTP/1.1\" 200 -\n",
            "INFO:werkzeug:172.28.0.12 - - [12/Apr/2023 18:33:44] \"POST /update HTTP/1.1\" 200 -\n",
            "INFO:werkzeug:172.28.0.12 - - [12/Apr/2023 18:33:45] \"POST /update HTTP/1.1\" 200 -\n",
            "INFO:werkzeug:172.28.0.12 - - [12/Apr/2023 18:33:45] \"GET /parameters HTTP/1.1\" 200 -\n",
            "INFO:werkzeug:172.28.0.12 - - [12/Apr/2023 18:33:45] \"GET /parameters HTTP/1.1\" 200 -\n",
            "INFO:werkzeug:172.28.0.12 - - [12/Apr/2023 18:33:46] \"POST /update HTTP/1.1\" 200 -\n",
            "INFO:werkzeug:172.28.0.12 - - [12/Apr/2023 18:33:46] \"POST /update HTTP/1.1\" 200 -\n",
            "INFO:werkzeug:172.28.0.12 - - [12/Apr/2023 18:33:46] \"GET /parameters HTTP/1.1\" 200 -\n",
            "INFO:werkzeug:172.28.0.12 - - [12/Apr/2023 18:33:46] \"GET /parameters HTTP/1.1\" 200 -\n",
            "INFO:werkzeug:172.28.0.12 - - [12/Apr/2023 18:33:47] \"POST /update HTTP/1.1\" 200 -\n",
            "INFO:werkzeug:172.28.0.12 - - [12/Apr/2023 18:33:48] \"POST /update HTTP/1.1\" 200 -\n",
            "INFO:werkzeug:172.28.0.12 - - [12/Apr/2023 18:33:48] \"GET /parameters HTTP/1.1\" 200 -\n",
            "INFO:werkzeug:172.28.0.12 - - [12/Apr/2023 18:33:48] \"GET /parameters HTTP/1.1\" 200 -\n",
            "INFO:werkzeug:172.28.0.12 - - [12/Apr/2023 18:33:49] \"POST /update HTTP/1.1\" 200 -\n",
            "INFO:werkzeug:172.28.0.12 - - [12/Apr/2023 18:33:49] \"POST /update HTTP/1.1\" 200 -\n",
            "INFO:werkzeug:172.28.0.12 - - [12/Apr/2023 18:33:49] \"GET /parameters HTTP/1.1\" 200 -\n",
            "INFO:werkzeug:172.28.0.12 - - [12/Apr/2023 18:33:49] \"GET /parameters HTTP/1.1\" 200 -\n",
            "INFO:werkzeug:172.28.0.12 - - [12/Apr/2023 18:33:50] \"POST /update HTTP/1.1\" 200 -\n",
            "INFO:werkzeug:172.28.0.12 - - [12/Apr/2023 18:33:51] \"POST /update HTTP/1.1\" 200 -\n",
            "INFO:werkzeug:172.28.0.12 - - [12/Apr/2023 18:33:51] \"GET /parameters HTTP/1.1\" 200 -\n",
            "INFO:werkzeug:172.28.0.12 - - [12/Apr/2023 18:33:51] \"GET /parameters HTTP/1.1\" 200 -\n",
            "INFO:werkzeug:172.28.0.12 - - [12/Apr/2023 18:33:52] \"POST /update HTTP/1.1\" 200 -\n",
            "INFO:werkzeug:172.28.0.12 - - [12/Apr/2023 18:33:52] \"POST /update HTTP/1.1\" 200 -\n",
            "INFO:werkzeug:172.28.0.12 - - [12/Apr/2023 18:33:52] \"GET /parameters HTTP/1.1\" 200 -\n",
            "INFO:werkzeug:172.28.0.12 - - [12/Apr/2023 18:33:52] \"GET /parameters HTTP/1.1\" 200 -\n",
            "INFO:werkzeug:172.28.0.12 - - [12/Apr/2023 18:33:53] \"POST /update HTTP/1.1\" 200 -\n",
            "INFO:werkzeug:172.28.0.12 - - [12/Apr/2023 18:33:53] \"POST /update HTTP/1.1\" 200 -\n",
            "INFO:werkzeug:172.28.0.12 - - [12/Apr/2023 18:33:53] \"GET /parameters HTTP/1.1\" 200 -\n",
            "INFO:werkzeug:172.28.0.12 - - [12/Apr/2023 18:33:53] \"GET /parameters HTTP/1.1\" 200 -\n",
            "INFO:werkzeug:172.28.0.12 - - [12/Apr/2023 18:33:54] \"POST /update HTTP/1.1\" 200 -\n",
            "INFO:werkzeug:172.28.0.12 - - [12/Apr/2023 18:33:54] \"POST /update HTTP/1.1\" 200 -\n",
            "INFO:werkzeug:172.28.0.12 - - [12/Apr/2023 18:33:54] \"GET /parameters HTTP/1.1\" 200 -\n",
            "INFO:werkzeug:172.28.0.12 - - [12/Apr/2023 18:33:54] \"GET /parameters HTTP/1.1\" 200 -\n",
            "INFO:werkzeug:172.28.0.12 - - [12/Apr/2023 18:33:55] \"POST /update HTTP/1.1\" 200 -\n",
            "INFO:werkzeug:172.28.0.12 - - [12/Apr/2023 18:33:55] \"POST /update HTTP/1.1\" 200 -\n",
            "INFO:werkzeug:172.28.0.12 - - [12/Apr/2023 18:33:55] \"GET /parameters HTTP/1.1\" 200 -\n",
            "INFO:werkzeug:172.28.0.12 - - [12/Apr/2023 18:33:55] \"GET /parameters HTTP/1.1\" 200 -\n",
            "INFO:werkzeug:172.28.0.12 - - [12/Apr/2023 18:33:56] \"POST /update HTTP/1.1\" 200 -\n",
            "INFO:werkzeug:172.28.0.12 - - [12/Apr/2023 18:33:56] \"POST /update HTTP/1.1\" 200 -\n",
            "INFO:werkzeug:172.28.0.12 - - [12/Apr/2023 18:33:56] \"GET /parameters HTTP/1.1\" 200 -\n",
            "INFO:werkzeug:172.28.0.12 - - [12/Apr/2023 18:33:56] \"GET /parameters HTTP/1.1\" 200 -\n",
            "INFO:werkzeug:172.28.0.12 - - [12/Apr/2023 18:33:57] \"POST /update HTTP/1.1\" 200 -\n",
            "INFO:werkzeug:172.28.0.12 - - [12/Apr/2023 18:33:57] \"POST /update HTTP/1.1\" 200 -\n",
            "INFO:werkzeug:172.28.0.12 - - [12/Apr/2023 18:33:57] \"GET /parameters HTTP/1.1\" 200 -\n",
            "INFO:werkzeug:172.28.0.12 - - [12/Apr/2023 18:33:57] \"GET /parameters HTTP/1.1\" 200 -\n",
            "INFO:werkzeug:172.28.0.12 - - [12/Apr/2023 18:33:58] \"POST /update HTTP/1.1\" 200 -\n",
            "INFO:werkzeug:172.28.0.12 - - [12/Apr/2023 18:33:58] \"POST /update HTTP/1.1\" 200 -\n",
            "INFO:werkzeug:172.28.0.12 - - [12/Apr/2023 18:33:58] \"GET /parameters HTTP/1.1\" 200 -\n",
            "INFO:werkzeug:172.28.0.12 - - [12/Apr/2023 18:33:58] \"GET /parameters HTTP/1.1\" 200 -\n",
            "INFO:werkzeug:172.28.0.12 - - [12/Apr/2023 18:33:59] \"POST /update HTTP/1.1\" 200 -\n",
            "INFO:werkzeug:172.28.0.12 - - [12/Apr/2023 18:33:59] \"POST /update HTTP/1.1\" 200 -\n",
            "INFO:werkzeug:172.28.0.12 - - [12/Apr/2023 18:33:59] \"GET /parameters HTTP/1.1\" 200 -\n",
            "INFO:werkzeug:172.28.0.12 - - [12/Apr/2023 18:33:59] \"GET /parameters HTTP/1.1\" 200 -\n",
            "INFO:werkzeug:172.28.0.12 - - [12/Apr/2023 18:34:00] \"POST /update HTTP/1.1\" 200 -\n",
            "INFO:werkzeug:172.28.0.12 - - [12/Apr/2023 18:34:00] \"POST /update HTTP/1.1\" 200 -\n",
            "INFO:werkzeug:172.28.0.12 - - [12/Apr/2023 18:34:00] \"GET /parameters HTTP/1.1\" 200 -\n",
            "INFO:werkzeug:172.28.0.12 - - [12/Apr/2023 18:34:00] \"GET /parameters HTTP/1.1\" 200 -\n",
            "INFO:werkzeug:172.28.0.12 - - [12/Apr/2023 18:34:01] \"POST /update HTTP/1.1\" 200 -\n",
            "INFO:werkzeug:172.28.0.12 - - [12/Apr/2023 18:34:01] \"POST /update HTTP/1.1\" 200 -\n",
            "INFO:werkzeug:172.28.0.12 - - [12/Apr/2023 18:34:01] \"GET /parameters HTTP/1.1\" 200 -\n",
            "INFO:werkzeug:172.28.0.12 - - [12/Apr/2023 18:34:01] \"GET /parameters HTTP/1.1\" 200 -\n",
            "INFO:werkzeug:172.28.0.12 - - [12/Apr/2023 18:34:02] \"POST /update HTTP/1.1\" 200 -\n",
            "INFO:werkzeug:172.28.0.12 - - [12/Apr/2023 18:34:02] \"POST /update HTTP/1.1\" 200 -\n",
            "INFO:werkzeug:172.28.0.12 - - [12/Apr/2023 18:34:02] \"GET /parameters HTTP/1.1\" 200 -\n",
            "INFO:werkzeug:172.28.0.12 - - [12/Apr/2023 18:34:03] \"GET /parameters HTTP/1.1\" 200 -\n",
            "INFO:werkzeug:172.28.0.12 - - [12/Apr/2023 18:34:04] \"POST /update HTTP/1.1\" 200 -\n",
            "INFO:werkzeug:172.28.0.12 - - [12/Apr/2023 18:34:04] \"POST /update HTTP/1.1\" 200 -\n",
            "INFO:werkzeug:172.28.0.12 - - [12/Apr/2023 18:34:04] \"GET /parameters HTTP/1.1\" 200 -\n",
            "INFO:werkzeug:172.28.0.12 - - [12/Apr/2023 18:34:04] \"GET /parameters HTTP/1.1\" 200 -\n",
            "INFO:werkzeug:172.28.0.12 - - [12/Apr/2023 18:34:05] \"POST /update HTTP/1.1\" 200 -\n",
            "INFO:werkzeug:172.28.0.12 - - [12/Apr/2023 18:34:05] \"POST /update HTTP/1.1\" 200 -\n",
            "INFO:werkzeug:172.28.0.12 - - [12/Apr/2023 18:34:05] \"GET /parameters HTTP/1.1\" 200 -\n",
            "INFO:werkzeug:172.28.0.12 - - [12/Apr/2023 18:34:06] \"GET /parameters HTTP/1.1\" 200 -\n",
            "INFO:werkzeug:172.28.0.12 - - [12/Apr/2023 18:34:06] \"POST /update HTTP/1.1\" 200 -\n",
            "INFO:werkzeug:172.28.0.12 - - [12/Apr/2023 18:34:07] \"POST /update HTTP/1.1\" 200 -\n",
            "INFO:werkzeug:172.28.0.12 - - [12/Apr/2023 18:34:07] \"GET /parameters HTTP/1.1\" 200 -\n",
            "INFO:werkzeug:172.28.0.12 - - [12/Apr/2023 18:34:07] \"GET /parameters HTTP/1.1\" 200 -\n",
            "INFO:werkzeug:172.28.0.12 - - [12/Apr/2023 18:34:08] \"POST /update HTTP/1.1\" 200 -\n",
            "INFO:werkzeug:172.28.0.12 - - [12/Apr/2023 18:34:08] \"POST /update HTTP/1.1\" 200 -\n",
            "INFO:werkzeug:172.28.0.12 - - [12/Apr/2023 18:34:08] \"GET /parameters HTTP/1.1\" 200 -\n",
            "INFO:werkzeug:172.28.0.12 - - [12/Apr/2023 18:34:08] \"GET /parameters HTTP/1.1\" 200 -\n",
            "INFO:werkzeug:172.28.0.12 - - [12/Apr/2023 18:34:09] \"POST /update HTTP/1.1\" 200 -\n",
            "INFO:werkzeug:172.28.0.12 - - [12/Apr/2023 18:34:09] \"POST /update HTTP/1.1\" 200 -\n",
            "INFO:werkzeug:172.28.0.12 - - [12/Apr/2023 18:34:09] \"GET /parameters HTTP/1.1\" 200 -\n",
            "INFO:werkzeug:172.28.0.12 - - [12/Apr/2023 18:34:09] \"GET /parameters HTTP/1.1\" 200 -\n",
            "INFO:werkzeug:172.28.0.12 - - [12/Apr/2023 18:34:10] \"POST /update HTTP/1.1\" 200 -\n",
            "INFO:werkzeug:172.28.0.12 - - [12/Apr/2023 18:34:10] \"POST /update HTTP/1.1\" 200 -\n",
            "INFO:werkzeug:172.28.0.12 - - [12/Apr/2023 18:34:10] \"GET /parameters HTTP/1.1\" 200 -\n",
            "INFO:werkzeug:172.28.0.12 - - [12/Apr/2023 18:34:10] \"GET /parameters HTTP/1.1\" 200 -\n",
            "INFO:werkzeug:172.28.0.12 - - [12/Apr/2023 18:34:11] \"POST /update HTTP/1.1\" 200 -\n",
            "INFO:werkzeug:172.28.0.12 - - [12/Apr/2023 18:34:11] \"POST /update HTTP/1.1\" 200 -\n",
            "INFO:werkzeug:172.28.0.12 - - [12/Apr/2023 18:34:11] \"GET /parameters HTTP/1.1\" 200 -\n",
            "INFO:werkzeug:172.28.0.12 - - [12/Apr/2023 18:34:11] \"GET /parameters HTTP/1.1\" 200 -\n",
            "INFO:werkzeug:172.28.0.12 - - [12/Apr/2023 18:34:12] \"POST /update HTTP/1.1\" 200 -\n",
            "INFO:werkzeug:172.28.0.12 - - [12/Apr/2023 18:34:12] \"POST /update HTTP/1.1\" 200 -\n",
            "INFO:werkzeug:172.28.0.12 - - [12/Apr/2023 18:34:12] \"GET /parameters HTTP/1.1\" 200 -\n",
            "INFO:werkzeug:172.28.0.12 - - [12/Apr/2023 18:34:12] \"GET /parameters HTTP/1.1\" 200 -\n",
            "INFO:werkzeug:172.28.0.12 - - [12/Apr/2023 18:34:13] \"POST /update HTTP/1.1\" 200 -\n",
            "INFO:werkzeug:172.28.0.12 - - [12/Apr/2023 18:34:13] \"POST /update HTTP/1.1\" 200 -\n",
            "INFO:werkzeug:172.28.0.12 - - [12/Apr/2023 18:34:13] \"GET /parameters HTTP/1.1\" 200 -\n",
            "INFO:werkzeug:172.28.0.12 - - [12/Apr/2023 18:34:13] \"GET /parameters HTTP/1.1\" 200 -\n",
            "INFO:werkzeug:172.28.0.12 - - [12/Apr/2023 18:34:14] \"POST /update HTTP/1.1\" 200 -\n",
            "INFO:werkzeug:172.28.0.12 - - [12/Apr/2023 18:34:14] \"POST /update HTTP/1.1\" 200 -\n",
            "INFO:werkzeug:172.28.0.12 - - [12/Apr/2023 18:34:14] \"GET /parameters HTTP/1.1\" 200 -\n",
            "INFO:werkzeug:172.28.0.12 - - [12/Apr/2023 18:34:14] \"GET /parameters HTTP/1.1\" 200 -\n",
            "INFO:werkzeug:172.28.0.12 - - [12/Apr/2023 18:34:15] \"POST /update HTTP/1.1\" 200 -\n",
            "INFO:werkzeug:172.28.0.12 - - [12/Apr/2023 18:34:15] \"POST /update HTTP/1.1\" 200 -\n",
            "INFO:werkzeug:172.28.0.12 - - [12/Apr/2023 18:34:15] \"GET /parameters HTTP/1.1\" 200 -\n",
            "INFO:werkzeug:172.28.0.12 - - [12/Apr/2023 18:34:15] \"GET /parameters HTTP/1.1\" 200 -\n",
            "INFO:werkzeug:172.28.0.12 - - [12/Apr/2023 18:34:16] \"POST /update HTTP/1.1\" 200 -\n",
            "INFO:werkzeug:172.28.0.12 - - [12/Apr/2023 18:34:16] \"POST /update HTTP/1.1\" 200 -\n",
            "INFO:werkzeug:172.28.0.12 - - [12/Apr/2023 18:34:16] \"GET /parameters HTTP/1.1\" 200 -\n",
            "INFO:werkzeug:172.28.0.12 - - [12/Apr/2023 18:34:16] \"GET /parameters HTTP/1.1\" 200 -\n",
            "INFO:werkzeug:172.28.0.12 - - [12/Apr/2023 18:34:17] \"POST /update HTTP/1.1\" 200 -\n",
            "INFO:werkzeug:172.28.0.12 - - [12/Apr/2023 18:34:17] \"POST /update HTTP/1.1\" 200 -\n",
            "INFO:werkzeug:172.28.0.12 - - [12/Apr/2023 18:34:17] \"GET /parameters HTTP/1.1\" 200 -\n",
            "INFO:werkzeug:172.28.0.12 - - [12/Apr/2023 18:34:17] \"GET /parameters HTTP/1.1\" 200 -\n",
            "INFO:werkzeug:172.28.0.12 - - [12/Apr/2023 18:34:18] \"POST /update HTTP/1.1\" 200 -\n",
            "INFO:werkzeug:172.28.0.12 - - [12/Apr/2023 18:34:18] \"POST /update HTTP/1.1\" 200 -\n",
            "INFO:werkzeug:172.28.0.12 - - [12/Apr/2023 18:34:18] \"GET /parameters HTTP/1.1\" 200 -\n",
            "INFO:werkzeug:172.28.0.12 - - [12/Apr/2023 18:34:18] \"GET /parameters HTTP/1.1\" 200 -\n",
            "INFO:werkzeug:172.28.0.12 - - [12/Apr/2023 18:34:19] \"POST /update HTTP/1.1\" 200 -\n",
            "INFO:werkzeug:172.28.0.12 - - [12/Apr/2023 18:34:19] \"POST /update HTTP/1.1\" 200 -\n",
            "INFO:werkzeug:172.28.0.12 - - [12/Apr/2023 18:34:20] \"GET /parameters HTTP/1.1\" 200 -\n",
            "INFO:werkzeug:172.28.0.12 - - [12/Apr/2023 18:34:20] \"GET /parameters HTTP/1.1\" 200 -\n",
            "INFO:werkzeug:172.28.0.12 - - [12/Apr/2023 18:34:21] \"POST /update HTTP/1.1\" 200 -\n",
            "INFO:werkzeug:172.28.0.12 - - [12/Apr/2023 18:34:21] \"POST /update HTTP/1.1\" 200 -\n",
            "INFO:werkzeug:172.28.0.12 - - [12/Apr/2023 18:34:21] \"GET /parameters HTTP/1.1\" 200 -\n",
            "INFO:werkzeug:172.28.0.12 - - [12/Apr/2023 18:34:21] \"GET /parameters HTTP/1.1\" 200 -\n",
            "INFO:werkzeug:172.28.0.12 - - [12/Apr/2023 18:34:22] \"POST /update HTTP/1.1\" 200 -\n",
            "INFO:werkzeug:172.28.0.12 - - [12/Apr/2023 18:34:22] \"POST /update HTTP/1.1\" 200 -\n",
            "INFO:werkzeug:172.28.0.12 - - [12/Apr/2023 18:34:22] \"GET /parameters HTTP/1.1\" 200 -\n",
            "INFO:werkzeug:172.28.0.12 - - [12/Apr/2023 18:34:23] \"GET /parameters HTTP/1.1\" 200 -\n",
            "INFO:werkzeug:172.28.0.12 - - [12/Apr/2023 18:34:24] \"POST /update HTTP/1.1\" 200 -\n",
            "INFO:werkzeug:172.28.0.12 - - [12/Apr/2023 18:34:24] \"POST /update HTTP/1.1\" 200 -\n",
            "INFO:werkzeug:172.28.0.12 - - [12/Apr/2023 18:34:24] \"GET /parameters HTTP/1.1\" 200 -\n",
            "INFO:werkzeug:172.28.0.12 - - [12/Apr/2023 18:34:24] \"GET /parameters HTTP/1.1\" 200 -\n",
            "INFO:werkzeug:172.28.0.12 - - [12/Apr/2023 18:34:25] \"POST /update HTTP/1.1\" 200 -\n",
            "INFO:werkzeug:172.28.0.12 - - [12/Apr/2023 18:34:25] \"POST /update HTTP/1.1\" 200 -\n",
            "INFO:werkzeug:172.28.0.12 - - [12/Apr/2023 18:34:25] \"GET /parameters HTTP/1.1\" 200 -\n",
            "INFO:werkzeug:172.28.0.12 - - [12/Apr/2023 18:34:25] \"GET /parameters HTTP/1.1\" 200 -\n",
            "INFO:werkzeug:172.28.0.12 - - [12/Apr/2023 18:34:26] \"POST /update HTTP/1.1\" 200 -\n",
            "INFO:werkzeug:172.28.0.12 - - [12/Apr/2023 18:34:27] \"POST /update HTTP/1.1\" 200 -\n",
            "INFO:werkzeug:172.28.0.12 - - [12/Apr/2023 18:34:27] \"GET /parameters HTTP/1.1\" 200 -\n",
            "INFO:werkzeug:172.28.0.12 - - [12/Apr/2023 18:34:27] \"GET /parameters HTTP/1.1\" 200 -\n",
            "INFO:werkzeug:172.28.0.12 - - [12/Apr/2023 18:34:28] \"POST /update HTTP/1.1\" 200 -\n",
            "INFO:werkzeug:172.28.0.12 - - [12/Apr/2023 18:34:28] \"POST /update HTTP/1.1\" 200 -\n",
            "INFO:werkzeug:172.28.0.12 - - [12/Apr/2023 18:34:28] \"GET /parameters HTTP/1.1\" 200 -\n",
            "INFO:werkzeug:172.28.0.12 - - [12/Apr/2023 18:34:28] \"GET /parameters HTTP/1.1\" 200 -\n",
            "INFO:werkzeug:172.28.0.12 - - [12/Apr/2023 18:34:29] \"POST /update HTTP/1.1\" 200 -\n",
            "INFO:werkzeug:172.28.0.12 - - [12/Apr/2023 18:34:29] \"POST /update HTTP/1.1\" 200 -\n",
            "INFO:werkzeug:172.28.0.12 - - [12/Apr/2023 18:34:29] \"GET /parameters HTTP/1.1\" 200 -\n",
            "INFO:werkzeug:172.28.0.12 - - [12/Apr/2023 18:34:30] \"GET /parameters HTTP/1.1\" 200 -\n",
            "INFO:werkzeug:172.28.0.12 - - [12/Apr/2023 18:34:30] \"POST /update HTTP/1.1\" 200 -\n",
            "INFO:werkzeug:172.28.0.12 - - [12/Apr/2023 18:34:30] \"POST /update HTTP/1.1\" 200 -\n",
            "INFO:werkzeug:172.28.0.12 - - [12/Apr/2023 18:34:30] \"GET /parameters HTTP/1.1\" 200 -\n",
            "INFO:werkzeug:172.28.0.12 - - [12/Apr/2023 18:34:31] \"GET /parameters HTTP/1.1\" 200 -\n",
            "INFO:werkzeug:172.28.0.12 - - [12/Apr/2023 18:34:31] \"POST /update HTTP/1.1\" 200 -\n",
            "INFO:werkzeug:172.28.0.12 - - [12/Apr/2023 18:34:31] \"POST /update HTTP/1.1\" 200 -\n",
            "INFO:werkzeug:172.28.0.12 - - [12/Apr/2023 18:34:31] \"GET /parameters HTTP/1.1\" 200 -\n",
            "INFO:werkzeug:172.28.0.12 - - [12/Apr/2023 18:34:32] \"GET /parameters HTTP/1.1\" 200 -\n",
            "INFO:werkzeug:172.28.0.12 - - [12/Apr/2023 18:34:32] \"POST /update HTTP/1.1\" 200 -\n",
            "INFO:werkzeug:172.28.0.12 - - [12/Apr/2023 18:34:32] \"POST /update HTTP/1.1\" 200 -\n",
            "INFO:werkzeug:172.28.0.12 - - [12/Apr/2023 18:34:32] \"GET /parameters HTTP/1.1\" 200 -\n",
            "INFO:werkzeug:172.28.0.12 - - [12/Apr/2023 18:34:33] \"GET /parameters HTTP/1.1\" 200 -\n",
            "INFO:werkzeug:172.28.0.12 - - [12/Apr/2023 18:34:33] \"POST /update HTTP/1.1\" 200 -\n",
            "INFO:werkzeug:172.28.0.12 - - [12/Apr/2023 18:34:33] \"POST /update HTTP/1.1\" 200 -\n",
            "INFO:werkzeug:172.28.0.12 - - [12/Apr/2023 18:34:34] \"GET /parameters HTTP/1.1\" 200 -\n",
            "INFO:werkzeug:172.28.0.12 - - [12/Apr/2023 18:34:34] \"GET /parameters HTTP/1.1\" 200 -\n",
            "INFO:werkzeug:172.28.0.12 - - [12/Apr/2023 18:34:34] \"POST /update HTTP/1.1\" 200 -\n",
            "INFO:werkzeug:172.28.0.12 - - [12/Apr/2023 18:34:34] \"POST /update HTTP/1.1\" 200 -\n",
            "INFO:werkzeug:172.28.0.12 - - [12/Apr/2023 18:34:35] \"GET /parameters HTTP/1.1\" 200 -\n",
            "INFO:werkzeug:172.28.0.12 - - [12/Apr/2023 18:34:35] \"GET /parameters HTTP/1.1\" 200 -\n",
            "INFO:werkzeug:172.28.0.12 - - [12/Apr/2023 18:34:35] \"POST /update HTTP/1.1\" 200 -\n",
            "INFO:werkzeug:172.28.0.12 - - [12/Apr/2023 18:34:36] \"POST /update HTTP/1.1\" 200 -\n",
            "INFO:werkzeug:172.28.0.12 - - [12/Apr/2023 18:34:36] \"GET /parameters HTTP/1.1\" 200 -\n",
            "INFO:werkzeug:172.28.0.12 - - [12/Apr/2023 18:34:36] \"GET /parameters HTTP/1.1\" 200 -\n",
            "INFO:werkzeug:172.28.0.12 - - [12/Apr/2023 18:34:37] \"POST /update HTTP/1.1\" 200 -\n",
            "INFO:werkzeug:172.28.0.12 - - [12/Apr/2023 18:34:37] \"POST /update HTTP/1.1\" 200 -\n",
            "INFO:werkzeug:172.28.0.12 - - [12/Apr/2023 18:34:37] \"GET /parameters HTTP/1.1\" 200 -\n",
            "INFO:werkzeug:172.28.0.12 - - [12/Apr/2023 18:34:37] \"GET /parameters HTTP/1.1\" 200 -\n",
            "INFO:werkzeug:172.28.0.12 - - [12/Apr/2023 18:34:38] \"POST /update HTTP/1.1\" 200 -\n",
            "INFO:werkzeug:172.28.0.12 - - [12/Apr/2023 18:34:39] \"POST /update HTTP/1.1\" 200 -\n",
            "INFO:werkzeug:172.28.0.12 - - [12/Apr/2023 18:34:39] \"GET /parameters HTTP/1.1\" 200 -\n",
            "INFO:werkzeug:172.28.0.12 - - [12/Apr/2023 18:34:39] \"GET /parameters HTTP/1.1\" 200 -\n",
            "INFO:werkzeug:172.28.0.12 - - [12/Apr/2023 18:34:40] \"POST /update HTTP/1.1\" 200 -\n",
            "INFO:werkzeug:172.28.0.12 - - [12/Apr/2023 18:34:41] \"POST /update HTTP/1.1\" 200 -\n",
            "INFO:werkzeug:172.28.0.12 - - [12/Apr/2023 18:34:41] \"GET /parameters HTTP/1.1\" 200 -\n",
            "INFO:werkzeug:172.28.0.12 - - [12/Apr/2023 18:34:41] \"GET /parameters HTTP/1.1\" 200 -\n",
            "INFO:werkzeug:172.28.0.12 - - [12/Apr/2023 18:34:42] \"POST /update HTTP/1.1\" 200 -\n",
            "INFO:werkzeug:172.28.0.12 - - [12/Apr/2023 18:34:42] \"POST /update HTTP/1.1\" 200 -\n",
            "INFO:werkzeug:172.28.0.12 - - [12/Apr/2023 18:34:42] \"GET /parameters HTTP/1.1\" 200 -\n",
            "INFO:werkzeug:172.28.0.12 - - [12/Apr/2023 18:34:42] \"GET /parameters HTTP/1.1\" 200 -\n",
            "INFO:werkzeug:172.28.0.12 - - [12/Apr/2023 18:34:43] \"POST /update HTTP/1.1\" 200 -\n",
            "INFO:werkzeug:172.28.0.12 - - [12/Apr/2023 18:34:43] \"POST /update HTTP/1.1\" 200 -\n",
            "INFO:werkzeug:172.28.0.12 - - [12/Apr/2023 18:34:43] \"GET /parameters HTTP/1.1\" 200 -\n",
            "INFO:werkzeug:172.28.0.12 - - [12/Apr/2023 18:34:43] \"GET /parameters HTTP/1.1\" 200 -\n",
            "INFO:werkzeug:172.28.0.12 - - [12/Apr/2023 18:34:44] \"POST /update HTTP/1.1\" 200 -\n",
            "INFO:werkzeug:172.28.0.12 - - [12/Apr/2023 18:34:44] \"POST /update HTTP/1.1\" 200 -\n",
            "INFO:werkzeug:172.28.0.12 - - [12/Apr/2023 18:34:44] \"GET /parameters HTTP/1.1\" 200 -\n",
            "INFO:werkzeug:172.28.0.12 - - [12/Apr/2023 18:34:44] \"GET /parameters HTTP/1.1\" 200 -\n",
            "INFO:werkzeug:172.28.0.12 - - [12/Apr/2023 18:34:45] \"POST /update HTTP/1.1\" 200 -\n",
            "INFO:werkzeug:172.28.0.12 - - [12/Apr/2023 18:34:45] \"POST /update HTTP/1.1\" 200 -\n",
            "INFO:werkzeug:172.28.0.12 - - [12/Apr/2023 18:34:45] \"GET /parameters HTTP/1.1\" 200 -\n",
            "INFO:werkzeug:172.28.0.12 - - [12/Apr/2023 18:34:45] \"GET /parameters HTTP/1.1\" 200 -\n",
            "INFO:werkzeug:172.28.0.12 - - [12/Apr/2023 18:34:46] \"POST /update HTTP/1.1\" 200 -\n",
            "INFO:werkzeug:172.28.0.12 - - [12/Apr/2023 18:34:46] \"POST /update HTTP/1.1\" 200 -\n",
            "INFO:werkzeug:172.28.0.12 - - [12/Apr/2023 18:34:46] \"GET /parameters HTTP/1.1\" 200 -\n",
            "INFO:werkzeug:172.28.0.12 - - [12/Apr/2023 18:34:46] \"GET /parameters HTTP/1.1\" 200 -\n",
            "INFO:werkzeug:172.28.0.12 - - [12/Apr/2023 18:34:47] \"POST /update HTTP/1.1\" 200 -\n",
            "INFO:werkzeug:172.28.0.12 - - [12/Apr/2023 18:34:47] \"POST /update HTTP/1.1\" 200 -\n",
            "INFO:werkzeug:172.28.0.12 - - [12/Apr/2023 18:34:47] \"GET /parameters HTTP/1.1\" 200 -\n",
            "INFO:werkzeug:172.28.0.12 - - [12/Apr/2023 18:34:47] \"GET /parameters HTTP/1.1\" 200 -\n",
            "INFO:werkzeug:172.28.0.12 - - [12/Apr/2023 18:34:48] \"POST /update HTTP/1.1\" 200 -\n",
            "INFO:werkzeug:172.28.0.12 - - [12/Apr/2023 18:34:48] \"POST /update HTTP/1.1\" 200 -\n",
            "INFO:werkzeug:172.28.0.12 - - [12/Apr/2023 18:34:48] \"GET /parameters HTTP/1.1\" 200 -\n",
            "INFO:werkzeug:172.28.0.12 - - [12/Apr/2023 18:34:48] \"GET /parameters HTTP/1.1\" 200 -\n",
            "INFO:werkzeug:172.28.0.12 - - [12/Apr/2023 18:34:49] \"POST /update HTTP/1.1\" 200 -\n",
            "INFO:werkzeug:172.28.0.12 - - [12/Apr/2023 18:34:49] \"POST /update HTTP/1.1\" 200 -\n",
            "INFO:werkzeug:172.28.0.12 - - [12/Apr/2023 18:34:49] \"GET /parameters HTTP/1.1\" 200 -\n",
            "INFO:werkzeug:172.28.0.12 - - [12/Apr/2023 18:34:49] \"GET /parameters HTTP/1.1\" 200 -\n",
            "INFO:werkzeug:172.28.0.12 - - [12/Apr/2023 18:34:50] \"POST /update HTTP/1.1\" 200 -\n",
            "INFO:werkzeug:172.28.0.12 - - [12/Apr/2023 18:34:50] \"POST /update HTTP/1.1\" 200 -\n",
            "INFO:werkzeug:172.28.0.12 - - [12/Apr/2023 18:34:50] \"GET /parameters HTTP/1.1\" 200 -\n",
            "INFO:werkzeug:172.28.0.12 - - [12/Apr/2023 18:34:50] \"GET /parameters HTTP/1.1\" 200 -\n",
            "INFO:werkzeug:172.28.0.12 - - [12/Apr/2023 18:34:51] \"POST /update HTTP/1.1\" 200 -\n",
            "INFO:werkzeug:172.28.0.12 - - [12/Apr/2023 18:34:51] \"POST /update HTTP/1.1\" 200 -\n",
            "INFO:werkzeug:172.28.0.12 - - [12/Apr/2023 18:34:51] \"GET /parameters HTTP/1.1\" 200 -\n",
            "INFO:werkzeug:172.28.0.12 - - [12/Apr/2023 18:34:51] \"GET /parameters HTTP/1.1\" 200 -\n",
            "INFO:werkzeug:172.28.0.12 - - [12/Apr/2023 18:34:52] \"POST /update HTTP/1.1\" 200 -\n",
            "INFO:werkzeug:172.28.0.12 - - [12/Apr/2023 18:34:52] \"POST /update HTTP/1.1\" 200 -\n",
            "INFO:werkzeug:172.28.0.12 - - [12/Apr/2023 18:34:52] \"GET /parameters HTTP/1.1\" 200 -\n",
            "INFO:werkzeug:172.28.0.12 - - [12/Apr/2023 18:34:52] \"GET /parameters HTTP/1.1\" 200 -\n",
            "INFO:werkzeug:172.28.0.12 - - [12/Apr/2023 18:34:53] \"POST /update HTTP/1.1\" 200 -\n",
            "INFO:werkzeug:172.28.0.12 - - [12/Apr/2023 18:34:54] \"POST /update HTTP/1.1\" 200 -\n",
            "INFO:werkzeug:172.28.0.12 - - [12/Apr/2023 18:34:54] \"GET /parameters HTTP/1.1\" 200 -\n",
            "INFO:werkzeug:172.28.0.12 - - [12/Apr/2023 18:34:54] \"GET /parameters HTTP/1.1\" 200 -\n",
            "INFO:werkzeug:172.28.0.12 - - [12/Apr/2023 18:34:55] \"POST /update HTTP/1.1\" 200 -\n",
            "INFO:werkzeug:172.28.0.12 - - [12/Apr/2023 18:34:55] \"POST /update HTTP/1.1\" 200 -\n",
            "INFO:werkzeug:172.28.0.12 - - [12/Apr/2023 18:34:55] \"GET /parameters HTTP/1.1\" 200 -\n",
            "INFO:werkzeug:172.28.0.12 - - [12/Apr/2023 18:34:55] \"GET /parameters HTTP/1.1\" 200 -\n",
            "INFO:werkzeug:172.28.0.12 - - [12/Apr/2023 18:34:56] \"POST /update HTTP/1.1\" 200 -\n",
            "INFO:werkzeug:172.28.0.12 - - [12/Apr/2023 18:34:57] \"POST /update HTTP/1.1\" 200 -\n",
            "INFO:werkzeug:172.28.0.12 - - [12/Apr/2023 18:34:57] \"GET /parameters HTTP/1.1\" 200 -\n",
            "INFO:werkzeug:172.28.0.12 - - [12/Apr/2023 18:34:57] \"GET /parameters HTTP/1.1\" 200 -\n",
            "INFO:werkzeug:172.28.0.12 - - [12/Apr/2023 18:34:58] \"POST /update HTTP/1.1\" 200 -\n",
            "INFO:werkzeug:172.28.0.12 - - [12/Apr/2023 18:34:58] \"POST /update HTTP/1.1\" 200 -\n",
            "INFO:werkzeug:172.28.0.12 - - [12/Apr/2023 18:34:58] \"GET /parameters HTTP/1.1\" 200 -\n",
            "INFO:werkzeug:172.28.0.12 - - [12/Apr/2023 18:34:58] \"GET /parameters HTTP/1.1\" 200 -\n",
            "INFO:werkzeug:172.28.0.12 - - [12/Apr/2023 18:34:59] \"POST /update HTTP/1.1\" 200 -\n",
            "INFO:werkzeug:172.28.0.12 - - [12/Apr/2023 18:34:59] \"POST /update HTTP/1.1\" 200 -\n",
            "INFO:werkzeug:172.28.0.12 - - [12/Apr/2023 18:34:59] \"GET /parameters HTTP/1.1\" 200 -\n",
            "INFO:werkzeug:172.28.0.12 - - [12/Apr/2023 18:34:59] \"GET /parameters HTTP/1.1\" 200 -\n",
            "INFO:werkzeug:172.28.0.12 - - [12/Apr/2023 18:35:00] \"POST /update HTTP/1.1\" 200 -\n",
            "INFO:werkzeug:172.28.0.12 - - [12/Apr/2023 18:35:00] \"POST /update HTTP/1.1\" 200 -\n",
            "INFO:werkzeug:172.28.0.12 - - [12/Apr/2023 18:35:00] \"GET /parameters HTTP/1.1\" 200 -\n",
            "INFO:werkzeug:172.28.0.12 - - [12/Apr/2023 18:35:00] \"GET /parameters HTTP/1.1\" 200 -\n",
            "INFO:werkzeug:172.28.0.12 - - [12/Apr/2023 18:35:01] \"POST /update HTTP/1.1\" 200 -\n",
            "INFO:werkzeug:172.28.0.12 - - [12/Apr/2023 18:35:01] \"POST /update HTTP/1.1\" 200 -\n",
            "INFO:werkzeug:172.28.0.12 - - [12/Apr/2023 18:35:01] \"GET /parameters HTTP/1.1\" 200 -\n",
            "INFO:werkzeug:172.28.0.12 - - [12/Apr/2023 18:35:01] \"GET /parameters HTTP/1.1\" 200 -\n",
            "INFO:werkzeug:172.28.0.12 - - [12/Apr/2023 18:35:02] \"POST /update HTTP/1.1\" 200 -\n",
            "INFO:werkzeug:172.28.0.12 - - [12/Apr/2023 18:35:02] \"POST /update HTTP/1.1\" 200 -\n",
            "INFO:werkzeug:172.28.0.12 - - [12/Apr/2023 18:35:02] \"GET /parameters HTTP/1.1\" 200 -\n",
            "INFO:werkzeug:172.28.0.12 - - [12/Apr/2023 18:35:02] \"GET /parameters HTTP/1.1\" 200 -\n",
            "INFO:werkzeug:172.28.0.12 - - [12/Apr/2023 18:35:03] \"POST /update HTTP/1.1\" 200 -\n",
            "INFO:werkzeug:172.28.0.12 - - [12/Apr/2023 18:35:03] \"POST /update HTTP/1.1\" 200 -\n",
            "INFO:werkzeug:172.28.0.12 - - [12/Apr/2023 18:35:03] \"GET /parameters HTTP/1.1\" 200 -\n",
            "INFO:werkzeug:172.28.0.12 - - [12/Apr/2023 18:35:03] \"GET /parameters HTTP/1.1\" 200 -\n",
            "INFO:werkzeug:172.28.0.12 - - [12/Apr/2023 18:35:04] \"POST /update HTTP/1.1\" 200 -\n",
            "INFO:werkzeug:172.28.0.12 - - [12/Apr/2023 18:35:04] \"POST /update HTTP/1.1\" 200 -\n",
            "INFO:werkzeug:172.28.0.12 - - [12/Apr/2023 18:35:04] \"GET /parameters HTTP/1.1\" 200 -\n",
            "INFO:werkzeug:172.28.0.12 - - [12/Apr/2023 18:35:04] \"GET /parameters HTTP/1.1\" 200 -\n",
            "INFO:werkzeug:172.28.0.12 - - [12/Apr/2023 18:35:05] \"POST /update HTTP/1.1\" 200 -\n",
            "INFO:werkzeug:172.28.0.12 - - [12/Apr/2023 18:35:05] \"POST /update HTTP/1.1\" 200 -\n",
            "INFO:werkzeug:172.28.0.12 - - [12/Apr/2023 18:35:05] \"GET /parameters HTTP/1.1\" 200 -\n",
            "INFO:werkzeug:172.28.0.12 - - [12/Apr/2023 18:35:05] \"GET /parameters HTTP/1.1\" 200 -\n",
            "INFO:werkzeug:172.28.0.12 - - [12/Apr/2023 18:35:06] \"POST /update HTTP/1.1\" 200 -\n",
            "INFO:werkzeug:172.28.0.12 - - [12/Apr/2023 18:35:06] \"POST /update HTTP/1.1\" 200 -\n",
            "INFO:werkzeug:172.28.0.12 - - [12/Apr/2023 18:35:06] \"GET /parameters HTTP/1.1\" 200 -\n",
            "INFO:werkzeug:172.28.0.12 - - [12/Apr/2023 18:35:06] \"GET /parameters HTTP/1.1\" 200 -\n",
            "INFO:werkzeug:172.28.0.12 - - [12/Apr/2023 18:35:07] \"POST /update HTTP/1.1\" 200 -\n",
            "INFO:werkzeug:172.28.0.12 - - [12/Apr/2023 18:35:07] \"POST /update HTTP/1.1\" 200 -\n",
            "INFO:werkzeug:172.28.0.12 - - [12/Apr/2023 18:35:07] \"GET /parameters HTTP/1.1\" 200 -\n",
            "INFO:werkzeug:172.28.0.12 - - [12/Apr/2023 18:35:07] \"GET /parameters HTTP/1.1\" 200 -\n",
            "INFO:werkzeug:172.28.0.12 - - [12/Apr/2023 18:35:08] \"POST /update HTTP/1.1\" 200 -\n",
            "INFO:werkzeug:172.28.0.12 - - [12/Apr/2023 18:35:08] \"POST /update HTTP/1.1\" 200 -\n",
            "INFO:werkzeug:172.28.0.12 - - [12/Apr/2023 18:35:09] \"GET /parameters HTTP/1.1\" 200 -\n",
            "INFO:werkzeug:172.28.0.12 - - [12/Apr/2023 18:35:09] \"GET /parameters HTTP/1.1\" 200 -\n",
            "INFO:werkzeug:172.28.0.12 - - [12/Apr/2023 18:35:10] \"POST /update HTTP/1.1\" 200 -\n",
            "INFO:werkzeug:172.28.0.12 - - [12/Apr/2023 18:35:10] \"POST /update HTTP/1.1\" 200 -\n",
            "INFO:werkzeug:172.28.0.12 - - [12/Apr/2023 18:35:10] \"GET /parameters HTTP/1.1\" 200 -\n",
            "INFO:werkzeug:172.28.0.12 - - [12/Apr/2023 18:35:10] \"GET /parameters HTTP/1.1\" 200 -\n",
            "INFO:werkzeug:172.28.0.12 - - [12/Apr/2023 18:35:11] \"POST /update HTTP/1.1\" 200 -\n",
            "INFO:werkzeug:172.28.0.12 - - [12/Apr/2023 18:35:11] \"POST /update HTTP/1.1\" 200 -\n",
            "INFO:werkzeug:172.28.0.12 - - [12/Apr/2023 18:35:11] \"GET /parameters HTTP/1.1\" 200 -\n",
            "INFO:werkzeug:172.28.0.12 - - [12/Apr/2023 18:35:12] \"GET /parameters HTTP/1.1\" 200 -\n",
            "INFO:werkzeug:172.28.0.12 - - [12/Apr/2023 18:35:12] \"POST /update HTTP/1.1\" 200 -\n",
            "INFO:werkzeug:172.28.0.12 - - [12/Apr/2023 18:35:13] \"POST /update HTTP/1.1\" 200 -\n",
            "INFO:werkzeug:172.28.0.12 - - [12/Apr/2023 18:35:13] \"GET /parameters HTTP/1.1\" 200 -\n"
          ]
        },
        {
          "name": "stdout",
          "output_type": "stream",
          "text": [
            ">>> Async training complete.\n"
          ]
        }
      ],
      "source": [
        "spark_model_cnn.fit(train_rdd, epochs=75, batch_size=32)"
      ]
    },
    {
      "cell_type": "code",
      "execution_count": null,
      "metadata": {
        "colab": {
          "base_uri": "https://localhost:8080/"
        },
        "id": "s45mq_y7rIrV",
        "outputId": "5d964caa-9b60-45a3-8d12-d5cc52793620"
      },
      "outputs": [
        {
          "name": "stdout",
          "output_type": "stream",
          "text": [
            "9/9 [==============================] - 116s 12s/step - loss: 0.6894 - accuracy: 0.5699\n"
          ]
        }
      ],
      "source": [
        "scores = spark_model_cnn.master_network.evaluate(val_generator)"
      ]
    },
    {
      "cell_type": "markdown",
      "metadata": {
        "id": "gso2V_Xi-sII"
      },
      "source": [
        "### EPOCHS = 100"
      ]
    },
    {
      "cell_type": "code",
      "execution_count": null,
      "metadata": {
        "id": "RSigi2uG-sIJ",
        "colab": {
          "base_uri": "https://localhost:8080/"
        },
        "outputId": "ecfaa875-1464-472e-d03c-c6f09096e57b"
      },
      "outputs": [
        {
          "output_type": "stream",
          "name": "stdout",
          "text": [
            ">>> Fit model\n",
            " * Serving Flask app 'elephas.parameter.server'\n",
            " * Debug mode: off\n"
          ]
        },
        {
          "output_type": "stream",
          "name": "stderr",
          "text": [
            "INFO:werkzeug:\u001b[31m\u001b[1mWARNING: This is a development server. Do not use it in a production deployment. Use a production WSGI server instead.\u001b[0m\n",
            " * Running on http://172.28.0.12:4000\n",
            "INFO:werkzeug:\u001b[33mPress CTRL+C to quit\u001b[0m\n"
          ]
        },
        {
          "output_type": "stream",
          "name": "stdout",
          "text": [
            ">>> Initialize workers\n",
            ">>> Distribute load\n"
          ]
        },
        {
          "output_type": "stream",
          "name": "stderr",
          "text": [
            "INFO:werkzeug:172.28.0.12 - - [12/Apr/2023 18:40:57] \"GET /parameters HTTP/1.1\" 200 -\n",
            "INFO:werkzeug:172.28.0.12 - - [12/Apr/2023 18:40:58] \"GET /parameters HTTP/1.1\" 200 -\n",
            "INFO:werkzeug:172.28.0.12 - - [12/Apr/2023 18:40:58] \"POST /update HTTP/1.1\" 200 -\n",
            "INFO:werkzeug:172.28.0.12 - - [12/Apr/2023 18:40:59] \"POST /update HTTP/1.1\" 200 -\n",
            "INFO:werkzeug:172.28.0.12 - - [12/Apr/2023 18:40:59] \"GET /parameters HTTP/1.1\" 200 -\n",
            "INFO:werkzeug:172.28.0.12 - - [12/Apr/2023 18:40:59] \"GET /parameters HTTP/1.1\" 200 -\n",
            "INFO:werkzeug:172.28.0.12 - - [12/Apr/2023 18:40:59] \"POST /update HTTP/1.1\" 200 -\n",
            "INFO:werkzeug:172.28.0.12 - - [12/Apr/2023 18:41:00] \"POST /update HTTP/1.1\" 200 -\n",
            "INFO:werkzeug:172.28.0.12 - - [12/Apr/2023 18:41:00] \"GET /parameters HTTP/1.1\" 200 -\n",
            "INFO:werkzeug:172.28.0.12 - - [12/Apr/2023 18:41:00] \"GET /parameters HTTP/1.1\" 200 -\n",
            "INFO:werkzeug:172.28.0.12 - - [12/Apr/2023 18:41:00] \"POST /update HTTP/1.1\" 200 -\n",
            "INFO:werkzeug:172.28.0.12 - - [12/Apr/2023 18:41:00] \"POST /update HTTP/1.1\" 200 -\n",
            "INFO:werkzeug:172.28.0.12 - - [12/Apr/2023 18:41:01] \"GET /parameters HTTP/1.1\" 200 -\n",
            "INFO:werkzeug:172.28.0.12 - - [12/Apr/2023 18:41:01] \"GET /parameters HTTP/1.1\" 200 -\n",
            "INFO:werkzeug:172.28.0.12 - - [12/Apr/2023 18:41:01] \"POST /update HTTP/1.1\" 200 -\n",
            "INFO:werkzeug:172.28.0.12 - - [12/Apr/2023 18:41:01] \"POST /update HTTP/1.1\" 200 -\n",
            "INFO:werkzeug:172.28.0.12 - - [12/Apr/2023 18:41:01] \"GET /parameters HTTP/1.1\" 200 -\n",
            "INFO:werkzeug:172.28.0.12 - - [12/Apr/2023 18:41:02] \"GET /parameters HTTP/1.1\" 200 -\n",
            "INFO:werkzeug:172.28.0.12 - - [12/Apr/2023 18:41:02] \"POST /update HTTP/1.1\" 200 -\n",
            "INFO:werkzeug:172.28.0.12 - - [12/Apr/2023 18:41:02] \"POST /update HTTP/1.1\" 200 -\n",
            "INFO:werkzeug:172.28.0.12 - - [12/Apr/2023 18:41:02] \"GET /parameters HTTP/1.1\" 200 -\n",
            "INFO:werkzeug:172.28.0.12 - - [12/Apr/2023 18:41:03] \"GET /parameters HTTP/1.1\" 200 -\n",
            "INFO:werkzeug:172.28.0.12 - - [12/Apr/2023 18:41:04] \"POST /update HTTP/1.1\" 200 -\n",
            "INFO:werkzeug:172.28.0.12 - - [12/Apr/2023 18:41:04] \"POST /update HTTP/1.1\" 200 -\n",
            "INFO:werkzeug:172.28.0.12 - - [12/Apr/2023 18:41:04] \"GET /parameters HTTP/1.1\" 200 -\n",
            "INFO:werkzeug:172.28.0.12 - - [12/Apr/2023 18:41:04] \"GET /parameters HTTP/1.1\" 200 -\n",
            "INFO:werkzeug:172.28.0.12 - - [12/Apr/2023 18:41:05] \"POST /update HTTP/1.1\" 200 -\n",
            "INFO:werkzeug:172.28.0.12 - - [12/Apr/2023 18:41:05] \"POST /update HTTP/1.1\" 200 -\n",
            "INFO:werkzeug:172.28.0.12 - - [12/Apr/2023 18:41:05] \"GET /parameters HTTP/1.1\" 200 -\n",
            "INFO:werkzeug:172.28.0.12 - - [12/Apr/2023 18:41:06] \"GET /parameters HTTP/1.1\" 200 -\n",
            "INFO:werkzeug:172.28.0.12 - - [12/Apr/2023 18:41:06] \"POST /update HTTP/1.1\" 200 -\n",
            "INFO:werkzeug:172.28.0.12 - - [12/Apr/2023 18:41:07] \"POST /update HTTP/1.1\" 200 -\n",
            "INFO:werkzeug:172.28.0.12 - - [12/Apr/2023 18:41:07] \"GET /parameters HTTP/1.1\" 200 -\n",
            "INFO:werkzeug:172.28.0.12 - - [12/Apr/2023 18:41:07] \"GET /parameters HTTP/1.1\" 200 -\n",
            "INFO:werkzeug:172.28.0.12 - - [12/Apr/2023 18:41:08] \"POST /update HTTP/1.1\" 200 -\n",
            "INFO:werkzeug:172.28.0.12 - - [12/Apr/2023 18:41:08] \"POST /update HTTP/1.1\" 200 -\n",
            "INFO:werkzeug:172.28.0.12 - - [12/Apr/2023 18:41:08] \"GET /parameters HTTP/1.1\" 200 -\n",
            "INFO:werkzeug:172.28.0.12 - - [12/Apr/2023 18:41:08] \"GET /parameters HTTP/1.1\" 200 -\n",
            "INFO:werkzeug:172.28.0.12 - - [12/Apr/2023 18:41:09] \"POST /update HTTP/1.1\" 200 -\n",
            "INFO:werkzeug:172.28.0.12 - - [12/Apr/2023 18:41:09] \"POST /update HTTP/1.1\" 200 -\n",
            "INFO:werkzeug:172.28.0.12 - - [12/Apr/2023 18:41:09] \"GET /parameters HTTP/1.1\" 200 -\n",
            "INFO:werkzeug:172.28.0.12 - - [12/Apr/2023 18:41:10] \"GET /parameters HTTP/1.1\" 200 -\n",
            "INFO:werkzeug:172.28.0.12 - - [12/Apr/2023 18:41:10] \"POST /update HTTP/1.1\" 200 -\n",
            "INFO:werkzeug:172.28.0.12 - - [12/Apr/2023 18:41:10] \"POST /update HTTP/1.1\" 200 -\n",
            "INFO:werkzeug:172.28.0.12 - - [12/Apr/2023 18:41:10] \"GET /parameters HTTP/1.1\" 200 -\n",
            "INFO:werkzeug:172.28.0.12 - - [12/Apr/2023 18:41:11] \"GET /parameters HTTP/1.1\" 200 -\n",
            "INFO:werkzeug:172.28.0.12 - - [12/Apr/2023 18:41:11] \"POST /update HTTP/1.1\" 200 -\n",
            "INFO:werkzeug:172.28.0.12 - - [12/Apr/2023 18:41:11] \"POST /update HTTP/1.1\" 200 -\n",
            "INFO:werkzeug:172.28.0.12 - - [12/Apr/2023 18:41:11] \"GET /parameters HTTP/1.1\" 200 -\n",
            "INFO:werkzeug:172.28.0.12 - - [12/Apr/2023 18:41:12] \"GET /parameters HTTP/1.1\" 200 -\n",
            "INFO:werkzeug:172.28.0.12 - - [12/Apr/2023 18:41:12] \"POST /update HTTP/1.1\" 200 -\n",
            "INFO:werkzeug:172.28.0.12 - - [12/Apr/2023 18:41:12] \"POST /update HTTP/1.1\" 200 -\n",
            "INFO:werkzeug:172.28.0.12 - - [12/Apr/2023 18:41:12] \"GET /parameters HTTP/1.1\" 200 -\n",
            "INFO:werkzeug:172.28.0.12 - - [12/Apr/2023 18:41:13] \"GET /parameters HTTP/1.1\" 200 -\n",
            "INFO:werkzeug:172.28.0.12 - - [12/Apr/2023 18:41:13] \"POST /update HTTP/1.1\" 200 -\n",
            "INFO:werkzeug:172.28.0.12 - - [12/Apr/2023 18:41:13] \"POST /update HTTP/1.1\" 200 -\n",
            "INFO:werkzeug:172.28.0.12 - - [12/Apr/2023 18:41:13] \"GET /parameters HTTP/1.1\" 200 -\n",
            "INFO:werkzeug:172.28.0.12 - - [12/Apr/2023 18:41:14] \"GET /parameters HTTP/1.1\" 200 -\n",
            "INFO:werkzeug:172.28.0.12 - - [12/Apr/2023 18:41:14] \"POST /update HTTP/1.1\" 200 -\n",
            "INFO:werkzeug:172.28.0.12 - - [12/Apr/2023 18:41:14] \"POST /update HTTP/1.1\" 200 -\n",
            "INFO:werkzeug:172.28.0.12 - - [12/Apr/2023 18:41:14] \"GET /parameters HTTP/1.1\" 200 -\n",
            "INFO:werkzeug:172.28.0.12 - - [12/Apr/2023 18:41:15] \"GET /parameters HTTP/1.1\" 200 -\n",
            "INFO:werkzeug:172.28.0.12 - - [12/Apr/2023 18:41:15] \"POST /update HTTP/1.1\" 200 -\n",
            "INFO:werkzeug:172.28.0.12 - - [12/Apr/2023 18:41:15] \"POST /update HTTP/1.1\" 200 -\n",
            "INFO:werkzeug:172.28.0.12 - - [12/Apr/2023 18:41:15] \"GET /parameters HTTP/1.1\" 200 -\n",
            "INFO:werkzeug:172.28.0.12 - - [12/Apr/2023 18:41:16] \"GET /parameters HTTP/1.1\" 200 -\n",
            "INFO:werkzeug:172.28.0.12 - - [12/Apr/2023 18:41:16] \"POST /update HTTP/1.1\" 200 -\n",
            "INFO:werkzeug:172.28.0.12 - - [12/Apr/2023 18:41:16] \"POST /update HTTP/1.1\" 200 -\n",
            "INFO:werkzeug:172.28.0.12 - - [12/Apr/2023 18:41:16] \"GET /parameters HTTP/1.1\" 200 -\n",
            "INFO:werkzeug:172.28.0.12 - - [12/Apr/2023 18:41:17] \"GET /parameters HTTP/1.1\" 200 -\n",
            "INFO:werkzeug:172.28.0.12 - - [12/Apr/2023 18:41:17] \"POST /update HTTP/1.1\" 200 -\n",
            "INFO:werkzeug:172.28.0.12 - - [12/Apr/2023 18:41:17] \"POST /update HTTP/1.1\" 200 -\n",
            "INFO:werkzeug:172.28.0.12 - - [12/Apr/2023 18:41:17] \"GET /parameters HTTP/1.1\" 200 -\n",
            "INFO:werkzeug:172.28.0.12 - - [12/Apr/2023 18:41:18] \"GET /parameters HTTP/1.1\" 200 -\n",
            "INFO:werkzeug:172.28.0.12 - - [12/Apr/2023 18:41:18] \"POST /update HTTP/1.1\" 200 -\n",
            "INFO:werkzeug:172.28.0.12 - - [12/Apr/2023 18:41:18] \"POST /update HTTP/1.1\" 200 -\n",
            "INFO:werkzeug:172.28.0.12 - - [12/Apr/2023 18:41:18] \"GET /parameters HTTP/1.1\" 200 -\n",
            "INFO:werkzeug:172.28.0.12 - - [12/Apr/2023 18:41:18] \"GET /parameters HTTP/1.1\" 200 -\n",
            "INFO:werkzeug:172.28.0.12 - - [12/Apr/2023 18:41:19] \"POST /update HTTP/1.1\" 200 -\n",
            "INFO:werkzeug:172.28.0.12 - - [12/Apr/2023 18:41:19] \"POST /update HTTP/1.1\" 200 -\n",
            "INFO:werkzeug:172.28.0.12 - - [12/Apr/2023 18:41:20] \"GET /parameters HTTP/1.1\" 200 -\n",
            "INFO:werkzeug:172.28.0.12 - - [12/Apr/2023 18:41:20] \"GET /parameters HTTP/1.1\" 200 -\n",
            "INFO:werkzeug:172.28.0.12 - - [12/Apr/2023 18:41:21] \"POST /update HTTP/1.1\" 200 -\n",
            "INFO:werkzeug:172.28.0.12 - - [12/Apr/2023 18:41:21] \"POST /update HTTP/1.1\" 200 -\n",
            "INFO:werkzeug:172.28.0.12 - - [12/Apr/2023 18:41:21] \"GET /parameters HTTP/1.1\" 200 -\n",
            "INFO:werkzeug:172.28.0.12 - - [12/Apr/2023 18:41:21] \"GET /parameters HTTP/1.1\" 200 -\n",
            "INFO:werkzeug:172.28.0.12 - - [12/Apr/2023 18:41:22] \"POST /update HTTP/1.1\" 200 -\n",
            "INFO:werkzeug:172.28.0.12 - - [12/Apr/2023 18:41:22] \"POST /update HTTP/1.1\" 200 -\n",
            "INFO:werkzeug:172.28.0.12 - - [12/Apr/2023 18:41:22] \"GET /parameters HTTP/1.1\" 200 -\n",
            "INFO:werkzeug:172.28.0.12 - - [12/Apr/2023 18:41:23] \"GET /parameters HTTP/1.1\" 200 -\n",
            "INFO:werkzeug:172.28.0.12 - - [12/Apr/2023 18:41:24] \"POST /update HTTP/1.1\" 200 -\n",
            "INFO:werkzeug:172.28.0.12 - - [12/Apr/2023 18:41:24] \"POST /update HTTP/1.1\" 200 -\n",
            "INFO:werkzeug:172.28.0.12 - - [12/Apr/2023 18:41:24] \"GET /parameters HTTP/1.1\" 200 -\n",
            "INFO:werkzeug:172.28.0.12 - - [12/Apr/2023 18:41:24] \"GET /parameters HTTP/1.1\" 200 -\n",
            "INFO:werkzeug:172.28.0.12 - - [12/Apr/2023 18:41:25] \"POST /update HTTP/1.1\" 200 -\n",
            "INFO:werkzeug:172.28.0.12 - - [12/Apr/2023 18:41:25] \"POST /update HTTP/1.1\" 200 -\n",
            "INFO:werkzeug:172.28.0.12 - - [12/Apr/2023 18:41:25] \"GET /parameters HTTP/1.1\" 200 -\n",
            "INFO:werkzeug:172.28.0.12 - - [12/Apr/2023 18:41:25] \"GET /parameters HTTP/1.1\" 200 -\n",
            "INFO:werkzeug:172.28.0.12 - - [12/Apr/2023 18:41:26] \"POST /update HTTP/1.1\" 200 -\n",
            "INFO:werkzeug:172.28.0.12 - - [12/Apr/2023 18:41:26] \"POST /update HTTP/1.1\" 200 -\n",
            "INFO:werkzeug:172.28.0.12 - - [12/Apr/2023 18:41:26] \"GET /parameters HTTP/1.1\" 200 -\n",
            "INFO:werkzeug:172.28.0.12 - - [12/Apr/2023 18:41:26] \"GET /parameters HTTP/1.1\" 200 -\n",
            "INFO:werkzeug:172.28.0.12 - - [12/Apr/2023 18:41:27] \"POST /update HTTP/1.1\" 200 -\n",
            "INFO:werkzeug:172.28.0.12 - - [12/Apr/2023 18:41:27] \"POST /update HTTP/1.1\" 200 -\n",
            "INFO:werkzeug:172.28.0.12 - - [12/Apr/2023 18:41:27] \"GET /parameters HTTP/1.1\" 200 -\n",
            "INFO:werkzeug:172.28.0.12 - - [12/Apr/2023 18:41:27] \"GET /parameters HTTP/1.1\" 200 -\n",
            "INFO:werkzeug:172.28.0.12 - - [12/Apr/2023 18:41:28] \"POST /update HTTP/1.1\" 200 -\n",
            "INFO:werkzeug:172.28.0.12 - - [12/Apr/2023 18:41:28] \"POST /update HTTP/1.1\" 200 -\n",
            "INFO:werkzeug:172.28.0.12 - - [12/Apr/2023 18:41:28] \"GET /parameters HTTP/1.1\" 200 -\n",
            "INFO:werkzeug:172.28.0.12 - - [12/Apr/2023 18:41:28] \"GET /parameters HTTP/1.1\" 200 -\n",
            "INFO:werkzeug:172.28.0.12 - - [12/Apr/2023 18:41:29] \"POST /update HTTP/1.1\" 200 -\n",
            "INFO:werkzeug:172.28.0.12 - - [12/Apr/2023 18:41:29] \"POST /update HTTP/1.1\" 200 -\n",
            "INFO:werkzeug:172.28.0.12 - - [12/Apr/2023 18:41:29] \"GET /parameters HTTP/1.1\" 200 -\n",
            "INFO:werkzeug:172.28.0.12 - - [12/Apr/2023 18:41:29] \"GET /parameters HTTP/1.1\" 200 -\n",
            "INFO:werkzeug:172.28.0.12 - - [12/Apr/2023 18:41:30] \"POST /update HTTP/1.1\" 200 -\n",
            "INFO:werkzeug:172.28.0.12 - - [12/Apr/2023 18:41:30] \"POST /update HTTP/1.1\" 200 -\n",
            "INFO:werkzeug:172.28.0.12 - - [12/Apr/2023 18:41:30] \"GET /parameters HTTP/1.1\" 200 -\n",
            "INFO:werkzeug:172.28.0.12 - - [12/Apr/2023 18:41:30] \"GET /parameters HTTP/1.1\" 200 -\n",
            "INFO:werkzeug:172.28.0.12 - - [12/Apr/2023 18:41:31] \"POST /update HTTP/1.1\" 200 -\n",
            "INFO:werkzeug:172.28.0.12 - - [12/Apr/2023 18:41:31] \"POST /update HTTP/1.1\" 200 -\n",
            "INFO:werkzeug:172.28.0.12 - - [12/Apr/2023 18:41:31] \"GET /parameters HTTP/1.1\" 200 -\n",
            "INFO:werkzeug:172.28.0.12 - - [12/Apr/2023 18:41:31] \"GET /parameters HTTP/1.1\" 200 -\n",
            "INFO:werkzeug:172.28.0.12 - - [12/Apr/2023 18:41:32] \"POST /update HTTP/1.1\" 200 -\n",
            "INFO:werkzeug:172.28.0.12 - - [12/Apr/2023 18:41:32] \"POST /update HTTP/1.1\" 200 -\n",
            "INFO:werkzeug:172.28.0.12 - - [12/Apr/2023 18:41:32] \"GET /parameters HTTP/1.1\" 200 -\n",
            "INFO:werkzeug:172.28.0.12 - - [12/Apr/2023 18:41:32] \"GET /parameters HTTP/1.1\" 200 -\n",
            "INFO:werkzeug:172.28.0.12 - - [12/Apr/2023 18:41:33] \"POST /update HTTP/1.1\" 200 -\n",
            "INFO:werkzeug:172.28.0.12 - - [12/Apr/2023 18:41:33] \"POST /update HTTP/1.1\" 200 -\n",
            "INFO:werkzeug:172.28.0.12 - - [12/Apr/2023 18:41:33] \"GET /parameters HTTP/1.1\" 200 -\n",
            "INFO:werkzeug:172.28.0.12 - - [12/Apr/2023 18:41:33] \"GET /parameters HTTP/1.1\" 200 -\n",
            "INFO:werkzeug:172.28.0.12 - - [12/Apr/2023 18:41:34] \"POST /update HTTP/1.1\" 200 -\n",
            "INFO:werkzeug:172.28.0.12 - - [12/Apr/2023 18:41:34] \"POST /update HTTP/1.1\" 200 -\n",
            "INFO:werkzeug:172.28.0.12 - - [12/Apr/2023 18:41:34] \"GET /parameters HTTP/1.1\" 200 -\n",
            "INFO:werkzeug:172.28.0.12 - - [12/Apr/2023 18:41:34] \"GET /parameters HTTP/1.1\" 200 -\n",
            "INFO:werkzeug:172.28.0.12 - - [12/Apr/2023 18:41:35] \"POST /update HTTP/1.1\" 200 -\n",
            "INFO:werkzeug:172.28.0.12 - - [12/Apr/2023 18:41:35] \"POST /update HTTP/1.1\" 200 -\n",
            "INFO:werkzeug:172.28.0.12 - - [12/Apr/2023 18:41:35] \"GET /parameters HTTP/1.1\" 200 -\n",
            "INFO:werkzeug:172.28.0.12 - - [12/Apr/2023 18:41:35] \"GET /parameters HTTP/1.1\" 200 -\n",
            "INFO:werkzeug:172.28.0.12 - - [12/Apr/2023 18:41:36] \"POST /update HTTP/1.1\" 200 -\n",
            "INFO:werkzeug:172.28.0.12 - - [12/Apr/2023 18:41:36] \"POST /update HTTP/1.1\" 200 -\n",
            "INFO:werkzeug:172.28.0.12 - - [12/Apr/2023 18:41:37] \"GET /parameters HTTP/1.1\" 200 -\n",
            "INFO:werkzeug:172.28.0.12 - - [12/Apr/2023 18:41:37] \"GET /parameters HTTP/1.1\" 200 -\n",
            "INFO:werkzeug:172.28.0.12 - - [12/Apr/2023 18:41:38] \"POST /update HTTP/1.1\" 200 -\n",
            "INFO:werkzeug:172.28.0.12 - - [12/Apr/2023 18:41:38] \"POST /update HTTP/1.1\" 200 -\n",
            "INFO:werkzeug:172.28.0.12 - - [12/Apr/2023 18:41:38] \"GET /parameters HTTP/1.1\" 200 -\n",
            "INFO:werkzeug:172.28.0.12 - - [12/Apr/2023 18:41:38] \"GET /parameters HTTP/1.1\" 200 -\n",
            "INFO:werkzeug:172.28.0.12 - - [12/Apr/2023 18:41:39] \"POST /update HTTP/1.1\" 200 -\n",
            "INFO:werkzeug:172.28.0.12 - - [12/Apr/2023 18:41:39] \"POST /update HTTP/1.1\" 200 -\n",
            "INFO:werkzeug:172.28.0.12 - - [12/Apr/2023 18:41:39] \"GET /parameters HTTP/1.1\" 200 -\n",
            "INFO:werkzeug:172.28.0.12 - - [12/Apr/2023 18:41:40] \"GET /parameters HTTP/1.1\" 200 -\n",
            "INFO:werkzeug:172.28.0.12 - - [12/Apr/2023 18:41:40] \"POST /update HTTP/1.1\" 200 -\n",
            "INFO:werkzeug:172.28.0.12 - - [12/Apr/2023 18:41:41] \"POST /update HTTP/1.1\" 200 -\n",
            "INFO:werkzeug:172.28.0.12 - - [12/Apr/2023 18:41:41] \"GET /parameters HTTP/1.1\" 200 -\n",
            "INFO:werkzeug:172.28.0.12 - - [12/Apr/2023 18:41:41] \"GET /parameters HTTP/1.1\" 200 -\n",
            "INFO:werkzeug:172.28.0.12 - - [12/Apr/2023 18:41:42] \"POST /update HTTP/1.1\" 200 -\n",
            "INFO:werkzeug:172.28.0.12 - - [12/Apr/2023 18:41:42] \"POST /update HTTP/1.1\" 200 -\n",
            "INFO:werkzeug:172.28.0.12 - - [12/Apr/2023 18:41:42] \"GET /parameters HTTP/1.1\" 200 -\n",
            "INFO:werkzeug:172.28.0.12 - - [12/Apr/2023 18:41:42] \"GET /parameters HTTP/1.1\" 200 -\n",
            "INFO:werkzeug:172.28.0.12 - - [12/Apr/2023 18:41:43] \"POST /update HTTP/1.1\" 200 -\n",
            "INFO:werkzeug:172.28.0.12 - - [12/Apr/2023 18:41:43] \"POST /update HTTP/1.1\" 200 -\n",
            "INFO:werkzeug:172.28.0.12 - - [12/Apr/2023 18:41:43] \"GET /parameters HTTP/1.1\" 200 -\n",
            "INFO:werkzeug:172.28.0.12 - - [12/Apr/2023 18:41:43] \"GET /parameters HTTP/1.1\" 200 -\n",
            "INFO:werkzeug:172.28.0.12 - - [12/Apr/2023 18:41:44] \"POST /update HTTP/1.1\" 200 -\n",
            "INFO:werkzeug:172.28.0.12 - - [12/Apr/2023 18:41:44] \"POST /update HTTP/1.1\" 200 -\n",
            "INFO:werkzeug:172.28.0.12 - - [12/Apr/2023 18:41:44] \"GET /parameters HTTP/1.1\" 200 -\n",
            "INFO:werkzeug:172.28.0.12 - - [12/Apr/2023 18:41:44] \"GET /parameters HTTP/1.1\" 200 -\n",
            "INFO:werkzeug:172.28.0.12 - - [12/Apr/2023 18:41:45] \"POST /update HTTP/1.1\" 200 -\n",
            "INFO:werkzeug:172.28.0.12 - - [12/Apr/2023 18:41:45] \"POST /update HTTP/1.1\" 200 -\n",
            "INFO:werkzeug:172.28.0.12 - - [12/Apr/2023 18:41:45] \"GET /parameters HTTP/1.1\" 200 -\n",
            "INFO:werkzeug:172.28.0.12 - - [12/Apr/2023 18:41:45] \"GET /parameters HTTP/1.1\" 200 -\n",
            "INFO:werkzeug:172.28.0.12 - - [12/Apr/2023 18:41:46] \"POST /update HTTP/1.1\" 200 -\n",
            "INFO:werkzeug:172.28.0.12 - - [12/Apr/2023 18:41:46] \"POST /update HTTP/1.1\" 200 -\n",
            "INFO:werkzeug:172.28.0.12 - - [12/Apr/2023 18:41:46] \"GET /parameters HTTP/1.1\" 200 -\n",
            "INFO:werkzeug:172.28.0.12 - - [12/Apr/2023 18:41:46] \"GET /parameters HTTP/1.1\" 200 -\n",
            "INFO:werkzeug:172.28.0.12 - - [12/Apr/2023 18:41:47] \"POST /update HTTP/1.1\" 200 -\n",
            "INFO:werkzeug:172.28.0.12 - - [12/Apr/2023 18:41:47] \"POST /update HTTP/1.1\" 200 -\n",
            "INFO:werkzeug:172.28.0.12 - - [12/Apr/2023 18:41:47] \"GET /parameters HTTP/1.1\" 200 -\n",
            "INFO:werkzeug:172.28.0.12 - - [12/Apr/2023 18:41:47] \"GET /parameters HTTP/1.1\" 200 -\n",
            "INFO:werkzeug:172.28.0.12 - - [12/Apr/2023 18:41:48] \"POST /update HTTP/1.1\" 200 -\n",
            "INFO:werkzeug:172.28.0.12 - - [12/Apr/2023 18:41:48] \"POST /update HTTP/1.1\" 200 -\n",
            "INFO:werkzeug:172.28.0.12 - - [12/Apr/2023 18:41:48] \"GET /parameters HTTP/1.1\" 200 -\n",
            "INFO:werkzeug:172.28.0.12 - - [12/Apr/2023 18:41:48] \"GET /parameters HTTP/1.1\" 200 -\n",
            "INFO:werkzeug:172.28.0.12 - - [12/Apr/2023 18:41:49] \"POST /update HTTP/1.1\" 200 -\n",
            "INFO:werkzeug:172.28.0.12 - - [12/Apr/2023 18:41:49] \"POST /update HTTP/1.1\" 200 -\n",
            "INFO:werkzeug:172.28.0.12 - - [12/Apr/2023 18:41:49] \"GET /parameters HTTP/1.1\" 200 -\n",
            "INFO:werkzeug:172.28.0.12 - - [12/Apr/2023 18:41:49] \"GET /parameters HTTP/1.1\" 200 -\n",
            "INFO:werkzeug:172.28.0.12 - - [12/Apr/2023 18:41:50] \"POST /update HTTP/1.1\" 200 -\n",
            "INFO:werkzeug:172.28.0.12 - - [12/Apr/2023 18:41:50] \"POST /update HTTP/1.1\" 200 -\n",
            "INFO:werkzeug:172.28.0.12 - - [12/Apr/2023 18:41:50] \"GET /parameters HTTP/1.1\" 200 -\n",
            "INFO:werkzeug:172.28.0.12 - - [12/Apr/2023 18:41:50] \"GET /parameters HTTP/1.1\" 200 -\n",
            "INFO:werkzeug:172.28.0.12 - - [12/Apr/2023 18:41:51] \"POST /update HTTP/1.1\" 200 -\n",
            "INFO:werkzeug:172.28.0.12 - - [12/Apr/2023 18:41:51] \"POST /update HTTP/1.1\" 200 -\n",
            "INFO:werkzeug:172.28.0.12 - - [12/Apr/2023 18:41:51] \"GET /parameters HTTP/1.1\" 200 -\n",
            "INFO:werkzeug:172.28.0.12 - - [12/Apr/2023 18:41:51] \"GET /parameters HTTP/1.1\" 200 -\n",
            "INFO:werkzeug:172.28.0.12 - - [12/Apr/2023 18:41:52] \"POST /update HTTP/1.1\" 200 -\n",
            "INFO:werkzeug:172.28.0.12 - - [12/Apr/2023 18:41:52] \"POST /update HTTP/1.1\" 200 -\n",
            "INFO:werkzeug:172.28.0.12 - - [12/Apr/2023 18:41:52] \"GET /parameters HTTP/1.1\" 200 -\n",
            "INFO:werkzeug:172.28.0.12 - - [12/Apr/2023 18:41:52] \"GET /parameters HTTP/1.1\" 200 -\n",
            "INFO:werkzeug:172.28.0.12 - - [12/Apr/2023 18:41:53] \"POST /update HTTP/1.1\" 200 -\n",
            "INFO:werkzeug:172.28.0.12 - - [12/Apr/2023 18:41:53] \"POST /update HTTP/1.1\" 200 -\n",
            "INFO:werkzeug:172.28.0.12 - - [12/Apr/2023 18:41:53] \"GET /parameters HTTP/1.1\" 200 -\n",
            "INFO:werkzeug:172.28.0.12 - - [12/Apr/2023 18:41:54] \"GET /parameters HTTP/1.1\" 200 -\n",
            "INFO:werkzeug:172.28.0.12 - - [12/Apr/2023 18:41:55] \"POST /update HTTP/1.1\" 200 -\n",
            "INFO:werkzeug:172.28.0.12 - - [12/Apr/2023 18:41:55] \"POST /update HTTP/1.1\" 200 -\n",
            "INFO:werkzeug:172.28.0.12 - - [12/Apr/2023 18:41:55] \"GET /parameters HTTP/1.1\" 200 -\n",
            "INFO:werkzeug:172.28.0.12 - - [12/Apr/2023 18:41:55] \"GET /parameters HTTP/1.1\" 200 -\n",
            "INFO:werkzeug:172.28.0.12 - - [12/Apr/2023 18:41:56] \"POST /update HTTP/1.1\" 200 -\n",
            "INFO:werkzeug:172.28.0.12 - - [12/Apr/2023 18:41:56] \"POST /update HTTP/1.1\" 200 -\n",
            "INFO:werkzeug:172.28.0.12 - - [12/Apr/2023 18:41:56] \"GET /parameters HTTP/1.1\" 200 -\n",
            "INFO:werkzeug:172.28.0.12 - - [12/Apr/2023 18:41:56] \"GET /parameters HTTP/1.1\" 200 -\n",
            "INFO:werkzeug:172.28.0.12 - - [12/Apr/2023 18:41:57] \"POST /update HTTP/1.1\" 200 -\n",
            "INFO:werkzeug:172.28.0.12 - - [12/Apr/2023 18:41:58] \"POST /update HTTP/1.1\" 200 -\n",
            "INFO:werkzeug:172.28.0.12 - - [12/Apr/2023 18:41:58] \"GET /parameters HTTP/1.1\" 200 -\n",
            "INFO:werkzeug:172.28.0.12 - - [12/Apr/2023 18:41:58] \"GET /parameters HTTP/1.1\" 200 -\n",
            "INFO:werkzeug:172.28.0.12 - - [12/Apr/2023 18:41:59] \"POST /update HTTP/1.1\" 200 -\n",
            "INFO:werkzeug:172.28.0.12 - - [12/Apr/2023 18:41:59] \"POST /update HTTP/1.1\" 200 -\n",
            "INFO:werkzeug:172.28.0.12 - - [12/Apr/2023 18:41:59] \"GET /parameters HTTP/1.1\" 200 -\n",
            "INFO:werkzeug:172.28.0.12 - - [12/Apr/2023 18:41:59] \"GET /parameters HTTP/1.1\" 200 -\n",
            "INFO:werkzeug:172.28.0.12 - - [12/Apr/2023 18:42:00] \"POST /update HTTP/1.1\" 200 -\n",
            "INFO:werkzeug:172.28.0.12 - - [12/Apr/2023 18:42:00] \"POST /update HTTP/1.1\" 200 -\n",
            "INFO:werkzeug:172.28.0.12 - - [12/Apr/2023 18:42:00] \"GET /parameters HTTP/1.1\" 200 -\n",
            "INFO:werkzeug:172.28.0.12 - - [12/Apr/2023 18:42:00] \"GET /parameters HTTP/1.1\" 200 -\n",
            "INFO:werkzeug:172.28.0.12 - - [12/Apr/2023 18:42:01] \"POST /update HTTP/1.1\" 200 -\n",
            "INFO:werkzeug:172.28.0.12 - - [12/Apr/2023 18:42:01] \"POST /update HTTP/1.1\" 200 -\n",
            "INFO:werkzeug:172.28.0.12 - - [12/Apr/2023 18:42:01] \"GET /parameters HTTP/1.1\" 200 -\n",
            "INFO:werkzeug:172.28.0.12 - - [12/Apr/2023 18:42:01] \"GET /parameters HTTP/1.1\" 200 -\n",
            "INFO:werkzeug:172.28.0.12 - - [12/Apr/2023 18:42:02] \"POST /update HTTP/1.1\" 200 -\n",
            "INFO:werkzeug:172.28.0.12 - - [12/Apr/2023 18:42:02] \"POST /update HTTP/1.1\" 200 -\n",
            "INFO:werkzeug:172.28.0.12 - - [12/Apr/2023 18:42:02] \"GET /parameters HTTP/1.1\" 200 -\n",
            "INFO:werkzeug:172.28.0.12 - - [12/Apr/2023 18:42:02] \"GET /parameters HTTP/1.1\" 200 -\n",
            "INFO:werkzeug:172.28.0.12 - - [12/Apr/2023 18:42:03] \"POST /update HTTP/1.1\" 200 -\n",
            "INFO:werkzeug:172.28.0.12 - - [12/Apr/2023 18:42:03] \"POST /update HTTP/1.1\" 200 -\n",
            "INFO:werkzeug:172.28.0.12 - - [12/Apr/2023 18:42:03] \"GET /parameters HTTP/1.1\" 200 -\n",
            "INFO:werkzeug:172.28.0.12 - - [12/Apr/2023 18:42:03] \"GET /parameters HTTP/1.1\" 200 -\n",
            "INFO:werkzeug:172.28.0.12 - - [12/Apr/2023 18:42:04] \"POST /update HTTP/1.1\" 200 -\n",
            "INFO:werkzeug:172.28.0.12 - - [12/Apr/2023 18:42:04] \"POST /update HTTP/1.1\" 200 -\n",
            "INFO:werkzeug:172.28.0.12 - - [12/Apr/2023 18:42:04] \"GET /parameters HTTP/1.1\" 200 -\n",
            "INFO:werkzeug:172.28.0.12 - - [12/Apr/2023 18:42:04] \"GET /parameters HTTP/1.1\" 200 -\n",
            "INFO:werkzeug:172.28.0.12 - - [12/Apr/2023 18:42:05] \"POST /update HTTP/1.1\" 200 -\n",
            "INFO:werkzeug:172.28.0.12 - - [12/Apr/2023 18:42:05] \"POST /update HTTP/1.1\" 200 -\n",
            "INFO:werkzeug:172.28.0.12 - - [12/Apr/2023 18:42:05] \"GET /parameters HTTP/1.1\" 200 -\n",
            "INFO:werkzeug:172.28.0.12 - - [12/Apr/2023 18:42:05] \"GET /parameters HTTP/1.1\" 200 -\n",
            "INFO:werkzeug:172.28.0.12 - - [12/Apr/2023 18:42:06] \"POST /update HTTP/1.1\" 200 -\n",
            "INFO:werkzeug:172.28.0.12 - - [12/Apr/2023 18:42:06] \"POST /update HTTP/1.1\" 200 -\n",
            "INFO:werkzeug:172.28.0.12 - - [12/Apr/2023 18:42:06] \"GET /parameters HTTP/1.1\" 200 -\n",
            "INFO:werkzeug:172.28.0.12 - - [12/Apr/2023 18:42:06] \"GET /parameters HTTP/1.1\" 200 -\n",
            "INFO:werkzeug:172.28.0.12 - - [12/Apr/2023 18:42:07] \"POST /update HTTP/1.1\" 200 -\n",
            "INFO:werkzeug:172.28.0.12 - - [12/Apr/2023 18:42:07] \"POST /update HTTP/1.1\" 200 -\n",
            "INFO:werkzeug:172.28.0.12 - - [12/Apr/2023 18:42:07] \"GET /parameters HTTP/1.1\" 200 -\n",
            "INFO:werkzeug:172.28.0.12 - - [12/Apr/2023 18:42:07] \"GET /parameters HTTP/1.1\" 200 -\n",
            "INFO:werkzeug:172.28.0.12 - - [12/Apr/2023 18:42:08] \"POST /update HTTP/1.1\" 200 -\n",
            "INFO:werkzeug:172.28.0.12 - - [12/Apr/2023 18:42:08] \"POST /update HTTP/1.1\" 200 -\n",
            "INFO:werkzeug:172.28.0.12 - - [12/Apr/2023 18:42:08] \"GET /parameters HTTP/1.1\" 200 -\n",
            "INFO:werkzeug:172.28.0.12 - - [12/Apr/2023 18:42:09] \"GET /parameters HTTP/1.1\" 200 -\n",
            "INFO:werkzeug:172.28.0.12 - - [12/Apr/2023 18:42:10] \"POST /update HTTP/1.1\" 200 -\n",
            "INFO:werkzeug:172.28.0.12 - - [12/Apr/2023 18:42:10] \"POST /update HTTP/1.1\" 200 -\n",
            "INFO:werkzeug:172.28.0.12 - - [12/Apr/2023 18:42:10] \"GET /parameters HTTP/1.1\" 200 -\n",
            "INFO:werkzeug:172.28.0.12 - - [12/Apr/2023 18:42:10] \"GET /parameters HTTP/1.1\" 200 -\n",
            "INFO:werkzeug:172.28.0.12 - - [12/Apr/2023 18:42:11] \"POST /update HTTP/1.1\" 200 -\n",
            "INFO:werkzeug:172.28.0.12 - - [12/Apr/2023 18:42:11] \"POST /update HTTP/1.1\" 200 -\n",
            "INFO:werkzeug:172.28.0.12 - - [12/Apr/2023 18:42:11] \"GET /parameters HTTP/1.1\" 200 -\n",
            "INFO:werkzeug:172.28.0.12 - - [12/Apr/2023 18:42:12] \"GET /parameters HTTP/1.1\" 200 -\n",
            "INFO:werkzeug:172.28.0.12 - - [12/Apr/2023 18:42:13] \"POST /update HTTP/1.1\" 200 -\n",
            "INFO:werkzeug:172.28.0.12 - - [12/Apr/2023 18:42:13] \"POST /update HTTP/1.1\" 200 -\n",
            "INFO:werkzeug:172.28.0.12 - - [12/Apr/2023 18:42:13] \"GET /parameters HTTP/1.1\" 200 -\n",
            "INFO:werkzeug:172.28.0.12 - - [12/Apr/2023 18:42:13] \"GET /parameters HTTP/1.1\" 200 -\n",
            "INFO:werkzeug:172.28.0.12 - - [12/Apr/2023 18:42:14] \"POST /update HTTP/1.1\" 200 -\n",
            "INFO:werkzeug:172.28.0.12 - - [12/Apr/2023 18:42:14] \"POST /update HTTP/1.1\" 200 -\n",
            "INFO:werkzeug:172.28.0.12 - - [12/Apr/2023 18:42:14] \"GET /parameters HTTP/1.1\" 200 -\n",
            "INFO:werkzeug:172.28.0.12 - - [12/Apr/2023 18:42:14] \"GET /parameters HTTP/1.1\" 200 -\n",
            "INFO:werkzeug:172.28.0.12 - - [12/Apr/2023 18:42:15] \"POST /update HTTP/1.1\" 200 -\n",
            "INFO:werkzeug:172.28.0.12 - - [12/Apr/2023 18:42:15] \"POST /update HTTP/1.1\" 200 -\n",
            "INFO:werkzeug:172.28.0.12 - - [12/Apr/2023 18:42:15] \"GET /parameters HTTP/1.1\" 200 -\n",
            "INFO:werkzeug:172.28.0.12 - - [12/Apr/2023 18:42:15] \"GET /parameters HTTP/1.1\" 200 -\n",
            "INFO:werkzeug:172.28.0.12 - - [12/Apr/2023 18:42:16] \"POST /update HTTP/1.1\" 200 -\n",
            "INFO:werkzeug:172.28.0.12 - - [12/Apr/2023 18:42:17] \"POST /update HTTP/1.1\" 200 -\n",
            "INFO:werkzeug:172.28.0.12 - - [12/Apr/2023 18:42:17] \"GET /parameters HTTP/1.1\" 200 -\n",
            "INFO:werkzeug:172.28.0.12 - - [12/Apr/2023 18:42:17] \"GET /parameters HTTP/1.1\" 200 -\n",
            "INFO:werkzeug:172.28.0.12 - - [12/Apr/2023 18:42:18] \"POST /update HTTP/1.1\" 200 -\n",
            "INFO:werkzeug:172.28.0.12 - - [12/Apr/2023 18:42:18] \"POST /update HTTP/1.1\" 200 -\n",
            "INFO:werkzeug:172.28.0.12 - - [12/Apr/2023 18:42:18] \"GET /parameters HTTP/1.1\" 200 -\n",
            "INFO:werkzeug:172.28.0.12 - - [12/Apr/2023 18:42:18] \"GET /parameters HTTP/1.1\" 200 -\n",
            "INFO:werkzeug:172.28.0.12 - - [12/Apr/2023 18:42:19] \"POST /update HTTP/1.1\" 200 -\n",
            "INFO:werkzeug:172.28.0.12 - - [12/Apr/2023 18:42:19] \"POST /update HTTP/1.1\" 200 -\n",
            "INFO:werkzeug:172.28.0.12 - - [12/Apr/2023 18:42:19] \"GET /parameters HTTP/1.1\" 200 -\n",
            "INFO:werkzeug:172.28.0.12 - - [12/Apr/2023 18:42:19] \"GET /parameters HTTP/1.1\" 200 -\n",
            "INFO:werkzeug:172.28.0.12 - - [12/Apr/2023 18:42:20] \"POST /update HTTP/1.1\" 200 -\n",
            "INFO:werkzeug:172.28.0.12 - - [12/Apr/2023 18:42:20] \"POST /update HTTP/1.1\" 200 -\n",
            "INFO:werkzeug:172.28.0.12 - - [12/Apr/2023 18:42:20] \"GET /parameters HTTP/1.1\" 200 -\n",
            "INFO:werkzeug:172.28.0.12 - - [12/Apr/2023 18:42:20] \"GET /parameters HTTP/1.1\" 200 -\n",
            "INFO:werkzeug:172.28.0.12 - - [12/Apr/2023 18:42:21] \"POST /update HTTP/1.1\" 200 -\n",
            "INFO:werkzeug:172.28.0.12 - - [12/Apr/2023 18:42:21] \"POST /update HTTP/1.1\" 200 -\n",
            "INFO:werkzeug:172.28.0.12 - - [12/Apr/2023 18:42:21] \"GET /parameters HTTP/1.1\" 200 -\n",
            "INFO:werkzeug:172.28.0.12 - - [12/Apr/2023 18:42:21] \"GET /parameters HTTP/1.1\" 200 -\n",
            "INFO:werkzeug:172.28.0.12 - - [12/Apr/2023 18:42:22] \"POST /update HTTP/1.1\" 200 -\n",
            "INFO:werkzeug:172.28.0.12 - - [12/Apr/2023 18:42:22] \"POST /update HTTP/1.1\" 200 -\n",
            "INFO:werkzeug:172.28.0.12 - - [12/Apr/2023 18:42:22] \"GET /parameters HTTP/1.1\" 200 -\n",
            "INFO:werkzeug:172.28.0.12 - - [12/Apr/2023 18:42:22] \"GET /parameters HTTP/1.1\" 200 -\n",
            "INFO:werkzeug:172.28.0.12 - - [12/Apr/2023 18:42:23] \"POST /update HTTP/1.1\" 200 -\n",
            "INFO:werkzeug:172.28.0.12 - - [12/Apr/2023 18:42:23] \"POST /update HTTP/1.1\" 200 -\n",
            "INFO:werkzeug:172.28.0.12 - - [12/Apr/2023 18:42:23] \"GET /parameters HTTP/1.1\" 200 -\n",
            "INFO:werkzeug:172.28.0.12 - - [12/Apr/2023 18:42:24] \"GET /parameters HTTP/1.1\" 200 -\n",
            "INFO:werkzeug:172.28.0.12 - - [12/Apr/2023 18:42:24] \"POST /update HTTP/1.1\" 200 -\n",
            "INFO:werkzeug:172.28.0.12 - - [12/Apr/2023 18:42:24] \"POST /update HTTP/1.1\" 200 -\n",
            "INFO:werkzeug:172.28.0.12 - - [12/Apr/2023 18:42:25] \"GET /parameters HTTP/1.1\" 200 -\n",
            "INFO:werkzeug:172.28.0.12 - - [12/Apr/2023 18:42:25] \"GET /parameters HTTP/1.1\" 200 -\n",
            "INFO:werkzeug:172.28.0.12 - - [12/Apr/2023 18:42:26] \"POST /update HTTP/1.1\" 200 -\n",
            "INFO:werkzeug:172.28.0.12 - - [12/Apr/2023 18:42:26] \"POST /update HTTP/1.1\" 200 -\n",
            "INFO:werkzeug:172.28.0.12 - - [12/Apr/2023 18:42:26] \"GET /parameters HTTP/1.1\" 200 -\n",
            "INFO:werkzeug:172.28.0.12 - - [12/Apr/2023 18:42:26] \"GET /parameters HTTP/1.1\" 200 -\n",
            "INFO:werkzeug:172.28.0.12 - - [12/Apr/2023 18:42:27] \"POST /update HTTP/1.1\" 200 -\n",
            "INFO:werkzeug:172.28.0.12 - - [12/Apr/2023 18:42:27] \"POST /update HTTP/1.1\" 200 -\n",
            "INFO:werkzeug:172.28.0.12 - - [12/Apr/2023 18:42:27] \"GET /parameters HTTP/1.1\" 200 -\n",
            "INFO:werkzeug:172.28.0.12 - - [12/Apr/2023 18:42:28] \"GET /parameters HTTP/1.1\" 200 -\n",
            "INFO:werkzeug:172.28.0.12 - - [12/Apr/2023 18:42:29] \"POST /update HTTP/1.1\" 200 -\n",
            "INFO:werkzeug:172.28.0.12 - - [12/Apr/2023 18:42:29] \"POST /update HTTP/1.1\" 200 -\n",
            "INFO:werkzeug:172.28.0.12 - - [12/Apr/2023 18:42:29] \"GET /parameters HTTP/1.1\" 200 -\n",
            "INFO:werkzeug:172.28.0.12 - - [12/Apr/2023 18:42:29] \"GET /parameters HTTP/1.1\" 200 -\n",
            "INFO:werkzeug:172.28.0.12 - - [12/Apr/2023 18:42:30] \"POST /update HTTP/1.1\" 200 -\n",
            "INFO:werkzeug:172.28.0.12 - - [12/Apr/2023 18:42:30] \"POST /update HTTP/1.1\" 200 -\n",
            "INFO:werkzeug:172.28.0.12 - - [12/Apr/2023 18:42:30] \"GET /parameters HTTP/1.1\" 200 -\n",
            "INFO:werkzeug:172.28.0.12 - - [12/Apr/2023 18:42:30] \"GET /parameters HTTP/1.1\" 200 -\n",
            "INFO:werkzeug:172.28.0.12 - - [12/Apr/2023 18:42:31] \"POST /update HTTP/1.1\" 200 -\n",
            "INFO:werkzeug:172.28.0.12 - - [12/Apr/2023 18:42:31] \"POST /update HTTP/1.1\" 200 -\n",
            "INFO:werkzeug:172.28.0.12 - - [12/Apr/2023 18:42:31] \"GET /parameters HTTP/1.1\" 200 -\n",
            "INFO:werkzeug:172.28.0.12 - - [12/Apr/2023 18:42:31] \"GET /parameters HTTP/1.1\" 200 -\n",
            "INFO:werkzeug:172.28.0.12 - - [12/Apr/2023 18:42:32] \"POST /update HTTP/1.1\" 200 -\n",
            "INFO:werkzeug:172.28.0.12 - - [12/Apr/2023 18:42:32] \"POST /update HTTP/1.1\" 200 -\n",
            "INFO:werkzeug:172.28.0.12 - - [12/Apr/2023 18:42:32] \"GET /parameters HTTP/1.1\" 200 -\n",
            "INFO:werkzeug:172.28.0.12 - - [12/Apr/2023 18:42:32] \"GET /parameters HTTP/1.1\" 200 -\n",
            "INFO:werkzeug:172.28.0.12 - - [12/Apr/2023 18:42:33] \"POST /update HTTP/1.1\" 200 -\n",
            "INFO:werkzeug:172.28.0.12 - - [12/Apr/2023 18:42:33] \"POST /update HTTP/1.1\" 200 -\n",
            "INFO:werkzeug:172.28.0.12 - - [12/Apr/2023 18:42:33] \"GET /parameters HTTP/1.1\" 200 -\n",
            "INFO:werkzeug:172.28.0.12 - - [12/Apr/2023 18:42:33] \"GET /parameters HTTP/1.1\" 200 -\n",
            "INFO:werkzeug:172.28.0.12 - - [12/Apr/2023 18:42:34] \"POST /update HTTP/1.1\" 200 -\n",
            "INFO:werkzeug:172.28.0.12 - - [12/Apr/2023 18:42:34] \"POST /update HTTP/1.1\" 200 -\n",
            "INFO:werkzeug:172.28.0.12 - - [12/Apr/2023 18:42:34] \"GET /parameters HTTP/1.1\" 200 -\n",
            "INFO:werkzeug:172.28.0.12 - - [12/Apr/2023 18:42:35] \"GET /parameters HTTP/1.1\" 200 -\n",
            "INFO:werkzeug:172.28.0.12 - - [12/Apr/2023 18:42:35] \"POST /update HTTP/1.1\" 200 -\n",
            "INFO:werkzeug:172.28.0.12 - - [12/Apr/2023 18:42:35] \"POST /update HTTP/1.1\" 200 -\n",
            "INFO:werkzeug:172.28.0.12 - - [12/Apr/2023 18:42:35] \"GET /parameters HTTP/1.1\" 200 -\n",
            "INFO:werkzeug:172.28.0.12 - - [12/Apr/2023 18:42:36] \"GET /parameters HTTP/1.1\" 200 -\n",
            "INFO:werkzeug:172.28.0.12 - - [12/Apr/2023 18:42:36] \"POST /update HTTP/1.1\" 200 -\n",
            "INFO:werkzeug:172.28.0.12 - - [12/Apr/2023 18:42:36] \"POST /update HTTP/1.1\" 200 -\n",
            "INFO:werkzeug:172.28.0.12 - - [12/Apr/2023 18:42:36] \"GET /parameters HTTP/1.1\" 200 -\n",
            "INFO:werkzeug:172.28.0.12 - - [12/Apr/2023 18:42:37] \"GET /parameters HTTP/1.1\" 200 -\n",
            "INFO:werkzeug:172.28.0.12 - - [12/Apr/2023 18:42:37] \"POST /update HTTP/1.1\" 200 -\n",
            "INFO:werkzeug:172.28.0.12 - - [12/Apr/2023 18:42:37] \"POST /update HTTP/1.1\" 200 -\n",
            "INFO:werkzeug:172.28.0.12 - - [12/Apr/2023 18:42:37] \"GET /parameters HTTP/1.1\" 200 -\n",
            "INFO:werkzeug:172.28.0.12 - - [12/Apr/2023 18:42:38] \"GET /parameters HTTP/1.1\" 200 -\n",
            "INFO:werkzeug:172.28.0.12 - - [12/Apr/2023 18:42:38] \"POST /update HTTP/1.1\" 200 -\n",
            "INFO:werkzeug:172.28.0.12 - - [12/Apr/2023 18:42:38] \"POST /update HTTP/1.1\" 200 -\n",
            "INFO:werkzeug:172.28.0.12 - - [12/Apr/2023 18:42:38] \"GET /parameters HTTP/1.1\" 200 -\n",
            "INFO:werkzeug:172.28.0.12 - - [12/Apr/2023 18:42:39] \"GET /parameters HTTP/1.1\" 200 -\n",
            "INFO:werkzeug:172.28.0.12 - - [12/Apr/2023 18:42:39] \"POST /update HTTP/1.1\" 200 -\n",
            "INFO:werkzeug:172.28.0.12 - - [12/Apr/2023 18:42:39] \"POST /update HTTP/1.1\" 200 -\n",
            "INFO:werkzeug:172.28.0.12 - - [12/Apr/2023 18:42:39] \"GET /parameters HTTP/1.1\" 200 -\n",
            "INFO:werkzeug:172.28.0.12 - - [12/Apr/2023 18:42:40] \"GET /parameters HTTP/1.1\" 200 -\n",
            "INFO:werkzeug:172.28.0.12 - - [12/Apr/2023 18:42:40] \"POST /update HTTP/1.1\" 200 -\n",
            "INFO:werkzeug:172.28.0.12 - - [12/Apr/2023 18:42:40] \"POST /update HTTP/1.1\" 200 -\n",
            "INFO:werkzeug:172.28.0.12 - - [12/Apr/2023 18:42:40] \"GET /parameters HTTP/1.1\" 200 -\n",
            "INFO:werkzeug:172.28.0.12 - - [12/Apr/2023 18:42:41] \"GET /parameters HTTP/1.1\" 200 -\n",
            "INFO:werkzeug:172.28.0.12 - - [12/Apr/2023 18:42:42] \"POST /update HTTP/1.1\" 200 -\n",
            "INFO:werkzeug:172.28.0.12 - - [12/Apr/2023 18:42:42] \"POST /update HTTP/1.1\" 200 -\n",
            "INFO:werkzeug:172.28.0.12 - - [12/Apr/2023 18:42:42] \"GET /parameters HTTP/1.1\" 200 -\n",
            "INFO:werkzeug:172.28.0.12 - - [12/Apr/2023 18:42:42] \"GET /parameters HTTP/1.1\" 200 -\n",
            "INFO:werkzeug:172.28.0.12 - - [12/Apr/2023 18:42:43] \"POST /update HTTP/1.1\" 200 -\n",
            "INFO:werkzeug:172.28.0.12 - - [12/Apr/2023 18:42:43] \"POST /update HTTP/1.1\" 200 -\n",
            "INFO:werkzeug:172.28.0.12 - - [12/Apr/2023 18:42:43] \"GET /parameters HTTP/1.1\" 200 -\n",
            "INFO:werkzeug:172.28.0.12 - - [12/Apr/2023 18:42:44] \"GET /parameters HTTP/1.1\" 200 -\n",
            "INFO:werkzeug:172.28.0.12 - - [12/Apr/2023 18:42:45] \"POST /update HTTP/1.1\" 200 -\n",
            "INFO:werkzeug:172.28.0.12 - - [12/Apr/2023 18:42:45] \"POST /update HTTP/1.1\" 200 -\n",
            "INFO:werkzeug:172.28.0.12 - - [12/Apr/2023 18:42:45] \"GET /parameters HTTP/1.1\" 200 -\n",
            "INFO:werkzeug:172.28.0.12 - - [12/Apr/2023 18:42:45] \"GET /parameters HTTP/1.1\" 200 -\n",
            "INFO:werkzeug:172.28.0.12 - - [12/Apr/2023 18:42:46] \"POST /update HTTP/1.1\" 200 -\n",
            "INFO:werkzeug:172.28.0.12 - - [12/Apr/2023 18:42:46] \"POST /update HTTP/1.1\" 200 -\n",
            "INFO:werkzeug:172.28.0.12 - - [12/Apr/2023 18:42:46] \"GET /parameters HTTP/1.1\" 200 -\n",
            "INFO:werkzeug:172.28.0.12 - - [12/Apr/2023 18:42:46] \"GET /parameters HTTP/1.1\" 200 -\n",
            "INFO:werkzeug:172.28.0.12 - - [12/Apr/2023 18:42:47] \"POST /update HTTP/1.1\" 200 -\n",
            "INFO:werkzeug:172.28.0.12 - - [12/Apr/2023 18:42:47] \"POST /update HTTP/1.1\" 200 -\n",
            "INFO:werkzeug:172.28.0.12 - - [12/Apr/2023 18:42:47] \"GET /parameters HTTP/1.1\" 200 -\n",
            "INFO:werkzeug:172.28.0.12 - - [12/Apr/2023 18:42:47] \"GET /parameters HTTP/1.1\" 200 -\n",
            "INFO:werkzeug:172.28.0.12 - - [12/Apr/2023 18:42:48] \"POST /update HTTP/1.1\" 200 -\n",
            "INFO:werkzeug:172.28.0.12 - - [12/Apr/2023 18:42:48] \"POST /update HTTP/1.1\" 200 -\n",
            "INFO:werkzeug:172.28.0.12 - - [12/Apr/2023 18:42:48] \"GET /parameters HTTP/1.1\" 200 -\n",
            "INFO:werkzeug:172.28.0.12 - - [12/Apr/2023 18:42:48] \"GET /parameters HTTP/1.1\" 200 -\n",
            "INFO:werkzeug:172.28.0.12 - - [12/Apr/2023 18:42:49] \"POST /update HTTP/1.1\" 200 -\n",
            "INFO:werkzeug:172.28.0.12 - - [12/Apr/2023 18:42:49] \"POST /update HTTP/1.1\" 200 -\n",
            "INFO:werkzeug:172.28.0.12 - - [12/Apr/2023 18:42:49] \"GET /parameters HTTP/1.1\" 200 -\n",
            "INFO:werkzeug:172.28.0.12 - - [12/Apr/2023 18:42:50] \"GET /parameters HTTP/1.1\" 200 -\n",
            "INFO:werkzeug:172.28.0.12 - - [12/Apr/2023 18:42:50] \"POST /update HTTP/1.1\" 200 -\n",
            "INFO:werkzeug:172.28.0.12 - - [12/Apr/2023 18:42:50] \"POST /update HTTP/1.1\" 200 -\n",
            "INFO:werkzeug:172.28.0.12 - - [12/Apr/2023 18:42:50] \"GET /parameters HTTP/1.1\" 200 -\n",
            "INFO:werkzeug:172.28.0.12 - - [12/Apr/2023 18:42:51] \"GET /parameters HTTP/1.1\" 200 -\n",
            "INFO:werkzeug:172.28.0.12 - - [12/Apr/2023 18:42:51] \"POST /update HTTP/1.1\" 200 -\n",
            "INFO:werkzeug:172.28.0.12 - - [12/Apr/2023 18:42:51] \"POST /update HTTP/1.1\" 200 -\n",
            "INFO:werkzeug:172.28.0.12 - - [12/Apr/2023 18:42:51] \"GET /parameters HTTP/1.1\" 200 -\n",
            "INFO:werkzeug:172.28.0.12 - - [12/Apr/2023 18:42:52] \"GET /parameters HTTP/1.1\" 200 -\n",
            "INFO:werkzeug:172.28.0.12 - - [12/Apr/2023 18:42:52] \"POST /update HTTP/1.1\" 200 -\n",
            "INFO:werkzeug:172.28.0.12 - - [12/Apr/2023 18:42:52] \"POST /update HTTP/1.1\" 200 -\n",
            "INFO:werkzeug:172.28.0.12 - - [12/Apr/2023 18:42:53] \"GET /parameters HTTP/1.1\" 200 -\n"
          ]
        },
        {
          "output_type": "stream",
          "name": "stdout",
          "text": [
            ">>> Async training complete.\n"
          ]
        }
      ],
      "source": [
        "spark_model_cnn.fit(train_rdd, epochs=100, batch_size=32)"
      ]
    },
    {
      "cell_type": "code",
      "execution_count": null,
      "metadata": {
        "colab": {
          "background_save": true,
          "base_uri": "https://localhost:8080/"
        },
        "id": "XEVv1tchs4EP",
        "outputId": "9d234e10-7bd7-47ce-f0c8-a99f90b95dc6"
      },
      "outputs": [
        {
          "name": "stdout",
          "output_type": "stream",
          "text": [
            "9/9 [==============================] - 112s 12s/step - loss: 0.6888 - accuracy: 0.5804\n"
          ]
        }
      ],
      "source": [
        "scores = spark_model_cnn.master_network.evaluate(val_generator)"
      ]
    },
    {
      "cell_type": "code",
      "execution_count": null,
      "metadata": {
        "colab": {
          "base_uri": "https://localhost:8080/",
          "height": 452
        },
        "id": "6tQ4gEcL_Vpj",
        "outputId": "aaa4cfe9-6ef4-4936-bb45-e7f778b52676"
      },
      "outputs": [
        {
          "output_type": "display_data",
          "data": {
            "text/plain": [
              "<Figure size 640x480 with 1 Axes>"
            ],
            "image/png": "[encoded data removed]"
          },
          "metadata": {}
        }
      ],
      "source": [
        "x = np.array(['ep_5','ep_10','ep_25','ep_50','ep_75','ep_100'])\n",
        "y = np.array([44.76,38.81,45.45,52.80,57,58.04])\n",
        "\n",
        "plt.bar(x,y)\n",
        "plt.title(\"Accuracy comparison\")\n",
        "plt.show()"
      ]
    }
  ]
}